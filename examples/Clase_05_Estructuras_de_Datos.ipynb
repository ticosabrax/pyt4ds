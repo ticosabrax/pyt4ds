{
 "cells": [
  {
   "cell_type": "markdown",
   "metadata": {},
   "source": [
    "# Estructuras de datos(colecciones, objetos contenedores)\n",
    "\n",
    "Hasta ahora salvo algunas excepciones(usando listas) hemos trabajado unicamente con ejemplos que manejan datos sencillos(ints,floats,booleans, etc), es decir un unico elemento o valor. Aun que estos son utiles y es necesario conocerlos,  una de las mayores ventajas de la computacion o programacion cientifica y numerica es poder trabajar sobre grandes volumenes de informacion, y poder realizar operaciones sobre multiples elementos u objetos de manera rapida y eficiente.\n",
    "\n",
    "Para esto haremos uso(inicialmente) de objetos conocidos en en Python(y en muchos otros lenguajes) bajo algunos nombres comunes:\n",
    "\n",
    "* Colecciones\n",
    "* Estructuras de datos\n",
    "* Objetos contendedores\n",
    "\n",
    "Estos son objetos que nos permiten trabajar de una manera organizada y estructurada con conjuntos de objetos y operar sobre estos.\n",
    "\n",
    "**Nota** En esta clase veremos los objetos contenedores ,estructuras de datos y  las colecciones generales y estandar en Python, las cuales son usadas para cualquier tipo de programa , no solo programas numericos y cientificos, en posteriores clases profundizaremos en paquetes disenados y optimizados para computacion numerica y cientifica, por ejemplo: **NumPy** y **Pandas** que se volveran parte fundamental de la caja de herramientas del cientifico de datos. Las colecciones estandar de Python buscan ser lo mas generales posibles, sacrificando el rendimiento para lograr la generalidad, los paquetes NumPy y Pandas al contrario buscan rendimiendo muy cercano al del lenguaje **C** sacrificando un poco la generalidad y enfocandose en colecciones numericas.\n",
    "\n",
    "\n",
    "Empecemos con una definicion:\n",
    "\n",
    "## Objeto Contenedor\n",
    "\n",
    "Objeto contenedor es cualquier objeto que almacena  un numero arbitrario de otros objetos(contiene objetos) , generalmente los objetos contenedores proveen formas de **accesar** los objetos contenidos e **iterar** sobre ellos.\n",
    "\n",
    "## Objeto contenedor y ciclo \"for\"\n",
    "\n",
    "Cuando estudiamos el ciclo \"for\" mencionamos que en Python este tenia una relacion muy grande con colecciones de objetos, en Python el ciclo \"for\" nos permite iterar(recorrer) sobre un objeto contenedor para accesar a sus elmementos de uno en uno y asi poder trabajar u operar sobre ellos.\n",
    "\n",
    "## Listas (list)\n",
    "\n",
    "<img src=\"https://files.realpython.com/media/t.eb0b38e642c5.png\">\n",
    "\n",
    "Una lista es una **secuencia ordenada** de objetos , los cuales estan separados por comas y encerrados en corchetes, es decir que la lista tendra la forma:\n",
    "\n",
    "[objeto1, objeto2, objeto3, objeto4,...,objetoN]\n",
    "\n",
    "\n",
    "La lista al ser un objeto, puede ser asignado a una variable(o identificador) tal como lo hemos hecho con los tipos basicos de la siguiente forma:\n",
    "\n",
    "< variable > = [< lista >]\n",
    "\n",
    "Por ejemplo:\n",
    "\n",
    "paises = [\"GT\",\"SV\",\"HN\",\"NI\",\"CR\"]\n",
    "\n",
    "A diferencia de otros lenguajes de programacion(y los arrays de estos) en Python las listas no  requieren que todos los objetos contenidos sean del mismo tipo y puede almacenar cualquier combinacion de tipos de objetos(incluidas otras listas)."
   ]
  },
  {
   "cell_type": "code",
   "execution_count": 1,
   "metadata": {},
   "outputs": [
    {
     "data": {
      "text/plain": [
       "[1, 4.0, 'a']"
      ]
     },
     "execution_count": 1,
     "metadata": {},
     "output_type": "execute_result"
    }
   ],
   "source": [
    "[1,4.0,'a']"
   ]
  },
  {
   "cell_type": "code",
   "execution_count": 2,
   "metadata": {},
   "outputs": [
    {
     "name": "stdout",
     "output_type": "stream",
     "text": [
      "[1, 4.0, 'a']\n"
     ]
    }
   ],
   "source": [
    "print([1,4.0,'a'])"
   ]
  },
  {
   "cell_type": "code",
   "execution_count": 3,
   "metadata": {},
   "outputs": [
    {
     "name": "stdout",
     "output_type": "stream",
     "text": [
      "3.14\n",
      "2.71\n",
      "42\n",
      "[1, 4.0, 'a']\n",
      "[1, 4.0, 'a']\n",
      "[3.14, 2.71, 42, [1, 4.0, 'a']]\n"
     ]
    }
   ],
   "source": [
    "u = [1,4.0,'a']\n",
    "v = [3.14,2.71,42,u] #podemos ver que la lista u es tambien un objeto contenido en la lista v\n",
    "\n",
    "for elemento in v :\n",
    "    print(elemento)\n",
    "print(u)\n",
    "print(v)"
   ]
  },
  {
   "cell_type": "markdown",
   "metadata": {},
   "source": [
    "Podemos verificar si 2 listas son iguales(almacenan los mismos objetos) usando =="
   ]
  },
  {
   "cell_type": "code",
   "execution_count": 4,
   "metadata": {},
   "outputs": [
    {
     "data": {
      "text/plain": [
       "True"
      ]
     },
     "execution_count": 4,
     "metadata": {},
     "output_type": "execute_result"
    }
   ],
   "source": [
    "a = [1,2,3]\n",
    "b = [1,2,3]\n",
    "\n",
    "a==b"
   ]
  },
  {
   "cell_type": "code",
   "execution_count": 5,
   "metadata": {},
   "outputs": [
    {
     "data": {
      "text/plain": [
       "False"
      ]
     },
     "execution_count": 5,
     "metadata": {},
     "output_type": "execute_result"
    }
   ],
   "source": [
    "#una lista es \"ordenada\" por lo cual aunque guardan los mismos valores, por estar en diferente orden ,no son iguales\n",
    "\n",
    "a = [2,1,3] \n",
    "b = [1,2,3]\n",
    "\n",
    "a==b"
   ]
  },
  {
   "cell_type": "markdown",
   "metadata": {},
   "source": [
    "Aun que no hemos visto a detalle funciones, veamos de momento que hace la funcion len() sobre una lista"
   ]
  },
  {
   "cell_type": "code",
   "execution_count": 6,
   "metadata": {},
   "outputs": [
    {
     "name": "stdout",
     "output_type": "stream",
     "text": [
      "3\n",
      "4\n"
     ]
    }
   ],
   "source": [
    "u = [1,4.0,'a']\n",
    "v = [3.14,2.71,42,u]\n",
    "\n",
    "print(len(u))\n",
    "print(len(v))"
   ]
  },
  {
   "cell_type": "markdown",
   "metadata": {},
   "source": [
    "####  Replicar el contenido de una lista\n",
    "\n",
    "Python nos provee una forma rapida y sencilla de replicar el contenido de una lista a traes del operador ***** , veamos los siguientes ejemplos que **duplican** o **triplican** el contenido de la lista u"
   ]
  },
  {
   "cell_type": "code",
   "execution_count": 11,
   "metadata": {},
   "outputs": [
    {
     "name": "stdout",
     "output_type": "stream",
     "text": [
      "[1, 4.0, 'a', 1, 4.0, 'a']\n"
     ]
    }
   ],
   "source": [
    "duplicated_u = u*2\n",
    "\n",
    "print(duplicated_u)"
   ]
  },
  {
   "cell_type": "code",
   "execution_count": 12,
   "metadata": {},
   "outputs": [
    {
     "data": {
      "text/plain": [
       "[1, 4.0, 'a', 1, 4.0, 'a', 1, 4.0, 'a']"
      ]
     },
     "execution_count": 12,
     "metadata": {},
     "output_type": "execute_result"
    }
   ],
   "source": [
    "u*3"
   ]
  },
  {
   "cell_type": "code",
   "execution_count": 13,
   "metadata": {},
   "outputs": [
    {
     "data": {
      "text/plain": [
       "12"
      ]
     },
     "execution_count": 13,
     "metadata": {},
     "output_type": "execute_result"
    }
   ],
   "source": [
    "len(u*4)"
   ]
  },
  {
   "cell_type": "markdown",
   "metadata": {},
   "source": [
    "#### Concatenar multiples listas\n",
    "\n",
    "En muchos casos, podemos tener 2 o mas listas las cuales nos interesa unificar en una sola lista , esto lo logramos a traves de una \"concatenacion de listas\" que podemos lograr usando el operador **+** ,por ejemplo:"
   ]
  },
  {
   "cell_type": "code",
   "execution_count": 17,
   "metadata": {},
   "outputs": [
    {
     "name": "stdout",
     "output_type": "stream",
     "text": [
      "[1, 4.0, 'a', 3.14, 2.71, 42, [1, 4.0, 'a']]\n"
     ]
    }
   ],
   "source": [
    "w = u + v \n",
    "\n",
    "print(w)"
   ]
  },
  {
   "cell_type": "markdown",
   "metadata": {},
   "source": [
    "#### Agregar nuevos elementos al final de una lista\n",
    "\n",
    "Si necesitamos agregar nuevos elementos a una lista , podemos usar la funcion append(< nuevo elemento> ) aplicada sobre la lista, esto  agrega el nuevo contenido al final de la lista."
   ]
  },
  {
   "cell_type": "code",
   "execution_count": 18,
   "metadata": {},
   "outputs": [
    {
     "name": "stdout",
     "output_type": "stream",
     "text": [
      "[1, 2, 3, 4, 5, 6, 'test']\n"
     ]
    }
   ],
   "source": [
    "a = [1,2,3,4]\n",
    "\n",
    "a.append(5)\n",
    "a.append(6)\n",
    "a.append('test')\n",
    "\n",
    "print(a)"
   ]
  },
  {
   "cell_type": "code",
   "execution_count": 20,
   "metadata": {},
   "outputs": [
    {
     "name": "stdout",
     "output_type": "stream",
     "text": [
      "[2, 4, 8, 14, 22, 32, 44, 58, 74, 92, 112, 134, 158, 184, 212, 242, 274, 308, 344, 382, 422, 464, 508, 554, 602, 652, 704, 758, 814, 872, 932, 994, 1058, 1124, 1192, 1262, 1334, 1408, 1484, 1562, 1642, 1724, 1808, 1894, 1982, 2072, 2164, 2258, 2354, 2452]\n"
     ]
    }
   ],
   "source": [
    "metricas = []\n",
    "\n",
    "for i in range(50):\n",
    "    metricas.append(i+2 + i**2)\n",
    "    \n",
    "print(metricas)"
   ]
  },
  {
   "cell_type": "code",
   "execution_count": 21,
   "metadata": {},
   "outputs": [
    {
     "data": {
      "text/plain": [
       "835.0"
      ]
     },
     "execution_count": 21,
     "metadata": {},
     "output_type": "execute_result"
    }
   ],
   "source": [
    "sum(metricas)/len(metricas)"
   ]
  },
  {
   "cell_type": "markdown",
   "metadata": {},
   "source": [
    "#### Accesar elementos individuales de una lista\n",
    "\n",
    "En muchos casos , necesitamos acceder a los elementos de una lista de manera individual , para esto usamos su posicion en la lista ,llamamos a la posicion de un objeto en la lista el **\"indice\"** del elemento.\n",
    "\n",
    "Python es un \"zero index language\" lo cual significa que las posiciones empiezan en 0 y no en 1, esto significa que el primer objeto de la lista tendra indice 0, el segundo tendra indice 1 y asi sucesivamente, hasta llegar al ultimo elemento el cual siempre es el tamanio de la lista menos 1, o bien: \n",
    "\n",
    "len(< lista >) - 1\n",
    "\n",
    "<img src=\"https://files.realpython.com/media/t.eb0b38e642c5.png\">\n",
    "\n",
    "La sintaxis para acceder a cierto elemento de la lista es:\n",
    "\n",
    "**lista[indice]**"
   ]
  },
  {
   "cell_type": "code",
   "execution_count": null,
   "metadata": {},
   "outputs": [],
   "source": [
    "lista = [\"foo\",\"bar\",\"baz\",\"qux\",\"quux\",\"corge\"]\n",
    "\n",
    "primero = lista[0]\n",
    "segundo = lista[1]\n",
    "\n",
    "print(primero)\n",
    "print(segundo)"
   ]
  },
  {
   "cell_type": "code",
   "execution_count": null,
   "metadata": {},
   "outputs": [],
   "source": [
    "lista[0]  = \"updated\"\n",
    "\n",
    "print(lista)"
   ]
  },
  {
   "cell_type": "markdown",
   "metadata": {},
   "source": [
    "Si intentamos acceder con un indice no valido, obtendremos un error, por ejemplo si la lista solo tiene 6 elementos, el indice valido maximo es 5, si intentamos acceder la lista con un indice mayor a 5 obtendremos un error."
   ]
  },
  {
   "cell_type": "code",
   "execution_count": null,
   "metadata": {},
   "outputs": [],
   "source": [
    "#lista[6]"
   ]
  },
  {
   "cell_type": "markdown",
   "metadata": {},
   "source": [
    "##### Indinces negativos\n",
    "Python nos permite acceder a los elementos de la lista utilizando indices negativos, el significado de esto es empezar a contar del ultimo elemento al primero, esto significa que el indice -1 hace referencia al ultimo elemento ,-2 hace referencia al penultimo y asi sucesivamente hasta el negativo del tamanio de la lista , es decir:\n",
    "\n",
    "-len(< lista >)\n",
    "\n",
    "Podemos ver entonces que los indices de una lista se encuentran en el intervalo\n",
    "\n",
    "[-len(< lista > ),len( < lista > ) -1]\n",
    "\n",
    "<img src=\"https://qph.fs.quoracdn.net/main-qimg-a380b1bc159589df5e0b9842e5b56b6d\">"
   ]
  },
  {
   "cell_type": "code",
   "execution_count": null,
   "metadata": {},
   "outputs": [],
   "source": [
    "len(lista)"
   ]
  },
  {
   "cell_type": "code",
   "execution_count": null,
   "metadata": {},
   "outputs": [],
   "source": [
    "print(lista[-1])\n",
    "print(lista[-2])\n",
    "\n",
    "\n",
    "print(lista[-len(lista)])"
   ]
  },
  {
   "cell_type": "markdown",
   "metadata": {},
   "source": [
    "#### Accesar porciones/rebanadas de la lista a traves de \"slicing\"\n",
    "\n",
    "En muchos casos nos interesa acceder no a elementos individuales de la lista, si no a porciones de esta, los siguientes ejemplos nos muestran el razonamiento a usar para determinar si se necesita \"slicing\" para particionar una lista:\n",
    "\n",
    "* Se necesitan los primeros 5 elementos de una lista\n",
    "* Se necesitan los ultimos 3 elementos de una lista\n",
    "* Se necesita cambiar del segundo al cuarto elemento de una lista.\n",
    "\n",
    "En todos estos casos accedemos porciones, o rebanadas de la lista original en lugar de elementos individuales. \n",
    "\n",
    "La sintaxis para hacer esto es muy parecida a la usada para acceder elementos individuales, pero agregamos ahora el operador **\":\"** y lo usamos de la siguiente forma:\n",
    "\n",
    "< lista >[< inicio >: < fin >]\n",
    "\n",
    "donde:\n",
    "* < lista > : la lista original de la que deseamos acceder una sub-porcion\n",
    "* < inicio > : la posicion del inicio de la rebanada a obtener (inclusivo)\n",
    "* < fin > : la posicion final de la rebanada a obtener (exclusivo)\n",
    "\n",
    "Inicio y fin pueden ser cualquier expresion valida cuyo resultado sea un entero.\n",
    "\n",
    "Por ejemplo:"
   ]
  },
  {
   "cell_type": "code",
   "execution_count": null,
   "metadata": {},
   "outputs": [],
   "source": [
    "lista1 = [\"hola\",\"mundo\",\"desde\",\"el\",\"lenguaje\",\"python\"]\n",
    "\n",
    "lista1[0:3] #ya que \"fin\" es exclusivo el resultado contiene hasta el elemento previo a este"
   ]
  },
  {
   "cell_type": "markdown",
   "metadata": {},
   "source": [
    "El resultado de el slicing es una nueva lista que podemos asignar a una variable o usar en cualquier expresion donde una lista  sea valida"
   ]
  },
  {
   "cell_type": "code",
   "execution_count": null,
   "metadata": {},
   "outputs": [],
   "source": [
    "u =[1,2,3,4,5,6,7]\n",
    "sub_u = u[1:4]\n",
    "\n",
    "print(sub_u)"
   ]
  },
  {
   "cell_type": "code",
   "execution_count": null,
   "metadata": {},
   "outputs": [],
   "source": [
    "u[2:4] =  [3.14,'a']\n",
    "\n",
    "print(u)"
   ]
  },
  {
   "cell_type": "markdown",
   "metadata": {},
   "source": [
    "Tambien es posible hacer slicing con indices negativos"
   ]
  },
  {
   "cell_type": "code",
   "execution_count": null,
   "metadata": {},
   "outputs": [],
   "source": [
    "print(u[2:6])\n",
    "print(u[2:-1])"
   ]
  },
  {
   "cell_type": "markdown",
   "metadata": {},
   "source": [
    "Podemos usar sintaxis resumida para casos donde inicio es 0, o fin es el ultimo elemento, esto nos sirve en los casos:\n",
    "* Acceder desde el primer elemento hasta el elemento n\n",
    "* Acceder desde el elemento n hasta el final\n",
    "\n",
    "Para esto simplemente omitimos el valor de inicio o de fin segun el caso:\n"
   ]
  },
  {
   "cell_type": "code",
   "execution_count": null,
   "metadata": {},
   "outputs": [],
   "source": [
    "print(u)"
   ]
  },
  {
   "cell_type": "code",
   "execution_count": null,
   "metadata": {},
   "outputs": [],
   "source": [
    "u[:4]"
   ]
  },
  {
   "cell_type": "code",
   "execution_count": null,
   "metadata": {},
   "outputs": [],
   "source": [
    "u[4:]"
   ]
  },
  {
   "cell_type": "markdown",
   "metadata": {},
   "source": [
    "Es posible indicar los incrementos para el slicing, el default es 1 pero podemos especificar un incremento diferente:"
   ]
  },
  {
   "cell_type": "code",
   "execution_count": null,
   "metadata": {},
   "outputs": [],
   "source": [
    "u[0::2]"
   ]
  },
  {
   "cell_type": "code",
   "execution_count": null,
   "metadata": {},
   "outputs": [],
   "source": [
    "u[-1::-1]"
   ]
  },
  {
   "cell_type": "code",
   "execution_count": null,
   "metadata": {},
   "outputs": [],
   "source": [
    "u[-1:0:-1]"
   ]
  },
  {
   "cell_type": "markdown",
   "metadata": {},
   "source": [
    "#### count e index\n",
    "\n",
    "Podemos aplicar 2 funciones especiales sobre las listas:\n",
    "\n",
    "* < lista >.count(< valor >) indica cuantas veces encontramos en la lista el < valor > buscado\n",
    "* < lista >.index(< valor >) indica la posicion(empezando en 0)  del valor buscado ,si aparece mas de una vez, se muestra el primer indice"
   ]
  },
  {
   "cell_type": "code",
   "execution_count": null,
   "metadata": {},
   "outputs": [],
   "source": [
    "lista = [\"a\",\"b\",\"c\",\"e\",\"f\",\"g\",\"c\",2,3,4,5,\"c\"]\n",
    "\n",
    "print(lista.count(\"c\"))\n",
    "print(lista.index(\"c\",3)) #segundo parametro es desde donde contar"
   ]
  },
  {
   "cell_type": "code",
   "execution_count": null,
   "metadata": {},
   "outputs": [],
   "source": [
    "posicion = lista.index(\"c\")\n",
    "lista.index(\"c\",posicion +1)"
   ]
  },
  {
   "cell_type": "markdown",
   "metadata": {},
   "source": [
    "#### Operadores de membresia"
   ]
  },
  {
   "cell_type": "code",
   "execution_count": null,
   "metadata": {},
   "outputs": [],
   "source": [
    "2 in lista"
   ]
  },
  {
   "cell_type": "code",
   "execution_count": null,
   "metadata": {},
   "outputs": [],
   "source": [
    "\"hola\" in lista"
   ]
  },
  {
   "cell_type": "markdown",
   "metadata": {},
   "source": [
    "## Tuplas (tuple)\n",
    "\n",
    "Objeto contenedor muy similar a las listas y por lo tanto muchas operaciones con listas son también  válidas con las tuplas, sintácticamente  difieren en que las tupas usan parentésis  en lugar de corchetes. Conceptualmente la diferencia mas grande es que las tuplas son \"inmutables\" , por lo cual no podemos actualizar los objetos que contiene o agregar nuevos una vez esta ha sido creada.\n",
    "\n",
    "* Ya que las tuplas no pueden ser modificadas, el acceso a la información en ella es ligeramente más rapido.\n",
    "* Son usadas muchas veces como llaves de diccionarios(a discutir pronto), las listas no pueden ser usadas para este propósito.\n",
    "* Es común tener listas de tuplas donde cada tupla representa un objeto compuesto por muchos atributos o características:\n",
    "    * Por ejemplo una lista de alumnos podría usar \"tuplas\" para representar a cada alumno y cada alumno podría tener nombre y número de carnet en una tupla. "
   ]
  },
  {
   "cell_type": "code",
   "execution_count": null,
   "metadata": {},
   "outputs": [],
   "source": [
    "(1,2,3,4)"
   ]
  },
  {
   "cell_type": "code",
   "execution_count": null,
   "metadata": {},
   "outputs": [],
   "source": [
    "type((1,2,3,4))"
   ]
  },
  {
   "cell_type": "code",
   "execution_count": null,
   "metadata": {},
   "outputs": [],
   "source": [
    "type([1,2,3,4])"
   ]
  },
  {
   "cell_type": "code",
   "execution_count": null,
   "metadata": {},
   "outputs": [],
   "source": [
    "a = (1,2,3,4)\n",
    "\n",
    "#a[0] = 2  #no permitido"
   ]
  },
  {
   "cell_type": "code",
   "execution_count": null,
   "metadata": {},
   "outputs": [],
   "source": [
    "b = (2,3,4,\"g\")\n",
    "\n",
    "#b.append(2) #no permitido"
   ]
  },
  {
   "cell_type": "markdown",
   "metadata": {},
   "source": [
    "Tambien podemos replicar tuplas o bien crear una combinando 2 existentes\n",
    "\n",
    "**nota:**recordemos que las tuplas son inmutables, el resultado de estas operaciones es una nueva tupla, no una modificación de la original."
   ]
  },
  {
   "cell_type": "code",
   "execution_count": null,
   "metadata": {},
   "outputs": [],
   "source": [
    "b*2"
   ]
  },
  {
   "cell_type": "code",
   "execution_count": null,
   "metadata": {},
   "outputs": [],
   "source": [
    "a + b"
   ]
  },
  {
   "cell_type": "markdown",
   "metadata": {},
   "source": [
    "Podemos crear una lista a partir de una tupla usando la función list()"
   ]
  },
  {
   "cell_type": "code",
   "execution_count": null,
   "metadata": {},
   "outputs": [],
   "source": [
    "lista_a = list(a)\n",
    "\n",
    "print(lista_a)"
   ]
  },
  {
   "cell_type": "markdown",
   "metadata": {},
   "source": [
    "O una tupla a partir de una lita"
   ]
  },
  {
   "cell_type": "code",
   "execution_count": null,
   "metadata": {},
   "outputs": [],
   "source": [
    "tupla_a = tuple(lista_a)\n",
    "\n",
    "print(tupla_a)"
   ]
  },
  {
   "cell_type": "markdown",
   "metadata": {},
   "source": [
    "Una lista de tuplas donde cada tupla representa un objeto con distintas características."
   ]
  },
  {
   "cell_type": "code",
   "execution_count": null,
   "metadata": {},
   "outputs": [],
   "source": [
    "alumnos = [(1111,\"Juan Perez\"),\n",
    "           (12223,\"Daniel Rodriguez\"),\n",
    "           (2344,\"Jason Becker\")]\n",
    "\n",
    "alumno1 = alumnos[1]\n",
    "print(alumno1)"
   ]
  },
  {
   "cell_type": "markdown",
   "metadata": {},
   "source": [
    "También contamos con count(valor) e index(valor) en tuplas"
   ]
  },
  {
   "cell_type": "code",
   "execution_count": null,
   "metadata": {},
   "outputs": [],
   "source": [
    "print(alumno1.count(12223))\n",
    "print(alumno1.index(12223))"
   ]
  },
  {
   "cell_type": "markdown",
   "metadata": {},
   "source": [
    "#### Operadores de membresia"
   ]
  },
  {
   "cell_type": "code",
   "execution_count": null,
   "metadata": {},
   "outputs": [],
   "source": [
    "12223 in alumno1"
   ]
  },
  {
   "cell_type": "code",
   "execution_count": null,
   "metadata": {},
   "outputs": [],
   "source": [
    "\"Hola mundo\" in alumno1"
   ]
  },
  {
   "cell_type": "code",
   "execution_count": null,
   "metadata": {},
   "outputs": [],
   "source": [
    "alumnos"
   ]
  },
  {
   "cell_type": "code",
   "execution_count": null,
   "metadata": {},
   "outputs": [],
   "source": [
    "(2344,\"Jason Becker\") in alumnos #buscar una tupla en la lista de  tuplas"
   ]
  },
  {
   "cell_type": "code",
   "execution_count": null,
   "metadata": {},
   "outputs": [],
   "source": [
    "(23445,\"Myrna Castillo\") in alumnos #buscar una tupla en la lista de  tuplas"
   ]
  },
  {
   "cell_type": "markdown",
   "metadata": {},
   "source": [
    "#### Indexing y slicing\n",
    "\n",
    "Para acceder a elementos de una tupla , aplica todo lo que vimos en listas respecto a indexing(1 elemento) y slicing(1 porcion), el resultado del slicing es una nueva tupla conteniendo la \"rebanada\" de la original"
   ]
  },
  {
   "cell_type": "code",
   "execution_count": null,
   "metadata": {},
   "outputs": [],
   "source": [
    "tupla = (2,3,4,\"g\",5,6,7)\n",
    "\n",
    "#indexing\n",
    "print(tupla[2])\n",
    "print(tupla[-1])\n",
    "print(tupla[-2])\n",
    "\n",
    "#slicing\n",
    "print(tupla[2:5])\n",
    "print(tupla[2:-2])"
   ]
  },
  {
   "cell_type": "markdown",
   "metadata": {},
   "source": [
    "Muchas funciones(tema aun por estudiar) pueden devolver mas de un objeto, esto lo hacen a traves de tuplas:"
   ]
  },
  {
   "cell_type": "code",
   "execution_count": null,
   "metadata": {},
   "outputs": [],
   "source": [
    "def max_min(lista):\n",
    "    \n",
    "    maximo = max(lista)\n",
    "    minimo = min(lista)\n",
    "    \n",
    "    return maximo,minimo"
   ]
  },
  {
   "cell_type": "code",
   "execution_count": null,
   "metadata": {},
   "outputs": [],
   "source": [
    "max_min([2,3,7,2,100])"
   ]
  },
  {
   "cell_type": "code",
   "execution_count": null,
   "metadata": {},
   "outputs": [],
   "source": [
    "type(max_min([2,3,7,2,100,56]))"
   ]
  },
  {
   "cell_type": "code",
   "execution_count": null,
   "metadata": {},
   "outputs": [],
   "source": [
    "maximo,minimo = max_min([2,3,7,2,100])\n",
    "\n",
    "print(maximo,minimo)"
   ]
  },
  {
   "cell_type": "code",
   "execution_count": null,
   "metadata": {},
   "outputs": [],
   "source": [
    "resultado = max_min([2,3,7,2,100])\n",
    "\n",
    "print(resultado)"
   ]
  },
  {
   "cell_type": "markdown",
   "metadata": {},
   "source": [
    "Las tuplas son utiles en programas que requieren hacer un \"swap\" de valores entre variables, escenario muy común en algoritmos de orgenamiento, veamos el siguiente algoritmo escrito de manera convencional(otros lenguajes) vs en Python con tuplas:"
   ]
  },
  {
   "cell_type": "code",
   "execution_count": null,
   "metadata": {},
   "outputs": [],
   "source": [
    "# metodo convencional usado comunmente en otros lenguajes\n",
    "valor_viejo = 5\n",
    "valor_nuevo = 7\n",
    "\n",
    "temp = valor_viejo\n",
    "valor_viejo = valor_nuevo\n",
    "valor_nuevo = temp\n",
    "\n",
    "print(valor_nuevo,valor_viejo)\n"
   ]
  },
  {
   "cell_type": "code",
   "execution_count": null,
   "metadata": {},
   "outputs": [],
   "source": [
    "# metodo de python para lograr el \"swap\"\n",
    "valor_viejo = 5\n",
    "valor_nuevo = 7\n",
    "\n",
    "valor_viejo,valor_nuevo = valor_nuevo,valor_viejo\n",
    "\n",
    "print(valor_nuevo,valor_viejo)"
   ]
  },
  {
   "cell_type": "markdown",
   "metadata": {},
   "source": [
    "#### Funciones utiles disponibles para listas y tuplas\n",
    "\n",
    "Existen diversas funciones disponibles por default en Python que son muy útiles para trabajar  con listas y tuplas, ya hemos visto algunas de estas durante el curso."
   ]
  },
  {
   "cell_type": "code",
   "execution_count": null,
   "metadata": {},
   "outputs": [],
   "source": [
    "lista = [0,1,2,3,4,5]\n",
    "tupla = (1,2,3,4,5)\n",
    "\n"
   ]
  },
  {
   "cell_type": "markdown",
   "metadata": {},
   "source": [
    "**all**: función que devuelve un valor booleano(True o False), True si TODOS los elementos de la lista o tupla son True, False si existe al menos uno que sea falso"
   ]
  },
  {
   "cell_type": "code",
   "execution_count": null,
   "metadata": {},
   "outputs": [],
   "source": [
    "print(all(lista))\n",
    "print(all(tupla))"
   ]
  },
  {
   "cell_type": "markdown",
   "metadata": {},
   "source": [
    "**any**: función que devuelve un valor booleano(True o False), True si CUALQUIERA de sus elementos es True, False si todos son falsos"
   ]
  },
  {
   "cell_type": "code",
   "execution_count": null,
   "metadata": {},
   "outputs": [],
   "source": [
    "print(any(lista))\n",
    "print(any(tupla))\n",
    "print(any([0,0,False]))"
   ]
  },
  {
   "cell_type": "markdown",
   "metadata": {},
   "source": [
    "**len:** función que devuelve un entero que indica el número de elementos de la lista o tupla"
   ]
  },
  {
   "cell_type": "code",
   "execution_count": null,
   "metadata": {},
   "outputs": [],
   "source": [
    "print(len(lista))\n",
    "print(len(tupla))"
   ]
  },
  {
   "cell_type": "markdown",
   "metadata": {},
   "source": [
    "**max y min**: funciones que devuelven ya sea el valor maximo, o el mínimo contenido en una lista o tupla"
   ]
  },
  {
   "cell_type": "code",
   "execution_count": null,
   "metadata": {},
   "outputs": [],
   "source": [
    "print(max(lista))\n",
    "print(max(tupla))"
   ]
  },
  {
   "cell_type": "code",
   "execution_count": null,
   "metadata": {},
   "outputs": [],
   "source": [
    "print(min(lista))\n",
    "print(min(tupla))"
   ]
  },
  {
   "cell_type": "markdown",
   "metadata": {},
   "source": [
    "**sorted**: función que devuelve una lista(independiente de si se aplica sobre una nueva lista o una tupla)  que contiene los elementos de la colección original ordenados."
   ]
  },
  {
   "cell_type": "code",
   "execution_count": null,
   "metadata": {},
   "outputs": [],
   "source": [
    "print(sorted(lista))\n",
    "print(sorted(tupla))"
   ]
  },
  {
   "cell_type": "markdown",
   "metadata": {},
   "source": [
    "**sum**: función que devuelve un valor numerico con la suma de todos los elementos de una lista."
   ]
  },
  {
   "cell_type": "code",
   "execution_count": null,
   "metadata": {},
   "outputs": [],
   "source": [
    "print(sum(lista))\n",
    "print(sum(tupla))"
   ]
  },
  {
   "cell_type": "code",
   "execution_count": null,
   "metadata": {},
   "outputs": [],
   "source": [
    "# las listas o tuplas pueden guardar cualqueir tipo de objeto, pero resultara en error si se aplican funciones sobre \n",
    "# objetos no compatibles\n",
    "# print(sum([1,2,3,\"a\"]))"
   ]
  },
  {
   "cell_type": "markdown",
   "metadata": {},
   "source": [
    "## Ciclos for con  listas y tuplas\n",
    "\n",
    "Tal como mencionamos en la sección de ciclos, en Python los ciclos \"for\" tienen una relación directa con las colecciones(aveces llamadas iterables) y de manera natural podemos utilizar un ciclo \"for\" para iterar sobre los elementos de una lista o tupla y realizar cualquier acción elemento por elemento utilizando:\n",
    "\n",
    "for < iterador > in < coleccion >:\n",
    "\n",
    "\n",
    "       < bloque >\n",
    "   \n",
    "\n",
    "En cada iteración del ciclo for < iterador > almacenara un valor en la colección.\n",
    " "
   ]
  },
  {
   "cell_type": "code",
   "execution_count": null,
   "metadata": {},
   "outputs": [],
   "source": [
    "lista = [0,1,2,3,4,5]\n",
    "\n",
    "for elemento in lista:\n",
    "    print(elemento + 1)"
   ]
  },
  {
   "cell_type": "code",
   "execution_count": null,
   "metadata": {},
   "outputs": [],
   "source": [
    "tupla = (1,2,3,4,5)\n",
    "\n",
    "for elemento in tupla:\n",
    "    print(elemento*2)"
   ]
  },
  {
   "cell_type": "markdown",
   "metadata": {},
   "source": [
    "El bloque del for puede tener muchas sentencias."
   ]
  },
  {
   "cell_type": "code",
   "execution_count": null,
   "metadata": {},
   "outputs": [],
   "source": [
    "tupla = (1,2,3,4,5,6,7,8,9,10,11)\n",
    "\n",
    "for elemento in tupla:\n",
    "    elemento_cuadrado = elemento**2\n",
    "    \n",
    "    if elemento_cuadrado%2 == 0:  #si el resultado de elevar elemento al cuadrado es par\n",
    "        print(\"Al elevar \",elemento,\" al cuadrado obtenemos el numero par \",elemento_cuadrado)"
   ]
  },
  {
   "cell_type": "markdown",
   "metadata": {},
   "source": [
    "## Ejemplo aplicado a data science\n",
    "Con el conocimiento que ahora poseemos respecto a listas, ciclo for y operaciones como \"sum\" sobre listas , podemos  ejecutar una simulación de monte carlo.\n",
    "\n",
    "Se ha determinado que el tiempo \"X\" que los usuarios pasan en una red social diariamente se distribuye de forma normal(gausianna) con una media de 5 horas y desviacion estandar de 1.\n",
    "\n",
    "Se ha estimado que el ingreso diario percibido \"Y\" por cada usuario depende del tiempo que este pasa en la red social  de manera proporcional siguiendo un modelo lineal de la forma:\n",
    "\n",
    "$$y=0.1x+0.3±error$$\n",
    "\n",
    "Donde :\n",
    "* x: es el tiempo que un usuario pasa al día en la red social.\n",
    "* error: es el posible error en la estimación del modelo que sigue una distribución normal centrada en 0 y std 0.1\n",
    "* y: ingreso diario estimado\n",
    "\n",
    "**nota** Este modelo posee un problema: puede llegar a generar ingresos negativos,por el momento no nos preocupemos por esto.\n",
    "\n",
    "Se solicita el equipo de data science determinar cual sera el ingreso esperado(o promedio) diario para un usuario aleatorio y una estimación del valor máximo  que puede ser percibido."
   ]
  },
  {
   "cell_type": "markdown",
   "metadata": {},
   "source": [
    "**ejercicio** experimenta con diferentes numeros de iteraciones de la simulación y analiza el comportamiento del sistema en relación a esto, anota tu conclusión en el notebook en una nueva celda Markdown abajo de la celda de la simulación."
   ]
  },
  {
   "cell_type": "code",
   "execution_count": null,
   "metadata": {},
   "outputs": [],
   "source": [
    "import random\n",
    "\n",
    "SIMULACIONES = 10000\n",
    "resultados_simulacion = []\n",
    "\n",
    "for iteracion in range(1,SIMULACIONES +1,1):\n",
    "    x_simulado = random.gauss(5,1) # sampleo/muestreo de la variable x que se distribuye de forma normal con media 5 y desviacion 2\n",
    "    error = random.gauss(0,0.1) \n",
    "    \n",
    "    # aplicar el modelo para obtener un valor simulado de y\n",
    "    y = 0.1*x_simulado + 0.3  + error #aplicar el modelo a la variable \"simulada\"\n",
    "   \n",
    "    resultados_simulacion.append(y) #guardar los resultados en una lista para analisis posterior\n",
    "    \n",
    "EY = sum(resultados_simulacion)/SIMULACIONES # E(Y) ,esperanza o valor esperado de una variable aleatoria\n",
    "ingreso_maximo = max(resultados_simulacion)\n",
    "ingreso_minimo = min(resultados_simulacion)\n",
    "\n",
    "print(\"El valor esperado o esperanza de la variable Y es E(Y) =\" ,EY)\n",
    "print(\"El valor minimo de y es \",ingreso_minimo)\n",
    "print(\"El valor maximo de y es \",ingreso_maximo)"
   ]
  },
  {
   "cell_type": "markdown",
   "metadata": {},
   "source": [
    "## Diccionarios\n",
    "\n",
    "Antes de hablar de diccionarios veamos algunos de los nombres con los que son conocidos en otros lenguajes:\n",
    "\n",
    "* tabla hash\n",
    "* mapas\n",
    "* hash-maps\n",
    "\n",
    "Un diccionario es una  coleccion(al contrario de las listas y tupas) NO ORDENADA de objetos, ya que es una coleccion no ordenada , no podemos acceder a sus elementos segun su posicion , en lugar de esto lo hacemos usando una \"llave\" que identifica a cada elemento. Esta llave puede ser cualquier objeto INMUTABLE pero el caso mas comun es que sean strings.\n",
    "\n",
    "Por lo tanto un diccionario \"mapea\" una llave a un valor, esto es conocido en programacion como estructuras \"key-value\".\n",
    "\n",
    "Aun que la llave esta limitada a objetos inmutables (como strings o tuplas), el valor almacenado puede ser cualquier objeto, por lo tanto es posible almacenar estructuras complejas,por ejemplo diccionarios de listas:\n",
    "\n",
    "<img src=\"https://upload.wikimedia.org/wikipedia/commons/5/5b/KeyValue.PNG\">\n",
    "\n",
    "<img src=\"https://i.stack.imgur.com/nzc2C.png\">\n",
    "\n",
    "Esta es una de las estructuras de datos mas populares debido a su flexibilidad y gran eficiencia tanto en Python como en otros lenguajes.\n",
    "\n",
    "Asi como creamos listas con [] y tuplas con () , creamos los diccionarios con {}(o con la funcion dict) usando la sintaxis\n",
    "\n",
    "{llave1:valor1,llave2:valor2,...,llaven:valorn}\n",
    "\n",
    "Para obtener un objeto dada su llave ,podemos usar:\n",
    "\n",
    "diccionario[llave]\n",
    "\n",
    "o \n",
    "\n",
    "diccionario.get(llave)"
   ]
  },
  {
   "cell_type": "code",
   "execution_count": null,
   "metadata": {},
   "outputs": [],
   "source": [
    "diccionario_vacio = {}\n",
    "\n",
    "print(diccionario_vacio)\n",
    "print(type(diccionario_vacio))"
   ]
  },
  {
   "cell_type": "code",
   "execution_count": null,
   "metadata": {},
   "outputs": [],
   "source": [
    "digitos = {\"uno\":1,\n",
    "           \"dos\":2,\n",
    "           \"tres\":3,\n",
    "           \"lista\":[1,2,3,4]}\n",
    "\n",
    "print(digitos[\"dos\"])\n",
    "print(digitos.get(\"tres\"))\n",
    "digitos.get(\"test\")"
   ]
  },
  {
   "cell_type": "code",
   "execution_count": null,
   "metadata": {},
   "outputs": [],
   "source": [
    "digitos.get(\"prueba\")"
   ]
  },
  {
   "cell_type": "code",
   "execution_count": null,
   "metadata": {},
   "outputs": [],
   "source": [
    "digitos.keys()"
   ]
  },
  {
   "cell_type": "markdown",
   "metadata": {},
   "source": [
    "Podemos agregar nuevos elementos a un diccionario creado de manera similar a como lo hacemos con listas:"
   ]
  },
  {
   "cell_type": "code",
   "execution_count": null,
   "metadata": {},
   "outputs": [],
   "source": [
    "digitos[\"cuatro\"] = 4\n",
    "\n",
    "print(digitos[\"cuatro\"])"
   ]
  },
  {
   "cell_type": "markdown",
   "metadata": {},
   "source": [
    "Una de las diferencias entre usar get o corchetes para obtener el valor de un diccionario, es que \"get\" no resulta en error si la llave no existe:"
   ]
  },
  {
   "cell_type": "code",
   "execution_count": null,
   "metadata": {},
   "outputs": [],
   "source": [
    "digitos.get(\"cinco\")"
   ]
  },
  {
   "cell_type": "code",
   "execution_count": null,
   "metadata": {},
   "outputs": [],
   "source": [
    "#digitos[\"cinco\"]"
   ]
  },
  {
   "cell_type": "markdown",
   "metadata": {},
   "source": [
    "Los diccionarios son extramadamente versatiles y utilizados en cualquier tipo de programa, en el ambito de data science tenemos los siguientes ejemplos:\n",
    "\n",
    "**En inteligencia artificial del tipo \"Natural Language Processing**\n",
    "Los algoritmos de machine learning pueden trabajar unicamente sobre datos numericos , al usar ML para NLP necesitamos una manera de representar numericamente las palabras de cierto lenguaje, entonces necesitamos convertir la palabra a numeros y luego ser capaces de hacer la operacion inversa: de numero a palabra\n",
    "\n",
    "Esto es comunmente hecho con diccionarios(o varaciones de estos).\n",
    "\n",
    "Pensemos en un problema con un lenguaje reducido que consta unicamente de:\n",
    "\n",
    "\"Python es un lenguaje muy utilizado en inteligencia artificial\"\n",
    "\n",
    "**tip** en proyectos de NLP es comun agregar un \"token\" especial para denotar palabra desconocidas, por ejemplo < \"UNK \">"
   ]
  },
  {
   "cell_type": "code",
   "execution_count": null,
   "metadata": {},
   "outputs": [],
   "source": [
    "corpus = \"Python es un lenguaje muy utilizado en inteligencia artificial\"\n",
    "\n",
    "palabras = corpus.split()\n",
    "token_desconocido = \"<unk>\"\n",
    "\n",
    "palabras_a_numeros = dict()\n",
    "numeros_a_palabras = {}\n",
    "\n",
    "for numero,palabra in enumerate(palabras):\n",
    "    print(numero,palabra)\n",
    "    palabras_a_numeros[palabra] = numero\n",
    "    numeros_a_palabras[numero] = palabra\n",
    "    \n",
    "palabras_a_numeros[token_desconocido]  = -1\n",
    "numeros_a_palabras[-1] = token_desconocido"
   ]
  },
  {
   "cell_type": "code",
   "execution_count": null,
   "metadata": {},
   "outputs": [],
   "source": [
    "palabras_a_numeros[\"inteligencia\"]"
   ]
  },
  {
   "cell_type": "code",
   "execution_count": null,
   "metadata": {},
   "outputs": [],
   "source": [
    "numeros_a_palabras[7]"
   ]
  },
  {
   "cell_type": "markdown",
   "metadata": {},
   "source": [
    "**Obtener todas las llaves de un diccionario:**\n",
    "\n",
    "Podemos obtener una lista con todas las llaves existentes en un diccionario llamando a la funcion keys() sobre cierto diccionario."
   ]
  },
  {
   "cell_type": "code",
   "execution_count": null,
   "metadata": {},
   "outputs": [],
   "source": [
    "palabras_a_numeros.keys()"
   ]
  },
  {
   "cell_type": "code",
   "execution_count": null,
   "metadata": {},
   "outputs": [],
   "source": [
    "for llave in sorted(numeros_a_palabras.keys()):\n",
    "    print(llave,\":\", numeros_a_palabras[llave])"
   ]
  },
  {
   "cell_type": "markdown",
   "metadata": {},
   "source": [
    "O similar podemos usar items() y obtener tuplas de la forma llave,objeto"
   ]
  },
  {
   "cell_type": "code",
   "execution_count": null,
   "metadata": {},
   "outputs": [],
   "source": [
    "for llave,valor in numeros_a_palabras.items():\n",
    "    print(llave,valor)"
   ]
  },
  {
   "cell_type": "markdown",
   "metadata": {},
   "source": [
    "len() nos dice cuantos pares llave-valor tiene el diccionario"
   ]
  },
  {
   "cell_type": "code",
   "execution_count": null,
   "metadata": {},
   "outputs": [],
   "source": [
    "len(numeros_a_palabras)"
   ]
  },
  {
   "cell_type": "markdown",
   "metadata": {},
   "source": [
    "Podemos usar in y not in para determinar si un diccionario contiene a cierta llave buscada(NO EL VALOR):"
   ]
  },
  {
   "cell_type": "code",
   "execution_count": null,
   "metadata": {},
   "outputs": [],
   "source": [
    "estudiantes = {111:\"Luis\",123:\"Maria\",1234:\"Juan\"}\n",
    "\n",
    "print(111 in estudiantes)\n",
    "print(\"Luis\" in estudiantes)\n",
    "print(123 not in estudiantes)"
   ]
  },
  {
   "cell_type": "markdown",
   "metadata": {},
   "source": [
    "#### Otros tipos de diccionarios\n",
    "\n",
    "Python cuenta en su paquete \"collections\" con variantes del diccionario basico:\n",
    "\n",
    "* Counter\n",
    "* OrderedDict\n",
    "* defaultdict"
   ]
  },
  {
   "cell_type": "code",
   "execution_count": null,
   "metadata": {},
   "outputs": [],
   "source": [
    "from collections import Counter\n",
    "\n",
    "letras = [\"a\",\"b\",\"c\",\"d\",\"e\",\"a\"]\n",
    "counter =  Counter(letras)\n",
    "\n",
    "print(counter)"
   ]
  },
  {
   "cell_type": "code",
   "execution_count": null,
   "metadata": {},
   "outputs": [],
   "source": [
    "def test():\n",
    "    return \"test\""
   ]
  },
  {
   "cell_type": "code",
   "execution_count": null,
   "metadata": {},
   "outputs": [],
   "source": [
    "from collections import defaultdict\n",
    "\n",
    "default_estudiantes = defaultdict(lambda : 7)\n",
    "\n",
    "default_estudiantes[\"Javier\"] = 1\n",
    "\n",
    "print(default_estudiantes[\"Javier\"])"
   ]
  },
  {
   "cell_type": "code",
   "execution_count": null,
   "metadata": {},
   "outputs": [],
   "source": [
    "default_estudiantes[\"test<\"]"
   ]
  },
  {
   "cell_type": "markdown",
   "metadata": {},
   "source": [
    "## Conjuntos\n",
    "\n",
    "Otra estructura de datos util es la estructura llamada \"set\" la cual esta basada completamente en el concepto matematico de conjuntos , por lo tanto cumple con las caracteristicas:\n",
    "\n",
    "* No tiene un orden\n",
    "* No tiene elementos duplicados\n",
    "\n",
    "Y podemos realizar sobre conjuntos operaciones matematicas como:\n",
    "\n",
    "* union\n",
    "* interseccion\n",
    "* diferencia\n",
    "\n",
    "Los definimos con llaves similar a un diccionario pero especificando elementos individuales y no pares llave-valor."
   ]
  },
  {
   "cell_type": "code",
   "execution_count": null,
   "metadata": {},
   "outputs": [],
   "source": [
    "A = {1, 2, 3}\n",
    "\n",
    "print(A)"
   ]
  },
  {
   "cell_type": "code",
   "execution_count": null,
   "metadata": {},
   "outputs": [],
   "source": [
    "A = set('hola mundo desde python')\n",
    "print(A)"
   ]
  },
  {
   "cell_type": "code",
   "execution_count": null,
   "metadata": {},
   "outputs": [],
   "source": [
    "print(len('hola mundo desde python'))\n",
    "print(len(A))"
   ]
  },
  {
   "cell_type": "code",
   "execution_count": null,
   "metadata": {},
   "outputs": [],
   "source": [
    "A = {1, 2, 3}\n",
    "B = {3, 2, 3, 1}\n",
    "print(A == B)"
   ]
  },
  {
   "cell_type": "code",
   "execution_count": null,
   "metadata": {},
   "outputs": [],
   "source": [
    "#A[1]"
   ]
  },
  {
   "cell_type": "code",
   "execution_count": null,
   "metadata": {},
   "outputs": [],
   "source": [
    "primos = {2, 3, 5, 7, 11}\n",
    "for num in primos:\n",
    "    print(num)"
   ]
  },
  {
   "cell_type": "code",
   "execution_count": null,
   "metadata": {},
   "outputs": [],
   "source": [
    "A.add(4)\n",
    "print(A)"
   ]
  },
  {
   "cell_type": "code",
   "execution_count": null,
   "metadata": {},
   "outputs": [],
   "source": [
    "print(4 in A,5 in A)"
   ]
  },
  {
   "cell_type": "code",
   "execution_count": null,
   "metadata": {},
   "outputs": [],
   "source": [
    "C = {3,5,9,0}\n",
    "\n",
    "print(A.union(C))\n",
    "print(A | C)"
   ]
  },
  {
   "cell_type": "code",
   "execution_count": null,
   "metadata": {},
   "outputs": [],
   "source": [
    "print(A.intersection(C))\n",
    "print(A & C)"
   ]
  },
  {
   "cell_type": "code",
   "execution_count": null,
   "metadata": {},
   "outputs": [],
   "source": [
    "print(A.difference(C))\n",
    "print(A - C)"
   ]
  },
  {
   "cell_type": "markdown",
   "metadata": {},
   "source": [
    "Existen otras operciones sobre conjuntos,  referencia util: https://snakify.org/en/lessons/sets/"
   ]
  },
  {
   "cell_type": "markdown",
   "metadata": {},
   "source": [
    "**Caso de uso comun** Un caso de uso comun en data science es similar un \"distinct\" de una lista a traves de crear un conjunto a partir de la lista"
   ]
  },
  {
   "cell_type": "code",
   "execution_count": null,
   "metadata": {},
   "outputs": [],
   "source": [
    "numeros = [1,2,3,2,4,5,1,2,1,5]\n",
    "\n",
    "distinct_numeros = set(numeros)\n",
    "print(distinct_numeros)"
   ]
  },
  {
   "cell_type": "markdown",
   "metadata": {},
   "source": [
    "## Tarea\n",
    "\n",
    "Con esto terminamos Python basico y sintaxis general faltando unicamente un punto que sera clave para resolver la tarea practica:\n",
    "\n",
    "**Funciones**: \n",
    "Tambien llamadas sub-rutinas, procedimientos o metodos en otros lenguajes, esta tarea consiste en investigar:\n",
    "* funciones en Python \n",
    "* parametros posisionales \n",
    "* parametros nombrados \n",
    "* retorno de multiples valores\n",
    "* funciones como objetos y como parametros de otras funciones\n",
    "* funciones anonimas o lambda\n",
    "\n",
    "Entrega: Documento explicando bajo tus conclusiones(no copy-paste) cada uno de estos puntos ejemplificando un caso de uso, este debe ser subio al GES. Limite de entrega :**Miercoles  13**"
   ]
  },
  {
   "cell_type": "code",
   "execution_count": null,
   "metadata": {},
   "outputs": [],
   "source": []
  }
 ],
 "metadata": {
  "kernelspec": {
   "display_name": "Python 3",
   "language": "python",
   "name": "python3"
  },
  "language_info": {
   "codemirror_mode": {
    "name": "ipython",
    "version": 3
   },
   "file_extension": ".py",
   "mimetype": "text/x-python",
   "name": "python",
   "nbconvert_exporter": "python",
   "pygments_lexer": "ipython3",
   "version": "3.7.2"
  }
 },
 "nbformat": 4,
 "nbformat_minor": 2
}
