{
 "cells": [
  {
   "cell_type": "markdown",
   "metadata": {},
   "source": [
    "# Estructuras de control\n",
    "\n",
    "Ya conocemos elementos basicos de Python incluyendo operaciones básicas aritmeticas, relacionales y lógicas. Tipos de datos y objetos y fundamentos de como representar datos e información en un programa,posteriormente veremos como realizar operaciones mas complejas como por ejemplo: **algebra lineal** con numpy, pero por ahora necesitamos aprender otro elemento basico de todo programa(no solo en computación científica y/o ciencias de datos) , estructuras de control y flujo de programas en Python.\n",
    "\n",
    "Antes de entrar a sentencias y sintaxis, pensemos con algunos ejemplos en que casos vamos a necesitar utilizar estructuras de control con ejemplos de la vida real.\n",
    "\n",
    "**Nota** Al igual que los temas anteriores ,estos temas son básicos y elementales de programación en general por lo que pueden parecer  muy básicos para quienes ya tienen experiencia en Python u otros lenguajes ,pero es necesario que los cubramos a detalle para los compañeros con poca experiencia en programación.\n",
    "\n",
    "## Condicionales\n",
    "\n",
    "Los programas comunmente necesitan realizar diferentes acciones segun se cumpla o no cierta condición(o series de condiciones), por ejemplo:\n",
    "\n",
    "* Un programa puede necesitar aplicar distintos tipos de cambio según el país de origen de cierta transacción.\n",
    "* Un programa puede necesitar usar distintos modelos predictivos dependiendo del si un usuario fue registrado antes o despues de cierta fecha.\n",
    "* Un programa de inteligencia artificial puede emitir una alerta si el modelo de AI determina que la probabilidad de que una transacción sea fradulenta es alto. \n",
    "\n",
    "Esto comúnmente se da en casos donde podemos razonar utilizando: \n",
    "\n",
    "\"si <alguna condición> entonces hacer algo\" \n",
    "\n",
    "O bien variaciones multicondición como:\n",
    "\n",
    "\"si <alguna condición> entonces hacer algo sino ,hacer otra cosa\"\n",
    "\n",
    "Para los ejemplos anteriores:\n",
    "\n",
    "* si pais es Guatemala entonces usar quetzales, si es Estados Unidos usar dolares\n",
    "* si el usuario se registró antes de enero 2019 usar modelo predictivo 1, en caso contrario usar el modelo 2\n",
    "* si el modelo de IA estima 61% de probabilidad de fraude, alertar a analistas de  riesgos\n",
    "\n",
    "## Ciclos\n",
    "\n",
    "Los ciclos son utilizados para programas que comunmente requieren tareas repetitivas o iterativas, estos son muy comunes en todo tipo de programas y en el área científica son utilizados comunmente en programas de aproximaciones númericas matemáticas iterativas, por ejemplo el **metodo de newton** o **metodo de newton-rhapson** para encontrar las raices o ceros de una función. En ciencia de datos un ejemplo común es en \"machine learning\" los algoritmos de \"entrenamiento\" consisten de múltiples iteraciones de un proceso de optimización llamado **\"gradient descent\"** o bien AI a través de \"aprendizaje por refuerzo\"(como el usado por Google Deepmind en AlphaGo) en donde el agente se entrena en cierta tarea a través de muchos \"episodios\" donde cada episodio es una iteración de un ciclo.\n",
    "\n",
    "Otro escenario muy común es operar sobre los elementos de una colección uno a uno, es decir realizar cierta operación, validación o calculos sobre todos los elementos de una colección, por ejemplo una lista.\n",
    "\n",
    "Un ejemplo de esto podría ser :\n",
    "\n",
    "Un programa verifica si los estudiantes asignados a un curso han aprobado el curso, de ser así envía un correo de felicitaciones al estudiante, de no ser así lo asigna automaticamente a recuperación.\n",
    "\n",
    "En este caso tenemos una tarea ciclica o iterativa, la operación u operaciones a realizar se ejecutan repetidamente una vez por cada alumno, en este caso podemos razonar de la siguiente forma.\n",
    "\n",
    "para cada alumno \"a\" en la lista de usuarios asignados \"L\":\n",
    "\n",
    "       nota_alumno = obtener_nota_alumno(a)\n",
    "       \n",
    "       si nota_alumno >= 71:\n",
    "            enviar_correo(a)\n",
    "       si no:\n",
    "            asignar_recuperacion(a)"
   ]
  },
  {
   "cell_type": "markdown",
   "metadata": {},
   "source": [
    "## Bloques de código\n",
    "\n",
    "Hasta ahora hemos estado trabajando con sentencias  u operaciones sencillas  ,pero los programas comunmente estan compuestos por algo conocido como **\"bloques de código\"**. Los bloques de código son  conjuntos( o agrupaciones) de una o mas  sentencias de código que son ejecutas en el orden en el que son escritas, es decir de arriba hacia abajo y de izquierda a derecha. \n",
    "\n",
    "Un detalle importante a tener en cuenta cuando veamos ejemplos y documentación es que una unica sentencia de código es también considerado un bloque de código de similar manera como en matemática un conjunto unitario(de un solo elemento) sigue siendo un conjunto y aplican todas las operaciones de conjuntos en el. \n",
    "\n",
    "Veremos algúnos ejemplos de bloques de código tanto de 1 sentencia como varias sentencias.\n",
    "\n",
    "En la mayoría de ejemplos y conceptos utilizaremos la sintáxis : < bloque n >  para indicar un bloque de código que puede estar compuesto por una o mas sentencias. Por ejemplo:\n",
    "\n",
    "if < expresion booleana>:\n",
    "\n",
    "    < bloque 1 >\n",
    "\n",
    "< bloque 2 >\n",
    "\n",
    "Es la definición de un \"if\" sencillo( a definira continuación) y de manera general indicamos 2 bloques de código relacionados.\n",
    "\n",
    "### Nota importante de Bloques de código en Python\n",
    "\n",
    "Python a diferencia de otros lenguajes de programación, no utiliza llaves **{}** o sentencias especiales como **begin** y **end** para especificar bloques de código , en lugar de eso usa \"indentación\" (a través de espacios o tabs), es decir  que todas las sentencias en un mismo nivel de indentación , pertenecen a un mismo bloque de código. Esto quedará mas claro con algunos ejemplos.\n",
    "\n",
    "**Ejemplo**\n",
    "En el primer ejemplo tenemos nuevamente un programa que valida (a través de una expresión relacional o de comparación cuyo resultado es booleano, True o False) que un alumno tenga edad mínima para votar , si la tiene el programa imprime 2 mensajes ,si no la tiene imprime un único mensaje.\n",
    "\n",
    "En este ejemplo:\n",
    "* Si la condición se cumple (True) se ejecuta el **\"bloque de código\"**  que consiste en 2 sentencias \"print\".\n",
    "* Si la condición no se cumple(False) se ejecuta el **\"bloque de código\"** que consiste en 1 sentencia \"print\"(aun que solo tiene una sentencia, sigue siendo un bloque)\n",
    "\n",
    "Para ambos casos la forma de identificar que sentencias pertenecen a un bloque es: **todas aquellas que estan al mismo nivel de indentación.**\n",
    "\n",
    "Para quienes vienen de otros lenguajes, algunas equivalencias veremos el mismo ejemplo usando sintáxis de otros lenguajes.\n",
    "\n",
    "\n",
    "**nota**: Experimenta cambiando las variables de edad_alumno o edad_minima_votacion analizando el resultado obtenido por el programa"
   ]
  },
  {
   "cell_type": "code",
   "execution_count": 1,
   "metadata": {
    "scrolled": true
   },
   "outputs": [
    {
     "name": "stdout",
     "output_type": "stream",
     "text": [
      "El alumno no puede votar\n",
      "Esto no es parte del 'if' ni del 'else' y se ejecuta despues de estos bloques de código independientemente\n"
     ]
    }
   ],
   "source": [
    "edad_alumno = 15 #bloque1\n",
    "edad_minima_votacion = 18 #bloque1\n",
    "\n",
    "if edad_alumno >= edad_minima_votacion :\n",
    "    \n",
    "    print(\"El alumno puede votar\") # bloque2\n",
    "    print(\"Generar horario de votación\") #bloque2\n",
    "else:\n",
    "    print(\"El alumno no puede votar\") #bloque3\n",
    "\n",
    "print(\"Esto no es parte del 'if' ni del 'else' y se ejecuta despues de estos bloques de código independientemente\") #bloque4\n"
   ]
  },
  {
   "cell_type": "markdown",
   "metadata": {},
   "source": [
    "##### En Descendientes de C  (C++, Java, C#, etc)\n",
    "\n",
    "int edad_alumno = 15; //bloque1\n",
    "int edad_minima_votacion = 18; //bloque1\n",
    "\n",
    "if(edad_alumno >= edad_minima_votacion)\n",
    "{\n",
    "\n",
    "    System.out.println(\"El alumno puede votar\"); //bloque2\n",
    "    System.out.println(\"Generar horario de votación\"); //bloque2\n",
    "}\n",
    "else\n",
    "{\n",
    "\n",
    "    System.out.println(\"El alumno no puede votar\"); //bloque3\n",
    "}\n",
    "\n",
    "System.out.println(\"Esto no es parte del 'if' ni del 'else' y se ejecuta despues de estos bloques de código independientemente\"); //bloque4"
   ]
  },
  {
   "cell_type": "markdown",
   "metadata": {},
   "source": [
    "###### En Visual Basic\n",
    "Visual basic utiliza la palabra reservada End para indicar el final de un bloque, para el caso de \"If\" se utiliza End If\n",
    "\n",
    "If edad_alumno >= edad_minima_votacion Then \n",
    "\n",
    "    Print \"El alumno puede votar\"  ' bloque2\n",
    "    print \"Generar horario de votación\"  ' bloque2\n",
    "    \n",
    " Else\n",
    " \n",
    "    Print \"El alumno no puede votar\"   ' bloque3\n",
    "End If"
   ]
  },
  {
   "cell_type": "markdown",
   "metadata": {},
   "source": [
    "## Condicionales \n",
    "\n",
    "En Python las estructuras o sentencias condicionales se basan en 3 palabras reservadas:\n",
    "* if\n",
    "* else\n",
    "* elif\n",
    "\n",
    "Resumidamente usamos condicionales para alterar el flujo de un programa de manera que se ejecute o no cierta porción del programa(bloque de código)  en función de si se cumple o no cierta condición a ser evaluada.\n",
    "\n",
    "Las personas utilizamos condicionales constantemente tal vez sin darnos cuenta, por ejemplo:\n",
    "* si hace frio, entonces me pongo sueter\n",
    "* si hace frio Y esta lloviendo, entonces uso chumpa impermeable\n",
    "* si la cancion en la radio me gusta, subo el volumen en caso contrario lo bajo.\n",
    "\n",
    "De la misma manera los programas pueden \"tomar desiciones\" basados en alguna condición , por ejemplo un programa que verifica si un número \"x\" esta en el rango de 0 a 1:\n",
    "\n",
    "El programa utiliza la sentencia: **\"if\"** para evaluar una condición, si esta es verdadera ejecuta un bloque de código , en el caso contrario ejecuta otro.\n",
    "\n",
    "**Nota** Experimenta cambiando el valor de la variable \"x\" y analizando el resultado obtenido."
   ]
  },
  {
   "cell_type": "code",
   "execution_count": 2,
   "metadata": {},
   "outputs": [
    {
     "name": "stdout",
     "output_type": "stream",
     "text": [
      "x se encuentra entre 0 y 1\n"
     ]
    }
   ],
   "source": [
    "x = 0.47\n",
    "\n",
    "if   0 < x < 1:\n",
    "    print(\"x se encuentra entre 0 y 1\")\n",
    "else:\n",
    "    print(\"x no se encuentra en el rango de 0 a 1\")"
   ]
  },
  {
   "cell_type": "markdown",
   "metadata": {},
   "source": [
    "Pudimos haber escrito unicamente la sentencia \"if\" , su condición y el bloque de código asociado sin necesidad de usar \"else\" si en caso nuestro programa no necesita realizar ninguna acción cuando la condición no se cumple."
   ]
  },
  {
   "cell_type": "code",
   "execution_count": 3,
   "metadata": {},
   "outputs": [
    {
     "name": "stdout",
     "output_type": "stream",
     "text": [
      "x se encuentra entre 0 y 1\n"
     ]
    }
   ],
   "source": [
    "x = 0.47\n",
    "\n",
    "if   0 < x < 1:\n",
    "    print(\"x se encuentra entre 0 y 1\")"
   ]
  },
  {
   "cell_type": "markdown",
   "metadata": {},
   "source": [
    "Aun que en estos ejemplos sencillos los bloques de código solo tenian una sentencia, pudimos haber utilizando tantas como fuera necesario  . De manera general la sintáxis es la siguiente:\n",
    "\n",
    "< bloque antes >\n",
    "\n",
    "if < expresion booleana >:\n",
    "\n",
    "    < bloque 1>\n",
    "else:\n",
    "\n",
    "    < bloque 2 >\n",
    "    \n",
    "< bloque despues >\n",
    "\n",
    "\n",
    "En este caso:\n",
    "* bloque 1: es el conjunto de sentencias a ejecutar si la condición del \"if\" es True\n",
    "* bloque 2 es el conjunto de sentencias a ejecutar si la condición del \"if\" es False\n",
    "* bloque antes: es una referencia a código que puede estar antes del if, y que no es parte de este, por ejemplo x = 0.47 en el ejemplo\n",
    "* bloque despues: es una referencia a código que puede estar despues del if y que se ejecutara posteriormente a este independiente de cual de los 2 casos (True o False) se de.\n",
    "\n",
    "**Nota con < expresion booleana >** : la parte del if que colocamos como < expresion booleana > es cualquier expresion valida cuyo resultado sea un booleano(True o False) ,esto significa que podemos  usar en esta parte cualquier expresion relacional, logica , variables o combinaciones de estas cuyo resultado sea booleanom, los bloques de código asociados pueden ser cualquier conjunto de sentencias válidas incluidas otras condicionales.\n",
    "\n",
    "### \"If-else-if ladders\" con elif\n",
    "\n",
    "Hasta el momento solo hemos visto ejemplos con un máximo de 2 posibles alternativas en la ejecución condicional:\n",
    "\n",
    "* Cuando solo nos interesa evaluar una condición y hacer algo si se cumple, usamos \"if\"\n",
    "* Cuando nos interesa evaluar una condición y hacer una tarea \"A\" cuando esta se cumple, o bien una tarea \"B\" cuando no se cumple usamos if-else\n",
    "\n",
    "Pero en muchos programas es necesario realizar la evaluación de multiples condiciones  y ejecutar las acciones correspndientes a la condición que se evalua como \"verdadera\", esto es un escenario muy común en todo tipo de programas \n",
    "\n",
    "**Ejemplo** \n",
    "\n",
    "Pensemos en un programa de un banco con presencia en toda centroamérica , pero donde cada país tiene  distinta tasa de interés  para cuentas en dolares , para cierto monto de ahorro dado el programa debe calcular el nuevo monto del cliente luego de intereses acumulados tomando en cuenta el país de la cuenta."
   ]
  },
  {
   "cell_type": "code",
   "execution_count": 45,
   "metadata": {},
   "outputs": [
    {
     "name": "stdout",
     "output_type": "stream",
     "text": [
      "Monto con intereses: 1050.0\n",
      "1050.0\n"
     ]
    }
   ],
   "source": [
    "monto = 1000.00\n",
    "pais = \"HN\"\n",
    "interes = 0.0\n",
    "\n",
    "if pais == \"GT\":\n",
    "    interes = 0.1\n",
    "elif pais == \"ES\":\n",
    "    interes = 0.15\n",
    "elif pais == \"HN\":\n",
    "    interes = 0.05\n",
    "elif pais == \"NI\":\n",
    "    interes = 0.2\n",
    "elif pais == \"CR\":\n",
    "    interes = 0.07\n",
    "elif pais == \"PA\":\n",
    "    interes = 0.08\n",
    "else:\n",
    "    print(\"Alerta: Pais no valido :\",pais)\n",
    "    \n",
    "nuevo_monto = monto + (monto*interes)\n",
    "print(\"Monto con intereses:\",nuevo_monto)\n",
    "\n",
    "monto += monto * interes\n",
    "print(monto)"
   ]
  },
  {
   "cell_type": "markdown",
   "metadata": {},
   "source": [
    "**Ejemplo**\n",
    "\n",
    "Otro ejemplo es un programa sencillo que valida el rango de edad de un usuario para determinar que tipo de promocion ofrecerle, basado en :\n",
    "* de 0 a 15 años: promocion infantil\n",
    "* de 16 a 40 años: promocion intermedia\n",
    "* de 40 años en adelante: promocion avanzada\n",
    "\n",
    "Si la edad es negativa, mostrar una alerta \n",
    "\n",
    "**Nota** Este programa tiene intencionalmente un error de programación(bug) , para ciertos valores de \"edad\" el programa no funciona correctamente aún cuando lo hace bien para la mayoría de casos, como ejercicio identifiquemos el bug y propongamos soluciones."
   ]
  },
  {
   "cell_type": "code",
   "execution_count": 4,
   "metadata": {},
   "outputs": [
    {
     "name": "stdout",
     "output_type": "stream",
     "text": [
      "Promoción avanzada\n"
     ]
    }
   ],
   "source": [
    "edad = 40.5\n",
    "\n",
    "if edad >= 0.0 and edad <= 15.99:\n",
    "    print(\"Promocion infantil\")\n",
    "elif edad >= 16 and edad <= 40:\n",
    "    print(\"Promocion intermedia\")\n",
    "elif edad > 40:\n",
    "    print(\"Promoción avanzada\")\n",
    "elif edad < 0:\n",
    "    print(\"Alerta: edad no valida\")\n",
    "else:\n",
    "    print(\"no definido\")"
   ]
  },
  {
   "cell_type": "markdown",
   "metadata": {},
   "source": [
    "**Ejemplo**\n",
    "\n",
    "En ciencia de datos, aveces ocurre que se debe usar cierto modelo predictivo dependiendo de la fecha de algún evento ya que la correlación entre ciertas variables pudo haber cambiado debido a el evento, en este ejemplo simularemos un caso donde se selecciona el modelo predictivo a usar basado en la fecha de registro de un usuario:\n",
    "\n",
    "**nota** haremos uso de una \"función\" ficticia que simulará el usar  distintos modelos predictivos también ficticios"
   ]
  },
  {
   "cell_type": "code",
   "execution_count": 5,
   "metadata": {},
   "outputs": [],
   "source": [
    "def predecir(modelo = 1, x = 0):\n",
    "    y = 0\n",
    "    if modelo == 1:\n",
    "        y = x*2 # y = 2x\n",
    "    elif modelo == 2:\n",
    "        y = x**2 + 1 # y = x^2 + 1\n",
    "    elif modelo == 3:\n",
    "        y = x/2 + 5 # y = x/2 + 5\n",
    "    else:\n",
    "        y = x\n",
    "        \n",
    "    return y"
   ]
  },
  {
   "cell_type": "code",
   "execution_count": 7,
   "metadata": {},
   "outputs": [
    {
     "name": "stdout",
     "output_type": "stream",
     "text": [
      "Usando modelo 1\n"
     ]
    },
    {
     "data": {
      "text/plain": [
       "40"
      ]
     },
     "execution_count": 7,
     "metadata": {},
     "output_type": "execute_result"
    }
   ],
   "source": [
    "fecha_registro = 20170101 #yyyymmdd\n",
    "x = 20\n",
    "\n",
    "if fecha_registro <= 20170909:\n",
    "    modelo_usado = 1\n",
    "    print(\"Usando modelo 1\")\n",
    "elif fecha_registro <=  20100606:\n",
    "    modelo_usado = 2\n",
    "    print(\"Usando modelo 2\")\n",
    "elif fecha_registro > 20100606:\n",
    "    modelo_usado = 3\n",
    "    print(\"Usando modelo 3\")\n",
    "    \n",
    "prediccion = predecir( modelo_usado,x)\n",
    "\n",
    "prediccion"
   ]
  },
  {
   "cell_type": "markdown",
   "metadata": {},
   "source": [
    "En este caso tenemos multiples condiciones a evaluar  y la primera que sea \"True\" será la condición cuyo código será ejecutado , en caso de no cumplirse ninguna el código a ejecutar será el bloque correspondiente a la porción **\"else\"**\n",
    "\n",
    "**Consideraciones adicionales**\n",
    "* No es necesario terminar la \"if ladder\" con \"else\", este solo lo usaremos cuando tengamos un bloque de código a ejecutar si en caso ninguna de las condiciones previas se cumple.\n",
    "* Al igual que en el \"if\" sencillo la condición a evaluar puede ser cualquier expresión cuyo resultado sea Boolean, esto significa que podemos tener cualquier combinación de expresiones relacionales, lógicas o variables que almacenen valores booleanos\n",
    "* Quienes vienen de otros lenguajes como C,C++,Java podrán preguntarse por la sentencia **switch**, esta no existe en Python y debe ser implementada con \"if-else-if\" ladders\n",
    "\n",
    "**Nota** Esta no es la mejor forma de diseñar este programa y lo mejor sería hacerlo con una \"hash table\"(o diccionario) o una tabla catalogo en una base de datos pero sirve para ejemplificar una \"escalera de if-else-if\" además que \"hash tables\" es algo que no hemos discutido y veremos mas adelante\n",
    "\n",
    "### \"ShortHand if\"\n",
    "\n",
    "Aun cuando dijimos que \"if\", \"elif\" y \"else\" son las bases para crear condicionales en Python , existe una alternativa abreviada al \"if\" e \"if-else\" que nos ayuda en muchos casos a mejorar la legibilidad de nuestros programas y reducirlos a una versión \"corta\" de una sola linea, esta se conoce como **short hand if** y tiene la forma\n",
    "\n",
    "< accion A > if < condición > else < acción B>\n",
    "\n",
    "Esta versión es útil cuando queremos realizar una única acción como resultado de la evaluación de condición en lugar de un bloque de múltiples acciones"
   ]
  },
  {
   "cell_type": "code",
   "execution_count": 8,
   "metadata": {},
   "outputs": [
    {
     "name": "stdout",
     "output_type": "stream",
     "text": [
      "A\n"
     ]
    }
   ],
   "source": [
    "print(\"A\") if 10 > 5 else print(\"B\")"
   ]
  },
  {
   "cell_type": "markdown",
   "metadata": {},
   "source": [
    "Un escenario muy común para el **\"Short Hand If\"** ocurre cuando se desea asignar a una variable un valor en función de evaluar una condición, teniendo un posible valor cuando la condición es verdadera y otro posible valor cuando es falsa. Esto quedará mas claro con un ejemplo que muestra la versión \"convencional\" y su equivalente con **\"short hand if\"**"
   ]
  },
  {
   "cell_type": "code",
   "execution_count": 8,
   "metadata": {},
   "outputs": [],
   "source": [
    "x = 10\n",
    "\n",
    "f = 2 * x + 1 # f(x)\n",
    "g = 5 * x + 7 # g(x)"
   ]
  },
  {
   "cell_type": "code",
   "execution_count": 9,
   "metadata": {},
   "outputs": [
    {
     "name": "stdout",
     "output_type": "stream",
     "text": [
      "57\n"
     ]
    }
   ],
   "source": [
    "if x >= 11:\n",
    "    y = f\n",
    "else:\n",
    "    y = g\n",
    "    \n",
    "print(y)"
   ]
  },
  {
   "cell_type": "code",
   "execution_count": 12,
   "metadata": {},
   "outputs": [
    {
     "name": "stdout",
     "output_type": "stream",
     "text": [
      "58\n"
     ]
    }
   ],
   "source": [
    "y = f if x >= 11 else g + 1 # equivale a y = al resultado del if\n",
    "print(y)"
   ]
  },
  {
   "cell_type": "markdown",
   "metadata": {},
   "source": [
    "## Ciclos \n",
    "\n",
    "Ya hemos visto \"condicionales\" que nos permiten alterar el flujo de un programa basado en condiciones que pueden o no cumplirse, la otra manera de alterar el flujo de un programa es a través de estructuras ciclicas que nos permiten ejecutar iterativamente un bloque de código. Por ejemplo:\n",
    "\n",
    "* Muchas veces necesitamos ejecutar la misma operación sobre una colección de objetos\n",
    "* En computación científica muchos métodos numéricos se basan en la ejecución iterativa de cierto proceso, por ejemplo:\n",
    "\n",
    "    * una simulación de Monte Carlo consiste en realizar un muestreo/sampleo aleatoriamente muchas veces y luego analizar el resultado esperado en cierto proceso.\n",
    "    * En Machine Learning un \"epoch\" consite en una \"pasada\" completa por todo el set de datos de entrenamiento , pero el proceso de entrenamiento consiste en muchos \"epochs\" lo cual significa muchas iteraciones sobre el set de datos.\n",
    "    * En reinforcement Learning un \"episodio\" consiste en un agente interactuando en un ambiente de un estado inicial a un estado final,  pero el algoritmo consiste en muchos episodios lo cual implica una tarea repetiva donde cada iteración es un episodio.\n",
    "    \n",
    "En Python los ciclos se basan en 2 sentencias:\n",
    "* **while**: el bloque de código asociado al while se ejecuta siempre y cuando una condición dada sea verdadera , esta condición es muy parecida a la vista en la sección de concionales (if) y puede ser cualquier expresión booleana válida(expresiones relacionales, lógicas y valores booleanos)\n",
    "* **for**: a diferencia de otros lenguajes en donde el for también esta basado en una condición dada, en Python el for es utilizado para recorrer todos los elementos de una colección de objetos  uno a uno(o bien un número de veces N predefinido), por lo cual profundizaremos en el \"for\" hasta que hayamos visto colecciones,contenedores y estructuras de datos.\n",
    "\n",
    "Con while y for tenemos la base para operaciones ciclicas en Python , pero existen otras sentencias que pueden llegar a resultar útiles en algunos casos y que también se encuentran en muchos otros lenguajes de programación:\n",
    "\n",
    "* **break** : nos permite salir por completo de un ciclo, aplica tanto para \"for\" como para \"while\" y provoca que la ejecución del ciclo se \"rompa\"  y el programa continue su ejecución en la instrucción que sigue al ciclo.\n",
    "* **continue**: nos permite saltarnos una iteración del ciclo ignorando para esa iteración el código restante del ciclo pero sin salirse completamente y empezando la próxima iteracion inmediatamente,aplica tanto para \"for\" como para \"while\".\n",
    "\n",
    "### while\n",
    "\n",
    "Muchos libros y tutoriales de programación empiezan comunmente con \"for\", pero debido a que en Python for esta orientado a recorrer colecciones de objetos y aún no hemos visto colecciones, empezaremos con \"while\" que tienen una sintaxis parecida a \"if\".\n",
    "\n",
    "Los ciclos while son usados para repetir secciones de código basado en el valor de cierta condición , es decir, que los usaremos para ejecutar repetidamente bloques de código \"MIENTRAS\" que cierta condición sea verdadera.\n",
    "\n",
    "La sintáxis de while de manera general tiene la forma:\n",
    "\n",
    "< bloque antes >\n",
    "\n",
    "while < expresion booleana >:\n",
    "\n",
    "    < bloque 1>\n",
    "    \n",
    "< bloque despues >\n",
    "\n",
    "Donde:\n",
    "* < bloque antes > : hace referencia a cualquier sentencia de código antes de el ciclo while\n",
    "* < expresion booleana > : es cualquier expresión valida cuyo resultado sea un valor booleano (True o False)\n",
    "* < bloque 1 > : es cualquier bloque de código(1 o mas sentencias) que queremos ejecutar repetidamente MIENTRAS la condición sea True\n",
    "* < bloque despues >: hace referencia a el código a ejecutarse luego de que el ciclo while haya terminado de ejecutarse."
   ]
  },
  {
   "cell_type": "markdown",
   "metadata": {},
   "source": [
    "**Ejemplo**: Un programa debe escribir (print) en pantalla los números del 1 a N ,donde N será el limite máximo a mostrar."
   ]
  },
  {
   "cell_type": "code",
   "execution_count": 17,
   "metadata": {},
   "outputs": [
    {
     "name": "stdout",
     "output_type": "stream",
     "text": [
      "1\n",
      "2\n",
      "3\n",
      "4\n",
      "5\n",
      "6\n",
      "7\n",
      "8\n",
      "9\n",
      "10\n",
      "luego de while\n"
     ]
    }
   ],
   "source": [
    "numero = 1\n",
    "N = 10\n",
    "\n",
    "while numero <= N:\n",
    "    print(numero)\n",
    "    numero+=1 #equivalente a numero = numero +1\n",
    "print(\"luego de while\")"
   ]
  },
  {
   "cell_type": "markdown",
   "metadata": {},
   "source": [
    "**Ejemplo** Un programa debe escribir (print) en pantalla los números pares del 1 a N ,donde N será el limite máximo a mostrar."
   ]
  },
  {
   "cell_type": "code",
   "execution_count": null,
   "metadata": {},
   "outputs": [],
   "source": [
    "numero = 2 \n",
    "N = 10\n",
    "\n",
    "while numero <= N:\n",
    "    print(numero)\n",
    "    numero+=2 #equivalente a numero = numero +1"
   ]
  },
  {
   "cell_type": "markdown",
   "metadata": {},
   "source": [
    "**Nota** Existen muchas formas de lograr el mismo resultado , pero algunas son mas eficientes y/o fáciles de entender(consideradas mejores que  otras)"
   ]
  },
  {
   "cell_type": "code",
   "execution_count": null,
   "metadata": {},
   "outputs": [],
   "source": [
    "numero = 2\n",
    "N = 10\n",
    "repetir = True\n",
    "\n",
    "while repetir:\n",
    "    if numero > N :\n",
    "        repetir = False\n",
    "    else:\n",
    "        print(numero)\n",
    "    \n",
    "    numero = numero +2\n"
   ]
  },
  {
   "cell_type": "markdown",
   "metadata": {},
   "source": [
    "**Ejemplo** Una simulacion de monte carlo consiste en el sampleo/muestreo para dar valor a cierta variable perteneciente a un modelo para luego analizar el resultado o impacto que esta variable tiene en el modelo.\n",
    "\n",
    "Por ejemplo, necesitamos analizar  cual sera el valor maximo esperado de cierta variable \"y\" que es función de otra variable \"x\" a través del modelo :\n",
    "\n",
    "$$y = 2x + 3$$\n",
    "\n",
    "Bajo un proceso ya realizado se sabe que x es una variable aleatoria que se comporta de manera normal(gausianna) con una media de 5 y desviación estandar de 2"
   ]
  },
  {
   "cell_type": "code",
   "execution_count": 13,
   "metadata": {},
   "outputs": [],
   "source": [
    "from matplotlib import pyplot as plt\n",
    "import numpy as np"
   ]
  },
  {
   "cell_type": "code",
   "execution_count": 29,
   "metadata": {},
   "outputs": [
    {
     "data": {
      "text/plain": [
       "(array([2.00000e+00, 6.00000e+00, 2.30000e+01, 9.20000e+01, 2.60000e+02,\n",
       "        7.92000e+02, 2.17500e+03, 4.93400e+03, 1.11390e+04, 2.14530e+04,\n",
       "        3.68020e+04, 5.88180e+04, 8.32690e+04, 1.07024e+05, 1.22898e+05,\n",
       "        1.27892e+05, 1.20515e+05, 1.02072e+05, 7.80900e+04, 5.37860e+04,\n",
       "        3.31930e+04, 1.85760e+04, 9.28300e+03, 4.24000e+03, 1.73200e+03,\n",
       "        6.24000e+02, 2.22000e+02, 6.20000e+01, 2.10000e+01, 5.00000e+00]),\n",
       " array([-4.94837827, -4.30192824, -3.6554782 , -3.00902816, -2.36257812,\n",
       "        -1.71612808, -1.06967804, -0.42322801,  0.22322203,  0.86967207,\n",
       "         1.51612211,  2.16257215,  2.80902219,  3.45547222,  4.10192226,\n",
       "         4.7483723 ,  5.39482234,  6.04127238,  6.68772242,  7.33417245,\n",
       "         7.98062249,  8.62707253,  9.27352257,  9.91997261, 10.56642265,\n",
       "        11.21287268, 11.85932272, 12.50577276, 13.1522228 , 13.79867284,\n",
       "        14.44512288]),\n",
       " <BarContainer object of 30 artists>)"
      ]
     },
     "execution_count": 29,
     "metadata": {},
     "output_type": "execute_result"
    },
    {
     "data": {
      "image/png": "[encoded data removed]",
      "text/plain": [
       "<Figure size 432x288 with 1 Axes>"
      ]
     },
     "metadata": {
      "needs_background": "light"
     },
     "output_type": "display_data"
    }
   ],
   "source": [
    "data = np.random.normal(size=1000000,loc=5,scale=2)\n",
    "\n",
    "plt.hist(data, bins = 30)"
   ]
  },
  {
   "cell_type": "code",
   "execution_count": 36,
   "metadata": {},
   "outputs": [
    {
     "name": "stdout",
     "output_type": "stream",
     "text": [
      "El valor maximo de y es  32.33927742812489\n"
     ]
    }
   ],
   "source": [
    "import random\n",
    "\n",
    "SIMULACIONES = 1000000\n",
    "iteracion = 1\n",
    "y_maximo = float(\"-inf\")\n",
    "ys_simulados = [] \n",
    "\n",
    "while iteracion <= SIMULACIONES:\n",
    "    x_simulado = random.gauss(5,2) # sampleo/muestreo de la variable x\n",
    "    y = 2 * x_simulado + 3 #aplicar el modelo a la variable \"simulada\"\n",
    "    ys_simulados.append(y)\n",
    "    y_maximo = max(y_maximo,y) #en cada iteracion determinar el maximo encontrado\n",
    "    \n",
    "    iteracion +=1\n",
    "    \n",
    "print(\"El valor maximo de y es \",y_maximo)"
   ]
  },
  {
   "cell_type": "code",
   "execution_count": 32,
   "metadata": {},
   "outputs": [
    {
     "data": {
      "image/png": "[encoded data removed]",
      "text/plain": [
       "<Figure size 432x288 with 1 Axes>"
      ]
     },
     "metadata": {
      "needs_background": "light"
     },
     "output_type": "display_data"
    }
   ],
   "source": [
    "plt.hist(ys_simulados, bins = 30)\n",
    "plt.show()"
   ]
  },
  {
   "cell_type": "markdown",
   "metadata": {},
   "source": [
    "**Ejemplo** En machine learning, el tipo mas comun llamado \"supervisado\" consiste en utilizar un set de datos llamado \"de entrenamiento\" para encontrar una función que aproxime la relación entre una o varias variables independientes x a una variable dependiente y a traves de un proceso de optimización llamado \"entrenamiento\", en este proceso de entrenamiento ejecutados en repetidas ocasiones el proceos de optimización sobre el mismo set de datos,  a cada \"pasada\" por el set de datos se le conoce como \"epoch\"."
   ]
  },
  {
   "cell_type": "code",
   "execution_count": 37,
   "metadata": {},
   "outputs": [],
   "source": [
    "def entrenar(x,y):\n",
    "    pass # por ahora no hace nada"
   ]
  },
  {
   "cell_type": "code",
   "execution_count": 38,
   "metadata": {},
   "outputs": [
    {
     "name": "stdout",
     "output_type": "stream",
     "text": [
      "Terminando epoch : 5\n",
      "Terminando epoch : 10\n",
      "Terminando epoch : 15\n",
      "Terminando epoch : 20\n",
      "Terminando epoch : 25\n",
      "Se ha terminado el proceso de entrenamiento\n"
     ]
    }
   ],
   "source": [
    "x = 1\n",
    "y = 2\n",
    "\n",
    "EPOCHS = 25\n",
    "epoch = 1\n",
    "\n",
    "while epoch <= EPOCHS:\n",
    "    entrenar(x,y)\n",
    "    \n",
    "    if epoch % 5 == 0:\n",
    "        print(\"Terminando epoch :\",epoch)\n",
    "    epoch+=1\n",
    "    \n",
    "print(\"Se ha terminado el proceso de entrenamiento\")"
   ]
  },
  {
   "cell_type": "markdown",
   "metadata": {},
   "source": [
    "#### break\n",
    "\n",
    "La sentencia break nos permite salir de el código perteneciente al while(y veremos que también del for)  de manera inmediata sin necesidad de esperar a evaluar que la condición de salida sea falsa.Algunos llaman a esto \"terminación prematura\"\n",
    "\n",
    "**Ejemplo** en el siguiente ejemplo el ciclo se termina desde la primera iteración aún cuando su condición de salida esta diseñada para ejecutar el ciclo 10 veces."
   ]
  },
  {
   "cell_type": "code",
   "execution_count": null,
   "metadata": {},
   "outputs": [],
   "source": [
    "numero = 1\n",
    "N = 10\n",
    "\n",
    "while numero <= N:\n",
    "    print(numero)\n",
    "    numero+=1 #equivalente a numero = numero +1\n",
    "    \n",
    "    break\n",
    "    \n",
    "    \n",
    "print(\"ya\")"
   ]
  },
  {
   "cell_type": "markdown",
   "metadata": {},
   "source": [
    "**Ejemplo** en el siguiente ejemplo el ciclo se termina luego de que se han impreso 2 números ignorando que la condición del ciclo es terminar luego de 10 iteraciones."
   ]
  },
  {
   "cell_type": "code",
   "execution_count": null,
   "metadata": {},
   "outputs": [],
   "source": [
    "numero = 1\n",
    "N = 10\n",
    "\n",
    "while numero <= N:\n",
    "    print(numero)\n",
    "    \n",
    "    if numero == 2:\n",
    "        break\n",
    "        \n",
    "    numero+=1 #equivalente a numero = numero +1\n",
    "    "
   ]
  },
  {
   "cell_type": "markdown",
   "metadata": {},
   "source": [
    "**Ejemplo** En el siguiente ejemplo, tenemos las dimensiones de una matriz y queremos imprimir las coordenadas de un elemento dado luego de haber recorrido N elementos en la matriz(aún no hemos visto matrices por lo cual solo haremos la lógica básica y ya que no necesitamos el valor del elemento en la matrix solo sus coordenadas, podemos hacerlo aún sin tener la matríx).\n",
    "\n",
    "Para este ejemplo veremos \"anidamiento\", tendremos un ciclo anidado en otro ciclo."
   ]
  },
  {
   "cell_type": "code",
   "execution_count": null,
   "metadata": {},
   "outputs": [],
   "source": [
    "filas = 3\n",
    "columnas = 3\n",
    "\n",
    "N = 4\n",
    "\n",
    "recorridos = 1\n",
    "encontrado = False\n",
    "\n",
    "i = 0\n",
    "while i < filas:\n",
    "    j = 0\n",
    "    while j < columnas:\n",
    "        if recorridos == N :\n",
    "            print(\"Fila\",i,\"columna\",j)\n",
    "            encontrado = True\n",
    "            break\n",
    "     \n",
    "    \n",
    "            \n",
    "            \n",
    "    i+=1"
   ]
  },
  {
   "cell_type": "markdown",
   "metadata": {},
   "source": [
    "#### continue\n",
    "\n",
    "Nos permite terminar prematuramente una iteracion de un ciclo e ir a la evaluacion de la condicion del mismo para ver si se ejecuta una nueva iteracion(en caso de ser verdadero) ,de manera intuitiva nos permite \"saltarnos\" el resto del codigo pero solo para la iteracion en curso\n",
    "\n",
    "**ejemplo** El siguiente programa utiliza **continue** para \"saltarse\" la instruccion print cuando el  valor del contador del ciclo es un numero par."
   ]
  },
  {
   "cell_type": "code",
   "execution_count": null,
   "metadata": {},
   "outputs": [],
   "source": [
    "i = 1\n",
    "N = 10\n",
    "\n",
    "while i<=N:\n",
    "    if i%2 == 0:\n",
    "        i+=1\n",
    "        continue\n",
    "    \n",
    "    print(i)\n",
    "    i+=1\n",
    "    "
   ]
  },
  {
   "cell_type": "markdown",
   "metadata": {},
   "source": [
    "**ejemplo** en ciencia de datos, en machine learning es comun \"evaluar\" nuestros algoritmos en un dataset de pruebas o evaluacion cada cierto numero N definido de iteraciones(o EPOCHS) pero no en cada iteracion ya que es una operacion computacionalmente costosa,en este ejemplo usamos \"continue\" para \"saltarnos\" (ignorar) la evaluacion salvo para algunas iteraciones."
   ]
  },
  {
   "cell_type": "code",
   "execution_count": 24,
   "metadata": {},
   "outputs": [],
   "source": [
    "def entrenar(x,y):\n",
    "    pass # por ahora no hace nada\n",
    "\n",
    "\n",
    "def evaluar(x,y,epoch):\n",
    "    print(\"evaluando modelo ,epoch: \",epoch)\n",
    "    pass # por ahora no hace nada"
   ]
  },
  {
   "cell_type": "code",
   "execution_count": null,
   "metadata": {},
   "outputs": [],
   "source": [
    "EPOCHS = 100\n",
    "N = 10\n",
    "epoch = 0\n",
    "\n",
    "x_train = 1\n",
    "y_train = 2\n",
    "\n",
    "x_eval = 1\n",
    "y_eval = 2\n",
    "\n",
    "while epoch <= EPOCHS:\n",
    "    epoch+=1\n",
    "    \n",
    "    entrenar(x_train,y_train)\n",
    "    \n",
    "    if epoch % N != 0:\n",
    "        continue\n",
    "        \n",
    "    evaluar(x_eval,y_eval,epoch)"
   ]
  },
  {
   "cell_type": "markdown",
   "metadata": {},
   "source": [
    "### for\n",
    "\n",
    "Uno de los ciclos mas conocidos y comunes entre los lenguajes de programacion , en C y hererados tambien utiliza una condicion booleana\n",
    "como criterio para definir la cantidad de iteraciones a realizar, en Python no utiliza una condicion booleana si no que itera\n",
    "sobre una coleccion de elementos por lo cual veremos mas ejemplos cuando veamos colecciones.\n",
    "\n",
    "En Python para ciencia de datos \"for\" es muy utilizado ya que es muy comun iterar sobre colecciones de elementos  para evaluar ciertos datos o realizar operaciones sobre estos. \n",
    "\n",
    "Su sintaxis tiene la forma general\n",
    "\n",
    "< bloque antes >\n",
    "\n",
    "for < iterador > in < iterable >:\n",
    "\n",
    "    < bloque 1>\n",
    "    \n",
    "< bloque despues >\n",
    "\n",
    "Donde:\n",
    "* < bloque antes > : hace referencia a cualquier sentencia de código antes de el ciclo for\n",
    "* < iterable > : cualquier coleccion de objetos (llamados tambien contenedores en Python)\n",
    "* < iterador > : es un objeto que sera utilizado para acceder a los elementos de la coleccion de objetos uno a uno, ya sea el objeto en si , un valor numerico indicando su posicion en la coleccion o ambos.\n",
    "* < bloque 1 > : es cualquier bloque de código(1 o mas sentencias) que queremos ejecutar repetidamente una vez por cada elemento de la coleccion(iterable) y puede o no incluir operaciones sobre el objeto (iterador)\n",
    "* < bloque despues >: hace referencia a el código a ejecutarse luego de que el ciclo while haya terminado de ejecutarse.\n",
    "\n",
    "Aun no hemos visto colecciones por lo cual usaremos ejemplo unicamente del tipo mas sencillo: **listas** \n",
    "\n",
    "**ejemplo** En el siguiente ejemplo recorremos(iteramos) una lista de carnets y simplemente los imprimimos con \"print\""
   ]
  },
  {
   "cell_type": "code",
   "execution_count": 1,
   "metadata": {},
   "outputs": [
    {
     "name": "stdout",
     "output_type": "stream",
     "text": [
      "123\n",
      "124\n",
      "125\n",
      "126\n"
     ]
    }
   ],
   "source": [
    "carnets = [123,124,125,126]\n",
    "\n",
    "for carnet in carnets:\n",
    "    print(carnet)"
   ]
  },
  {
   "cell_type": "markdown",
   "metadata": {},
   "source": [
    "**nota** el \"iterador\" sobreescribe cualquier variable previa con el mismo nombre\n"
   ]
  },
  {
   "cell_type": "code",
   "execution_count": 2,
   "metadata": {},
   "outputs": [
    {
     "name": "stdout",
     "output_type": "stream",
     "text": [
      "123\n",
      "124\n",
      "125\n",
      "126\n",
      "126\n"
     ]
    }
   ],
   "source": [
    "carnets = [123,124,125,126]\n",
    "carnet = \"5555\"\n",
    "\n",
    "for carnet in carnets:\n",
    "    print(carnet)\n",
    "    \n",
    "print(carnet)"
   ]
  },
  {
   "cell_type": "markdown",
   "metadata": {},
   "source": [
    "**Ejemplo con strings** Los objetos de tipo string pueden ser un \"iterable\" donde cada caracter de la secuencia es un \"iterador\""
   ]
  },
  {
   "cell_type": "code",
   "execution_count": 3,
   "metadata": {},
   "outputs": [
    {
     "name": "stdout",
     "output_type": "stream",
     "text": [
      "P\n",
      "y\n",
      "t\n",
      "h\n",
      "o\n",
      "n\n"
     ]
    }
   ],
   "source": [
    "for letra in \"Python\":\n",
    "    print(letra)\n",
    "    "
   ]
  },
  {
   "cell_type": "markdown",
   "metadata": {},
   "source": [
    "#### break y continue\n",
    "\n",
    "Tambien podemos usar break y continue en \"for\" y su significado es el mismo:\n",
    "* break: salirse prematuramente del ciclo de manera definitiva\n",
    "* continue: salirse prematuramente de una sola iteracion del ciclo"
   ]
  },
  {
   "cell_type": "markdown",
   "metadata": {},
   "source": [
    "**ejemplo** usaremos break en un programa que busca en numero de usuario en una lista de usuarios registrados y muestra si el usuario fue encontrado o no, y cuantos usuarios ha revisado"
   ]
  },
  {
   "cell_type": "code",
   "execution_count": 5,
   "metadata": {},
   "outputs": [
    {
     "name": "stdout",
     "output_type": "stream",
     "text": [
      "Encontrado: True ,revisados: 8\n"
     ]
    }
   ],
   "source": [
    "carnets = [123,124,125,126,1244,1265,\n",
    "           66511,12545,14578] #iterable\n",
    "buscado = 12545\n",
    "revisados = 0\n",
    "encontrado = False\n",
    "\n",
    "for carnet in carnets: #carnet es el iterador\n",
    "    revisados+=1\n",
    "    if buscado == carnet:\n",
    "        encontrado = True\n",
    "        break\n",
    "        \n",
    "print(\"Encontrado:\", encontrado,\",revisados:\", revisados)"
   ]
  },
  {
   "cell_type": "markdown",
   "metadata": {},
   "source": [
    "**ejemplo** el siguiente programa \"itera\" sobre las letras de el string \"Python\" imprimiendolas una a una,pero utiliza \"continue\" para ignorar el codigo  en casos donde la letra es \"e\""
   ]
  },
  {
   "cell_type": "code",
   "execution_count": 8,
   "metadata": {},
   "outputs": [
    {
     "name": "stdout",
     "output_type": "stream",
     "text": [
      "P\n",
      "y\n",
      "t\n",
      "h\n",
      "o\n",
      "n\n",
      " \n",
      "s\n",
      " \n",
      "u\n",
      "n\n",
      " \n",
      "l\n",
      "n\n",
      "g\n",
      "u\n",
      "a\n",
      "j\n",
      " \n",
      "d\n",
      " \n",
      "p\n",
      "r\n",
      "o\n",
      "g\n",
      "r\n",
      "a\n",
      "m\n",
      "a\n",
      "c\n",
      "i\n",
      "o\n",
      "n\n"
     ]
    }
   ],
   "source": [
    "for letra in \"Python es un lenguaje de programacion\":\n",
    "    \n",
    "    if letra == \"e\":\n",
    "        continue\n",
    "        \n",
    "    print(letra)"
   ]
  },
  {
   "cell_type": "code",
   "execution_count": 9,
   "metadata": {},
   "outputs": [
    {
     "name": "stdout",
     "output_type": "stream",
     "text": [
      "P\n",
      "y\n",
      "t\n",
      "h\n",
      "o\n",
      "n\n",
      " \n",
      "s\n",
      " \n",
      "u\n",
      "n\n",
      " \n",
      "l\n",
      "n\n",
      "g\n",
      "u\n",
      "a\n",
      "j\n",
      " \n",
      "d\n",
      " \n",
      "p\n",
      "r\n",
      "o\n",
      "g\n",
      "r\n",
      "a\n",
      "m\n",
      "a\n",
      "c\n",
      "i\n",
      "o\n",
      "n\n"
     ]
    }
   ],
   "source": [
    "frase = \"Python es un lenguaje de programacion\"\n",
    "for letra in frase:\n",
    "    \n",
    "    if letra == \"e\":\n",
    "        continue\n",
    "        \n",
    "    print(letra)"
   ]
  },
  {
   "cell_type": "markdown",
   "metadata": {},
   "source": [
    "#### funcion \"range\"\n",
    "\n",
    "En muchos casos es util generar un numero pre-definido de iteraciones, o iterar sobre una lista de valores numericos, para estos casos Python nos ofrece la funcion range() para generar de manera simple una lista de valores numericos sobre los cuales ejecutar un ciclo for.\n",
    "\n",
    "Aun que no hemos visto funciones, la funcion range es util estudiarla dentro del contexto del \"for\" ya que se usan  juntas muy comunmente."
   ]
  },
  {
   "cell_type": "code",
   "execution_count": 11,
   "metadata": {},
   "outputs": [
    {
     "name": "stdout",
     "output_type": "stream",
     "text": [
      "0\n",
      "1\n",
      "2\n",
      "3\n",
      "4\n"
     ]
    }
   ],
   "source": [
    "for i in range(0,5):\n",
    "    print(i)"
   ]
  },
  {
   "cell_type": "markdown",
   "metadata": {},
   "source": [
    "**nota** este codigo es equivalente a la sentencia en java:\n",
    "\n",
    "for(int i = 0;i<5;i++)\n",
    "{\n",
    "\n",
    "    System.out.println(i);\n",
    "    \n",
    "}\n"
   ]
  },
  {
   "cell_type": "markdown",
   "metadata": {},
   "source": [
    "De manera general range tiene la sintaxis:\n",
    "\n",
    "range(< inicio >, < fin >,< incremento >)\n",
    "\n",
    "donde:\n",
    "\n",
    "* < inicio >: valor inicial de la lista de numeros generada(inclusivo)\n",
    "* < fin > :  valor final de la lista de numeros generada(exclusivo)\n",
    "* < incremento > : de cuanto en cuanto aumenta la lista\n",
    "\n",
    "Esto genera una lista empezando en < inicio > ,el segundo elemento es < inicio > + < incremento >, el tercer elemento es < inicio > + 2*< incremento > y asi sucesivamente hasta llegar a fin (valores menores a el)"
   ]
  },
  {
   "cell_type": "code",
   "execution_count": 13,
   "metadata": {},
   "outputs": [
    {
     "name": "stdout",
     "output_type": "stream",
     "text": [
      "1\n",
      "2\n",
      "3\n",
      "4\n",
      "5\n",
      "6\n",
      "7\n",
      "8\n",
      "9\n"
     ]
    }
   ],
   "source": [
    "\n",
    "for i in range(1,10,1):\n",
    "    print(i)"
   ]
  },
  {
   "cell_type": "code",
   "execution_count": 14,
   "metadata": {},
   "outputs": [
    {
     "name": "stdout",
     "output_type": "stream",
     "text": [
      "1\n",
      "2\n",
      "3\n",
      "4\n",
      "5\n",
      "6\n",
      "7\n",
      "8\n",
      "9\n",
      "10\n"
     ]
    }
   ],
   "source": [
    "for i in range(1,11,1):\n",
    "    print(i)"
   ]
  },
  {
   "cell_type": "code",
   "execution_count": 15,
   "metadata": {},
   "outputs": [
    {
     "name": "stdout",
     "output_type": "stream",
     "text": [
      "1\n",
      "3\n",
      "5\n",
      "7\n",
      "9\n"
     ]
    }
   ],
   "source": [
    "for i in range(1,11,2):\n",
    "    print(i)"
   ]
  },
  {
   "cell_type": "code",
   "execution_count": 18,
   "metadata": {},
   "outputs": [
    {
     "name": "stdout",
     "output_type": "stream",
     "text": [
      "2\n",
      "4\n",
      "6\n",
      "8\n",
      "10\n"
     ]
    }
   ],
   "source": [
    "for i in range(2,11,2):\n",
    "    print(i)"
   ]
  },
  {
   "cell_type": "markdown",
   "metadata": {},
   "source": [
    "Range tiene valores default para el inicio y el incremento, por lo cual si solo especificamos un parametro este sera el valor de fin, los valores default son:\n",
    "* inicio = 0\n",
    "* incremento = 1"
   ]
  },
  {
   "cell_type": "code",
   "execution_count": 19,
   "metadata": {},
   "outputs": [
    {
     "name": "stdout",
     "output_type": "stream",
     "text": [
      "0\n",
      "1\n",
      "2\n",
      "3\n",
      "4\n"
     ]
    }
   ],
   "source": [
    "for i in range(0,5,1):\n",
    "    print(i)"
   ]
  },
  {
   "cell_type": "markdown",
   "metadata": {},
   "source": [
    "**Ejemplo** \n",
    "Se llama sucesión a un conjunto de números dados ordenadamente de modo que se\n",
    "puedan numerar: primero, segundo, tercero,....\n",
    "Los elementos de la sucesión se llaman términos y se suelen designar mediante una letra\n",
    "con los subíndices correspondientes a los lugares que ocupan en la sucesión: a1, a2, a3, ...\n",
    "Por ejemplo, son sucesiones las siguientes listas de números:\n",
    "1, 2, 3, 4, 5, ... 2, 4, 8, 16, 32, ... -3, 3, -3, 3, -3, ...\n",
    "En algunas ocasiones es posible expresar el término n-ésimo (término que ocupa el lugar n)\n",
    "en función de n. Este término se llama término general de la sucesión, y se simboliza con an.\n",
    "Por ejemplo, en la sucesión 1, 4, 9, 16, 25, ... cada término es el cuadrado del lugar que ocupa en\n",
    "la sucesión, con lo que el término general an = n².\n",
    "\n",
    "Usar range para mostrar los primeros 15 terminos de la sucesion:\n",
    "\n",
    "$$S_{n} = n^{2}$$\n",
    "\n",
    "imprimirlos termino por termino junto a su indice en la sucesion"
   ]
  },
  {
   "cell_type": "code",
   "execution_count": 21,
   "metadata": {},
   "outputs": [
    {
     "name": "stdout",
     "output_type": "stream",
     "text": [
      "1 1\n",
      "2 4\n",
      "3 9\n",
      "4 16\n",
      "5 25\n",
      "6 36\n",
      "7 49\n",
      "8 64\n",
      "9 81\n",
      "10 100\n",
      "11 121\n",
      "12 144\n",
      "13 169\n",
      "14 196\n",
      "15 225\n"
     ]
    }
   ],
   "source": [
    "for n in range(1,16,1):\n",
    "    print(n,n**2)"
   ]
  },
  {
   "cell_type": "markdown",
   "metadata": {},
   "source": [
    "**Ejemplo** En machine learning tenemos la tecnica llamada \"learning rate decay\" que consiste en disminuir en el tiempo un hiper-parametro llamado \"learning rate\", una de las formas mas sencillas de hacerlo es reducirlo segun el numero de iteracion o epoch en el que se encuentre el proceso de entrenamiento."
   ]
  },
  {
   "cell_type": "code",
   "execution_count": 22,
   "metadata": {},
   "outputs": [],
   "source": [
    "def evaluar(x,y,i):\n",
    "    pass"
   ]
  },
  {
   "cell_type": "code",
   "execution_count": 25,
   "metadata": {
    "scrolled": true
   },
   "outputs": [
    {
     "name": "stdout",
     "output_type": "stream",
     "text": [
      "Learning rate inicial: 0.1\n",
      "--------------------------.\n",
      "evaluando modelo ,epoch:  10\n",
      "Learning rate 2.7557319223985888e-08\n",
      "evaluando modelo ,epoch:  20\n",
      "Learning rate 4.110317623312164e-20\n",
      "evaluando modelo ,epoch:  30\n",
      "Learning rate 3.7699876288159044e-34\n",
      "evaluando modelo ,epoch:  40\n",
      "Learning rate 1.2256174391283852e-49\n",
      "evaluando modelo ,epoch:  50\n",
      "Learning rate 3.2879494166331564e-66\n",
      "evaluando modelo ,epoch:  60\n",
      "Learning rate 1.201780493649322e-83\n",
      "evaluando modelo ,epoch:  70\n",
      "Learning rate 8.348240738142305e-102\n",
      "evaluando modelo ,epoch:  80\n",
      "Learning rate 1.3972440776707044e-120\n",
      "evaluando modelo ,epoch:  90\n",
      "Learning rate 6.730761625414813e-140\n",
      "----------------------------\n",
      "Learning rate final: 1.0715102881254667e-157\n"
     ]
    }
   ],
   "source": [
    "x_train=1\n",
    "y_train = 2\n",
    "x_eval=3\n",
    "y_eval=2\n",
    "lr = 0.1\n",
    "EPOCHS = 100\n",
    "evaluate_every = 10\n",
    "\n",
    "print(\"Learning rate inicial:\",lr)\n",
    "print(\"--------------------------.\")\n",
    "for i in range(1,EPOCHS):\n",
    "    entrenar(x_train,y_train)\n",
    "    lr/=i\n",
    "    #lr = lr / i\n",
    "    \n",
    "    if i % evaluate_every != 0:\n",
    "        continue\n",
    "    \n",
    "    evaluar(x_eval,y_eval,i)\n",
    "    print(\"Learning rate\",lr)\n",
    "    \n",
    "print(\"----------------------------\")\n",
    "print(\"Learning rate final:\",lr)"
   ]
  },
  {
   "cell_type": "code",
   "execution_count": null,
   "metadata": {},
   "outputs": [],
   "source": []
  }
 ],
 "metadata": {
  "kernelspec": {
   "display_name": "Python 3",
   "language": "python",
   "name": "python3"
  },
  "language_info": {
   "codemirror_mode": {
    "name": "ipython",
    "version": 3
   },
   "file_extension": ".py",
   "mimetype": "text/x-python",
   "name": "python",
   "nbconvert_exporter": "python",
   "pygments_lexer": "ipython3",
   "version": "3.9.1"
  }
 },
 "nbformat": 4,
 "nbformat_minor": 4
}
