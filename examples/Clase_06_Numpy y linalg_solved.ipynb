{
 "cells": [
  {
   "cell_type": "markdown",
   "metadata": {
    "id": "pydYdlvTaxr0"
   },
   "source": [
    "# NumPy y algebra lineal(parte 1) \n",
    "\n",
    "\n",
    "* Su nombre se deriva de Numeric Python\n",
    "* Es una libreria amplia:   user guide de casi 200 pagina, reference manual mas de 1500\n",
    "    * np. <tab> para ver opciones\n",
    "    * np.lookfor? , help(np.lookfor)\n",
    "    * np.lookfor(“cosine”)\n",
    "    * np.cos? , help(np.cos)\n",
    "* Paquete fundamental de computación científica en Python y báse para otros paquetes mas específicos y/o avanzados\n",
    "* Performance superior, parecido a lenguajes compilados con la facilidad de Python\n",
    "* ndarrays :  tipo básico de objeto, corresponde al tipo de objeto matemático conocido como Tensor\n",
    "    * Arreglos multidimensionales\n",
    "    * Mutables como las listas\n",
    "    * Podemos hacer indexing y slicing sobre ellos\n",
    "\n",
    "* Tipo de dato y tamaño fijado en creación lo cual le permite aplicar optimizaciones: El usar el mismo tipo y tamaño definido permite asegurar que todos los objetos utilizan el mismo tamaño de memoria y esto permite realizar muchas operaciones pre-compiladas de C. Esto permite realizar operaciones mucho mas efcientemente y con menos código que con listas.\n",
    "* Operaciones vectorizadas vs por ciclos como ventaja de numpy(simplicidad y eficiencia) **Nota**: Siempre usar vectorizacion en el curso y en la carrera.\n",
    "\n",
    "## ¿Por que estudiamos en ciencia de datos álgebra lineal?\n",
    "\n",
    "Algebra lineal es una bella rama de la matemáticas que tiene muchas aplicaciones en diversas áreas, en ciencias de la computación y ciencia de datos tiene también innumerables aplicaciones  pero existe un motivo por el cual se vuelve escencial :\n",
    "\n",
    "**Todo algoritmo, modelo matemático, estadístico ,  AI , etc trabaja con números y colecciones de estos**, aún los modelos para variables categóricas transforman de algún modo estas a una representación numérica, en ciencia de datos llamamos **embedding** al proceso de convertir datos no numéricos a representaciones numéricas y a las estructuras de datos resultantes(comunmente vectores) **embeddings** .\n",
    "\n",
    "Podemos pensar entonces que el algebra lineal y sus estructuras entonces nos proveen una **manera de representar y trabajar información en la computadora**\n",
    "\n",
    "<img src=\"https://upload.wikimedia.org/wikipedia/commons/thumb/4/45/Components_stress_tensor.svg/300px-Components_stress_tensor.svg.png\"/>\n",
    "\n",
    "### Ejemplos:\n",
    "\n",
    "* Computer Vision: imagenes son tensores\n",
    "* NLP: palabras son vectores.\n",
    "\n",
    "Algebra lineal por si solo es un campo amplio(algunas universidades dan 2 cursos de 1 semestre o mas del tema) y no podemos cubrir todo lo que nos gustaría en esta clase, pero existe gran variedad de recursos en internet y es un tema que agrega valor en tu carrera de data science, especialmente si tu interés principal es ML y AI. Por ejemplo:\n",
    "\n",
    "* Uno de los algoritmos mas famosos de ML: support VECTOR machine\n",
    "* Uno de los metodos mas populares de AI en la actualidad es \"deep learning\" que se basa en transformaciones lineales (multiplicación de matrices).\n",
    "* Los frameworks mas populares de ML tienen al algebra lineal como elemento base:\n",
    "    * TensorFlow incluso basa su nombre en la estructura básica: Tensor\n",
    "    * PyTorch: en Pytorch, la estructura de datos básica es precisamente el Tensor\n",
    "    \n",
    "\n",
    "### ¿NumPy mas que algebra lineal?\n",
    "\n",
    "Aun que NumPy se basa mucho y es muy útil para algebra lineal y estructuras de esta rama, también es útil para realizar otros tipos de operaciones numéricas y es la base  para otros paquetes mas específicos , por ejemplo podemos usar NumPy también para:\n",
    "\n",
    "* Numeros aleatorios: NumPy provee capacidades para trabajar con números aleatorios y colecciones de esto, por ejemplo generación de numeros aleatorios de muchas distribuciones de probabiliad(muestreo/sampleo) escencial en estadística y modelación y simulación.\n",
    "* Transormadas de Fourier\n",
    "* Scipy: paquete basado en Python que extiende muchas de sus capacidades con capacidades adicionales como:\n",
    "    * Integración y solución de ecuaciones diferenciales.\n",
    "    * Encontrar raices de funciones y optimización numérica.\n",
    "    * Algebra lineal adicional.\n",
    "    \n",
    "    \n",
    "    \n",
    "Para usar NumPy es necesario instalarlo, si usamos Anaconda debemos instalarlo en el ambiente deseado, en linea de comandos esto se gra facilmente con:\n",
    "\n",
    "**conda install numpy**"
   ]
  },
  {
   "cell_type": "markdown",
   "metadata": {
    "id": "Uh5wKIWYaxsP"
   },
   "source": [
    "# Instalar numpy desde el jupyter notebook en el ambiente actual de Anaconda\n",
    "# esto puede ser realizado de manera tradicional con linea de comandos o Anaconda Navigator\n",
    "import sys\n",
    "!conda install --yes --prefix {sys.prefix} numpy\n",
    "\n",
    "# ! ejecuta un comando del sistema desde el notebook, el comando ejecutado fue:\n",
    "print(\"Comando ejecutado:conda install --yes --prefix {\"+sys.prefix+\"} numpy\")"
   ]
  },
  {
   "cell_type": "markdown",
   "metadata": {
    "id": "J3aAEmNxaxsR"
   },
   "source": [
    "Para poder utilizar numpy debemos importar el paquete, es casi un estandar de la industria importarlo bajo el alias **\"np\"**"
   ]
  },
  {
   "cell_type": "code",
   "execution_count": 2,
   "metadata": {
    "executionInfo": {
     "elapsed": 2362,
     "status": "ok",
     "timestamp": 1615427821612,
     "user": {
      "displayName": "Luis Fernando Leal Hernandez",
      "photoUrl": "",
      "userId": "08643725771405988586"
     },
     "user_tz": 360
    },
    "id": "bqWr8RdPaxsT"
   },
   "outputs": [],
   "source": [
    "import numpy as np"
   ]
  },
  {
   "cell_type": "markdown",
   "metadata": {
    "id": "fxvMDqpLaxsV"
   },
   "source": [
    "## Escalares y Vectores (Arreglos de una dimension): \n",
    "\n",
    "La pieza clave y fundamental para el algebra lineal es el **vector** (pero aun que el vector es la base, hay un objeto mas general que este como veremos mas adelante.).\n",
    "\n",
    "<img src=\"https://raw.githubusercontent.com/llealgt/Galileo_Python_DS/main/NumPy_algebra_lineal/Seleccion_999_2003.png\">\n",
    "\n",
    "<img src=\"https://raw.githubusercontent.com/llealgt/Galileo_Python_DS/main/NumPy_algebra_lineal/fisica_cs.png\">\n",
    "\n",
    "Matemáticamente el Tensor es la entidad mas general cuando hablamos de arreglos o colecciones de elementos y que comunmente representan coordenadas en un plano posiblemente multidimensional, por lo tanto al traducirlo a software científico un tensor es también la estructura mas general para trabajar ,y es la estructura de datos básica en la cual almacenaremos información, **NumPy logra esto a través del objeto ndarray**(tensorflow usa tf.Tensor, PyTorch usa  torch.Tensor).\n",
    "\n",
    "<img src=\"https://upload.wikimedia.org/wikipedia/commons/thumb/4/45/Components_stress_tensor.svg/300px-Components_stress_tensor.svg.png\"/>\n",
    "\n",
    "<img src=\"https://wikimedia.org/api/rest_v1/media/math/render/svg/4885fc71da8be5094bf42dd592882a4deb94ff90\">\n",
    "\n",
    "\n",
    "\n",
    "Ya que el tensor es el tipo general , los objetos con los que comunmente hemos trabajado como vectores y matrices deben ser un caso específico de tensores, por lo tanto podemos pensar que un tensor es: **una generalización de vectores y matrices que podemos conceptualizar o entender como una arreglo multidimensional**\n",
    "\n",
    "Si todos estos son tensores, debe haber una propiedad de los tensores que los distinga, esta propiedad es llamada **rango del tensor** y se define como el número de indices o coordenadas necesarias para referenciar a un elemento del tensor así tenemos:\n",
    "\n",
    "* Escalar: tensor de rango 0\n",
    "* Vector: tensores de rango 1\n",
    "\n",
    "Ilustración 1:\n",
    "\n",
    "<img src=\"https://cdn-images-1.medium.com/max/1600/1*pUr-9ctuGamgjSwoW_KU-A.png\">\n",
    "\n",
    "Ilustración 2:\n",
    "\n",
    "<img src=\"https://cdn-images-1.medium.com/max/2000/1*_D5ZvufDS38WkhK9rK32hQ.jpeg\">\n",
    "\n",
    "\n",
    "Podemos pensar en 2 representaciones básicas de un vector:\n",
    "* Gráfica: representando un punto en el espacio\n",
    "* Lista de números : representando las coordenadas ,o compoenentes de el punto en el espacio correspondiente.\n",
    "\n",
    "<img src=\"https://raw.githubusercontent.com/llealgt/Galileo_Python_DS/main/NumPy_algebra_lineal/3d_vec.png\">\n",
    "\n",
    "En DS nos interesa mayormente la segunda representación,pero en algunos casos resulta útil utilizar la primera para poder visualizar patrones en datos que estemos analizando.\n",
    "\n",
    "<img src=\"https://raw.githubusercontent.com/llealgt/Galileo_Python_DS/main/NumPy_algebra_lineal/patron_eliptico.png\">\n",
    "\n",
    "**Nota**:Algunas operaciones no estan definidas matemáticamente  , pero NumPy las provee ya que resultan útiles en programación aún si no existen en matemática, por ejemplo: \n",
    "* Sumar un escalar a un vector.\n",
    "* Multiplicar 2 vectores elemento por elemento."
   ]
  },
  {
   "cell_type": "markdown",
   "metadata": {
    "id": "MyrjOr__axsX"
   },
   "source": [
    "### Rango y dimensión \n",
    "\n",
    "Como dijimos , ya que vectores y matrices son Tensores, necesitamos una característica que los distinga, esto es matemáticamente el **rango** del Tensor , en el mundo de NumPy obtenemos esto al usar la característica **ndim** sobre un Tensor dado.\n",
    "\n",
    "Si pensamos en la representación gráfica podemos pensar que el rango nos indica cuantos \"ejes\" posee el espacio sobre el que se define el tensor ,y necesitamos un número por cada eje para especificar cierto vector,  desde la perspectiva de la colección de números esto nos indica cuantos indices necesitamos para especificar o acceder cierto punto.\n",
    "\n",
    "La dimensión o forma del tensor nos indica cuantos elementos este puede almacenar distribuidas en cada uno de sus \"ejes\".\n",
    "\n",
    "Para vectores, el rango  es 1 , y la dimensión es cuantos elementos el vector posee. \n",
    "\n",
    "Resumen\n",
    "* ndim = entero indicando el rango de un tensor(cuantos ejes posee)\n",
    "* shape = tupla indicando la forma(cuantos elementos posee el tensor en cada uno de sus ejes )"
   ]
  },
  {
   "cell_type": "code",
   "execution_count": 2,
   "metadata": {
    "colab": {
     "base_uri": "https://localhost:8080/"
    },
    "executionInfo": {
     "elapsed": 3728,
     "status": "ok",
     "timestamp": 1615427823007,
     "user": {
      "displayName": "Luis Fernando Leal Hernandez",
      "photoUrl": "",
      "userId": "08643725771405988586"
     },
     "user_tz": 360
    },
    "id": "KeyMzjhVaxsY",
    "outputId": "bf89bf87-163e-4382-8d17-1ca203eca2d5"
   },
   "outputs": [
    {
     "name": "stdout",
     "output_type": "stream",
     "text": [
      "1\n",
      "(6,)\n",
      "1\n"
     ]
    }
   ],
   "source": [
    "x = np.array([1,2,3,4,5,6])\n",
    "\n",
    "print(x.ndim)\n",
    "print(x.shape)\n",
    "print(len(x.shape)) #forma de obtener el rango del tensor a partir de su dimension"
   ]
  },
  {
   "cell_type": "markdown",
   "metadata": {
    "id": "sCEjIu0Kaxsb"
   },
   "source": [
    "Por el momento estamos interesados en vectores, pero vale la pena ver como ndim y shape varían para una matriz."
   ]
  },
  {
   "cell_type": "code",
   "execution_count": 4,
   "metadata": {
    "colab": {
     "base_uri": "https://localhost:8080/"
    },
    "executionInfo": {
     "elapsed": 3701,
     "status": "ok",
     "timestamp": 1615427823010,
     "user": {
      "displayName": "Luis Fernando Leal Hernandez",
      "photoUrl": "",
      "userId": "08643725771405988586"
     },
     "user_tz": 360
    },
    "id": "uvTDmcw-axsc",
    "outputId": "cbe5397d-26d9-4ae8-f4e7-542640eaee7c"
   },
   "outputs": [
    {
     "name": "stdout",
     "output_type": "stream",
     "text": [
      "2\n",
      "(2, 3)\n",
      "2\n"
     ]
    }
   ],
   "source": [
    "x = np.array([[1,2,3],\n",
    "              [4,5,6]])\n",
    "\n",
    "print(x.ndim)\n",
    "print(x.shape)\n",
    "print(len(x.shape))  #forma de obtener el rango del tensor a partir de su dimension"
   ]
  },
  {
   "cell_type": "markdown",
   "metadata": {
    "id": "xD8Vj3ECaxsd"
   },
   "source": [
    "Tanto ndim como shape pueden ser usadas en cualquier expresión valida, por ejemplo asignarlas a variables "
   ]
  },
  {
   "cell_type": "code",
   "execution_count": 5,
   "metadata": {
    "colab": {
     "base_uri": "https://localhost:8080/"
    },
    "executionInfo": {
     "elapsed": 3676,
     "status": "ok",
     "timestamp": 1615427823012,
     "user": {
      "displayName": "Luis Fernando Leal Hernandez",
      "photoUrl": "",
      "userId": "08643725771405988586"
     },
     "user_tz": 360
    },
    "id": "2n7AZvVPaxse",
    "outputId": "61903b01-3ebd-4260-b791-bd3e7cd34c90"
   },
   "outputs": [
    {
     "name": "stdout",
     "output_type": "stream",
     "text": [
      "Filas de x: 2\n",
      "Columnas de x: 3\n"
     ]
    }
   ],
   "source": [
    "forma_x = x.shape\n",
    "\n",
    "print(\"Filas de x:\",forma_x[0])\n",
    "print(\"Columnas de x:\",forma_x[1])"
   ]
  },
  {
   "cell_type": "markdown",
   "metadata": {
    "id": "3DHU14Znaxsf"
   },
   "source": [
    "### Constructores de vectores\n",
    "\n",
    "NumPy provee diversas formas para crear o construir vectores, por ejemplo:\n",
    "* np.linspace\n",
    "* np.array\n",
    "* np.arange\n",
    "* np.zeros\n",
    "* np.ones\n",
    "\n",
    "Existen otras pero estas son posiblemente las mas comunes. Puedes consultar las otras disponibles en: https://docs.scipy.org/doc/numpy/reference/routines.array-creation.html"
   ]
  },
  {
   "cell_type": "code",
   "execution_count": 6,
   "metadata": {
    "colab": {
     "base_uri": "https://localhost:8080/"
    },
    "executionInfo": {
     "elapsed": 3656,
     "status": "ok",
     "timestamp": 1615427823014,
     "user": {
      "displayName": "Luis Fernando Leal Hernandez",
      "photoUrl": "",
      "userId": "08643725771405988586"
     },
     "user_tz": 360
    },
    "id": "YLLOwO1qaxsg",
    "outputId": "04aa78db-7755-4369-9251-f7f51f7235c7"
   },
   "outputs": [
    {
     "data": {
      "text/plain": [
       "array([0.        , 0.10204082, 0.20408163, 0.30612245, 0.40816327,\n",
       "       0.51020408, 0.6122449 , 0.71428571, 0.81632653, 0.91836735,\n",
       "       1.02040816, 1.12244898, 1.2244898 , 1.32653061, 1.42857143,\n",
       "       1.53061224, 1.63265306, 1.73469388, 1.83673469, 1.93877551,\n",
       "       2.04081633, 2.14285714, 2.24489796, 2.34693878, 2.44897959,\n",
       "       2.55102041, 2.65306122, 2.75510204, 2.85714286, 2.95918367,\n",
       "       3.06122449, 3.16326531, 3.26530612, 3.36734694, 3.46938776,\n",
       "       3.57142857, 3.67346939, 3.7755102 , 3.87755102, 3.97959184,\n",
       "       4.08163265, 4.18367347, 4.28571429, 4.3877551 , 4.48979592,\n",
       "       4.59183673, 4.69387755, 4.79591837, 4.89795918, 5.        ])"
      ]
     },
     "execution_count": 6,
     "metadata": {
      "tags": []
     },
     "output_type": "execute_result"
    }
   ],
   "source": [
    "x = np.linspace(0,5,50,endpoint=True,retstep=False)\n",
    "\n",
    "x"
   ]
  },
  {
   "cell_type": "code",
   "execution_count": 7,
   "metadata": {
    "colab": {
     "base_uri": "https://localhost:8080/"
    },
    "executionInfo": {
     "elapsed": 3630,
     "status": "ok",
     "timestamp": 1615427823015,
     "user": {
      "displayName": "Luis Fernando Leal Hernandez",
      "photoUrl": "",
      "userId": "08643725771405988586"
     },
     "user_tz": 360
    },
    "id": "Ni_Pq3h5axsh",
    "outputId": "47765597-d8a7-4471-d0e5-11023b320e80"
   },
   "outputs": [
    {
     "data": {
      "text/plain": [
       "array([0. , 0.1, 0.2, 0.3, 0.4, 0.5, 0.6, 0.7, 0.8, 0.9, 1. , 1.1, 1.2,\n",
       "       1.3, 1.4, 1.5, 1.6, 1.7, 1.8, 1.9, 2. , 2.1, 2.2, 2.3, 2.4, 2.5,\n",
       "       2.6, 2.7, 2.8, 2.9, 3. , 3.1, 3.2, 3.3, 3.4, 3.5, 3.6, 3.7, 3.8,\n",
       "       3.9, 4. , 4.1, 4.2, 4.3, 4.4, 4.5, 4.6, 4.7, 4.8, 4.9])"
      ]
     },
     "execution_count": 7,
     "metadata": {
      "tags": []
     },
     "output_type": "execute_result"
    }
   ],
   "source": [
    "x = np.linspace(0,5,50,False,retstep=False)\n",
    "\n",
    "x"
   ]
  },
  {
   "cell_type": "code",
   "execution_count": 8,
   "metadata": {
    "colab": {
     "base_uri": "https://localhost:8080/"
    },
    "executionInfo": {
     "elapsed": 3612,
     "status": "ok",
     "timestamp": 1615427823017,
     "user": {
      "displayName": "Luis Fernando Leal Hernandez",
      "photoUrl": "",
      "userId": "08643725771405988586"
     },
     "user_tz": 360
    },
    "id": "eDCHx4Dtaxsi",
    "outputId": "4ee6e0da-c0d4-4dfc-c018-8b1c930328a4"
   },
   "outputs": [
    {
     "name": "stdout",
     "output_type": "stream",
     "text": [
      "[0.         0.10204082 0.20408163 0.30612245 0.40816327 0.51020408\n",
      " 0.6122449  0.71428571 0.81632653 0.91836735 1.02040816 1.12244898\n",
      " 1.2244898  1.32653061 1.42857143 1.53061224 1.63265306 1.73469388\n",
      " 1.83673469 1.93877551 2.04081633 2.14285714 2.24489796 2.34693878\n",
      " 2.44897959 2.55102041 2.65306122 2.75510204 2.85714286 2.95918367\n",
      " 3.06122449 3.16326531 3.26530612 3.36734694 3.46938776 3.57142857\n",
      " 3.67346939 3.7755102  3.87755102 3.97959184 4.08163265 4.18367347\n",
      " 4.28571429 4.3877551  4.48979592 4.59183673 4.69387755 4.79591837\n",
      " 4.89795918 5.        ] 0.10204081632653061\n",
      "(50,)\n",
      "1\n"
     ]
    }
   ],
   "source": [
    "xc,dx = np.linspace(0,5,50,endpoint=True,retstep=True)\n",
    "\n",
    "print(xc,dx)\n",
    "print(xc.shape)\n",
    "print(xc.ndim)"
   ]
  },
  {
   "cell_type": "code",
   "execution_count": 9,
   "metadata": {
    "colab": {
     "base_uri": "https://localhost:8080/"
    },
    "executionInfo": {
     "elapsed": 3611,
     "status": "ok",
     "timestamp": 1615427823045,
     "user": {
      "displayName": "Luis Fernando Leal Hernandez",
      "photoUrl": "",
      "userId": "08643725771405988586"
     },
     "user_tz": 360
    },
    "id": "yLquVN5Daxsk",
    "outputId": "21579551-88ed-4ea9-cc00-3cbfaeaf8649"
   },
   "outputs": [
    {
     "data": {
      "text/plain": [
       "array([0.  , 1.25, 2.5 , 3.75, 5.  ])"
      ]
     },
     "execution_count": 9,
     "metadata": {
      "tags": []
     },
     "output_type": "execute_result"
    }
   ],
   "source": [
    "x = np.linspace(0,5,5,True)\n",
    "\n",
    "x"
   ]
  },
  {
   "cell_type": "code",
   "execution_count": 4,
   "metadata": {
    "colab": {
     "base_uri": "https://localhost:8080/",
     "height": 264
    },
    "executionInfo": {
     "elapsed": 3567,
     "status": "ok",
     "timestamp": 1615427823048,
     "user": {
      "displayName": "Luis Fernando Leal Hernandez",
      "photoUrl": "",
      "userId": "08643725771405988586"
     },
     "user_tz": 360
    },
    "id": "Ozn0bwT3Howi",
    "outputId": "c9601d68-4fbc-4ad8-9e1a-da1bc43569fc"
   },
   "outputs": [
    {
     "data": {
      "image/png": "[encoded data removed]",
      "text/plain": [
       "<Figure size 432x288 with 1 Axes>"
      ]
     },
     "metadata": {
      "needs_background": "light"
     },
     "output_type": "display_data"
    }
   ],
   "source": [
    "import matplotlib.pyplot as plt\r\n",
    "\r\n",
    "x = np.linspace(0,100,100)\r\n",
    "y = np.square(x)\r\n",
    "\r\n",
    "plt.plot(x,y)\r\n",
    "plt.show()"
   ]
  },
  {
   "cell_type": "markdown",
   "metadata": {
    "id": "-h22TCegaxsl"
   },
   "source": [
    "**np.arange**\n",
    "Esta función es parecida a la función **range** que vimos en ciclos, pero genera un vector de NumPy que puede ser utilizdo en otras expresiones o ser asignado a variables para posterior uso.\n",
    "\n",
    "\n",
    "arange(start=0,stop,step = 1,dtype=None) \n",
    "\n",
    "Intenta determinar el tipo de datos a partir de los parametros pero se puede sobreescribir si lo especificamos con dtype"
   ]
  },
  {
   "cell_type": "code",
   "execution_count": 11,
   "metadata": {
    "colab": {
     "base_uri": "https://localhost:8080/"
    },
    "executionInfo": {
     "elapsed": 3545,
     "status": "ok",
     "timestamp": 1615427823051,
     "user": {
      "displayName": "Luis Fernando Leal Hernandez",
      "photoUrl": "",
      "userId": "08643725771405988586"
     },
     "user_tz": 360
    },
    "id": "DKibpfubaxsm",
    "outputId": "e9394079-3bc3-4e17-acf8-7277c0ad1804"
   },
   "outputs": [
    {
     "data": {
      "text/plain": [
       "(array([1, 2, 3, 4, 5, 6, 7, 8, 9]), array([2., 3., 4., 5., 6., 7., 8., 9.]))"
      ]
     },
     "execution_count": 11,
     "metadata": {
      "tags": []
     },
     "output_type": "execute_result"
    }
   ],
   "source": [
    "yo = np.arange(1,10)\n",
    "yoc = np.arange(2,10,dtype = float)\n",
    "\n",
    "yo,yoc"
   ]
  },
  {
   "cell_type": "markdown",
   "metadata": {
    "id": "qMJYHKXgaxsp"
   },
   "source": [
    "En muchos casos es útil crear vectores inicializados con 0s o 1s ,o bien cuando no nos importa su valor inicial podemos especificar que sean creados  como vácios.\n",
    "\n",
    "Esto lo logramos con:\n",
    "* np.zeros\n",
    "* np.ones\n",
    "* np.empty"
   ]
  },
  {
   "cell_type": "code",
   "execution_count": 12,
   "metadata": {
    "colab": {
     "base_uri": "https://localhost:8080/"
    },
    "executionInfo": {
     "elapsed": 3525,
     "status": "ok",
     "timestamp": 1615427823060,
     "user": {
      "displayName": "Luis Fernando Leal Hernandez",
      "photoUrl": "",
      "userId": "08643725771405988586"
     },
     "user_tz": 360
    },
    "id": "4bJnYejKaxsq",
    "outputId": "e7b0aa7f-e2d1-4a0e-e8f2-9e29aeb9c18d"
   },
   "outputs": [
    {
     "data": {
      "text/plain": [
       "array([0, 0, 0, 0, 0])"
      ]
     },
     "execution_count": 12,
     "metadata": {
      "tags": []
     },
     "output_type": "execute_result"
    }
   ],
   "source": [
    "np.array([0,0,0,0,0])"
   ]
  },
  {
   "cell_type": "code",
   "execution_count": 13,
   "metadata": {
    "colab": {
     "base_uri": "https://localhost:8080/"
    },
    "executionInfo": {
     "elapsed": 3505,
     "status": "ok",
     "timestamp": 1615427823062,
     "user": {
      "displayName": "Luis Fernando Leal Hernandez",
      "photoUrl": "",
      "userId": "08643725771405988586"
     },
     "user_tz": 360
    },
    "id": "osqRN6jnaxsr",
    "outputId": "8de3d944-181d-43f5-fce1-0c74d52ee050"
   },
   "outputs": [
    {
     "data": {
      "text/plain": [
       "array([0., 0., 0., 0., 0.])"
      ]
     },
     "execution_count": 13,
     "metadata": {
      "tags": []
     },
     "output_type": "execute_result"
    }
   ],
   "source": [
    "np.zeros(5)"
   ]
  },
  {
   "cell_type": "code",
   "execution_count": 14,
   "metadata": {
    "colab": {
     "base_uri": "https://localhost:8080/"
    },
    "executionInfo": {
     "elapsed": 3479,
     "status": "ok",
     "timestamp": 1615427823063,
     "user": {
      "displayName": "Luis Fernando Leal Hernandez",
      "photoUrl": "",
      "userId": "08643725771405988586"
     },
     "user_tz": 360
    },
    "id": "wR_k8Vu_axst",
    "outputId": "adbd829e-5f8e-4fb6-afe3-dd7b2a03c734"
   },
   "outputs": [
    {
     "data": {
      "text/plain": [
       "array([1., 1., 1., 1., 1.])"
      ]
     },
     "execution_count": 14,
     "metadata": {
      "tags": []
     },
     "output_type": "execute_result"
    }
   ],
   "source": [
    "np.ones(5)"
   ]
  },
  {
   "cell_type": "code",
   "execution_count": 15,
   "metadata": {
    "colab": {
     "base_uri": "https://localhost:8080/"
    },
    "executionInfo": {
     "elapsed": 3448,
     "status": "ok",
     "timestamp": 1615427823064,
     "user": {
      "displayName": "Luis Fernando Leal Hernandez",
      "photoUrl": "",
      "userId": "08643725771405988586"
     },
     "user_tz": 360
    },
    "id": "taujSBaTaxsv",
    "outputId": "4d77d226-9918-4c32-fb74-ac5cbf50092e"
   },
   "outputs": [
    {
     "data": {
      "text/plain": [
       "array([ 54.  ,  36.  , 388.8 , 253.44])"
      ]
     },
     "execution_count": 15,
     "metadata": {
      "tags": []
     },
     "output_type": "execute_result"
    }
   ],
   "source": [
    "np.empty(4)  # el valor varia, experimentemos cambiando el tipo con ndtype = <tipo>"
   ]
  },
  {
   "cell_type": "markdown",
   "metadata": {
    "id": "zPiWm8vlaxsw"
   },
   "source": [
    "**Vectores a partir de datos existentes**\n",
    "Podemos también construir vectores  a partir de datos existentes(por ejempro listas de números, u otros vectores)  o bien especificar explicitamente con que valores queremos que un vector sea creado.\n",
    "\n",
    "Esto lo logramos basicamente con 2 funciones(nuevamente existen otras a explorar):\n",
    "\n",
    "* np.array\n",
    "* np.copy"
   ]
  },
  {
   "cell_type": "code",
   "execution_count": 16,
   "metadata": {
    "colab": {
     "base_uri": "https://localhost:8080/"
    },
    "executionInfo": {
     "elapsed": 3429,
     "status": "ok",
     "timestamp": 1615427823064,
     "user": {
      "displayName": "Luis Fernando Leal Hernandez",
      "photoUrl": "",
      "userId": "08643725771405988586"
     },
     "user_tz": 360
    },
    "id": "E8HIEKTEaxsy",
    "outputId": "f3a89d6c-57a7-4037-a028-19d19a2265a4"
   },
   "outputs": [
    {
     "data": {
      "text/plain": [
       "array([2., 3., 4.])"
      ]
     },
     "execution_count": 16,
     "metadata": {
      "tags": []
     },
     "output_type": "execute_result"
    }
   ],
   "source": [
    "lista = [2,3,4.0]\n",
    "\n",
    "x = np.array(lista)\n",
    "\n",
    "x "
   ]
  },
  {
   "cell_type": "code",
   "execution_count": 17,
   "metadata": {
    "colab": {
     "base_uri": "https://localhost:8080/",
     "height": 268
    },
    "executionInfo": {
     "elapsed": 4036,
     "status": "ok",
     "timestamp": 1615427823709,
     "user": {
      "displayName": "Luis Fernando Leal Hernandez",
      "photoUrl": "",
      "userId": "08643725771405988586"
     },
     "user_tz": 360
    },
    "id": "OsFpGWb7axsz",
    "outputId": "3f888fa1-16e7-4da9-81da-744667ec10bf"
   },
   "outputs": [
    {
     "data": {
      "image/png": "[encoded data removed]",
      "text/plain": [
       "<Figure size 432x288 with 1 Axes>"
      ]
     },
     "metadata": {
      "needs_background": "light",
      "tags": []
     },
     "output_type": "display_data"
    }
   ],
   "source": [
    "import matplotlib.pyplot as plt\n",
    "\n",
    "a = np.array([1,2])\n",
    "\n",
    "plt.arrow(0,0,a[0],a[1],head_width=0.1,head_length=0.1)\n",
    "plt.xlim(-1,1.5)\n",
    "plt.ylim(-2,2.5)\n",
    "plt.show()"
   ]
  },
  {
   "cell_type": "code",
   "execution_count": 18,
   "metadata": {
    "colab": {
     "base_uri": "https://localhost:8080/"
    },
    "executionInfo": {
     "elapsed": 4011,
     "status": "ok",
     "timestamp": 1615427823710,
     "user": {
      "displayName": "Luis Fernando Leal Hernandez",
      "photoUrl": "",
      "userId": "08643725771405988586"
     },
     "user_tz": 360
    },
    "id": "1I5NW12xaxs1",
    "outputId": "8111aad6-20ff-4753-cf56-83983a20e041"
   },
   "outputs": [
    {
     "name": "stdout",
     "output_type": "stream",
     "text": [
      "[1 2 3 4 5 6 7 8 9]\n"
     ]
    }
   ],
   "source": [
    "vector = np.array([1,2,3,4,5,6,7,8,9])\n",
    "\n",
    "print(vector)"
   ]
  },
  {
   "cell_type": "code",
   "execution_count": 19,
   "metadata": {
    "colab": {
     "base_uri": "https://localhost:8080/"
    },
    "executionInfo": {
     "elapsed": 3986,
     "status": "ok",
     "timestamp": 1615427823713,
     "user": {
      "displayName": "Luis Fernando Leal Hernandez",
      "photoUrl": "",
      "userId": "08643725771405988586"
     },
     "user_tz": 360
    },
    "id": "aGcm0b8maxs2",
    "outputId": "c8fc85c5-a7d5-4060-98d8-84f5dc48ff51"
   },
   "outputs": [
    {
     "name": "stdout",
     "output_type": "stream",
     "text": [
      "[1 2 3 4 5 6 7 8 9]\n"
     ]
    }
   ],
   "source": [
    "nuevo_vector = vector.copy()\n",
    "\n",
    "print(nuevo_vector)"
   ]
  },
  {
   "cell_type": "markdown",
   "metadata": {
    "id": "BfkYaqX8axs3"
   },
   "source": [
    "El siguiente ejemplo crea una copia de un vector m cambiando(truncando) su tipo de dato a entero."
   ]
  },
  {
   "cell_type": "code",
   "execution_count": 20,
   "metadata": {
    "colab": {
     "base_uri": "https://localhost:8080/"
    },
    "executionInfo": {
     "elapsed": 3963,
     "status": "ok",
     "timestamp": 1615427823714,
     "user": {
      "displayName": "Luis Fernando Leal Hernandez",
      "photoUrl": "",
      "userId": "08643725771405988586"
     },
     "user_tz": 360
    },
    "id": "4EdaxodJaxs3",
    "outputId": "c38051c4-8c2c-4626-a73e-5aefe9990a06"
   },
   "outputs": [
    {
     "data": {
      "text/plain": [
       "(array([9. , 8.2, 7.4, 6.6, 5.8, 5. , 4.2, 3.4, 2.6, 1.8, 1. ]),\n",
       " array([9, 8, 7, 6, 5, 5, 4, 3, 2, 1, 1]))"
      ]
     },
     "execution_count": 20,
     "metadata": {
      "tags": []
     },
     "output_type": "execute_result"
    }
   ],
   "source": [
    "m = np.linspace(9,1,11)\n",
    "\n",
    "m_int = np.array(m,dtype = int)\n",
    "\n",
    "m,m_int"
   ]
  },
  {
   "cell_type": "markdown",
   "metadata": {
    "id": "Br3mpFDvaxs4"
   },
   "source": [
    "**Construir vector como otro vector**\n",
    "\n",
    "Existen algunas funiones que nos permiten crear vectores \"como\" otros vectores,es decir de la misma forma pero con posibles diferentes valores:\n"
   ]
  },
  {
   "cell_type": "code",
   "execution_count": 21,
   "metadata": {
    "colab": {
     "base_uri": "https://localhost:8080/"
    },
    "executionInfo": {
     "elapsed": 3935,
     "status": "ok",
     "timestamp": 1615427823715,
     "user": {
      "displayName": "Luis Fernando Leal Hernandez",
      "photoUrl": "",
      "userId": "08643725771405988586"
     },
     "user_tz": 360
    },
    "id": "3Gcs4vZFaxs5",
    "outputId": "f1e5b22f-c9dd-44ac-832f-c5c930775680"
   },
   "outputs": [
    {
     "name": "stdout",
     "output_type": "stream",
     "text": [
      "[1.  1.5 2.  2.5 3. ]\n",
      "[0 0 0 0 0]\n",
      "[1. 1. 1. 1. 1.]\n",
      "[4.66936062e-310 4.50128357e-312 1.14635805e-304 1.49166932e-154\n",
      " 1.62186938e+173]\n"
     ]
    }
   ],
   "source": [
    "x = np.linspace(1,3,5)\n",
    "\n",
    "ceros = np.zeros_like(x,dtype=int)\n",
    "unos = np.ones_like(x)\n",
    "vacio = np.empty_like(x)\n",
    "\n",
    "print(x)\n",
    "print(ceros)\n",
    "print(unos)\n",
    "print(vacio)"
   ]
  },
  {
   "cell_type": "markdown",
   "metadata": {
    "id": "0Q3QuONOaxs6"
   },
   "source": [
    "En otros casos algunas funciones tambien devuelven un array  A de la misma forma de otro B pero con el resultado de aplicar alguna función a este, por ejemplo, el siguiente caso devuelve un nuevo vector con la forma de un vector \"x\" resultado de calcular el seno trigonoḿetrico sobre cada uno de sus elementos.:"
   ]
  },
  {
   "cell_type": "code",
   "execution_count": 22,
   "metadata": {
    "colab": {
     "base_uri": "https://localhost:8080/"
    },
    "executionInfo": {
     "elapsed": 3909,
     "status": "ok",
     "timestamp": 1615427823717,
     "user": {
      "displayName": "Luis Fernando Leal Hernandez",
      "photoUrl": "",
      "userId": "08643725771405988586"
     },
     "user_tz": 360
    },
    "id": "B-MAu-j6axs7",
    "outputId": "5ca442c4-c5a8-442f-de8a-e9c2cab5a844"
   },
   "outputs": [
    {
     "data": {
      "text/plain": [
       "array([0.84147098, 0.99749499, 0.90929743, 0.59847214, 0.14112001])"
      ]
     },
     "execution_count": 22,
     "metadata": {
      "tags": []
     },
     "output_type": "execute_result"
    }
   ],
   "source": [
    "np.sin(x) #operacion vectorizada\n"
   ]
  },
  {
   "cell_type": "code",
   "execution_count": 23,
   "metadata": {
    "colab": {
     "base_uri": "https://localhost:8080/"
    },
    "executionInfo": {
     "elapsed": 3886,
     "status": "ok",
     "timestamp": 1615427823720,
     "user": {
      "displayName": "Luis Fernando Leal Hernandez",
      "photoUrl": "",
      "userId": "08643725771405988586"
     },
     "user_tz": 360
    },
    "id": "C00OL4qnoiAM",
    "outputId": "1a78c8d2-3702-49fa-dfc1-13a97a0c3c38"
   },
   "outputs": [
    {
     "name": "stdout",
     "output_type": "stream",
     "text": [
      "0.8414709848078965\n",
      "0.9974949866040544\n",
      "0.9092974268256817\n",
      "0.5984721441039565\n",
      "0.1411200080598672\n"
     ]
    }
   ],
   "source": [
    "\r\n",
    "for elemento in x:\r\n",
    "  print(np.sin(elemento))"
   ]
  },
  {
   "cell_type": "markdown",
   "metadata": {
    "id": "bNZTwbUOaxs7"
   },
   "source": [
    "Similar a la concatenación de listas (con +) podemos  concatenar 2 vectores y crear uno nuevo usando np.hstack((tupla))"
   ]
  },
  {
   "cell_type": "code",
   "execution_count": 24,
   "metadata": {
    "executionInfo": {
     "elapsed": 3878,
     "status": "ok",
     "timestamp": 1615427823727,
     "user": {
      "displayName": "Luis Fernando Leal Hernandez",
      "photoUrl": "",
      "userId": "08643725771405988586"
     },
     "user_tz": 360
    },
    "id": "xFGnitsVaxs8"
   },
   "outputs": [],
   "source": [
    "#?np.hstack"
   ]
  },
  {
   "cell_type": "code",
   "execution_count": 6,
   "metadata": {
    "colab": {
     "base_uri": "https://localhost:8080/"
    },
    "executionInfo": {
     "elapsed": 3877,
     "status": "ok",
     "timestamp": 1615427823745,
     "user": {
      "displayName": "Luis Fernando Leal Hernandez",
      "photoUrl": "",
      "userId": "08643725771405988586"
     },
     "user_tz": 360
    },
    "id": "G1BYVDGMaxs8",
    "outputId": "79d8c1dd-6b73-4070-da02-4d011acfcf83"
   },
   "outputs": [
    {
     "data": {
      "text/plain": [
       "array([1, 2, 3, 2, 3, 4])"
      ]
     },
     "execution_count": 6,
     "metadata": {},
     "output_type": "execute_result"
    }
   ],
   "source": [
    "a = np.array((1,2,3))\n",
    "b = np.array((2,3,4))\n",
    "np.hstack((a,b))"
   ]
  },
  {
   "cell_type": "markdown",
   "metadata": {
    "id": "mFfPnIFZaxs9"
   },
   "source": [
    "[0. , 0.1 , 0.2 , 0.3 , 0.4 , 0.5 , 0.51, 0.52, 0.53, 0.54, 0.55, 0.56, 0.57, 0.58, 0.59, 0.6 , 0.7 , 0.8 , 0.9 , 1. ]**ejercicio** : en data science y programación científica es común necesitar vectores con valores dentro de cierto intervalo, pero con sub-intervalos internos con diference espaciamiento ,por ejemplo:\n",
    "\n",
    "[0.  , 0.1 , 0.2 , 0.3 , 0.4 , 0.5 , 0.51, 0.52, 0.53, 0.54, 0.55,\n",
    "       0.56, 0.57, 0.58, 0.59, 0.6 , 0.7 , 0.8 , 0.9 , 1.  ]\n",
    "       \n",
    "El primer sub-intervalo incrementa de 0.1 en 0.1 , el segundo de 0.01 en 0.01 , y el tercero de 0.1 en 0.1 nuevamente.\n",
    "\n",
    "Usando unicamente NumPy crea un vector de este tipo con el nombre xs .\n",
    "\n",
    "**nota**: no es permitido usar ciclos, debe realizarse con operaciones \"vectorizadas\" de numpy"
   ]
  },
  {
   "cell_type": "code",
   "execution_count": 9,
   "metadata": {
    "executionInfo": {
     "elapsed": 3871,
     "status": "ok",
     "timestamp": 1615427823755,
     "user": {
      "displayName": "Luis Fernando Leal Hernandez",
      "photoUrl": "",
      "userId": "08643725771405988586"
     },
     "user_tz": 360
    },
    "id": "8xn0P1UDaxs-"
   },
   "outputs": [
    {
     "data": {
      "text/plain": [
       "array([0.  , 0.1 , 0.2 , 0.3 , 0.4 , 0.5 , 0.51, 0.52, 0.53, 0.54, 0.55,\n",
       "       0.56, 0.57, 0.58, 0.59, 0.6 , 0.7 , 0.8 , 0.9 , 1.  ])"
      ]
     },
     "execution_count": 9,
     "metadata": {},
     "output_type": "execute_result"
    }
   ],
   "source": [
    "# tu codigo aqui (~ 5 lineas de codigo):\n",
    "x = np.linspace(0,0.5,6)\n",
    "y = np.linspace(0.51,0.6,10)\n",
    "z = np.linspace(0.7, 1, 4)\n",
    "xs = np.hstack((x,y,z))\n",
    "xs"
   ]
  },
  {
   "cell_type": "markdown",
   "metadata": {
    "id": "dpTxVAeOaxs-"
   },
   "source": [
    "### Operaciones y Aritmetica Vectorial\n",
    "\n",
    "Utiliza los operadores aritmeticos ya conocidos +,-,*,/, %\n",
    "\n",
    "Las operaciones vectoriales básicas son:\n",
    "* Sumar 2 vectores.\n",
    "<img src=\"https://raw.githubusercontent.com/llealgt/Galileo_Python_DS/main/NumPy_algebra_lineal/suma_vec.png\">\n",
    "* Multiplicar 1 vector por un número: el efecto de esto es cambiar el tamaño del vector, es decir \"escalarlo\" y por eso en algebra lineal llamamos a un único número : **escalar**. El **span**,alcance o extención de un vector es el conjunto de todos los posibles vectores obtenidos por multiplicación escalar sobre este vector.\n",
    "<img src=\"https://raw.githubusercontent.com/llealgt/Galileo_Python_DS/main/NumPy_algebra_lineal/mult_vec.png\">\n",
    "\n",
    "<img src=\"https://raw.githubusercontent.com/llealgt/Galileo_Python_DS/main/NumPy_algebra_lineal/adicion_mult_escalar.png\">\n",
    "\n",
    "**Nota**:Algunas operaciones no estan definidas matemáticamente  , pero NumPy las provee ya que resultan útiles en programación aún si no existen en matemática, por ejemplo: \n",
    "\n",
    "* Multiplicar 2 vectores entre si\n",
    "* Sumar 1 vector con un escalar"
   ]
  },
  {
   "cell_type": "code",
   "execution_count": 27,
   "metadata": {
    "colab": {
     "base_uri": "https://localhost:8080/"
    },
    "executionInfo": {
     "elapsed": 3854,
     "status": "ok",
     "timestamp": 1615427823757,
     "user": {
      "displayName": "Luis Fernando Leal Hernandez",
      "photoUrl": "",
      "userId": "08643725771405988586"
     },
     "user_tz": 360
    },
    "id": "XeSWw9ycaxs_",
    "outputId": "b1df0888-5624-467e-91c1-085296a5efe3"
   },
   "outputs": [
    {
     "name": "stdout",
     "output_type": "stream",
     "text": [
      "[ 5 -4]\n"
     ]
    }
   ],
   "source": [
    "v = np.array([3,-5])\n",
    "w = np.array([2,1])\n",
    "\n",
    "c = v + w\n",
    "\n",
    "print(c)"
   ]
  },
  {
   "cell_type": "code",
   "execution_count": 28,
   "metadata": {
    "colab": {
     "base_uri": "https://localhost:8080/"
    },
    "executionInfo": {
     "elapsed": 3845,
     "status": "ok",
     "timestamp": 1615427823758,
     "user": {
      "displayName": "Luis Fernando Leal Hernandez",
      "photoUrl": "",
      "userId": "08643725771405988586"
     },
     "user_tz": 360
    },
    "id": "VQi5vsa6axtA",
    "outputId": "88221788-8995-41f5-8e65-7a7a61f960c7"
   },
   "outputs": [
    {
     "data": {
      "text/plain": [
       "array([  6, -10])"
      ]
     },
     "execution_count": 28,
     "metadata": {
      "tags": []
     },
     "output_type": "execute_result"
    }
   ],
   "source": [
    "2*v"
   ]
  },
  {
   "cell_type": "markdown",
   "metadata": {
    "id": "Peaf_0FqaxtC"
   },
   "source": [
    "Esta operacion no esta definida en linalg"
   ]
  },
  {
   "cell_type": "code",
   "execution_count": 29,
   "metadata": {
    "colab": {
     "base_uri": "https://localhost:8080/"
    },
    "executionInfo": {
     "elapsed": 3833,
     "status": "ok",
     "timestamp": 1615427823758,
     "user": {
      "displayName": "Luis Fernando Leal Hernandez",
      "photoUrl": "",
      "userId": "08643725771405988586"
     },
     "user_tz": 360
    },
    "id": "InN78WNAaxtD",
    "outputId": "af3bf572-6ebf-4e2f-8136-d0f9dccebe03"
   },
   "outputs": [
    {
     "data": {
      "text/plain": [
       "array([  6, -10])"
      ]
     },
     "execution_count": 29,
     "metadata": {
      "tags": []
     },
     "output_type": "execute_result"
    }
   ],
   "source": [
    "np.array([2,2])*v #producto haddamard (elemento a elemento)"
   ]
  },
  {
   "cell_type": "code",
   "execution_count": 30,
   "metadata": {
    "colab": {
     "base_uri": "https://localhost:8080/"
    },
    "executionInfo": {
     "elapsed": 3829,
     "status": "ok",
     "timestamp": 1615427823764,
     "user": {
      "displayName": "Luis Fernando Leal Hernandez",
      "photoUrl": "",
      "userId": "08643725771405988586"
     },
     "user_tz": 360
    },
    "id": "pPxonoQQaxtF",
    "outputId": "2c34bb79-10a3-4f5b-a7a9-4f22bc6ca955"
   },
   "outputs": [
    {
     "data": {
      "text/plain": [
       "array([  6, -10])"
      ]
     },
     "execution_count": 30,
     "metadata": {
      "tags": []
     },
     "output_type": "execute_result"
    }
   ],
   "source": [
    "dos = np.array([2,2])\n",
    "dos*v"
   ]
  },
  {
   "cell_type": "code",
   "execution_count": 31,
   "metadata": {
    "colab": {
     "base_uri": "https://localhost:8080/"
    },
    "executionInfo": {
     "elapsed": 3814,
     "status": "ok",
     "timestamp": 1615427823765,
     "user": {
      "displayName": "Luis Fernando Leal Hernandez",
      "photoUrl": "",
      "userId": "08643725771405988586"
     },
     "user_tz": 360
    },
    "id": "ip1QKnMMvFz3",
    "outputId": "a9f3ec12-1c7a-4c7b-c15d-e647a1150011"
   },
   "outputs": [
    {
     "name": "stdout",
     "output_type": "stream",
     "text": [
      "[ 3 -5]\n",
      "[2 1]\n"
     ]
    }
   ],
   "source": [
    "print(v)\r\n",
    "print(w)"
   ]
  },
  {
   "cell_type": "code",
   "execution_count": 32,
   "metadata": {
    "colab": {
     "base_uri": "https://localhost:8080/"
    },
    "executionInfo": {
     "elapsed": 3792,
     "status": "ok",
     "timestamp": 1615427823766,
     "user": {
      "displayName": "Luis Fernando Leal Hernandez",
      "photoUrl": "",
      "userId": "08643725771405988586"
     },
     "user_tz": 360
    },
    "id": "yta6irxhaxtG",
    "outputId": "3edd58e9-3030-4970-a6ff-b988e411b7c1"
   },
   "outputs": [
    {
     "name": "stdout",
     "output_type": "stream",
     "text": [
      "[ 1 -6]\n",
      "[ 6 -5]\n",
      "[ 1.5 -5. ]\n",
      "[1 0]\n"
     ]
    }
   ],
   "source": [
    "resta = v - w #\n",
    "multiplicacion = v*w\n",
    "division = v/w\n",
    "div_mod = v%w\n",
    "\n",
    "print(resta)\n",
    "print(multiplicacion)\n",
    "print(division)\n",
    "print(div_mod)"
   ]
  },
  {
   "cell_type": "markdown",
   "metadata": {
    "id": "sP-DvNV4axtH"
   },
   "source": [
    "Los operadores +=,-=,*=,/=,%=  , también son validos en vectores con NumPy y son mas eficientes, por ejemplo:\n",
    "\n",
    "a+=b\n",
    "\n",
    "Es mas eficiente que\n",
    "\n",
    "a = a + b\n",
    "\n",
    "Por lo tanto se recomienda usarlos siempre que sea posible :"
   ]
  },
  {
   "cell_type": "code",
   "execution_count": 10,
   "metadata": {
    "executionInfo": {
     "elapsed": 3782,
     "status": "ok",
     "timestamp": 1615427823767,
     "user": {
      "displayName": "Luis Fernando Leal Hernandez",
      "photoUrl": "",
      "userId": "08643725771405988586"
     },
     "user_tz": 360
    },
    "id": "MCcRKwdiaxtI"
   },
   "outputs": [],
   "source": [
    "a = np.array((1,2,3))\n",
    "b = np.array((2,3,4))"
   ]
  },
  {
   "cell_type": "code",
   "execution_count": 34,
   "metadata": {
    "executionInfo": {
     "elapsed": 3772,
     "status": "ok",
     "timestamp": 1615427823769,
     "user": {
      "displayName": "Luis Fernando Leal Hernandez",
      "photoUrl": "",
      "userId": "08643725771405988586"
     },
     "user_tz": 360
    },
    "id": "7-C5265yaxtJ"
   },
   "outputs": [],
   "source": [
    "a = a + b"
   ]
  },
  {
   "cell_type": "code",
   "execution_count": 11,
   "metadata": {
    "colab": {
     "base_uri": "https://localhost:8080/"
    },
    "executionInfo": {
     "elapsed": 3760,
     "status": "ok",
     "timestamp": 1615427823772,
     "user": {
      "displayName": "Luis Fernando Leal Hernandez",
      "photoUrl": "",
      "userId": "08643725771405988586"
     },
     "user_tz": 360
    },
    "id": "w3zQrXv9axtK",
    "outputId": "5cfc4251-f354-4926-d2b7-5e3d325f1fc6"
   },
   "outputs": [
    {
     "data": {
      "text/plain": [
       "array([3, 5, 7])"
      ]
     },
     "execution_count": 11,
     "metadata": {},
     "output_type": "execute_result"
    }
   ],
   "source": [
    "a+=b\n",
    "a"
   ]
  },
  {
   "cell_type": "markdown",
   "metadata": {
    "id": "GA-ARywAaxtL"
   },
   "source": [
    "Python utiliza un mecanismo conocido como **\"broadcasting\"** para algunas operaciones cuando el tamaño de los operandos no coincide, por ejemplo el caso de una suma entre un vector y un escalar, broadcasting \"expande\" el escalar para que tenga la misma forma que el vector (replicando el valor escalar) y luego aplica la operacion **\"elementwise\"** (elemento a elemento)"
   ]
  },
  {
   "cell_type": "code",
   "execution_count": 36,
   "metadata": {
    "colab": {
     "base_uri": "https://localhost:8080/"
    },
    "executionInfo": {
     "elapsed": 3750,
     "status": "ok",
     "timestamp": 1615427823786,
     "user": {
      "displayName": "Luis Fernando Leal Hernandez",
      "photoUrl": "",
      "userId": "08643725771405988586"
     },
     "user_tz": 360
    },
    "id": "KIK0Vtx7yLhB",
    "outputId": "b2c30a3a-9f83-430d-e636-31835b0599de"
   },
   "outputs": [
    {
     "name": "stdout",
     "output_type": "stream",
     "text": [
      "[ 5  8 11]\n"
     ]
    }
   ],
   "source": [
    "print(a)"
   ]
  },
  {
   "cell_type": "code",
   "execution_count": 37,
   "metadata": {
    "colab": {
     "base_uri": "https://localhost:8080/"
    },
    "executionInfo": {
     "elapsed": 3736,
     "status": "ok",
     "timestamp": 1615427823789,
     "user": {
      "displayName": "Luis Fernando Leal Hernandez",
      "photoUrl": "",
      "userId": "08643725771405988586"
     },
     "user_tz": 360
    },
    "id": "dBidLRgzaxtM",
    "outputId": "e8f4748d-5eb1-4ede-c607-e6b92657b03e"
   },
   "outputs": [
    {
     "data": {
      "text/plain": [
       "array([ 7, 10, 13])"
      ]
     },
     "execution_count": 37,
     "metadata": {
      "tags": []
     },
     "output_type": "execute_result"
    }
   ],
   "source": [
    "a + 2 #operación no definida matemáticamente pero posible con broadcasting"
   ]
  },
  {
   "cell_type": "code",
   "execution_count": 38,
   "metadata": {
    "colab": {
     "base_uri": "https://localhost:8080/"
    },
    "executionInfo": {
     "elapsed": 3728,
     "status": "ok",
     "timestamp": 1615427823791,
     "user": {
      "displayName": "Luis Fernando Leal Hernandez",
      "photoUrl": "",
      "userId": "08643725771405988586"
     },
     "user_tz": 360
    },
    "id": "UJZqqJQ9axtM",
    "outputId": "cc76c8af-20af-4250-a3c6-f7bf854e70dd"
   },
   "outputs": [
    {
     "data": {
      "text/plain": [
       "array([0, 3, 6])"
      ]
     },
     "execution_count": 38,
     "metadata": {
      "tags": []
     },
     "output_type": "execute_result"
    }
   ],
   "source": [
    "a -5 #operación no definida matemáticamente pero posible con broadcasting "
   ]
  },
  {
   "cell_type": "code",
   "execution_count": 39,
   "metadata": {
    "colab": {
     "base_uri": "https://localhost:8080/"
    },
    "executionInfo": {
     "elapsed": 3713,
     "status": "ok",
     "timestamp": 1615427823791,
     "user": {
      "displayName": "Luis Fernando Leal Hernandez",
      "photoUrl": "",
      "userId": "08643725771405988586"
     },
     "user_tz": 360
    },
    "id": "3mI-kMJLaxtN",
    "outputId": "15496df6-0dc2-4893-f551-da70ed42d540"
   },
   "outputs": [
    {
     "data": {
      "text/plain": [
       "array([15, 24, 33])"
      ]
     },
     "execution_count": 39,
     "metadata": {
      "tags": []
     },
     "output_type": "execute_result"
    }
   ],
   "source": [
    "a * 3 # operación si definida matemáticamente esta \"escalando\" el vector en factor de 3"
   ]
  },
  {
   "cell_type": "code",
   "execution_count": 40,
   "metadata": {
    "colab": {
     "base_uri": "https://localhost:8080/"
    },
    "executionInfo": {
     "elapsed": 3698,
     "status": "ok",
     "timestamp": 1615427823792,
     "user": {
      "displayName": "Luis Fernando Leal Hernandez",
      "photoUrl": "",
      "userId": "08643725771405988586"
     },
     "user_tz": 360
    },
    "id": "w_1FWh11ymAA",
    "outputId": "07b0acb5-c9f5-4cfc-f91c-8c51fa7574fb"
   },
   "outputs": [
    {
     "data": {
      "text/plain": [
       "array([ 5,  8, 11])"
      ]
     },
     "execution_count": 40,
     "metadata": {
      "tags": []
     },
     "output_type": "execute_result"
    }
   ],
   "source": [
    "a"
   ]
  },
  {
   "cell_type": "code",
   "execution_count": 41,
   "metadata": {
    "colab": {
     "base_uri": "https://localhost:8080/"
    },
    "executionInfo": {
     "elapsed": 3687,
     "status": "ok",
     "timestamp": 1615427823793,
     "user": {
      "displayName": "Luis Fernando Leal Hernandez",
      "photoUrl": "",
      "userId": "08643725771405988586"
     },
     "user_tz": 360
    },
    "id": "1qZpeT9WaxtO",
    "outputId": "46c56dd8-167a-45b2-eb17-483275a53cbb"
   },
   "outputs": [
    {
     "data": {
      "text/plain": [
       "array([1.66666667, 2.66666667, 3.66666667])"
      ]
     },
     "execution_count": 41,
     "metadata": {
      "tags": []
     },
     "output_type": "execute_result"
    }
   ],
   "source": [
    "# operacion no definida directamente pero ya que la division se reduce \n",
    "#a un producto por una fraccion, si esta definida a traves del \"escalado\"  dl vector en factor de 0.33333\n",
    "a / 3 "
   ]
  },
  {
   "cell_type": "markdown",
   "metadata": {
    "id": "tBhzMWwoaxtQ"
   },
   "source": [
    "**Ejemplo aplicado a DS** :  Suavizado de curvas a través de promedios de n-puntos(medias móviles):\n",
    "\n",
    "<img src=\"https://www.luisllamas.es/wp-content/uploads/2017/03/arduino-filtro-media-movil-ventana-5.png\">\n",
    "\n",
    "En el mundo la data comunmente posee \"ruido\" por lo cual muchas veces antes de hacer análisis o modelado se necesita \"suavizar\" las curvas para reducir este ruido, una técnica muy sencilla es  el suavizado por promedio de n-puntos(también llamado media móvil), esto significa que para cada punto Xn obtenemos una versión transformada(suavizada) que consiste en promediar n puntos cercanos a el, por ejemplo para n= 3 tenemos que:\n",
    "\n",
    "$$XS_{n}  =  \\frac{X_{n-1}+X_{n}+X_{n+1}}{3}$$"
   ]
  },
  {
   "cell_type": "code",
   "execution_count": 51,
   "metadata": {
    "executionInfo": {
     "elapsed": 3677,
     "status": "ok",
     "timestamp": 1615427823793,
     "user": {
      "displayName": "Luis Fernando Leal Hernandez",
      "photoUrl": "",
      "userId": "08643725771405988586"
     },
     "user_tz": 360
    },
    "id": "IgL1CydiaxtR",
    "scrolled": true
   },
   "outputs": [],
   "source": [
    "# las siguientes 3 lineas generan un conjunto de datos que se comportan segun una onda senoidal pero tienen\n",
    "# ruido por lo cual vamos a suavizar usando promedio de 3 puntos\n",
    "# en este ejercicio los generamos manualmente pero pensemos que son datos que pudieron ser generados con algún\n",
    "# instrumento como un sensor, o bien estar almacenados en una base de datos\n",
    "sample_points = 10000\n",
    "inicio_intervalo = 0\n",
    "ruido = 0.5*np.random.randn(sample_points) #el ruido comunmente se debe a aleatoriedad o captura no exacta de info.\n",
    "x = np.linspace(inicio_intervalo,5*np.pi,sample_points) \n",
    "y = np.sin(x) + ruido\n",
    "\n",
    "#ys es \"y suavizado\", inicialmente es una copia de y\n",
    "ys =  y.copy()\n",
    "\n",
    "#for n in range(1,len(y)-1): #5\n",
    "#    ys[n] = (y[n-1] + y[n] + y[n+1])/3\n",
    "\n",
    "#Suavizando usando slicing\n",
    "ys1 = ys[:-2]\n",
    "ys2 = ys[2:]\n",
    "ys3 = ys[1:-1]\n",
    "\n",
    "ys = (ys1 + ys2 + ys3) / 3\n",
    "\n",
    "ys = np.insert(ys,0,y[0])\n",
    "ys = np.append(ys, y[-1])\n",
    "    \n",
    "#print(y)\n",
    "#print(ys)"
   ]
  },
  {
   "cell_type": "code",
   "execution_count": 52,
   "metadata": {
    "colab": {
     "base_uri": "https://localhost:8080/",
     "height": 0
    },
    "executionInfo": {
     "elapsed": 3636,
     "status": "ok",
     "timestamp": 1615427823794,
     "user": {
      "displayName": "Luis Fernando Leal Hernandez",
      "photoUrl": "",
      "userId": "08643725771405988586"
     },
     "user_tz": 360
    },
    "id": "DjIK7-d_axtS",
    "outputId": "c1e9a8ce-34f5-4df8-c7bf-8cb3c43a33ae"
   },
   "outputs": [
    {
     "data": {
      "image/png": "[encoded data removed]",
      "text/plain": [
       "<Figure size 432x288 with 1 Axes>"
      ]
     },
     "metadata": {
      "needs_background": "light"
     },
     "output_type": "display_data"
    }
   ],
   "source": [
    "plt.plot(x,y)\n",
    "plt.plot(x,ys)\n",
    "plt.xlim(inicio_intervalo,5*np.pi + 0.5)\n",
    "plt.show()"
   ]
  },
  {
   "cell_type": "markdown",
   "metadata": {
    "id": "OCVCXBFWaxtT"
   },
   "source": [
    "**Ejercicio (parte de tarea)** En este caso usamos un ciclo  para ejemplificar pero ya hemos mencionado que debemos evitarlos siempre que sea posible y usar operaciones \"vectorizadas\" ya que es mucho mas rápido al utilizar  código pre-compilado de C, en este ejercicio debemos remplazar el calculo de ys para hacerlo de manera \"vectorizada\" y eliminar el ciclo for. \n",
    "\n",
    "**tip**: usar slicing"
   ]
  },
  {
   "cell_type": "markdown",
   "metadata": {
    "id": "IEhuGnCJaxtT"
   },
   "source": [
    "### Combinaciones lineales,span,vectores base,espacio vectorial e independencia lineal.\n",
    "\n",
    "**Nota**: esta sección es de cierto relevante a futuro  ya que no es tan importante para este curso,pero lo será para futuros cursos y en tu carrera, por ejemplo en machine learning y estadística la reducción de dimensionalidad PCA se basa en el contenido acá resumido.\n",
    "\n",
    "Derivado de las 2 operaciones básicas de algebra lineal que ya mencionamos: suma de 2 vectores y multiplicación de un escalar por un vector podemos hablar de **combinaciones lineales**\n",
    "\n",
    "* **Combinación lineal** : Una combinación lineal es una generalización que combina estas 2 operaciones básicas y la podemos definir como **la suma de 2 o mas vectores escalados** , \n",
    "\n",
    "<img src=\"https://raw.githubusercontent.com/llealgt/Galileo_Python_DS/main/NumPy_algebra_lineal/combinacion_base.png\">\n",
    "\n",
    "Combinación lineal\n",
    "\n",
    "<img src=\"https://raw.githubusercontent.com/llealgt/Galileo_Python_DS/main/NumPy_algebra_lineal/combinacion_lineal.png\">\n",
    "\n",
    "* El **span**(alceance, o extensión) de una combinacion lineal es el conjunto de todos los posibles vectores obtenidos para cada posible combinación de sus valores escalares.\n",
    "\n",
    "\n",
    "<img src=\"https://raw.githubusercontent.com/llealgt/Galileo_Python_DS/main/NumPy_algebra_lineal/span.png\">\n",
    "\n",
    "<img src=\"https://raw.githubusercontent.com/llealgt/Galileo_Python_DS/main/NumPy_algebra_lineal/3d_span.png\">\n",
    "\n",
    "* **Independencia Lineal** : si un vector A es un múltiplo de otro vector B, decimos que existe dependencia lineal entre ellos, geométricamente el efecto de esto es que el **span** de estos  es el mismo, o bien si se trata de combinaciones lineales, el agregar un vector dependientemente lineal significa que este puede ser obtenido como una combinación de los otros en la combinación ,esto no modifica el **span** de la combinación, por lo cual es redundante y no aporta nada.\n",
    "\n",
    "<img src=\"https://raw.githubusercontent.com/llealgt/Galileo_Python_DS/main/NumPy_algebra_lineal/dependencia_lineal.png\">\n",
    "\n",
    "<img src=\"https://raw.githubusercontent.com/llealgt/Galileo_Python_DS/main/NumPy_algebra_lineal/dependencia_lineal2.png\">\n",
    "\n",
    "**Referencia Util**:\n",
    "https://youtu.be/k7RM-ot2NWY?list=PLZHQObOWTQDPD3MizzM2xVFitgF8hE_ab"
   ]
  },
  {
   "cell_type": "markdown",
   "metadata": {
    "id": "mggBAMXWaxtU"
   },
   "source": [
    "### ufuncs(universal functions)\n",
    "\n",
    "Ufuncs son funciones que trabajan de manera general independiente de la dimension del objeto al que sean aplicadas, esto significa que la misma función puede ser utilizada sobre valores **escalares**  o sobre **tensores** de cualquier dimensión. , cuando es aplicada sobre tensores esta trabaja elemento por elemento soportando \"broadcasting\" .\n",
    "\n",
    "NumPy provee una gran colección de ufuncs comunes en ciencias y que serán muy útiles en data science, ya hemos usado algunas por ejemplo: **np.sin(tensor)** , muchas comunes y que te serán familares son:\n",
    "\n",
    "* np.sign: determinar el signo de un número\n",
    "* np.abs: valor absoluto de un número\n",
    "* np.cos: coseno de un angulo en radianes\n",
    "* np.sin : seno de un angulo en radianes\n",
    "* np.tan : tangente de un angulo en radianes\n",
    "* np.exp : función exponencial e** x\n",
    "* np.log: logaritmo natural\n",
    "* np.log10 : logaritmo base 10\n",
    "* np.log2 : logaritmo base 2\n",
    "* np.sqrt : raiz cuadrada\n",
    "* np.power : potenciacion\n",
    "\n",
    "Al trabajar una aplicación numérica/científica es recomendable tener a la mano la documentación de las funciones disponibles : https://docs.scipy.org/doc/numpy-1.15.1/reference/routines.math.html\n",
    "\n",
    "#### Nota: \n",
    "En algunos casos requeriremos crear nuestras propias funciones y es recomendable que se apeguen a las ufuncs, es decir que se puedan aplicar independiente de la dimensión del objeto al que se aplican, que soporten broadcasting y muy importante **que su definición evite ciclos y use operaciones vectorizadas y otras ufuncs** , esto será parte de los criterios de evaluación en tareas y exámenes en este curso."
   ]
  },
  {
   "cell_type": "code",
   "execution_count": 45,
   "metadata": {
    "colab": {
     "base_uri": "https://localhost:8080/"
    },
    "executionInfo": {
     "elapsed": 3610,
     "status": "ok",
     "timestamp": 1615427823795,
     "user": {
      "displayName": "Luis Fernando Leal Hernandez",
      "photoUrl": "",
      "userId": "08643725771405988586"
     },
     "user_tz": 360
    },
    "id": "TdLbj7_NaxtX",
    "outputId": "01cc8fd4-68f3-48d7-c647-78d209ea5424"
   },
   "outputs": [
    {
     "name": "stdout",
     "output_type": "stream",
     "text": [
      "[-1. -1.  0.  1.  1.  1.]\n",
      "[  5.3   1.    0.    1.5  10.  100. ]\n",
      "[ 0.55437434  0.54030231  1.          0.0707372  -0.83907153  0.86231887]\n",
      "[ 0.83226744 -0.84147098  0.          0.99749499 -0.54402111 -0.50636564]\n",
      "[ 1.5012734  -1.55740772  0.         14.10141995  0.64836083 -0.58721392]\n",
      "[4.99159391e-03 3.67879441e-01 1.00000000e+00 4.48168907e+00\n",
      " 2.20264658e+04 2.68811714e+43]\n",
      "6\n"
     ]
    }
   ],
   "source": [
    "x = np.array([-5.3,-1,0,1.5,10,100])\n",
    "\n",
    "print(np.sign(x))\n",
    "print(np.abs(x))\n",
    "print(np.cos(x))\n",
    "print(np.sin(x))\n",
    "print(np.tan(x))\n",
    "print(np.exp(x))\n",
    "print(len(x))"
   ]
  },
  {
   "cell_type": "code",
   "execution_count": 53,
   "metadata": {
    "colab": {
     "base_uri": "https://localhost:8080/"
    },
    "executionInfo": {
     "elapsed": 3581,
     "status": "ok",
     "timestamp": 1615427823796,
     "user": {
      "displayName": "Luis Fernando Leal Hernandez",
      "photoUrl": "",
      "userId": "08643725771405988586"
     },
     "user_tz": 360
    },
    "id": "IhAOG5pKaxtY",
    "outputId": "5d747e00-57ae-478e-ea6d-299fcdc117f4"
   },
   "outputs": [
    {
     "name": "stdout",
     "output_type": "stream",
     "text": [
      "[       -inf -6.45607257 -5.76292539 ...  2.75396776  2.75406778\n",
      "  2.7541678 ]\n"
     ]
    },
    {
     "name": "stderr",
     "output_type": "stream",
     "text": [
      "<ipython-input-53-0aea2e9e980e>:1: RuntimeWarning: divide by zero encountered in log\n",
      "  print(np.log(x))\n"
     ]
    }
   ],
   "source": [
    "print(np.log(x))"
   ]
  },
  {
   "cell_type": "code",
   "execution_count": 54,
   "metadata": {
    "colab": {
     "base_uri": "https://localhost:8080/"
    },
    "executionInfo": {
     "elapsed": 3551,
     "status": "ok",
     "timestamp": 1615427823797,
     "user": {
      "displayName": "Luis Fernando Leal Hernandez",
      "photoUrl": "",
      "userId": "08643725771405988586"
     },
     "user_tz": 360
    },
    "id": "-nrqfeY6axta",
    "outputId": "d6d2123c-98b8-412c-9075-d0b8c2a0cf9c"
   },
   "outputs": [
    {
     "name": "stdout",
     "output_type": "stream",
     "text": [
      "[       -inf -2.80383669 -2.5028067  ...  1.196033    1.19607644\n",
      "  1.19611988]\n"
     ]
    },
    {
     "name": "stderr",
     "output_type": "stream",
     "text": [
      "<ipython-input-54-a8eb4a40ce19>:1: RuntimeWarning: divide by zero encountered in log10\n",
      "  print(np.log10(x))\n"
     ]
    }
   ],
   "source": [
    "print(np.log10(x))"
   ]
  },
  {
   "cell_type": "code",
   "execution_count": 55,
   "metadata": {
    "colab": {
     "base_uri": "https://localhost:8080/"
    },
    "executionInfo": {
     "elapsed": 4379,
     "status": "ok",
     "timestamp": 1615427824645,
     "user": {
      "displayName": "Luis Fernando Leal Hernandez",
      "photoUrl": "",
      "userId": "08643725771405988586"
     },
     "user_tz": 360
    },
    "id": "EdLaZLzMaxtb",
    "outputId": "736b6adf-bd5a-41f0-ee84-490ebd0ce37f"
   },
   "outputs": [
    {
     "name": "stdout",
     "output_type": "stream",
     "text": [
      "[       -inf -9.31414388 -8.31414388 ...  3.97313563  3.97327993\n",
      "  3.97342422]\n"
     ]
    },
    {
     "name": "stderr",
     "output_type": "stream",
     "text": [
      "<ipython-input-55-cfa2a094f98c>:1: RuntimeWarning: divide by zero encountered in log2\n",
      "  print(np.log2(x))\n"
     ]
    }
   ],
   "source": [
    "print(np.log2(x))"
   ]
  },
  {
   "cell_type": "code",
   "execution_count": 56,
   "metadata": {
    "colab": {
     "base_uri": "https://localhost:8080/"
    },
    "executionInfo": {
     "elapsed": 4351,
     "status": "ok",
     "timestamp": 1615427824647,
     "user": {
      "displayName": "Luis Fernando Leal Hernandez",
      "photoUrl": "",
      "userId": "08643725771405988586"
     },
     "user_tz": 360
    },
    "id": "-P1Sbi2HBE0S",
    "outputId": "8452c407-2828-439f-cb8a-d617ad530e41"
   },
   "outputs": [
    {
     "name": "stdout",
     "output_type": "stream",
     "text": [
      "[0.         0.03963525 0.05605271 ... 3.96293091 3.96312911 3.9633273 ]\n"
     ]
    }
   ],
   "source": [
    "print(np.sqrt(x))"
   ]
  },
  {
   "cell_type": "code",
   "execution_count": 57,
   "metadata": {
    "colab": {
     "base_uri": "https://localhost:8080/"
    },
    "executionInfo": {
     "elapsed": 4331,
     "status": "ok",
     "timestamp": 1615427824650,
     "user": {
      "displayName": "Luis Fernando Leal Hernandez",
      "photoUrl": "",
      "userId": "08643725771405988586"
     },
     "user_tz": 360
    },
    "id": "CBI4-Gn_axtc",
    "outputId": "250421a2-e473-4e70-f285-42d4f3b06095"
   },
   "outputs": [
    {
     "name": "stdout",
     "output_type": "stream",
     "text": [
      "[0.        +0.j 0.03963525+0.j 0.05605271+0.j ... 3.96293091+0.j\n",
      " 3.96312911+0.j 3.9633273 +0.j]\n"
     ]
    }
   ],
   "source": [
    "print(np.sqrt(x,dtype=complex))"
   ]
  },
  {
   "cell_type": "code",
   "execution_count": 58,
   "metadata": {
    "colab": {
     "base_uri": "https://localhost:8080/"
    },
    "executionInfo": {
     "elapsed": 4318,
     "status": "ok",
     "timestamp": 1615427824666,
     "user": {
      "displayName": "Luis Fernando Leal Hernandez",
      "photoUrl": "",
      "userId": "08643725771405988586"
     },
     "user_tz": 360
    },
    "id": "DuCeny_gaxtc",
    "outputId": "6b3dbded-df15-42ce-da93-91f0e8ca0bee"
   },
   "outputs": [
    {
     "name": "stdout",
     "output_type": "stream",
     "text": [
      "[0.00000000e+00 2.46789465e-06 9.87157862e-06 ... 2.46641414e+02\n",
      " 2.46690760e+02 2.46740110e+02]\n"
     ]
    }
   ],
   "source": [
    "print(np.power(x,2))"
   ]
  },
  {
   "cell_type": "markdown",
   "metadata": {
    "id": "NQsZTEy3axtd"
   },
   "source": [
    "#### Nota: \n",
    "En algunos casos requeriremos crear nuestras propias funciones y es recomendable que se apeguen a las ufuncs, es decir que se puedan aplicar independiente de la dimensión del objeto al que se aplican, que soporten broadcasting y muy importante **que su definición evite ciclos y use operaciones vectorizadas y otras ufuncs** , esto será parte de los criterios de evaluación en tareas y exámenes en este curso."
   ]
  },
  {
   "cell_type": "markdown",
   "metadata": {
    "id": "RdpBYHliaxte"
   },
   "source": [
    "#### Ejemplos en DS:\n",
    "\n",
    "**1)**\n",
    "En machine learning se necesita una manera de \"evaluar\" nuestros modelos ,en ML del tipo \"supervisado\" para modelos de variables discretas categóricas  usamos  para esto  la \"entropía cruzada\" que mide la diferencia  entre 2 distribuciones de probabilidad,la que nuestro modelo predice vs la real obtenida de datos **ground truth** , una entropía cruzada alta es un modelo de ML malo y una entropía cruzada de 0 es un modelo de ML perfecto.\n",
    "\n",
    "La entropía medida en bits(ojo,no cruzada, solo entropía) se define como \"el promedio de información\"(promedio ponderado) y la información se define se define como el negativo del logaritmo base 2 de la probabilidad . \n",
    "\n",
    "$$I(x) = -log_{2}P(x)$$\n",
    "\n",
    "**Comentario**:La entropía es una medida de \"incerteza\", si un evento puede producir muchos resultados diferentes entonces tenemos una alta incerteza del evento lo cual se traduce a entropía alta.\n",
    "\n",
    "La siguiente función calcula para cierta distribución de probabilidad dada por un vector px la información de cada elemento."
   ]
  },
  {
   "cell_type": "code",
   "execution_count": 59,
   "metadata": {
    "colab": {
     "base_uri": "https://localhost:8080/"
    },
    "executionInfo": {
     "elapsed": 4289,
     "status": "ok",
     "timestamp": 1615427824674,
     "user": {
      "displayName": "Luis Fernando Leal Hernandez",
      "photoUrl": "",
      "userId": "08643725771405988586"
     },
     "user_tz": 360
    },
    "id": "LVBqUS7Uaxtf",
    "outputId": "3d52a3fa-6dda-45e7-d612-b83141a09734"
   },
   "outputs": [
    {
     "name": "stdout",
     "output_type": "stream",
     "text": [
      "[-0.]\n",
      "[1. 1.]\n",
      "[-0. inf]\n",
      "[0.00014428]\n",
      "[2.        0.4150375]\n",
      "[2.32192809 2.32192809 2.32192809 2.32192809 2.32192809]\n",
      "[1.32192809 2.32192809 3.32192809 3.32192809 2.32192809]\n"
     ]
    },
    {
     "name": "stderr",
     "output_type": "stream",
     "text": [
      "<ipython-input-59-99eadccb01db>:2: RuntimeWarning: divide by zero encountered in log2\n",
      "  return np.log2(px)*-1 # teoría de la información\n"
     ]
    }
   ],
   "source": [
    "def calcular_informacion(px):\n",
    "    return np.log2(px)*-1 # teoría de la información\n",
    "\n",
    "distribucion_prob1 = [1.0]\n",
    "distribucion_prob2 = [0.5,0.5] # la entropia es maxima cuando todos tienen la misma prob\n",
    "distribucion_prob3 = [1.0,0.0]\n",
    "distribucion_prob4 = [0.9999]\n",
    "distribucion_prob5 = [0.25,0.75]\n",
    "distribucion_prob6 = [0.2]*5 # ojo estas son listas por lo tanto * la replica, no son arrays de numpy\n",
    "distribucion_prob7 = [0.4,0.2,0.1,0.1,0.2]\n",
    "\n",
    "print(calcular_informacion(distribucion_prob1))\n",
    "print(calcular_informacion(distribucion_prob2))\n",
    "print(calcular_informacion(distribucion_prob3))\n",
    "print(calcular_informacion(distribucion_prob4))\n",
    "print(calcular_informacion(distribucion_prob5))\n",
    "print(calcular_informacion(distribucion_prob6))\n",
    "print(calcular_informacion(distribucion_prob7))"
   ]
  },
  {
   "cell_type": "markdown",
   "metadata": {
    "id": "LCcPuLnzaxtg"
   },
   "source": [
    "**Ejercicio** Para calcular la información de una distribución de probabilidad necesitamos calcular el producto entre la información de cada posible x y su probabilidad , cada uno de estos elementos nos indica cuanta incerteza aporta cada x a la entropía de la distribución. Crea una función que calcule esto, debe recibir un vector representando a la dist. de probabilidad y devoler otro vector con el termino de entropía para cada x. Por ejemplo:\n",
    "\n",
    "calcular_entropia([0.25,0.75])\n",
    "\n",
    "Debe resultar en :\n",
    "\n",
    "[0.5    ,    0.31127812]\n",
    "\n",
    "**Nota**: la entropía es la suma sobre estos valores, en este caso no calculamos la entropía,unicamente los termimos de su sumatoria. La entropía es:\n",
    "\n",
    "$$S = -\\sum_i^nP(x_{i})log_{2}P(x_{i})$$"
   ]
  },
  {
   "cell_type": "code",
   "execution_count": 64,
   "metadata": {
    "executionInfo": {
     "elapsed": 4267,
     "status": "ok",
     "timestamp": 1615427824679,
     "user": {
      "displayName": "Luis Fernando Leal Hernandez",
      "photoUrl": "",
      "userId": "08643725771405988586"
     },
     "user_tz": 360
    },
    "id": "CSBwGnZ-axth"
   },
   "outputs": [
    {
     "data": {
      "text/plain": [
       "array([0.5       , 0.31127812])"
      ]
     },
     "execution_count": 64,
     "metadata": {},
     "output_type": "execute_result"
    }
   ],
   "source": [
    "# tu codigo aqui (~ 4 lineas de codigo)\n",
    "dist_prob = np.array([0.25,0.75])\n",
    "\n",
    "def calcular_entropia(dist_prob):\n",
    "    return dist_prob * np.log2(dist_prob)* -1\n",
    "\n",
    "calcular_entropia(dist_prob)\n"
   ]
  },
  {
   "cell_type": "markdown",
   "metadata": {
    "id": "d2IreNMKaxth"
   },
   "source": [
    "**2)** \n",
    "\n",
    "A partir de la información en un data warehouse con un modelo de  datos el valor de clientes en el tiempo se ha determinado un modelo predictivo  no lineal que estima cuanta ganancia ha generado cierto cliente en 5 años en base a lo que ha gastado en su primer mes como cliente. \n",
    "\n",
    "El modelo tiene la forma:\n",
    "\n",
    "$$g(x) = (x^{3} + 2x^{2} + e^{0.0001x} -\\sqrt{2x})/50$$\n",
    "\n",
    "Crear una función que calcule la ganancia para valores de gasto de nuevos clientes:"
   ]
  },
  {
   "cell_type": "code",
   "execution_count": 65,
   "metadata": {
    "colab": {
     "base_uri": "https://localhost:8080/"
    },
    "executionInfo": {
     "elapsed": 4244,
     "status": "ok",
     "timestamp": 1615427824680,
     "user": {
      "displayName": "Luis Fernando Leal Hernandez",
      "photoUrl": "",
      "userId": "08643725771405988586"
     },
     "user_tz": 360
    },
    "id": "u4D60NkLaxti",
    "outputId": "5a574815-698d-4759-8c4f-4cf66953e06e"
   },
   "outputs": [
    {
     "name": "stdout",
     "output_type": "stream",
     "text": [
      "Ganancias [20399.73735829  2599.82010025   337.37862871 20399.73735829]\n"
     ]
    }
   ],
   "source": [
    "def g(x): #<- vector\n",
    "    \n",
    "    ganancia = (np.power(x,3) + 2.0*(np.power(x,2.0))+np.exp(0.0001*x) - np.sqrt(2.0*x))/50\n",
    "    \n",
    "    return ganancia # <- vector del mismo tamaño que x\n",
    "    \n",
    "gastos = np.array([100,50,25,100]) #vector\n",
    "ganancia = g(gastos)\n",
    "\n",
    "print(\"Ganancias\",ganancia)"
   ]
  },
  {
   "cell_type": "markdown",
   "metadata": {
    "id": "afpF1h4Kaxti"
   },
   "source": [
    "𝑐(𝑥)=(𝑥2+𝑥+𝑙𝑜𝑔(0.0001𝑥)−0.54𝑥⎯⎯⎯⎯⎯⎯⎯⎯⎯√)/100**Ejercicio** : se ha determinado también que hay costos asociados a la comunicación y relación con los clientes(llamadas,mensajes electrónicos,etc) y que estos también tienen alta correlación con el monto que estos gastan en su primer més siguiendo el modelo:\n",
    "$$c(x) = (x^{2} + x + log (0.0001x)-\\sqrt{0.54x})/100$$\n",
    "\n",
    "Cree una función para calcular este modelo sobre valores de de gasto de nuevos clientes , y luego cree una función  **ganancia_neta(x,g,c)** donde:\n",
    "* x = vector conteniendo los valores de gasto del primer mes para nuevos clientes.\n",
    "* g = función que estima la ganancia en función de x\n",
    "* c = función que estima el costo en función de x\n",
    "\n",
    "La función realiza el calculo simple **g(x) - c(x)** , ya que es posible que los modelos cambien en el tiempo es común recibir como parámetro el modelo o modelos hijos de un modelo mas grande , en este caso eso se logra recibiendo como parámetro las funciones de ganancia y costo."
   ]
  },
  {
   "cell_type": "code",
   "execution_count": 87,
   "metadata": {},
   "outputs": [],
   "source": [
    "#Definción de funciones\n",
    "def ganancia2(x):\n",
    "    ganancia = (np.power(x,3) + 2.0*(np.power(x,2.0))+np.exp(0.0001*x) - np.sqrt(2.0*x))/50\n",
    "    return ganancia\n",
    "\n",
    "def costos(x):\n",
    "    costos = (np.power(x,2) + x + np.log(0.0001 * x) - np.sqrt(0.54 * x))/100\n",
    "    return costos\n",
    "\n",
    "def ganancia_neta(x,g,c):\n",
    "    return g(x) - c(x)"
   ]
  },
  {
   "cell_type": "code",
   "execution_count": 86,
   "metadata": {
    "colab": {
     "base_uri": "https://localhost:8080/"
    },
    "executionInfo": {
     "elapsed": 4184,
     "status": "ok",
     "timestamp": 1615427824688,
     "user": {
      "displayName": "Luis Fernando Leal Hernandez",
      "photoUrl": "",
      "userId": "08643725771405988586"
     },
     "user_tz": 360
    },
    "id": "gDSGvXYvHNno",
    "outputId": "4b573002-da6d-4243-dcd1-8dddcbf44dd4"
   },
   "outputs": [
    {
     "data": {
      "text/plain": [
       "array([20298.85689469,  2574.42504495,   330.9752857 , 20298.85689469])"
      ]
     },
     "execution_count": 86,
     "metadata": {},
     "output_type": "execute_result"
    }
   ],
   "source": [
    "x = np.array([100,50,25,100])\n",
    "ganancia_neta(x, ganancia2, costos)"
   ]
  },
  {
   "cell_type": "markdown",
   "metadata": {
    "id": "Nzg9gVdoaxtj"
   },
   "source": [
    "### Funciones miscelaneas(agregación y estadistica descriptiva básica) \n",
    "\n",
    "Ya hemos trabajado algunas funciones de NumPy pero han sido funciones \"elementwise\" cuyo vector resultante tiene el mismo tamaño que el vector de entrada, existen muchas otras funciones que utilizamos en casos en los que necesitamos agregar,resumir cierto vector,incluyendo en este tipo de funciones algunas de estadistica descriptiva básica."
   ]
  },
  {
   "cell_type": "code",
   "execution_count": 58,
   "metadata": {
    "executionInfo": {
     "elapsed": 4167,
     "status": "ok",
     "timestamp": 1615427824696,
     "user": {
      "displayName": "Luis Fernando Leal Hernandez",
      "photoUrl": "",
      "userId": "08643725771405988586"
     },
     "user_tz": 360
    },
    "id": "yieQlOmRaxtk"
   },
   "outputs": [],
   "source": [
    "x = np.array([1,2,3,4,5,6,7,8,9,2,2])\n",
    "x_nan = np.array([1,2,3,4,np.nan,6,8,2,2])"
   ]
  },
  {
   "cell_type": "code",
   "execution_count": 59,
   "metadata": {
    "colab": {
     "base_uri": "https://localhost:8080/"
    },
    "executionInfo": {
     "elapsed": 4149,
     "status": "ok",
     "timestamp": 1615427824699,
     "user": {
      "displayName": "Luis Fernando Leal Hernandez",
      "photoUrl": "",
      "userId": "08643725771405988586"
     },
     "user_tz": 360
    },
    "id": "Qb8Lrr_Aaxtk",
    "outputId": "51e060b8-998f-43f0-9548-9fc09b055b4f"
   },
   "outputs": [
    {
     "name": "stdout",
     "output_type": "stream",
     "text": [
      "9\n",
      "9\n",
      "nan\n",
      "9\n",
      "8.0\n"
     ]
    }
   ],
   "source": [
    "#nanmax ignora valores nan si existieran , max retorna nan si el vector tuviera un nan\n",
    "\n",
    "\n",
    "print(np.max(x))\n",
    "print(x.max())\n",
    "print(np.max(x_nan))\n",
    "\n",
    "print(np.nanmax(x))\n",
    "print(np.nanmax(x_nan))"
   ]
  },
  {
   "cell_type": "code",
   "execution_count": 60,
   "metadata": {
    "colab": {
     "base_uri": "https://localhost:8080/"
    },
    "executionInfo": {
     "elapsed": 4151,
     "status": "ok",
     "timestamp": 1615427824719,
     "user": {
      "displayName": "Luis Fernando Leal Hernandez",
      "photoUrl": "",
      "userId": "08643725771405988586"
     },
     "user_tz": 360
    },
    "id": "tGpt63roaxtl",
    "outputId": "c6a875a9-fa62-4a7a-8df9-87232a6f13d8"
   },
   "outputs": [
    {
     "name": "stdout",
     "output_type": "stream",
     "text": [
      "8\n",
      "8\n"
     ]
    }
   ],
   "source": [
    "print(np.argmax(x))\n",
    "print(x.argmax())"
   ]
  },
  {
   "cell_type": "code",
   "execution_count": 61,
   "metadata": {
    "colab": {
     "base_uri": "https://localhost:8080/"
    },
    "executionInfo": {
     "elapsed": 4126,
     "status": "ok",
     "timestamp": 1615427824721,
     "user": {
      "displayName": "Luis Fernando Leal Hernandez",
      "photoUrl": "",
      "userId": "08643725771405988586"
     },
     "user_tz": 360
    },
    "id": "TrAFnPNzaxtn",
    "outputId": "21457f47-4b73-447c-f685-ecabb1e1dd23"
   },
   "outputs": [
    {
     "name": "stdout",
     "output_type": "stream",
     "text": [
      "1\n",
      "1\n",
      "nan\n",
      "1\n",
      "1.0\n"
     ]
    }
   ],
   "source": [
    "print(np.min(x))\n",
    "print(x.min())\n",
    "print(np.min(x_nan))\n",
    "\n",
    "print(np.nanmin(x))\n",
    "print(np.nanmin(x_nan))"
   ]
  },
  {
   "cell_type": "code",
   "execution_count": 62,
   "metadata": {
    "colab": {
     "base_uri": "https://localhost:8080/"
    },
    "executionInfo": {
     "elapsed": 4096,
     "status": "ok",
     "timestamp": 1615427824721,
     "user": {
      "displayName": "Luis Fernando Leal Hernandez",
      "photoUrl": "",
      "userId": "08643725771405988586"
     },
     "user_tz": 360
    },
    "id": "04gNPKimaxto",
    "outputId": "076bf50d-17b4-4697-dc95-649107ecf623"
   },
   "outputs": [
    {
     "name": "stdout",
     "output_type": "stream",
     "text": [
      "0\n",
      "1\n"
     ]
    }
   ],
   "source": [
    "print(np.argmin(x))\n",
    "print(x.min())"
   ]
  },
  {
   "cell_type": "code",
   "execution_count": 63,
   "metadata": {
    "colab": {
     "base_uri": "https://localhost:8080/"
    },
    "executionInfo": {
     "elapsed": 4078,
     "status": "ok",
     "timestamp": 1615427824722,
     "user": {
      "displayName": "Luis Fernando Leal Hernandez",
      "photoUrl": "",
      "userId": "08643725771405988586"
     },
     "user_tz": 360
    },
    "id": "HsKlSLzXNSQ6",
    "outputId": "038cd170-a4bc-45c2-97f7-1fe17ae8f8a3"
   },
   "outputs": [
    {
     "data": {
      "text/plain": [
       "1"
      ]
     },
     "execution_count": 63,
     "metadata": {
      "tags": []
     },
     "output_type": "execute_result"
    }
   ],
   "source": [
    "np.argmin(np.array([456,2,100,23]))"
   ]
  },
  {
   "cell_type": "code",
   "execution_count": 64,
   "metadata": {
    "colab": {
     "base_uri": "https://localhost:8080/"
    },
    "executionInfo": {
     "elapsed": 4048,
     "status": "ok",
     "timestamp": 1615427824723,
     "user": {
      "displayName": "Luis Fernando Leal Hernandez",
      "photoUrl": "",
      "userId": "08643725771405988586"
     },
     "user_tz": 360
    },
    "id": "FnZAM55TNfbH",
    "outputId": "bf9ea430-af36-4292-e6c4-98fe8a578318"
   },
   "outputs": [
    {
     "data": {
      "text/plain": [
       "2"
      ]
     },
     "execution_count": 64,
     "metadata": {
      "tags": []
     },
     "output_type": "execute_result"
    }
   ],
   "source": [
    "np.min(np.array([456,2,100,23]))"
   ]
  },
  {
   "cell_type": "code",
   "execution_count": 65,
   "metadata": {
    "colab": {
     "base_uri": "https://localhost:8080/"
    },
    "executionInfo": {
     "elapsed": 4028,
     "status": "ok",
     "timestamp": 1615427824724,
     "user": {
      "displayName": "Luis Fernando Leal Hernandez",
      "photoUrl": "",
      "userId": "08643725771405988586"
     },
     "user_tz": 360
    },
    "id": "N0yvY5U4axtp",
    "outputId": "72c1ec87-2a7e-4f06-daff-c8b5cfba4f10"
   },
   "outputs": [
    {
     "name": "stdout",
     "output_type": "stream",
     "text": [
      "49\n",
      "49\n",
      "nan\n"
     ]
    }
   ],
   "source": [
    "print(np.sum(x))\n",
    "print(x.sum())\n",
    "print(np.sum(x_nan))"
   ]
  },
  {
   "cell_type": "code",
   "execution_count": 66,
   "metadata": {
    "colab": {
     "base_uri": "https://localhost:8080/"
    },
    "executionInfo": {
     "elapsed": 4002,
     "status": "ok",
     "timestamp": 1615427824725,
     "user": {
      "displayName": "Luis Fernando Leal Hernandez",
      "photoUrl": "",
      "userId": "08643725771405988586"
     },
     "user_tz": 360
    },
    "id": "zDuDhNVbaxtr",
    "outputId": "34d33ef0-276c-4e6d-a57d-1efdfb8d05a7"
   },
   "outputs": [
    {
     "name": "stdout",
     "output_type": "stream",
     "text": [
      "1451520\n",
      "1451520\n",
      "nan\n"
     ]
    }
   ],
   "source": [
    "print(np.prod(x))\n",
    "print(x.prod())\n",
    "print(np.prod(x_nan))"
   ]
  },
  {
   "cell_type": "markdown",
   "metadata": {
    "id": "TVcTQSn8axts"
   },
   "source": [
    "#### Aritmetica acumulativa\n",
    "\n",
    "En muchos casos es útil usar sumas o productos acumulativos , por ejemplo:\n",
    "\n",
    "**Ejemplo aplicado** En un datawarehouse se tiene un modelo \"lifetime value\" en el que se almacena de manera acumulativa cuantas ganancias se han percibido a lo largo de la vida de los usuarios, un ETL en Python debe calcularlo en función de un vector que contiene de manera ordenada en el tiempo los ingresos percibidos mensualmente para cierto usuario. Podemos usar la funcion **np.cumsum** para esto, en este ejercicio necesitamos determinar el \"lifetime value\" de cierto usuario en su 6to mes:\n"
   ]
  },
  {
   "cell_type": "code",
   "execution_count": 67,
   "metadata": {
    "colab": {
     "base_uri": "https://localhost:8080/"
    },
    "executionInfo": {
     "elapsed": 3982,
     "status": "ok",
     "timestamp": 1615427824726,
     "user": {
      "displayName": "Luis Fernando Leal Hernandez",
      "photoUrl": "",
      "userId": "08643725771405988586"
     },
     "user_tz": 360
    },
    "id": "Gk3Qcf9UK8JW",
    "outputId": "60d5e11f-538e-48dd-ffec-e4246b47d217"
   },
   "outputs": [
    {
     "data": {
      "text/plain": [
       "array([ 1,  3,  6, 10, 15])"
      ]
     },
     "execution_count": 67,
     "metadata": {
      "tags": []
     },
     "output_type": "execute_result"
    }
   ],
   "source": [
    "a = np.array([1,2,3,4,5])\r\n",
    "\r\n",
    "np.cumsum(a)"
   ]
  },
  {
   "cell_type": "code",
   "execution_count": 68,
   "metadata": {
    "colab": {
     "base_uri": "https://localhost:8080/"
    },
    "executionInfo": {
     "elapsed": 3953,
     "status": "ok",
     "timestamp": 1615427824726,
     "user": {
      "displayName": "Luis Fernando Leal Hernandez",
      "photoUrl": "",
      "userId": "08643725771405988586"
     },
     "user_tz": 360
    },
    "id": "2lG2pEJ1LP2K",
    "outputId": "ce184851-afce-4f55-b349-7c7c57b1ba15"
   },
   "outputs": [
    {
     "data": {
      "text/plain": [
       "array([  1,   2,   6,  24, 120])"
      ]
     },
     "execution_count": 68,
     "metadata": {
      "tags": []
     },
     "output_type": "execute_result"
    }
   ],
   "source": [
    "np.cumprod(a)"
   ]
  },
  {
   "cell_type": "code",
   "execution_count": 90,
   "metadata": {
    "colab": {
     "base_uri": "https://localhost:8080/",
     "height": 221
    },
    "executionInfo": {
     "elapsed": 3968,
     "status": "error",
     "timestamp": 1615427824743,
     "user": {
      "displayName": "Luis Fernando Leal Hernandez",
      "photoUrl": "",
      "userId": "08643725771405988586"
     },
     "user_tz": 360
    },
    "id": "QbBqxQR_axts",
    "outputId": "b06ef9eb-b7c3-43ef-bf34-cf3efeb106f6"
   },
   "outputs": [
    {
     "name": "stdout",
     "output_type": "stream",
     "text": [
      "Lifetime value: [ 25 175 300 375 475 520 542 572]\n",
      "El valor del usuario a su sexto mes es : 520\n"
     ]
    }
   ],
   "source": [
    "def lifetime_value(ganancias_mensuales):\n",
    "    return np.cumsum(ganancias_mensuales)\n",
    "\n",
    "# Prueba:\n",
    "ganancias_usuario = np.array([25,150,125,75,100,45,22,30])\n",
    "lifetime_value_usuario = lifetime_value(ganancias_usuario)\n",
    "\n",
    "print(\"Lifetime value:\",lifetime_value_usuario)\n",
    "\n",
    "print(\"El valor del usuario a su sexto mes es :\",lifetime_value_usuario[5])"
   ]
  },
  {
   "cell_type": "markdown",
   "metadata": {
    "id": "0x1fNi5Maxtt"
   },
   "source": [
    "Poseemos también la funcióm similar **np.cumprod** que multiplica de manera acumulativa los elementos de un vector."
   ]
  },
  {
   "cell_type": "code",
   "execution_count": 70,
   "metadata": {
    "colab": {
     "base_uri": "https://localhost:8080/"
    },
    "executionInfo": {
     "elapsed": 592,
     "status": "ok",
     "timestamp": 1615427833268,
     "user": {
      "displayName": "Luis Fernando Leal Hernandez",
      "photoUrl": "",
      "userId": "08643725771405988586"
     },
     "user_tz": 360
    },
    "id": "oUGqlC42axtu",
    "outputId": "b316d06b-4566-4a23-c1f8-5136c256294a"
   },
   "outputs": [
    {
     "name": "stdout",
     "output_type": "stream",
     "text": [
      "[             25            3750          468750        35156250\n",
      "      3515625000    158203125000   3480468750000 104414062500000]\n"
     ]
    }
   ],
   "source": [
    "print(np.cumprod(ganancias_usuario))"
   ]
  },
  {
   "cell_type": "markdown",
   "metadata": {
    "id": "7NGf_2y5axtu"
   },
   "source": [
    "#### Estadística descriptiva\n",
    "\n",
    "https://docs.scipy.org/doc/numpy-1.15.0/reference/routines.statistics.html"
   ]
  },
  {
   "cell_type": "code",
   "execution_count": 71,
   "metadata": {
    "colab": {
     "base_uri": "https://localhost:8080/"
    },
    "executionInfo": {
     "elapsed": 744,
     "status": "ok",
     "timestamp": 1615427836900,
     "user": {
      "displayName": "Luis Fernando Leal Hernandez",
      "photoUrl": "",
      "userId": "08643725771405988586"
     },
     "user_tz": 360
    },
    "id": "iQFFYwfPaxtv",
    "outputId": "5a2303a4-74fa-43d6-f22c-6a692396a5f0"
   },
   "outputs": [
    {
     "name": "stdout",
     "output_type": "stream",
     "text": [
      "4.454545454545454\n",
      "nan\n"
     ]
    }
   ],
   "source": [
    "print(np.mean(x))\n",
    "print(x_nan.mean())"
   ]
  },
  {
   "cell_type": "code",
   "execution_count": 72,
   "metadata": {
    "colab": {
     "base_uri": "https://localhost:8080/"
    },
    "executionInfo": {
     "elapsed": 787,
     "status": "ok",
     "timestamp": 1615427837926,
     "user": {
      "displayName": "Luis Fernando Leal Hernandez",
      "photoUrl": "",
      "userId": "08643725771405988586"
     },
     "user_tz": 360
    },
    "id": "lwAxPhqdL7zX",
    "outputId": "89b6a574-26b4-4dd5-ef2a-329ee0ac1b4b"
   },
   "outputs": [
    {
     "data": {
      "text/plain": [
       "3.5"
      ]
     },
     "execution_count": 72,
     "metadata": {
      "tags": []
     },
     "output_type": "execute_result"
    }
   ],
   "source": [
    "np.nanmean(x_nan)"
   ]
  },
  {
   "cell_type": "code",
   "execution_count": 73,
   "metadata": {
    "colab": {
     "base_uri": "https://localhost:8080/"
    },
    "executionInfo": {
     "elapsed": 699,
     "status": "ok",
     "timestamp": 1615427841081,
     "user": {
      "displayName": "Luis Fernando Leal Hernandez",
      "photoUrl": "",
      "userId": "08643725771405988586"
     },
     "user_tz": 360
    },
    "id": "mS1zTVbFaxtw",
    "outputId": "71e434df-4aa7-491e-c041-962a525dda15"
   },
   "outputs": [
    {
     "name": "stdout",
     "output_type": "stream",
     "text": [
      "4.0\n",
      "nan\n"
     ]
    }
   ],
   "source": [
    "print(np.median(x))\n",
    "print(np.median(x_nan))"
   ]
  },
  {
   "cell_type": "code",
   "execution_count": 74,
   "metadata": {
    "colab": {
     "base_uri": "https://localhost:8080/"
    },
    "executionInfo": {
     "elapsed": 638,
     "status": "ok",
     "timestamp": 1615427843026,
     "user": {
      "displayName": "Luis Fernando Leal Hernandez",
      "photoUrl": "",
      "userId": "08643725771405988586"
     },
     "user_tz": 360
    },
    "id": "zWK9TMATaxtw",
    "outputId": "9b89f7cb-36f4-4ff5-9313-69a6c3339442"
   },
   "outputs": [
    {
     "name": "stdout",
     "output_type": "stream",
     "text": [
      "2.6064129430602643\n",
      "2.6064129430602643\n"
     ]
    }
   ],
   "source": [
    "print(x.std())\n",
    "print(np.std(x))"
   ]
  },
  {
   "cell_type": "code",
   "execution_count": 75,
   "metadata": {
    "colab": {
     "base_uri": "https://localhost:8080/"
    },
    "executionInfo": {
     "elapsed": 555,
     "status": "ok",
     "timestamp": 1615427843933,
     "user": {
      "displayName": "Luis Fernando Leal Hernandez",
      "photoUrl": "",
      "userId": "08643725771405988586"
     },
     "user_tz": 360
    },
    "id": "Dzn4LVTpaxtx",
    "outputId": "dcdbbafa-4a62-43d9-ff81-62605779c5d9"
   },
   "outputs": [
    {
     "name": "stdout",
     "output_type": "stream",
     "text": [
      "6.793388429752068\n",
      "6.793388429752068\n"
     ]
    }
   ],
   "source": [
    "print(x.var())\n",
    "print(np.var(x))"
   ]
  },
  {
   "cell_type": "markdown",
   "metadata": {
    "id": "Fn081ds-axty"
   },
   "source": [
    "**Ejercicio** Usando argmax crear una función mode(x) para calcular la moda de un vector x , esta función debe devolver una tupla de 2 elementos de la forma:\n",
    "\n",
    "(valor,conteo)\n",
    "\n",
    "**tip** investigar y auxiliarse de otras funciones de numpy y np.argmax, no olvidar trabajar todo vectorizado, sin ciclos."
   ]
  },
  {
   "cell_type": "code",
   "execution_count": 15,
   "metadata": {
    "colab": {
     "base_uri": "https://localhost:8080/",
     "height": 132
    },
    "executionInfo": {
     "elapsed": 624,
     "status": "error",
     "timestamp": 1615427847354,
     "user": {
      "displayName": "Luis Fernando Leal Hernandez",
      "photoUrl": "",
      "userId": "08643725771405988586"
     },
     "user_tz": 360
    },
    "id": "W0Y0-ZZ-axty",
    "outputId": "441e5d77-1682-42a6-eeb1-248299a3cb48"
   },
   "outputs": [
    {
     "name": "stdout",
     "output_type": "stream",
     "text": [
      "(1, 8)\n"
     ]
    }
   ],
   "source": [
    "w = np.array([1,2,1,1,1,1,1,1,1,13,4,2,3,3,3,3,3,3,7,6,7,8,9,8,6,7,8,9,9,9,9,9])\n",
    "\n",
    "def mode(x):\n",
    "    a, b = np.unique(x, return_counts=True)\n",
    "    max = np.argmax(b)\n",
    "    return (a[max],b[max])\n",
    "\n",
    "\n",
    "print(mode(w))\n",
    "\n"
   ]
  },
  {
   "cell_type": "code",
   "execution_count": 77,
   "metadata": {
    "executionInfo": {
     "elapsed": 575,
     "status": "ok",
     "timestamp": 1615427848621,
     "user": {
      "displayName": "Luis Fernando Leal Hernandez",
      "photoUrl": "",
      "userId": "08643725771405988586"
     },
     "user_tz": 360
    },
    "id": "1cyToCNGpdA1"
   },
   "outputs": [],
   "source": [
    "dist_a = np.array([0.3,0.5,0.2])"
   ]
  },
  {
   "cell_type": "markdown",
   "metadata": {
    "id": "OWnk9Eoeaxtz"
   },
   "source": [
    "**Ejercicio** : crear una función para calcular la entropía  de una distribución de probabilidad representada como un vector.\n",
    "$$S = -\\sum_i^nP(x_{i})log_{2}P(x_{i})$$\n",
    "\n",
    "**Nota**: a diferencia del ejercicio anterior donde solo calculamos los términos de la entropía, en este caso  si calculamos el valor completo de la entropía, que como mencionamos es una medida de incerteza en una distribución de probabilidad.\n",
    "\n",
    "**recordatorio**: no usar ciclos solo operaciones vectorizadas."
   ]
  },
  {
   "cell_type": "code",
   "execution_count": 92,
   "metadata": {
    "executionInfo": {
     "elapsed": 3802,
     "status": "aborted",
     "timestamp": 1615427824733,
     "user": {
      "displayName": "Luis Fernando Leal Hernandez",
      "photoUrl": "",
      "userId": "08643725771405988586"
     },
     "user_tz": 360
    },
    "id": "OaCUbbd_axtz"
   },
   "outputs": [],
   "source": [
    "def calcular_entropia(dist_prob):\n",
    "    entropia = np.sum(dist_prob * np.log2(dist_prob)* -1)\n",
    "    return entropia"
   ]
  },
  {
   "cell_type": "markdown",
   "metadata": {
    "id": "Ee4Z784maxt0"
   },
   "source": [
    "**Ejercicio**: En ML usamos la entropía cruzada como una forma de medir que tan bueno es un modelo de variables discretas a través de comparar la distribución de probabilidad que el modelo produce o predice, vs la distribución de probabilidad real dada por los datos de entrenamiento.\n",
    "\n",
    "Podemos ver el siguiente ejemplo que define la forma en que se calcula la entropía cruzada y nos muestra un caso específico:\n",
    "\n",
    "<img src=\"https://image.slidesharecdn.com/publishintroductiontodeeplearninginpythonandmatlab1-160502102437/95/introduction-to-deep-learning-in-python-and-matlab-54-638.jpg?cb=1462185644\">\n",
    "\n",
    "En este caso interpretamos así: El problema consiste en un modelo o algoritmo de ML que debe producir un vector de 3 elementos indicando la probabilidad de que ciertos datos X pertenezcan a una de 3 categorías.\n",
    "\n",
    "* El modelo de ML produce un vector que indica que estima un 70% de probabilidad de que se trate de la categoría 0, 20% de probabilidad de que se trate de la categoría 1 y 10% de que se trate de la categoría 2.\n",
    "* Los datos reales nos dicen que se trataba de un caso donde con total certeza se sabe que se trata de la categoría 0\n",
    "* La entropía cruzada(a calcular en el ejercicio) nos indica que tan buena es la estimación del modelo, una EC de 0 es un modelo perfecto(en este caso un modelo que predice 100% de prob para la clase 0)\n",
    "\n",
    "**Nota** \n",
    "* Aun que para calcular la entropía usamos logaritmos en base 2, en ML para calcular la entropía cruzada se usa logaritmo natural ya que con este se cumple el proposito **estimar que tanto se alejan las predicciones del modelo de ML de los datos reales** y es comunmente mas rápido de calcular en la computadora.\n",
    "* Ya que estamos trabajando con vectores que representan distribuciones de probabilidad , podemos toparnos con lo que se conoce como : **sparse vectors**(vectores donde la mayoría de elementos son 0), esto puede producir problemas ya que le logaritmo de 0 no esta definido, tu solución debe tomar en cuenta esto y evitar que devuelva \"nan\""
   ]
  },
  {
   "cell_type": "code",
   "execution_count": 94,
   "metadata": {
    "executionInfo": {
     "elapsed": 3802,
     "status": "aborted",
     "timestamp": 1615427824735,
     "user": {
      "displayName": "Luis Fernando Leal Hernandez",
      "photoUrl": "",
      "userId": "08643725771405988586"
     },
     "user_tz": 360
    },
    "id": "E1mfe9x6axt0"
   },
   "outputs": [
    {
     "name": "stderr",
     "output_type": "stream",
     "text": [
      "<ipython-input-94-ed91c43be7be>:2: RuntimeWarning: divide by zero encountered in log\n",
      "  return np.sum(Y_hat * np.log(Y))\n"
     ]
    },
    {
     "data": {
      "text/plain": [
       "-inf"
      ]
     },
     "execution_count": 94,
     "metadata": {},
     "output_type": "execute_result"
    }
   ],
   "source": [
    "def cross_entropy(Y,Y_hat):\n",
    "    return np.sum(Y_hat * np.log(Y))\n",
    "    \n",
    "y  = np.array([1.0,0,0])\n",
    "y_hat = np.array([0.7,0.2,0.1]) # <- resultado de algun modelo predictivo\n",
    "\n",
    "cross_entropy(y,y_hat)"
   ]
  },
  {
   "cell_type": "markdown",
   "metadata": {
    "id": "XTSzWXdsaxt1"
   },
   "source": [
    "\n",
    "### Magnitud de un Vector(norma o módulo)\n",
    "Ya hemos visto que en DS usamos vectores para representar información ,una propiedad importante de los vectores es la **magnitud** del vector. \n",
    "\n",
    "Matemáticamente la magnitud de un vector(también conocida como norma vectorial)  nos indica  el tamaño de este , y nos sirve para tener una noción de la distancia desde un punto de referencia(origen) hasta el punto representado por el vector.\n",
    "\n",
    "\n",
    "\n",
    "<img src=\"http://mathonline.wdfiles.com/local--files/the-norm-of-a-vector/Screen%20Shot%202014-06-12%20at%205.37.19%20PM.png\">\n",
    "\n",
    "Se puede calcular con:\n",
    "\n",
    "<img src=\"https://images.slideplayer.com/18/6074185/slides/slide_4.jpg\">\n",
    "\n",
    "En DS la interpretación de la magnitud depende del problema y significado del vector sobre el que se trabaje, ademas de ser también utilizada en calculos mas complejos,por ejemplo: **similitud por cosenos**.\n",
    "\n",
    "<img src=\"https://machinelearningflashcards.com/images/L2_Norm_print.png\">\n",
    "\n",
    "\n",
    "Algunos ejemplos:\n",
    "* En machine learning:\n",
    "    * Si almacenamos en 2 vectores los errores producidos por 2 modelos de ML , podemos usar la magnitud de estos para determinar cual de los 2 modelos es mejor.\n",
    "    * Cuando un modelo de ML \"memoriza\" en lugar de \"aprender\" decimos que sufre \"overfitting\" una forma de atacar este problema es usar \"L2 regularization\" que consiste en agregar a la \"función de costo\" un término de penalización que es calculado a partir de la magnitud de parámetros del modelo(cuadrado de la magnitud)\n",
    "    \n",
    "    <img src=\"https://cdn-images-1.medium.com/max/1600/1*JP9VzwxsRXjocb3WgVOTxA.png\">\n",
    "    * Un paso de pre-procesamiento común en ML es aplicar \"normalización\" a los datos, esto se logra(entre otras formas) dividiendo el vector de datos dentro de su magnitud de manera que tenga magnitud 1.\n",
    "    \n",
    "* En NLP(natural language processing): es común representar documentos como vectores n dimensionales, donde n es el número de palabras en cierto vocabulario, cada elemento \"i\" del vector indica cuantas veces aparece en el documento la palabra denotada por la posición \"i\" , podemos  usar la magnitud vectorial  para calcular la **similitud cosenoidal** y así estimar que tanto se  parece en contenido un documento a otro.\n",
    "<img src=\"https://www.machinelearningplus.com/wp-content/uploads/2018/10/Cosine-Similarity-Formula-1.png\">\n",
    "\n",
    "**ejercicio** : crear una función que reciba como parámetro un vector x y calcule su magnitud o norma(euclidiana o L2) ,luego usarla para evaluar 2 vectores que representan los errores generados por 2 modelos de machine learning y concluir cual de los 2 modelos es mejor."
   ]
  },
  {
   "cell_type": "code",
   "execution_count": 99,
   "metadata": {
    "executionInfo": {
     "elapsed": 3784,
     "status": "aborted",
     "timestamp": 1615427824736,
     "user": {
      "displayName": "Luis Fernando Leal Hernandez",
      "photoUrl": "",
      "userId": "08643725771405988586"
     },
     "user_tz": 360
    },
    "id": "TyUB8hzKaxt1"
   },
   "outputs": [
    {
     "name": "stdout",
     "output_type": "stream",
     "text": [
      "3.1622776601683795\n",
      "2.449489742783178\n",
      "modelo2 es el mejor\n"
     ]
    }
   ],
   "source": [
    "def magnitud(x):\n",
    "    return np.sqrt(np.sum(np.power(x,2))) # raiz cuadrada\n",
    "\n",
    "errores_modelo1 = np.array([1,2,1,2]) #\n",
    "errores_modelo2 = np.array([0,1,1,2]) #\n",
    "\n",
    "print(magnitud(errores_modelo1))\n",
    "print(magnitud(errores_modelo2))\n",
    "\n",
    "# elegir el mejor modelo con una condicional(if)\n",
    "\n",
    "if magnitud(errores_modelo1) < magnitud(errores_modelo2):\n",
    "    print(\"modelo1 es el mejor\")\n",
    "else:\n",
    "    print(\"modelo2 es el mejor\")"
   ]
  },
  {
   "cell_type": "markdown",
   "metadata": {
    "id": "7Jc1Cbuwaxt2"
   },
   "source": [
    "**ejercicio** Usando la función del ejercicio anterior, crea otra función normalizar(x) que reciba de parámetro un vector x aplique normalización sobre este, el resultado debe ser un nuevo vector del tamaño de x cuya magnitud es igual a 1.0"
   ]
  },
  {
   "cell_type": "code",
   "execution_count": 101,
   "metadata": {
    "executionInfo": {
     "elapsed": 3781,
     "status": "aborted",
     "timestamp": 1615427824738,
     "user": {
      "displayName": "Luis Fernando Leal Hernandez",
      "photoUrl": "",
      "userId": "08643725771405988586"
     },
     "user_tz": 360
    },
    "id": "t8tDRkdNaxt2"
   },
   "outputs": [
    {
     "name": "stdout",
     "output_type": "stream",
     "text": [
      "1.0\n",
      "[0.         0.40824829 0.40824829 0.81649658]\n"
     ]
    }
   ],
   "source": [
    "def normalizar(x):\n",
    "    return x / magnitud(x)\n",
    "    \n",
    "print(magnitud(normalizar(errores_modelo1)))\n",
    "print(normalizar(errores_modelo2))"
   ]
  },
  {
   "cell_type": "markdown",
   "metadata": {
    "id": "GGDfc5t_axt4"
   },
   "source": [
    "### Producto Punto(escalar,interno,interior) y Ortogonalidad\n",
    "\n",
    "El producto punto(también conocido como producto escalar,producto interno o producto interior es una operación entre 2 vectores, cuyo resultado es un único número(escalar).\n",
    "\n",
    "Existen basicamente 2 definiciones del producto punto siendo la más conocida la sumatoria de los productos entre elementos de los vectores.\n",
    "\n",
    "Otra definición geométrica del producto punto puede ser obtenida basandonos en la magnitud de los vectores y el ángulo entre ellos.\n",
    "\n",
    "<img src = \"https://ocw.mit.edu/courses/mathematics/18-02sc-multivariable-calculus-fall-2010/1.-vectors-and-matrices/part-a-vectors-determinants-and-planes/session-2-dot-products/MIT18_02SC_L1Brds_5.png\">\n",
    "\n",
    "Por lo tanto podemos usar estas expresiones para encontrar el ángulo existente entre los 2 vectores.\n",
    "\n",
    "<img src=\"data:image/png;base64,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\">\n",
    "\n",
    "#### Interpretación \n",
    "Existen diversas interpretaciones de esta operación , algunas son :\n",
    "\n",
    "* Que tan similares son 2 vectores: esto es útil en casos donde tengamos vectores de datos y necesitemos comparar su similitud.\n",
    "* Proyectar un vector sobre otro: el producto punto es el tamaño de la proyección de un vector A sobre un vector B multiplicado por el tamaño del vector B\n",
    "<img src=\"https://raw.githubusercontent.com/llealgt/Galileo_Python_DS/main/NumPy_algebra_lineal/dot_product.png\">\n",
    "* El producto punto es parte importante de la multiplicación de matrices(tema aún por desarrollar), una de las operaciones más importantes en AI a través de deep learning.\n",
    "\n",
    "\n",
    "#### Usos y aplicaciones del producto punto\n",
    "\n",
    "El producto punto tiene diversas aplicaciones en muchas ciencias, en ciencias de datos es muy utilizado y aplicado , por ejemplo:\n",
    "\n",
    "* **En Machine Learning**:\n",
    "    * En modelos lineales como regresión lineal o regresión lógistica es común guardar en un vector los parámetros de los modelos(aveces llamado W) y cuando queremos hacer inferencia sobre ciertos datos \"x\" almacenamos los datos \"x\" en un vector X y aplicamos la operación producto punto entre X y W.\n",
    "    <img src=\"https://images.slideplayer.com/24/7356693/slides/slide_5.jpg\">\n",
    "    * Una interpretación geométrica del producto punto es que tan similares dos vectores son entre sí , las redes neuronales utilizan este principio  para definir multiples capas jerarquicas de \"caraceterísticas\"(representadas por neuronas) que buscar sobre ciertos datos de entrada X, estas  características  son definidas en vectores  por lo cual el producto punto es una medida de que tanto se parece cierto vector X a la característica que la neurona representa, un valor alto del producto punto indica alta similitud entre los datos X y la característica que la neurona \"busca\"\n",
    "    <img src=\"https://miro.medium.com/max/816/1*BMSfafFNEpqGFCNU4smPkg.png\">\n",
    "    \n",
    "\n",
    "#### Perpendicularidad \n",
    "\n",
    "Se dice que 2 vectores son perpendiculares si el producto punto entre ellos es igual a 0 ,geometricamente esto ocurre cuando los vectores se encuentran a 90 grados entre sí por lo cual en DS podemos interpretar que 2 vectores cuyo producto punto es 0, son vectores que difieren mucho por lo tanto son muy diferentes.\n",
    "\n",
    "\n",
    "<img src=\"https://chortle.ccsu.edu/VectorLessons/vch07/acuteORobtuse.gif\">\n",
    "    \n",
    "#### Producto punto en NumPy\n",
    "\n",
    "En NumPy poseemos 2 maneras de calcular el producto punto sobre vectores de igual tamaño:\n",
    "\n",
    "* np.dot:https://docs.scipy.org/doc/numpy/reference/generated/numpy.dot.html#numpy.dot\n",
    "* np.inner:https://docs.scipy.org/doc/numpy/reference/generated/numpy.inner.html\n",
    "\n",
    "**¿Por que 2 operaciones?** Estas operaciones son diferentes cuando se trabaja con Tensores de rango mayor a 1 y pueden ser \"configurables\" , para Tensores de rango=1(vectores de igual tamaño,nuestro tema actual) son equivalentes."
   ]
  },
  {
   "cell_type": "code",
   "execution_count": 102,
   "metadata": {
    "executionInfo": {
     "elapsed": 3747,
     "status": "aborted",
     "timestamp": 1615427824740,
     "user": {
      "displayName": "Luis Fernando Leal Hernandez",
      "photoUrl": "",
      "userId": "08643725771405988586"
     },
     "user_tz": 360
    },
    "id": "O9GZeh16axt5"
   },
   "outputs": [
    {
     "data": {
      "image/png": "[encoded data removed]",
      "text/plain": [
       "<Figure size 432x288 with 1 Axes>"
      ]
     },
     "metadata": {
      "needs_background": "light"
     },
     "output_type": "display_data"
    },
    {
     "name": "stdout",
     "output_type": "stream",
     "text": [
      "0\n"
     ]
    }
   ],
   "source": [
    "a = np.array([10,0]) #usuario1\n",
    "b = np.array([0,10]) #usuario2\n",
    "\n",
    "plt.arrow(0,0,a[0],a[1],head_width=0.1,head_length=0.1)\n",
    "plt.arrow(0,0,b[0],b[1],head_width=0.1,head_length=0.1)\n",
    "plt.xlim(-15,15)\n",
    "plt.ylim(-20,20)\n",
    "plt.show()\n",
    "\n",
    "print(np.dot(a,b))"
   ]
  },
  {
   "cell_type": "code",
   "execution_count": 103,
   "metadata": {
    "executionInfo": {
     "elapsed": 3725,
     "status": "aborted",
     "timestamp": 1615427824741,
     "user": {
      "displayName": "Luis Fernando Leal Hernandez",
      "photoUrl": "",
      "userId": "08643725771405988586"
     },
     "user_tz": 360
    },
    "id": "qPcjCo_1axt6"
   },
   "outputs": [
    {
     "name": "stdout",
     "output_type": "stream",
     "text": [
      "1.4\n",
      "1.4\n",
      "1.4\n"
     ]
    }
   ],
   "source": [
    "f = np.array([0.1,0.2,0.3])\n",
    "g = np.array([1,2,3])\n",
    "\n",
    "print(f.dot(g))\n",
    "print(np.dot(f,g))\n",
    "\n",
    "#print(g.inner(f)) # operacion no existente en NumPy\n",
    "print(np.inner(g,f))"
   ]
  },
  {
   "cell_type": "markdown",
   "metadata": {
    "id": "W4MmQnBDaxt6"
   },
   "source": [
    "**Ejercicio aplicado en DS**\n",
    "Se tiene una red neuronal sencilla(y simplificada) como la de la siguiente imagen:\n",
    "<img src=\"https://www.oreilly.com/library/view/practical-convolutional-neural/9781788392303/assets/246151fb-7893-448d-b9bb-7a87b387a24b.png\">\n",
    "\n",
    "Donde:\n",
    "* INPUT LAYER: un vector X de tamaño = 2 que representa los datos de entrada\n",
    "* HIDDEN_LAYER :capa oculta con 2 neuronas definidas por los vectores:\n",
    "    * HL1 = [0.25,0.37]\n",
    "    * HL2 = [-8,14]\n",
    "* OUTPUT_LAYER = capa de salida definida por el vector [4,9]\n",
    "\n",
    "Crear una funcion neural_network(X) para calcular:\n",
    "* Calcule la salida de cada neurona en la capa intermedia aplicada a la capa de entrada.\n",
    "* Use el resultado del paso anterior como entrada para la neurona en la capa de salida\n",
    "\n",
    "Asumiendo que cada neurona identifica la similitud entre su entrada y la caracteística que representa concluir:\n",
    "* Para cada vector de entrada Xi , cual neurona intermedia busca la característica que mas se parece a X.\n",
    "* Cual vector de entrada Xi produce una activación alta(salida alta) en la capa de salida."
   ]
  },
  {
   "cell_type": "code",
   "execution_count": 104,
   "metadata": {
    "executionInfo": {
     "elapsed": 3722,
     "status": "aborted",
     "timestamp": 1615427824741,
     "user": {
      "displayName": "Luis Fernando Leal Hernandez",
      "photoUrl": "",
      "userId": "08643725771405988586"
     },
     "user_tz": 360
    },
    "id": "L0ri-Ex4axt7"
   },
   "outputs": [],
   "source": [
    "# Aplicar la red neuronal sobre los siguientes datos X\n",
    "\n",
    "X1 = np.array([0.50,0.72])\n",
    "X2 = np.array([-4,7])\n",
    "X3 = np.zeros_like(X2)\n",
    "x4 = np.ones_like(X1)\n",
    "X5 = np.random.randn(X1.shape[0])\n"
   ]
  },
  {
   "cell_type": "markdown",
   "metadata": {
    "id": "ChG4H50qaxt8"
   },
   "source": [
    "**Ejercicio aplicado en DS**: la correlación cruzada es una medida de similitud entre 2 funciones como resultado de \"desplazar\" una sobre la otra, comunmente es usada para encontrar características relevantes en una función desconocida o no controlada.\n",
    "\n",
    "En procesamiento de señales por ejemplo es usada para buscar y/o filtrar en una señal que varia en el tiempo cierta caracaterística de interés. Aveces es llamada también \"sliding dot product\" consiste en aplicar en cada punto de una función F el producto punto con cierta función G(comunmente mas corta) y luego \"deslizar\" G a un nuevo punto de la función, el resultado es una nueva función H que se interpreta como :**cuanto se parece** en cada punto la función F a la característica G. \n",
    "\n",
    "<img src=\"https://i.makeagif.com/media/11-25-2015/LZ9Ufj.gif\">\n",
    "\n",
    "En este ejercicio usamos correlación cruzada para calcular las medias moviles promediando 3 puntos que ya vimos en otro ejemplo:\n",
    "\n",
    "El primer paso es definir la función G que define el \"filtro\" a aplicar, para este caso consiste simplemente en un vector con 3 elementos donde cada elemento corresponde a 1/3, luego debemos aplicar el producto punto sobre cada punto de la función o datos originales(en este ejemplo llamados x) a traves aplicar el producto punto en cada elemento \"corriendolo\" de uno en uno"
   ]
  },
  {
   "cell_type": "code",
   "execution_count": 106,
   "metadata": {
    "executionInfo": {
     "elapsed": 3716,
     "status": "aborted",
     "timestamp": 1615427824742,
     "user": {
      "displayName": "Luis Fernando Leal Hernandez",
      "photoUrl": "",
      "userId": "08643725771405988586"
     },
     "user_tz": 360
    },
    "id": "SprJgc3-axt8"
   },
   "outputs": [],
   "source": [
    "ruido = 0.1*np.random.randn(15) #el ruido comunmente se debe a aleatoriedad o captura no exacta de info.\n",
    "x = np.linspace(0,2*np.pi,15) \n",
    "y = np.sin(x) + ruido\n",
    "\n",
    "filtro = np.array([1/3,1/3,1/3]) #para lograr las medias moviles a través de correlación cruzada\n",
    "\n",
    "## tu codigo aqui (~ 3 linea de codigo)\n",
    "    \n",
    "\n"
   ]
  },
  {
   "cell_type": "markdown",
   "metadata": {
    "id": "uFI8KNdLaxt9"
   },
   "source": [
    "### Constantes Numéricas importantes\n",
    "\n",
    "Tal como NumPy provee funciones matemáticas comunes como logaritmos y funciones trigonométricas ,también posee constantes usadas comunmente en problemas numéricos , por ejemplo:\n",
    "\n",
    "* **np.e** : constante de Euler, base de logaritmos naturales 2.71828...\n",
    "* **np.pi** :el conocido número pi 3.1415.....\n",
    "* **np.euler_gamma**: constante utilizada  por ejemplo en transformadas de Laplace , 0.5772....\n",
    "\n",
    "Además de algunas constantes útiles en Python para indicar por ejemplo: infinito positivo, negativo o si el resultado de una operación no es un número definido.\n",
    "\n",
    "* **np.inf**: infinito positivo\n",
    "* **np.NINF** :infinito negativo\n",
    "* **np.nan**: not a number\n",
    "\n",
    "\n",
    "https://docs.scipy.org/doc/numpy-1.15.0/reference/constants.html"
   ]
  },
  {
   "cell_type": "code",
   "execution_count": 80,
   "metadata": {
    "colab": {
     "base_uri": "https://localhost:8080/"
    },
    "executionInfo": {
     "elapsed": 627,
     "status": "ok",
     "timestamp": 1615428239233,
     "user": {
      "displayName": "Luis Fernando Leal Hernandez",
      "photoUrl": "",
      "userId": "08643725771405988586"
     },
     "user_tz": 360
    },
    "id": "V5QnPDokaxt9",
    "outputId": "58c7dbbc-3fc7-4e19-b7c4-54bb2940215f"
   },
   "outputs": [
    {
     "name": "stdout",
     "output_type": "stream",
     "text": [
      "2.718281828459045\n",
      "3.141592653589793\n",
      "0.5772156649015329\n",
      "inf\n",
      "-inf\n",
      "nan\n"
     ]
    }
   ],
   "source": [
    "import numpy as np\n",
    "print(np.e)\n",
    "print(np.pi)\n",
    "print(np.euler_gamma)\n",
    "\n",
    "print(np.inf)\n",
    "print(np.NINF)\n",
    "print(np.nan)"
   ]
  },
  {
   "cell_type": "markdown",
   "metadata": {
    "id": "L0xkpg2paxt-"
   },
   "source": [
    "inf,NINF, y nan  se obtienen muchas veces al aplicar una operación matemática sobre cierto valor, por ejemplo logaritmos de números negativos es algo no definido por lo cual resulta en nan, o una división por 0 resulta en infinito.\n"
   ]
  },
  {
   "cell_type": "code",
   "execution_count": 81,
   "metadata": {
    "colab": {
     "base_uri": "https://localhost:8080/"
    },
    "executionInfo": {
     "elapsed": 632,
     "status": "ok",
     "timestamp": 1615428278255,
     "user": {
      "displayName": "Luis Fernando Leal Hernandez",
      "photoUrl": "",
      "userId": "08643725771405988586"
     },
     "user_tz": 360
    },
    "id": "rBzHacgyaxt-",
    "outputId": "c4795073-aa02-45f7-ad13-dbf0343b029c"
   },
   "outputs": [
    {
     "name": "stdout",
     "output_type": "stream",
     "text": [
      "[       nan        nan       -inf 0.         0.40546511 2.30258509\n",
      " 4.60517019]\n"
     ]
    },
    {
     "name": "stderr",
     "output_type": "stream",
     "text": [
      "/usr/local/lib/python3.7/dist-packages/ipykernel_launcher.py:3: RuntimeWarning: divide by zero encountered in log\n",
      "  This is separate from the ipykernel package so we can avoid doing imports until\n",
      "/usr/local/lib/python3.7/dist-packages/ipykernel_launcher.py:3: RuntimeWarning: invalid value encountered in log\n",
      "  This is separate from the ipykernel package so we can avoid doing imports until\n"
     ]
    }
   ],
   "source": [
    "x = np.array([-5.3,-1,0,1,1.5,10,100])\n",
    "\n",
    "print(np.log(x))"
   ]
  },
  {
   "cell_type": "code",
   "execution_count": 82,
   "metadata": {
    "colab": {
     "base_uri": "https://localhost:8080/"
    },
    "executionInfo": {
     "elapsed": 679,
     "status": "ok",
     "timestamp": 1615428296280,
     "user": {
      "displayName": "Luis Fernando Leal Hernandez",
      "photoUrl": "",
      "userId": "08643725771405988586"
     },
     "user_tz": 360
    },
    "id": "rzsJ4y8-axt_",
    "outputId": "6c8a8962-19d6-45d6-d3af-efb8ca957b42"
   },
   "outputs": [
    {
     "name": "stderr",
     "output_type": "stream",
     "text": [
      "/usr/local/lib/python3.7/dist-packages/ipykernel_launcher.py:4: RuntimeWarning: divide by zero encountered in true_divide\n",
      "  after removing the cwd from sys.path.\n"
     ]
    },
    {
     "data": {
      "text/plain": [
       "array([1.   ,   inf, 1.125])"
      ]
     },
     "execution_count": 82,
     "metadata": {
      "tags": []
     },
     "output_type": "execute_result"
    }
   ],
   "source": [
    "numerador = np.array([5,4,9])\n",
    "divisor = np.array([5,0,8])\n",
    "\n",
    "numerador/divisor"
   ]
  },
  {
   "cell_type": "code",
   "execution_count": 83,
   "metadata": {
    "colab": {
     "base_uri": "https://localhost:8080/"
    },
    "executionInfo": {
     "elapsed": 618,
     "status": "ok",
     "timestamp": 1615428323844,
     "user": {
      "displayName": "Luis Fernando Leal Hernandez",
      "photoUrl": "",
      "userId": "08643725771405988586"
     },
     "user_tz": 360
    },
    "id": "5Byun3IaaxuA",
    "outputId": "a2fe4c8a-8426-470b-914a-279eb4c2eb84"
   },
   "outputs": [
    {
     "name": "stdout",
     "output_type": "stream",
     "text": [
      "[0.31622777 0.4472136  2.23606798        nan 2.64575131]\n"
     ]
    },
    {
     "name": "stderr",
     "output_type": "stream",
     "text": [
      "/usr/local/lib/python3.7/dist-packages/ipykernel_launcher.py:3: RuntimeWarning: invalid value encountered in sqrt\n",
      "  This is separate from the ipykernel package so we can avoid doing imports until\n"
     ]
    }
   ],
   "source": [
    "x  = np.array([0.1,0.2,5,-2, 7])\n",
    "\n",
    "print(np.sqrt(x))"
   ]
  },
  {
   "cell_type": "code",
   "execution_count": 84,
   "metadata": {
    "colab": {
     "base_uri": "https://localhost:8080/"
    },
    "executionInfo": {
     "elapsed": 710,
     "status": "ok",
     "timestamp": 1615428341243,
     "user": {
      "displayName": "Luis Fernando Leal Hernandez",
      "photoUrl": "",
      "userId": "08643725771405988586"
     },
     "user_tz": 360
    },
    "id": "yvoXWU0SaxuC",
    "outputId": "d3362d6a-efe5-41ad-a25b-60f1a9a31309"
   },
   "outputs": [
    {
     "data": {
      "text/plain": [
       "False"
      ]
     },
     "execution_count": 84,
     "metadata": {
      "tags": []
     },
     "output_type": "execute_result"
    }
   ],
   "source": [
    "np.inf <= 50"
   ]
  },
  {
   "cell_type": "code",
   "execution_count": 85,
   "metadata": {
    "colab": {
     "base_uri": "https://localhost:8080/"
    },
    "executionInfo": {
     "elapsed": 664,
     "status": "ok",
     "timestamp": 1615428366026,
     "user": {
      "displayName": "Luis Fernando Leal Hernandez",
      "photoUrl": "",
      "userId": "08643725771405988586"
     },
     "user_tz": 360
    },
    "id": "ss21rYpfaxuD",
    "outputId": "99543a8d-9924-428b-bd1a-fe8f96c54e47"
   },
   "outputs": [
    {
     "data": {
      "text/plain": [
       "True"
      ]
     },
     "execution_count": 85,
     "metadata": {
      "tags": []
     },
     "output_type": "execute_result"
    }
   ],
   "source": [
    "np.inf >= 1000000"
   ]
  },
  {
   "cell_type": "code",
   "execution_count": 86,
   "metadata": {
    "colab": {
     "base_uri": "https://localhost:8080/"
    },
    "executionInfo": {
     "elapsed": 806,
     "status": "ok",
     "timestamp": 1615428373885,
     "user": {
      "displayName": "Luis Fernando Leal Hernandez",
      "photoUrl": "",
      "userId": "08643725771405988586"
     },
     "user_tz": 360
    },
    "id": "2_RHeDnxaxuD",
    "outputId": "346226ad-cf4a-4a31-e8bf-44e38efcaa71"
   },
   "outputs": [
    {
     "data": {
      "text/plain": [
       "True"
      ]
     },
     "execution_count": 86,
     "metadata": {
      "tags": []
     },
     "output_type": "execute_result"
    }
   ],
   "source": [
    "np.NINF < 0"
   ]
  },
  {
   "cell_type": "code",
   "execution_count": 87,
   "metadata": {
    "colab": {
     "base_uri": "https://localhost:8080/"
    },
    "executionInfo": {
     "elapsed": 853,
     "status": "ok",
     "timestamp": 1615428380017,
     "user": {
      "displayName": "Luis Fernando Leal Hernandez",
      "photoUrl": "",
      "userId": "08643725771405988586"
     },
     "user_tz": 360
    },
    "id": "ubJMe2LUaxuE",
    "outputId": "8bec1c4b-e43c-4634-83f0-8f75f84b0486"
   },
   "outputs": [
    {
     "data": {
      "text/plain": [
       "True"
      ]
     },
     "execution_count": 87,
     "metadata": {
      "tags": []
     },
     "output_type": "execute_result"
    }
   ],
   "source": [
    "-1*np.inf == np.NINF"
   ]
  },
  {
   "cell_type": "code",
   "execution_count": 88,
   "metadata": {
    "colab": {
     "base_uri": "https://localhost:8080/"
    },
    "executionInfo": {
     "elapsed": 767,
     "status": "ok",
     "timestamp": 1615428403306,
     "user": {
      "displayName": "Luis Fernando Leal Hernandez",
      "photoUrl": "",
      "userId": "08643725771405988586"
     },
     "user_tz": 360
    },
    "id": "29zmNrZWaxuF",
    "outputId": "c59818c5-551c-47bd-c177-3ef909e555d9"
   },
   "outputs": [
    {
     "data": {
      "text/plain": [
       "inf"
      ]
     },
     "execution_count": 88,
     "metadata": {
      "tags": []
     },
     "output_type": "execute_result"
    }
   ],
   "source": [
    "np.inf - 1"
   ]
  },
  {
   "cell_type": "code",
   "execution_count": 89,
   "metadata": {
    "colab": {
     "base_uri": "https://localhost:8080/"
    },
    "executionInfo": {
     "elapsed": 660,
     "status": "ok",
     "timestamp": 1615428414143,
     "user": {
      "displayName": "Luis Fernando Leal Hernandez",
      "photoUrl": "",
      "userId": "08643725771405988586"
     },
     "user_tz": 360
    },
    "id": "1157khHXaxuH",
    "outputId": "a83f455b-7fe9-4b3b-ce82-c7d65f66f523"
   },
   "outputs": [
    {
     "data": {
      "text/plain": [
       "nan"
      ]
     },
     "execution_count": 89,
     "metadata": {
      "tags": []
     },
     "output_type": "execute_result"
    }
   ],
   "source": [
    "np.inf/np.NINF"
   ]
  },
  {
   "cell_type": "markdown",
   "metadata": {
    "id": "80bTM6XbaxuJ"
   },
   "source": [
    "### Operadores lógicos en vectores\n",
    "\n",
    "Que pasa si necesitamos aplicar condiciones y validaciones al trabajar con vectores?\n",
    "\n",
    "Por ejemplo:\n",
    "$$h(x) = \\begin{cases}0 & x< 0\\\\1 & 0<=x <=1\\\\0 & x> 1\\end{cases}$$\n",
    "\n",
    "El siguiente código que refleja esta función da error.\n",
    "\n"
   ]
  },
  {
   "cell_type": "code",
   "execution_count": 91,
   "metadata": {
    "executionInfo": {
     "elapsed": 654,
     "status": "ok",
     "timestamp": 1615428596281,
     "user": {
      "displayName": "Luis Fernando Leal Hernandez",
      "photoUrl": "",
      "userId": "08643725771405988586"
     },
     "user_tz": 360
    },
    "id": "Bgo-PeXeaxuK"
   },
   "outputs": [],
   "source": [
    "def h(x):\n",
    "    if x < 0:\n",
    "        return 0.0\n",
    "    elif 0 <= x <= 1:\n",
    "        return 1.0\n",
    "    else:\n",
    "        return 0.0\n",
    "    \n",
    "x = np.array([-1,0.1,10])\n",
    "\n",
    "#h(x)"
   ]
  },
  {
   "cell_type": "markdown",
   "metadata": {
    "id": "KZMQtzgcaxuK"
   },
   "source": [
    "Para resolver el problema anterior(entre otras cosas) NumPy provee el uso de operadores lógicos sobre tensores , estos se aplican \"elemento por elemento\" gracias al broadcasting, el resultado de estos es valores booleanos True o False para cada valor.\n",
    "\n",
    "Nuevamente **es importante hacer uso del broadcasting y no hacerlo con ciclos**"
   ]
  },
  {
   "cell_type": "code",
   "execution_count": 107,
   "metadata": {
    "colab": {
     "base_uri": "https://localhost:8080/"
    },
    "executionInfo": {
     "elapsed": 634,
     "status": "ok",
     "timestamp": 1615428647136,
     "user": {
      "displayName": "Luis Fernando Leal Hernandez",
      "photoUrl": "",
      "userId": "08643725771405988586"
     },
     "user_tz": 360
    },
    "id": "uf03oDI_axuL",
    "outputId": "b09bddcf-d656-4ff0-a9ff-ff9fd2635b3c"
   },
   "outputs": [
    {
     "name": "stdout",
     "output_type": "stream",
     "text": [
      "[-2.  -1.5 -1.  -0.5  0.   0.5  1.   1.5  2. ] [ True  True  True  True False False False False False]\n",
      "9 9\n"
     ]
    }
   ],
   "source": [
    "x = np.linspace(-2,2,9)\n",
    "\n",
    "y = x < 0\n",
    "\n",
    "print(x,y)\n",
    "print(len(x),len(y))"
   ]
  },
  {
   "cell_type": "markdown",
   "metadata": {
    "id": "kDBjb0iVaxuM"
   },
   "source": [
    "### Usando vectores booleanos para acceder elementos en otros vectores\n",
    "\n",
    "NumPy nos permite acceder vectores con otros vectores de tipo booleano,el resultado de esto es obtener de cierto vector solo los elementos cuya posición corresponde a un valor True en el vector booleano,\n",
    "con la sintáxis que usabamos para hacer indexing, pero usando un vector booleano como índice\n",
    "por ejemplo para el caso anterior:"
   ]
  },
  {
   "cell_type": "code",
   "execution_count": 93,
   "metadata": {
    "colab": {
     "base_uri": "https://localhost:8080/"
    },
    "executionInfo": {
     "elapsed": 628,
     "status": "ok",
     "timestamp": 1615429012017,
     "user": {
      "displayName": "Luis Fernando Leal Hernandez",
      "photoUrl": "",
      "userId": "08643725771405988586"
     },
     "user_tz": 360
    },
    "id": "hUvoXDqFEm9F",
    "outputId": "83fe6bce-b338-4a81-a438-bfb21fa6894d"
   },
   "outputs": [
    {
     "name": "stdout",
     "output_type": "stream",
     "text": [
      "[-2.  -1.5 -1.  -0.5  0.   0.5  1.   1.5  2. ] [ True  True  True  True False False False False False]\n"
     ]
    }
   ],
   "source": [
    "print(x,y)"
   ]
  },
  {
   "cell_type": "code",
   "execution_count": 104,
   "metadata": {
    "colab": {
     "base_uri": "https://localhost:8080/"
    },
    "executionInfo": {
     "elapsed": 653,
     "status": "ok",
     "timestamp": 1615429451261,
     "user": {
      "displayName": "Luis Fernando Leal Hernandez",
      "photoUrl": "",
      "userId": "08643725771405988586"
     },
     "user_tz": 360
    },
    "id": "mqiThNeHGQ3z",
    "outputId": "48ff6b09-fc06-4f6c-9644-c4693c0e496b"
   },
   "outputs": [
    {
     "data": {
      "text/plain": [
       "array([-2. , -1.5, -1. , -0.5])"
      ]
     },
     "execution_count": 104,
     "metadata": {
      "tags": []
     },
     "output_type": "execute_result"
    }
   ],
   "source": [
    "x[y]"
   ]
  },
  {
   "cell_type": "code",
   "execution_count": 103,
   "metadata": {
    "colab": {
     "base_uri": "https://localhost:8080/"
    },
    "executionInfo": {
     "elapsed": 630,
     "status": "ok",
     "timestamp": 1615429411737,
     "user": {
      "displayName": "Luis Fernando Leal Hernandez",
      "photoUrl": "",
      "userId": "08643725771405988586"
     },
     "user_tz": 360
    },
    "id": "32xi0gZOaxuM",
    "outputId": "13b11a35-bb57-43be-b757-af68c5dcbad6"
   },
   "outputs": [
    {
     "data": {
      "text/plain": [
       "array([0. , 0.5, 1. , 1.5, 2. ])"
      ]
     },
     "execution_count": 103,
     "metadata": {
      "tags": []
     },
     "output_type": "execute_result"
    }
   ],
   "source": [
    "x[np.logical_not(y)]"
   ]
  },
  {
   "cell_type": "code",
   "execution_count": 95,
   "metadata": {
    "colab": {
     "base_uri": "https://localhost:8080/"
    },
    "executionInfo": {
     "elapsed": 1358,
     "status": "ok",
     "timestamp": 1615429078930,
     "user": {
      "displayName": "Luis Fernando Leal Hernandez",
      "photoUrl": "",
      "userId": "08643725771405988586"
     },
     "user_tz": 360
    },
    "id": "l4dTWbkVaxuN",
    "outputId": "510c0fe8-d7b5-45c5-ea16-354a6d83d69a"
   },
   "outputs": [
    {
     "data": {
      "text/plain": [
       "array([-2. , -1.5, -1. , -0.5,  0. ,  0.5,  1. ,  1.5,  2. ])"
      ]
     },
     "execution_count": 95,
     "metadata": {
      "tags": []
     },
     "output_type": "execute_result"
    }
   ],
   "source": [
    "x"
   ]
  },
  {
   "cell_type": "markdown",
   "metadata": {
    "id": "UXaDmGO_axuN"
   },
   "source": [
    "En este caso \"y\" es redundante y se pudo hacer:"
   ]
  },
  {
   "cell_type": "code",
   "execution_count": 96,
   "metadata": {
    "colab": {
     "base_uri": "https://localhost:8080/"
    },
    "executionInfo": {
     "elapsed": 685,
     "status": "ok",
     "timestamp": 1615429197952,
     "user": {
      "displayName": "Luis Fernando Leal Hernandez",
      "photoUrl": "",
      "userId": "08643725771405988586"
     },
     "user_tz": 360
    },
    "id": "95J2dJeNaxuO",
    "outputId": "7a4d07e2-2c3f-4400-b8df-8b45315a3ca3"
   },
   "outputs": [
    {
     "data": {
      "text/plain": [
       "array([-2. , -1.5, -1. , -0.5])"
      ]
     },
     "execution_count": 96,
     "metadata": {
      "tags": []
     },
     "output_type": "execute_result"
    }
   ],
   "source": [
    "x[x<0]"
   ]
  },
  {
   "cell_type": "markdown",
   "metadata": {
    "id": "koxrhNtXaxuP"
   },
   "source": [
    "Explicación: el aplicar x < 0 generó un vector que tiene los primeros 4 elementos como True , si usamos este vector booleano como indice del vector original x entonces obtenemos solo los elementos de x que estan asociados a elementos True en el vector booleano de indice, en este caso solo los primeros 4."
   ]
  },
  {
   "cell_type": "markdown",
   "metadata": {
    "id": "bh2gGHN5axuP"
   },
   "source": [
    "**Ejercicio** dado el vector x, usar operadores lógicos sobre vectores y acceso a  elementos usando vectores booleanos , escribir un programa que calcule eun nuevo vector z conteniendo el valor absoluto de el vector x.\n",
    "\n",
    "**nota** No se puede usar np.abs() ni ciclos\n",
    "\n",
    "**tip** usar un vector booleano para saber que elementos son negativos y deben ser multiplicados por -1"
   ]
  },
  {
   "cell_type": "code",
   "execution_count": 120,
   "metadata": {
    "id": "_dDKWFiGaxuQ"
   },
   "outputs": [
    {
     "name": "stdout",
     "output_type": "stream",
     "text": [
      "[-2.  -1.5 -1.  -0.5  0.   0.5  1.   1.5  2. ]\n"
     ]
    },
    {
     "data": {
      "text/plain": [
       "array([2. , 1.5, 1. , 0.5, 0. , 0.5, 1. , 1.5, 2. ])"
      ]
     },
     "execution_count": 120,
     "metadata": {},
     "output_type": "execute_result"
    }
   ],
   "source": [
    "x = np.linspace(-2,2,9)\n",
    "\n",
    "print(x)\n",
    "## tu codigo aqui (~ 4 linea de codigo)\n",
    "### ver cuales elementos son negativos <- vector booleanos\n",
    "negativos = x < 0\n",
    "### multiplicar esos elementos por -1\n",
    "x[negativos] = x[negativos] * -1\n",
    "### usando el vector del rpimer paso remplazar los que eran negativos por su valor calculado en paso 2\n",
    "x"
   ]
  },
  {
   "cell_type": "markdown",
   "metadata": {
    "id": "Vs8b8-MSaxuQ"
   },
   "source": [
    "**ejercicio** Implementar la función:\n",
    "$$h(x) = \\begin{cases}0 & x< 0\\\\1 & 0<=x <=1\\\\0 & x> 1\\end{cases}$$\n",
    "\n",
    "Esta debe funcionar para vectores de cualquier tamaño x:\n",
    "\n",
    "def h(x):\n",
    "\n",
    "    ...\n",
    "\n",
    "**nota** debe ser implementada sin ciclos o ifs "
   ]
  },
  {
   "cell_type": "code",
   "execution_count": 14,
   "metadata": {
    "id": "5owYOClVaxuR"
   },
   "outputs": [
    {
     "name": "stdout",
     "output_type": "stream",
     "text": [
      "[1. 0. 1. 0.]\n"
     ]
    }
   ],
   "source": [
    "def h(x):\n",
    "    ## tu codigo aqui (~ 3 linea de codigo)\n",
    "    x[np.logical_and(x>=0,x<=1)] = 1\n",
    "    x[x<0] = 0\n",
    "    x[x>1] = 0\n",
    "    return x\n",
    "\n",
    "x = np.array([0.1,-2,0.5,5])\n",
    "\n",
    "print(h(x))"
   ]
  },
  {
   "cell_type": "markdown",
   "metadata": {
    "id": "D6JxNhOBaxuR"
   },
   "source": [
    "Para casos donde se requiere comportamiento parecido a este pero con mas condiciones, NumPy provee la función **np.select** , la descripción de esta función casi siempre es mas complicada de lo que debería y dificulta entenderla, vamos a buscar entenderla bajo un ejemplo.\n",
    "\n",
    "Básicamente select se basa en :\n",
    "* una lista de condiciones A\n",
    "* una lista de valores a tomar según estas condiciones B\n",
    "* un valor de  resultado default cuando ninguna de las condiciones en la  lista se cumple.\n",
    "Estas 2 listas deben ser del mismo tamañaño."
   ]
  },
  {
   "cell_type": "code",
   "execution_count": 136,
   "metadata": {
    "colab": {
     "base_uri": "https://localhost:8080/"
    },
    "executionInfo": {
     "elapsed": 634,
     "status": "ok",
     "timestamp": 1615429891120,
     "user": {
      "displayName": "Luis Fernando Leal Hernandez",
      "photoUrl": "",
      "userId": "08643725771405988586"
     },
     "user_tz": 360
    },
    "id": "i0tymEaCaxuR",
    "outputId": "19ff92b6-fbfe-420e-9c64-874948ffcec3"
   },
   "outputs": [
    {
     "name": "stdout",
     "output_type": "stream",
     "text": [
      "[0 1 2 3 4 5 6 7 8 9]\n"
     ]
    },
    {
     "data": {
      "text/plain": [
       "array([ 0,  1,  2,  0,  0,  0, 36, 49, 64, 81])"
      ]
     },
     "execution_count": 136,
     "metadata": {},
     "output_type": "execute_result"
    }
   ],
   "source": [
    "x = np.arange(10)\n",
    "condiciones = [x<3 , x>5] #lista A \n",
    "resultados =  [x,    x**2] #lista B\n",
    "\n",
    "print(x)\n",
    "#los valores de x que no satisfacen ningúna condicion obtendran 0 como resultado(este es el valor default)\n",
    "np.select(condiciones,resultados) "
   ]
  },
  {
   "cell_type": "code",
   "execution_count": 106,
   "metadata": {
    "colab": {
     "base_uri": "https://localhost:8080/"
    },
    "executionInfo": {
     "elapsed": 677,
     "status": "ok",
     "timestamp": 1615430054522,
     "user": {
      "displayName": "Luis Fernando Leal Hernandez",
      "photoUrl": "",
      "userId": "08643725771405988586"
     },
     "user_tz": 360
    },
    "id": "yOlyNLKcaxuS",
    "outputId": "03be24d6-257c-481e-96dc-7273cee3931d"
   },
   "outputs": [
    {
     "data": {
      "text/plain": [
       "array([ 0,  1,  2, -1, -1, -1, 36, 49, 64, 81])"
      ]
     },
     "execution_count": 106,
     "metadata": {
      "tags": []
     },
     "output_type": "execute_result"
    }
   ],
   "source": [
    "np.select(condiciones,resultados,-1) #podemos agregar un tercer parámetro para el valor default "
   ]
  },
  {
   "cell_type": "code",
   "execution_count": 107,
   "metadata": {
    "colab": {
     "base_uri": "https://localhost:8080/"
    },
    "executionInfo": {
     "elapsed": 690,
     "status": "ok",
     "timestamp": 1615430128913,
     "user": {
      "displayName": "Luis Fernando Leal Hernandez",
      "photoUrl": "",
      "userId": "08643725771405988586"
     },
     "user_tz": 360
    },
    "id": "3OYZuzkMIvB3",
    "outputId": "8a3446f0-09c0-4a26-efbe-99fe58cb55a9"
   },
   "outputs": [
    {
     "data": {
      "text/plain": [
       "array([2, 2, 2, 0, 0, 0, 0, 0, 0, 0])"
      ]
     },
     "execution_count": 107,
     "metadata": {
      "tags": []
     },
     "output_type": "execute_result"
    }
   ],
   "source": [
    "condiciones = [x<3]\r\n",
    "resultados = [2]\r\n",
    "\r\n",
    "np.select(condiciones,resultados)"
   ]
  },
  {
   "cell_type": "markdown",
   "metadata": {
    "id": "H_z8MsvIaxuT"
   },
   "source": [
    "Otro ejemplo"
   ]
  },
  {
   "cell_type": "code",
   "execution_count": 108,
   "metadata": {
    "colab": {
     "base_uri": "https://localhost:8080/"
    },
    "executionInfo": {
     "elapsed": 708,
     "status": "ok",
     "timestamp": 1615430193492,
     "user": {
      "displayName": "Luis Fernando Leal Hernandez",
      "photoUrl": "",
      "userId": "08643725771405988586"
     },
     "user_tz": 360
    },
    "id": "O_Oc9XXKaxuT",
    "outputId": "6209de29-a6c0-42bc-dd7e-34d3662d1f55"
   },
   "outputs": [
    {
     "name": "stdout",
     "output_type": "stream",
     "text": [
      "[ 1.  2.  3.  4.  5.  6.  7.  8.  9. 10.]\n",
      "[  1.   2.   3.  -1.  -1.  -1.  49.  64.  81. 100.]\n"
     ]
    }
   ],
   "source": [
    "x = np.linspace(1,10,10)\n",
    "condiciones = [x<4,x>=7]\n",
    "resultados =  [x ,  x**2]\n",
    "k = np.select(condiciones,resultados,-1)\n",
    "\n",
    "print(x)\n",
    "print(k)"
   ]
  },
  {
   "cell_type": "markdown",
   "metadata": {
    "id": "yhrWu8q0axuU"
   },
   "source": [
    "**Ejercicio**\n",
    "\n",
    "Usando select implementar una función k(x) con la siguiente definición:\n",
    "$$k(x) = \\begin{cases}-x & x< 0\\\\x^{3}  &0<=x<1\\\\x^{2}  &1<=x<2\\\\4  &otherwise\\end{cases}$$\n",
    "\n"
   ]
  },
  {
   "cell_type": "code",
   "execution_count": 21,
   "metadata": {},
   "outputs": [
    {
     "name": "stdout",
     "output_type": "stream",
     "text": [
      "[-5.         -3.88888889 -2.77777778 -1.66666667 -0.55555556  0.55555556\n",
      "  1.66666667  2.77777778  3.88888889  5.        ]\n",
      "[5.         3.88888889 2.77777778 1.66666667 0.55555556 0.17146776\n",
      " 2.77777778 4.         4.         4.        ]\n"
     ]
    }
   ],
   "source": [
    "x = np.linspace(-5,5,10)\n",
    "condiciones = [x<0, np.logical_and(x>=0,x<1), np.logical_and(x>=1,x<2)]\n",
    "resultados = [-x, x**3, x**2]\n",
    "\n",
    "k = np.select(condiciones, resultados, 4)\n",
    "print(x)\n",
    "print(k)"
   ]
  },
  {
   "cell_type": "markdown",
   "metadata": {
    "id": "oO-8WZXCaxuV"
   },
   "source": [
    "##### Select y performance\n",
    "Aun que select es muy conveniente y útil , no es la opción mas eficiente esto debido a que evalua todas las condiciones y todos los resultados, en programación en general buscamos escribir los programas de la manera mas eficiente posible y evitar calculos innecesarios, esto se vuelve vital en ciencia de datos cuando procesamos grandes volúmenes de información, por eso NumPy nos provee la alternativa a select llamada **piecewise** que funciona de manera similar .\n",
    "\n",
    "\n",
    "Este funciona similar a select pero en vez de calcular todos los posibles resultados, calcula solo aquellos para los que la condición es True e ignora los False,sintácticamente piecewise requiere que los \"resultados\" sesan calcuados usando una lista de funciones por lo cual todos los resultados deben estar contenidos en una función  y el objeto función ser enviado a piecewise (si la función solo se utiliza una vez para este propósito, se puede usar funciones anónimas o lambda).\n",
    "\n",
    "**Ejercicio** \n",
    "Investigar piecewise y:\n",
    "*  Usarlo para implementar la función anterior de manera eficiente\n",
    "*  Usar piscewise para implementar la función:\n",
    "\n",
    "$$m(x) = \\begin{cases}e^{2x} & x< 0\\\\1  &0<=x<1\\\\e^{1-x}  &x>=1\\\\\\end{cases}$$\n",
    "\n",
    "Nuevamente, sin utilizar ciclos ni ifs"
   ]
  },
  {
   "cell_type": "code",
   "execution_count": 25,
   "metadata": {},
   "outputs": [
    {
     "name": "stdout",
     "output_type": "stream",
     "text": [
      "[-5.         -3.88888889 -2.77777778 -1.66666667 -0.55555556  0.55555556\n",
      "  1.66666667  2.77777778  3.88888889  5.        ]\n",
      "[1.03174341 1.06983425 1.15698343 1.37023227 1.97465757 1.\n",
      " 0.51341712 0.16901332 0.055638   0.01831564]\n"
     ]
    }
   ],
   "source": [
    "x = np.linspace(-5,5,10)\n",
    "condiciones = [x<0, np.logical_and(x>=0,x<1), x>=1]\n",
    "funcs = [lambda x: np.power(np.e,2**x), lambda x: 1, lambda x: np.power(np.e,1-x) ]\n",
    "\n",
    "k = np.piecewise(x, condiciones, funcs)\n",
    "print(x)\n",
    "print(k)"
   ]
  },
  {
   "cell_type": "markdown",
   "metadata": {
    "id": "AZnrBQW6axuV"
   },
   "source": [
    "#### Investigar\n",
    "\n",
    "* Proyección vectorial\n",
    "    * Definir una función para calculo en numpy\n",
    "    * interpretación\n",
    "    * aplicación o caso de uso en DS u otras ciencias de tu interés: solo se necesita nombrar el caso de uso, no desarrollarlo o programarlo, tip: Hay un algoritmo de ML cuyo nombre puede ser  útil.\n",
    "* Producto cruz\n",
    "    * calculo en numpy\n",
    "    * interpretación\n",
    "    * aplicación o caso de uso en DS u otras ciencias de tu interés: solo se necesita nombrar el caso de uso, no desarrollarlo o programarlo\n",
    "    \n",
    "#### Referencias\n",
    "\n",
    "* https://www.oreilly.com/library/view/data-science-from/9781491901410/ch04.html\n",
    "* https://towardsdatascience.com/linear-algebra-cheat-sheet-for-deep-learning-cd67aba4526c\n",
    "* https://www.analyticsvidhya.com/blog/2017/05/comprehensive-guide-to-linear-algebra/\n",
    "* https://towardsdatascience.com/boost-your-data-sciences-skills-learn-linear-algebra-2c30fdd008cf\n",
    "* https://machinelearningmastery.com/examples-of-linear-algebra-in-machine-learning/\n",
    "* https://www.youtube.com/playlist?list=PLZHQObOWTQDPD3MizzM2xVFitgF8hE_ab"
   ]
  },
  {
   "cell_type": "code",
   "execution_count": 1,
   "metadata": {
    "colab": {
     "base_uri": "https://localhost:8080/"
    },
    "executionInfo": {
     "elapsed": 687,
     "status": "ok",
     "timestamp": 1615762895363,
     "user": {
      "displayName": "Luis Fernando Leal Hernandez",
      "photoUrl": "",
      "userId": "08643725771405988586"
     },
     "user_tz": 360
    },
    "id": "WOvGrxveKtkk",
    "outputId": "a7b84993-fa7d-42a0-ca6b-96793a13080a"
   },
   "outputs": [
    {
     "data": {
      "text/plain": [
       "array([0.61980049, 0.20208829, 2.39505977])"
      ]
     },
     "execution_count": 1,
     "metadata": {
      "tags": []
     },
     "output_type": "execute_result"
    }
   ],
   "source": [
    "import numpy as np\r\n",
    "\r\n",
    "np.random.randn(3)"
   ]
  },
  {
   "cell_type": "markdown",
   "metadata": {},
   "source": [
    "## Proyección vectorial\n",
    "\n",
    "Es el vector resultante de proyectar el vector **u** sobre el vector **v**, y esto se logra dibujando una línea perpendicular del extremo del vector **u** hacia el vector **v**, posteriormente se el vector de va desde el origen de los vectores hasta el punto que corta la recta perpendicular es la proyección del vector **u** sobre el vector **v**. La siguiente figura representa de forma gráfica la proyección vectorial:\n",
    "<img src=\"https://ekuatio.com/wp-content/uploads/proyeccion-vectores-3.png\"/>\n",
    "\n",
    "Una aplicación en DS es el Análisis de Componentes Principales (Principal Component Analysis,PCA) que trata de encontrar las variables independientes más  significativas que representen dicho conjunto de datos."
   ]
  },
  {
   "cell_type": "code",
   "execution_count": 28,
   "metadata": {},
   "outputs": [
    {
     "data": {
      "text/plain": [
       "3.0"
      ]
     },
     "execution_count": 28,
     "metadata": {},
     "output_type": "execute_result"
    }
   ],
   "source": [
    "x = np.array([3, 2])\n",
    "y = np.array([4, 0])\n",
    "\n",
    "def proyeccionV(x,y):\n",
    "    return np.dot(x, y) / np.linalg.norm(y)\n",
    "\n",
    "proyeccionV(x, y)"
   ]
  },
  {
   "cell_type": "markdown",
   "metadata": {},
   "source": [
    "## Producto cruz\n",
    "\n",
    "Es una operación binaria entre dos vectores en un espacio tridimensional. El resultado es un vector perpendicular a los vectores que se multiplican, y por lo tanto normal al plano que los contiene.\n",
    "\n",
    "<img src=\"https://upload.wikimedia.org/wikipedia/commons/thumb/4/4e/Cross_product_parallelogram.svg/220px-Cross_product_parallelogram.svg.png\"/>\n",
    "\n",
    "En la ingeniería civil, una de las principales aplicaciones del cálculo vectorial se encuentra en la rama del diseño de vías y carreteras, más específicamente, en la curvatura de estas construcciones. En primer lugar hay que saber que toda carretera se compone de tres tipos de curvaturas, estos son: las rectas, las curvas de transición y la curva como tal.\n",
    "\n",
    "<img src=\"http://2.bp.blogspot.com/_yojC8Yz7ZHg/SNLMSCq9qeI/AAAAAAAAABc/L6ntolr0814/s320/Carreteras+1.bmp\"/>"
   ]
  },
  {
   "cell_type": "code",
   "execution_count": 29,
   "metadata": {},
   "outputs": [
    {
     "data": {
      "text/plain": [
       "array([-10,  20, -10])"
      ]
     },
     "execution_count": 29,
     "metadata": {},
     "output_type": "execute_result"
    }
   ],
   "source": [
    "x = np.array([1, 2, 3])\n",
    "y = np.array([9, 8, 7])\n",
    "\n",
    "# cross producto-cruz\n",
    "np.cross(x, y)"
   ]
  }
 ],
 "metadata": {
  "colab": {
   "collapsed_sections": [
    "dpTxVAeOaxs-",
    "IEhuGnCJaxtT",
    "mggBAMXWaxtU",
    "NQsZTEy3axtd",
    "RdpBYHliaxte",
    "Nzg9gVdoaxtj",
    "TVcTQSn8axts",
    "7NGf_2y5axtu",
    "XTSzWXdsaxt1",
    "GGDfc5t_axt4",
    "uFI8KNdLaxt9",
    "80bTM6XbaxuJ",
    "AZnrBQW6axuV"
   ],
   "name": "Clase_06_Numpy y linalg_.ipynb",
   "provenance": []
  },
  "kernelspec": {
   "display_name": "Python 3",
   "language": "python",
   "name": "python3"
  },
  "language_info": {
   "codemirror_mode": {
    "name": "ipython",
    "version": 3
   },
   "file_extension": ".py",
   "mimetype": "text/x-python",
   "name": "python",
   "nbconvert_exporter": "python",
   "pygments_lexer": "ipython3",
   "version": "3.9.1"
  }
 },
 "nbformat": 4,
 "nbformat_minor": 4
}
