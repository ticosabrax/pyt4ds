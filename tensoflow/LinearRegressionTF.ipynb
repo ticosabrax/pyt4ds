{
 "cells": [
  {
   "cell_type": "markdown",
   "id": "a8230e10-b56b-4ee4-b024-4007a038d85f",
   "metadata": {},
   "source": [
    "# Edgar Sabán - 19012631\n",
    "\n",
    "# Preparación de los datos"
   ]
  },
  {
   "cell_type": "code",
   "execution_count": 11,
   "id": "df626b1c-dde0-4344-b1c5-cb5b054dfe30",
   "metadata": {},
   "outputs": [
    {
     "name": "stdout",
     "output_type": "stream",
     "text": [
      "The tensorboard extension is already loaded. To reload it, use:\n",
      "  %reload_ext tensorboard\n",
      "WARNING:tensorflow:From /home/ds/anaconda3/envs/tf/lib/python3.9/site-packages/tensorflow/python/compat/v2_compat.py:96: disable_resource_variables (from tensorflow.python.ops.variable_scope) is deprecated and will be removed in a future version.\n",
      "Instructions for updating:\n",
      "non-resource variables are not supported in the long term\n"
     ]
    }
   ],
   "source": [
    "#Carga de librerías\n",
    "import numpy as np\n",
    "import tensorflow.compat.v1 as tf\n",
    "import pandas as pd\n",
    "import matplotlib.pyplot as plt\n",
    "import datetime, os\n",
    "%load_ext tensorboard\n",
    "tf.disable_v2_behavior()\n",
    "tf.compat.v1.disable_eager_execution()"
   ]
  },
  {
   "cell_type": "code",
   "execution_count": 12,
   "id": "973a1af3-4447-4623-b318-52682c57dbdf",
   "metadata": {},
   "outputs": [
    {
     "data": {
      "text/html": [
       "<div>\n",
       "<style scoped>\n",
       "    .dataframe tbody tr th:only-of-type {\n",
       "        vertical-align: middle;\n",
       "    }\n",
       "\n",
       "    .dataframe tbody tr th {\n",
       "        vertical-align: top;\n",
       "    }\n",
       "\n",
       "    .dataframe thead th {\n",
       "        text-align: right;\n",
       "    }\n",
       "</style>\n",
       "<table border=\"1\" class=\"dataframe\">\n",
       "  <thead>\n",
       "    <tr style=\"text-align: right;\">\n",
       "      <th></th>\n",
       "      <th>SalePrice</th>\n",
       "      <th>OverallQual</th>\n",
       "      <th>1stFlrSF</th>\n",
       "      <th>TotRmsAbvGrd</th>\n",
       "      <th>YearBuilt</th>\n",
       "      <th>LotFrontage</th>\n",
       "    </tr>\n",
       "  </thead>\n",
       "  <tbody>\n",
       "    <tr>\n",
       "      <th>count</th>\n",
       "      <td>1460.000000</td>\n",
       "      <td>1460.000000</td>\n",
       "      <td>1460.000000</td>\n",
       "      <td>1460.000000</td>\n",
       "      <td>1460.000000</td>\n",
       "      <td>1201.000000</td>\n",
       "    </tr>\n",
       "    <tr>\n",
       "      <th>mean</th>\n",
       "      <td>180921.195890</td>\n",
       "      <td>6.099315</td>\n",
       "      <td>1162.626712</td>\n",
       "      <td>6.517808</td>\n",
       "      <td>1971.267808</td>\n",
       "      <td>70.049958</td>\n",
       "    </tr>\n",
       "    <tr>\n",
       "      <th>std</th>\n",
       "      <td>79442.502883</td>\n",
       "      <td>1.382997</td>\n",
       "      <td>386.587738</td>\n",
       "      <td>1.625393</td>\n",
       "      <td>30.202904</td>\n",
       "      <td>24.284752</td>\n",
       "    </tr>\n",
       "    <tr>\n",
       "      <th>min</th>\n",
       "      <td>34900.000000</td>\n",
       "      <td>1.000000</td>\n",
       "      <td>334.000000</td>\n",
       "      <td>2.000000</td>\n",
       "      <td>1872.000000</td>\n",
       "      <td>21.000000</td>\n",
       "    </tr>\n",
       "    <tr>\n",
       "      <th>25%</th>\n",
       "      <td>129975.000000</td>\n",
       "      <td>5.000000</td>\n",
       "      <td>882.000000</td>\n",
       "      <td>5.000000</td>\n",
       "      <td>1954.000000</td>\n",
       "      <td>59.000000</td>\n",
       "    </tr>\n",
       "    <tr>\n",
       "      <th>50%</th>\n",
       "      <td>163000.000000</td>\n",
       "      <td>6.000000</td>\n",
       "      <td>1087.000000</td>\n",
       "      <td>6.000000</td>\n",
       "      <td>1973.000000</td>\n",
       "      <td>69.000000</td>\n",
       "    </tr>\n",
       "    <tr>\n",
       "      <th>75%</th>\n",
       "      <td>214000.000000</td>\n",
       "      <td>7.000000</td>\n",
       "      <td>1391.250000</td>\n",
       "      <td>7.000000</td>\n",
       "      <td>2000.000000</td>\n",
       "      <td>80.000000</td>\n",
       "    </tr>\n",
       "    <tr>\n",
       "      <th>max</th>\n",
       "      <td>755000.000000</td>\n",
       "      <td>10.000000</td>\n",
       "      <td>4692.000000</td>\n",
       "      <td>14.000000</td>\n",
       "      <td>2010.000000</td>\n",
       "      <td>313.000000</td>\n",
       "    </tr>\n",
       "  </tbody>\n",
       "</table>\n",
       "</div>"
      ],
      "text/plain": [
       "           SalePrice  OverallQual     1stFlrSF  TotRmsAbvGrd    YearBuilt  \\\n",
       "count    1460.000000  1460.000000  1460.000000   1460.000000  1460.000000   \n",
       "mean   180921.195890     6.099315  1162.626712      6.517808  1971.267808   \n",
       "std     79442.502883     1.382997   386.587738      1.625393    30.202904   \n",
       "min     34900.000000     1.000000   334.000000      2.000000  1872.000000   \n",
       "25%    129975.000000     5.000000   882.000000      5.000000  1954.000000   \n",
       "50%    163000.000000     6.000000  1087.000000      6.000000  1973.000000   \n",
       "75%    214000.000000     7.000000  1391.250000      7.000000  2000.000000   \n",
       "max    755000.000000    10.000000  4692.000000     14.000000  2010.000000   \n",
       "\n",
       "       LotFrontage  \n",
       "count  1201.000000  \n",
       "mean     70.049958  \n",
       "std      24.284752  \n",
       "min      21.000000  \n",
       "25%      59.000000  \n",
       "50%      69.000000  \n",
       "75%      80.000000  \n",
       "max     313.000000  "
      ]
     },
     "execution_count": 12,
     "metadata": {},
     "output_type": "execute_result"
    }
   ],
   "source": [
    "# Carga de datos y conversión a un DataFrame\n",
    "data = np.load('data/proyecto_training_data.npy')\n",
    "data = pd.DataFrame(data)\n",
    "data.columns = [\"SalePrice\", \"OverallQual\", \"1stFlrSF\", \"TotRmsAbvGrd\", \"YearBuilt\", \"LotFrontage\"]\n",
    "data.describe()"
   ]
  },
  {
   "cell_type": "code",
   "execution_count": 13,
   "id": "15680a56-9606-4370-80f9-9da28e758659",
   "metadata": {},
   "outputs": [],
   "source": [
    "# Dividiendo datos para entrenamiento y test\n",
    "data = data.sample(frac = 1)\n",
    "index = int(0.8 * len(data))\n",
    "df_train = data[:index]\n",
    "df_test = data[:-index]"
   ]
  },
  {
   "cell_type": "markdown",
   "id": "fd0e6f5f-a80d-4039-ace3-8361bc0fb984",
   "metadata": {},
   "source": [
    "# Modelo de regresión lineal con Tensor Flow\n",
    "\n",
    "En el proyecto anterior utilicé la variable **OverallQual**, debido a que tenía una mejor correlación respecto a la varible **SalePrice**.\n",
    "\n",
    "Con base a la teoría de Gradient Descent se implementa el algoritmo con apoyo de **Tensor Flow**."
   ]
  },
  {
   "cell_type": "code",
   "execution_count": 14,
   "id": "3a1a10d3-e6be-440b-a3a9-9d714d3b3013",
   "metadata": {},
   "outputs": [],
   "source": [
    "# MRL = modelo de regresión lineal\n",
    "class MRL:\n",
    "    \n",
    "    # Constructor de clase para la inicialización de los parámetros\n",
    "    def __init__ (self):\n",
    "        self.parametros = tf.get_variable(\"parametros\", dtype = tf.float32, shape = [1,2], initializer = tf.zeros_initializer())\n",
    "    \n",
    "    # Cálculo de MSE\n",
    "    def MSE(self, x, y):\n",
    "        error = 1/2 * tf.reduce_mean(tf.math.square(y - tf.matmul(self.parametros,x)))\n",
    "        return error\n",
    "\n",
    "    # Cálculo de  gradient descent\n",
    "    def gradient_descent(self, x, y, lr):\n",
    "        mse = self.MSE(x,y)\n",
    "        error_summary = tf.summary.scalar(\"mse_summary\", mse)\n",
    "        gradiente = tf.gradients(mse, [self.parametros])\n",
    "        new_w = tf.assign(self.parametros, self.parametros -lr * gradiente[0])\n",
    "        return new_w, mse, error_summary"
   ]
  },
  {
   "cell_type": "code",
   "execution_count": 15,
   "id": "83df7031-1834-4108-bbf7-d47caac303e4",
   "metadata": {},
   "outputs": [],
   "source": [
    "def training_model(x, y, lr, epochs, printl):\n",
    "    # String para experimento\n",
    "    string = './logs/'+ datetime.datetime.now().strftime(\"%Y%m%d-%H%M%S\") +\"_epochs=\"+str(epochs)+\"_lr=\"+str(lr)\n",
    "\n",
    "    # Definición del grafo\n",
    "    graph = tf.Graph()\n",
    "    with graph.as_default():\n",
    "        \n",
    "        # Creación de los tensores input\n",
    "        tx = tf.placeholder(tf.float32, [2,len(df_train[\"OverallQual\"])], \"tx\")\n",
    "        ty = tf.placeholder(tf.float32, [len(df_train[\"SalePrice\"])], \"ty\")\n",
    "        \n",
    "        # Creación del nodo para el cálculo de los nuevos parámetros según gradient_descent\n",
    "        mrl = MRL()\n",
    "        nuevos_parametros = mrl.gradient_descent(tx, ty, lr)\n",
    "        \n",
    "        # Writer para utilizacion de tensorboard\n",
    "        writer = tf.summary.FileWriter(string, graph)\n",
    "        \n",
    "        # Ejecución del grafo\n",
    "        with tf.train.MonitoredSession() as session:\n",
    "            # Paso de valores a los tensores input\n",
    "            tensor_dict = {tx:x, ty:y}\n",
    "            \n",
    "            # Ejecución de epochs + 1 veces del algoritmo\n",
    "            for i in range(epochs + 1):\n",
    "                # Entrenamiento del modelo para cálculo de los nuevos parámetros\n",
    "                entrenamiento = session.run(nuevos_parametros, feed_dict = tensor_dict)\n",
    "                # Imprimiendo los epoch según el printl\n",
    "                if i % printl == 0:\n",
    "                    parametros = session.run(mrl.parametros, feed_dict = tensor_dict)\n",
    "                    # Agregar datos a writer para poder visualizarlos en tensorboard\n",
    "                    writer.add_summary(entrenamiento[2], i)\n",
    "                    print(\"Epoch: \", i, \"Parámetros: \", parametros, \"mse: \", entrenamiento[1])\n",
    "                    \n",
    "            writer.close()"
   ]
  },
  {
   "cell_type": "markdown",
   "id": "d1a4f8bb-88e0-4323-9e06-d697dabfaad5",
   "metadata": {},
   "source": [
    "## Cálculo de experimentos\n",
    "\n",
    "### Hipótesis\n",
    "\n",
    "Según el algoritmo de Gradient Descent para alcanzar el error mínino (MSE) se depende del Learning rate, lo cual define la cantidad de epochs que son necesarios para alcanzar la convergencia.\n",
    "\n",
    "Se estima que el lr debe estar comprendido entre 0.01, 0.02, 0.03, 0.04, 0.05, 0.06"
   ]
  },
  {
   "cell_type": "code",
   "execution_count": 16,
   "id": "d32a4792-46ec-476c-8ec5-4d98d333ae90",
   "metadata": {},
   "outputs": [],
   "source": [
    "# Preparando X y Y para entrenar modelo\n",
    "x = df_train[\"OverallQual\"]\n",
    "# Se agrega un 1 a X para que pueda realizarse los cálculos del gradiente descent\n",
    "x = np.array([x, np.ones_like(x)], dtype = \"float64\")\n",
    "y = df_train[\"SalePrice\"]"
   ]
  },
  {
   "cell_type": "code",
   "execution_count": 22,
   "id": "85609af2-b29b-4a7e-8d46-47f3cf17d5c6",
   "metadata": {},
   "outputs": [
    {
     "name": "stdout",
     "output_type": "stream",
     "text": [
      "INFO:tensorflow:Graph was finalized.\n",
      "INFO:tensorflow:Running local_init_op.\n",
      "INFO:tensorflow:Done running local_init_op.\n",
      "Epoch:  0 Parámetros:  [[11909.917   1811.4465]] mse:  19658408000.0\n",
      "Epoch:  1500 Parámetros:  [[ 38034.73  -47911.402]] mse:  1284399000.0\n",
      "Epoch:  3000 Parámetros:  [[ 41989.395 -73206.41 ]] mse:  1238740100.0\n",
      "Epoch:  4500 Parámetros:  [[ 43893.934 -85388.3  ]] mse:  1228150500.0\n",
      "Epoch:  6000 Parámetros:  [[ 44811.145 -91255.016]] mse:  1225694200.0\n",
      "Epoch:  7500 Parámetros:  [[ 45252.87 -94080.42]] mse:  1225124400.0\n",
      "Epoch:  9000 Parámetros:  [[ 45465.605 -95441.1  ]] mse:  1224992400.0\n",
      "Epoch:  10500 Parámetros:  [[ 45568.06 -96096.39]] mse:  1224961800.0\n",
      "Epoch:  12000 Parámetros:  [[ 45617.4  -96411.99]] mse:  1224954600.0\n",
      "Epoch:  13500 Parámetros:  [[ 45641.15 -96563.91]] mse:  1224953000.0\n",
      "Epoch:  15000 Parámetros:  [[ 45652.58 -96637.04]] mse:  1224952600.0\n",
      "Epoch:  16500 Parámetros:  [[ 45658.04 -96671.95]] mse:  1224952400.0\n",
      "Epoch:  18000 Parámetros:  [[ 45660.6  -96688.34]] mse:  1224952700.0\n",
      "Epoch:  19500 Parámetros:  [[ 45661.95  -96696.984]] mse:  1224952300.0\n",
      "Epoch:  21000 Parámetros:  [[ 45661.95  -96696.984]] mse:  1224952300.0\n",
      "Epoch:  22500 Parámetros:  [[ 45661.95  -96696.984]] mse:  1224952300.0\n",
      "Epoch:  24000 Parámetros:  [[ 45661.95  -96696.984]] mse:  1224952300.0\n"
     ]
    }
   ],
   "source": [
    "#Experimento 1\n",
    "training_model(x, y, 0.01, 24000, 1500)"
   ]
  },
  {
   "cell_type": "code",
   "execution_count": 24,
   "id": "bc884373-9602-4d64-9e9e-d45474ff7e5c",
   "metadata": {},
   "outputs": [
    {
     "name": "stdout",
     "output_type": "stream",
     "text": [
      "INFO:tensorflow:Graph was finalized.\n",
      "INFO:tensorflow:Running local_init_op.\n",
      "INFO:tensorflow:Done running local_init_op.\n",
      "Epoch:  0 Parámetros:  [[23819.834  3622.893]] mse:  19658408000.0\n",
      "Epoch:  1500 Parámetros:  [[ 41992.48 -73226.13]] mse:  1238730200.0\n",
      "Epoch:  3000 Parámetros:  [[ 44812.18 -91261.63]] mse:  1225693200.0\n",
      "Epoch:  4500 Parámetros:  [[ 45465.93  -95443.164]] mse:  1224992100.0\n",
      "Epoch:  6000 Parámetros:  [[ 45617.5  -96412.67]] mse:  1224954600.0\n",
      "Epoch:  7500 Parámetros:  [[ 45652.65 -96637.47]] mse:  1224952400.0\n",
      "Epoch:  9000 Parámetros:  [[ 45660.754 -96689.31 ]] mse:  1224952600.0\n",
      "Epoch:  10500 Parámetros:  [[ 45662.605 -96701.17 ]] mse:  1224952600.0\n",
      "Epoch:  12000 Parámetros:  [[ 45662.605 -96701.17 ]] mse:  1224952600.0\n",
      "Epoch:  13500 Parámetros:  [[ 45662.605 -96701.17 ]] mse:  1224952600.0\n",
      "Epoch:  15000 Parámetros:  [[ 45662.605 -96701.17 ]] mse:  1224952600.0\n",
      "Epoch:  16500 Parámetros:  [[ 45662.605 -96701.17 ]] mse:  1224952600.0\n",
      "Epoch:  18000 Parámetros:  [[ 45662.605 -96701.17 ]] mse:  1224952600.0\n",
      "Epoch:  19500 Parámetros:  [[ 45662.605 -96701.17 ]] mse:  1224952600.0\n",
      "Epoch:  21000 Parámetros:  [[ 45662.605 -96701.17 ]] mse:  1224952600.0\n"
     ]
    }
   ],
   "source": [
    "#Experimento 2\n",
    "training_model(x, y, 0.02, 22000,1500)"
   ]
  },
  {
   "cell_type": "code",
   "execution_count": 26,
   "id": "8530fb4f-f17b-4866-9a61-546ccfa988a5",
   "metadata": {},
   "outputs": [
    {
     "name": "stdout",
     "output_type": "stream",
     "text": [
      "INFO:tensorflow:Graph was finalized.\n",
      "INFO:tensorflow:Running local_init_op.\n",
      "INFO:tensorflow:Done running local_init_op.\n",
      "Epoch:  0 Parámetros:  [[35729.75    5434.3394]] mse:  19658408000.0\n",
      "Epoch:  1000 Parámetros:  [[ 41995.586 -73246.016]] mse:  1238720600.0\n",
      "Epoch:  2000 Parámetros:  [[ 44813.207 -91268.195]] mse:  1225691800.0\n",
      "Epoch:  3000 Parámetros:  [[ 45466.24  -95445.164]] mse:  1224992400.0\n",
      "Epoch:  4000 Parámetros:  [[ 45617.594 -96413.24 ]] mse:  1224954500.0\n",
      "Epoch:  5000 Parámetros:  [[ 45652.676 -96637.65 ]] mse:  1224952700.0\n",
      "Epoch:  6000 Parámetros:  [[ 45660.785 -96689.516]] mse:  1224952600.0\n",
      "Epoch:  7000 Parámetros:  [[ 45662.688 -96701.69 ]] mse:  1224952400.0\n",
      "Epoch:  8000 Parámetros:  [[ 45662.83 -96702.59]] mse:  1224952600.0\n",
      "Epoch:  9000 Parámetros:  [[ 45662.83 -96702.59]] mse:  1224952600.0\n",
      "Epoch:  10000 Parámetros:  [[ 45662.83 -96702.59]] mse:  1224952600.0\n"
     ]
    }
   ],
   "source": [
    "#Experimento 3\n",
    "training_model(x, y, 0.03, 10000,1000)"
   ]
  },
  {
   "cell_type": "code",
   "execution_count": 27,
   "id": "7082339e-325f-48c3-8ad0-1800dd9246ba",
   "metadata": {},
   "outputs": [
    {
     "name": "stdout",
     "output_type": "stream",
     "text": [
      "INFO:tensorflow:Graph was finalized.\n",
      "INFO:tensorflow:Running local_init_op.\n",
      "INFO:tensorflow:Done running local_init_op.\n",
      "Epoch:  0 Parámetros:  [[47639.668  7245.786]] mse:  19658408000.0\n",
      "Epoch:  1000 Parámetros:  [[ 43412.527 -82309.09 ]] mse:  1230142300.0\n",
      "Epoch:  2000 Parámetros:  [[ 45342.984 -94656.78 ]] mse:  1225057500.0\n",
      "Epoch:  3000 Parámetros:  [[ 45617.684 -96413.83 ]] mse:  1224954800.0\n",
      "Epoch:  4000 Parámetros:  [[ 45656.773 -96663.87 ]] mse:  1224952400.0\n",
      "Epoch:  5000 Parámetros:  [[ 45662.35 -96699.52]] mse:  1224952400.0\n",
      "Epoch:  6000 Parámetros:  [[ 45662.94 -96703.31]] mse:  1224952700.0\n",
      "Epoch:  7000 Parámetros:  [[ 45662.94 -96703.31]] mse:  1224952700.0\n",
      "Epoch:  8000 Parámetros:  [[ 45662.94 -96703.31]] mse:  1224952700.0\n",
      "Epoch:  9000 Parámetros:  [[ 45662.94 -96703.31]] mse:  1224952700.0\n",
      "Epoch:  10000 Parámetros:  [[ 45662.94 -96703.31]] mse:  1224952700.0\n"
     ]
    }
   ],
   "source": [
    "#Experimento 4\n",
    "training_model(x, y, 0.04, 10000,1000)"
   ]
  },
  {
   "cell_type": "code",
   "execution_count": 28,
   "id": "7efaef14-18ae-4b0d-8d14-7a8f79e100cc",
   "metadata": {},
   "outputs": [
    {
     "name": "stdout",
     "output_type": "stream",
     "text": [
      "INFO:tensorflow:Graph was finalized.\n",
      "INFO:tensorflow:Running local_init_op.\n",
      "INFO:tensorflow:Done running local_init_op.\n",
      "Epoch:  0 Parámetros:  [[59549.59   9057.233]] mse:  19658408000.0\n",
      "Epoch:  1000 Parámetros:  [[ 44811.812 -87790.17 ]] mse:  1232685400.0\n",
      "Epoch:  2000 Parámetros:  [[ 45552.086 -95932.45 ]] mse:  1224969200.0\n",
      "Epoch:  3000 Parámetros:  [[ 45652.92 -96637.98]] mse:  1224952700.0\n",
      "Epoch:  4000 Parámetros:  [[ 45662.324 -96699.58 ]] mse:  1224952600.0\n",
      "Epoch:  5000 Parámetros:  [[ 45663.062 -96704.42 ]] mse:  1224952400.0\n",
      "Epoch:  6000 Parámetros:  [[ 45663.062 -96704.42 ]] mse:  1224952400.0\n",
      "Epoch:  7000 Parámetros:  [[ 45663.062 -96704.42 ]] mse:  1224952400.0\n",
      "Epoch:  8000 Parámetros:  [[ 45663.062 -96704.42 ]] mse:  1224952400.0\n",
      "Epoch:  9000 Parámetros:  [[ 45663.062 -96704.42 ]] mse:  1224952400.0\n",
      "Epoch:  10000 Parámetros:  [[ 45663.062 -96704.42 ]] mse:  1224952400.0\n"
     ]
    }
   ],
   "source": [
    "#Experimento 5\n",
    "training_model(x, y, 0.05, 10000,1000)"
   ]
  },
  {
   "cell_type": "code",
   "execution_count": 30,
   "id": "8f4d72bb-173a-48d0-b2ee-36754a8d1f7d",
   "metadata": {},
   "outputs": [
    {
     "name": "stdout",
     "output_type": "stream",
     "text": [
      "INFO:tensorflow:Graph was finalized.\n",
      "INFO:tensorflow:Running local_init_op.\n",
      "INFO:tensorflow:Done running local_init_op.\n",
      "Epoch:  0 Parámetros:  [[71459.5   10868.679]] mse:  19658408000.0\n",
      "Epoch:  1000 Parámetros:  [[nan nan]] mse:  nan\n",
      "Epoch:  2000 Parámetros:  [[nan nan]] mse:  nan\n",
      "Epoch:  3000 Parámetros:  [[nan nan]] mse:  nan\n",
      "Epoch:  4000 Parámetros:  [[nan nan]] mse:  nan\n",
      "Epoch:  5000 Parámetros:  [[nan nan]] mse:  nan\n",
      "Epoch:  6000 Parámetros:  [[nan nan]] mse:  nan\n",
      "Epoch:  7000 Parámetros:  [[nan nan]] mse:  nan\n",
      "Epoch:  8000 Parámetros:  [[nan nan]] mse:  nan\n",
      "Epoch:  9000 Parámetros:  [[nan nan]] mse:  nan\n",
      "Epoch:  10000 Parámetros:  [[nan nan]] mse:  nan\n"
     ]
    }
   ],
   "source": [
    "#Experimento 6\n",
    "training_model(x, y, 0.06, 10000,1000)"
   ]
  },
  {
   "cell_type": "code",
   "execution_count": 19,
   "id": "945fae43-7bf5-4bf9-87da-35d2fe219de3",
   "metadata": {},
   "outputs": [
    {
     "data": {
      "text/plain": [
       "Reusing TensorBoard on port 6006 (pid 9373), started 0:01:29 ago. (Use '!kill 9373' to kill it.)"
      ]
     },
     "metadata": {},
     "output_type": "display_data"
    },
    {
     "data": {
      "text/html": [
       "\n",
       "      <iframe id=\"tensorboard-frame-be20c36c61bd2b4b\" width=\"100%\" height=\"800\" frameborder=\"0\">\n",
       "      </iframe>\n",
       "      <script>\n",
       "        (function() {\n",
       "          const frame = document.getElementById(\"tensorboard-frame-be20c36c61bd2b4b\");\n",
       "          const url = new URL(\"/\", window.location);\n",
       "          const port = 6006;\n",
       "          if (port) {\n",
       "            url.port = port;\n",
       "          }\n",
       "          frame.src = url;\n",
       "        })();\n",
       "      </script>\n",
       "    "
      ],
      "text/plain": [
       "<IPython.core.display.HTML object>"
      ]
     },
     "metadata": {},
     "output_type": "display_data"
    }
   ],
   "source": [
    "%tensorboard --logdir ./logs"
   ]
  },
  {
   "cell_type": "markdown",
   "id": "455b0a9c-fd47-4409-b84d-d1b8f71151a0",
   "metadata": {},
   "source": [
    "## Conclusiones\n",
    "\n",
    "1. Al observar el comportamiento del MSE respecto al Learning Rate, se puede observar que el error mínimo se alcanza cuanto más grande es el Learning Rate.\n",
    "\n",
    "2. Mientras más grande es el Learning Rate, los pasos del gradient descent son más grandes por lo cual se deben utilizar menos Epochs.\n",
    "\n",
    "3. Mientas más grande es el Learning Rate, se observar que el algortimo gradient descent da como resultados nan.\n",
    "\n",
    "4. Para converger de manera más rápida y con menos epochs, es necesario definir el hyperparámetros lr = 0.04, lo cual obtiene el error minímo aproximadamente en el epoch = 4000"
   ]
  }
 ],
 "metadata": {
  "kernelspec": {
   "display_name": "Python 3",
   "language": "python",
   "name": "python3"
  },
  "language_info": {
   "codemirror_mode": {
    "name": "ipython",
    "version": 3
   },
   "file_extension": ".py",
   "mimetype": "text/x-python",
   "name": "python",
   "nbconvert_exporter": "python",
   "pygments_lexer": "ipython3",
   "version": "3.9.5"
  }
 },
 "nbformat": 4,
 "nbformat_minor": 5
}
