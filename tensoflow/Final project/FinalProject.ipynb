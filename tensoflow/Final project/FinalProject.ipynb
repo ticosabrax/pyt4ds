{
 "cells": [
  {
   "cell_type": "markdown",
   "id": "0719ebb2-5415-42dc-a47d-5c8647b1877c",
   "metadata": {},
   "source": [
    "# Clasificación de Supervivencia en el Titanic\n",
    "\n",
    "## Proyecto Final - Statistical Learning I\n",
    "\n",
    "### Edgar Sabán 19012631\n",
    "\n",
    "<img src=\"images/survivortitanic.jpeg\" alt=\"survivorTitanic\" width=\"100%\"/>\n",
    "\n",
    "El proyecto consiste en hacer clasificación binaria  para determinar si una persona sobrevive(y=1) o no (y=0) del hundimiento del Titanic. En este proyecto se busca crear un modelo con un nivel de exactitud de al menos el **80%** (aunque es posible crear modelos mejores que esto).\n",
    "\n",
    "El proyecto está dividido en 2 partes:\n",
    "1. Entrenamiento,selección y validación.\n",
    "2. Inferencia, predicción y despliegue de modelos"
   ]
  },
  {
   "cell_type": "markdown",
   "id": "213314fc-b26a-4c1f-912f-bdfe7a839a65",
   "metadata": {},
   "source": [
    "## Carga de librerías"
   ]
  },
  {
   "cell_type": "code",
   "execution_count": 567,
   "id": "fadea16c-1172-4a16-a5f6-29ee3de77493",
   "metadata": {},
   "outputs": [],
   "source": [
    "import numpy as np\n",
    "import pandas as pd\n",
    "import seaborn as sns\n",
    "import tensorflow.compat.v1 as tf\n",
    "import matplotlib.pyplot as plt\n",
    "import scipy\n",
    "from sklearn.preprocessing import OneHotEncoder, normalize, scale\n",
    "from sklearn.linear_model import LinearRegression\n",
    "from sklearn.model_selection import train_test_split\n",
    "from sklearn.metrics import classification_report\n",
    "from sklearn.metrics import precision_recall_fscore_support\n",
    "from sklearn import metrics\n",
    "from sklearn.tree import DecisionTreeClassifier\n",
    "import datetime\n",
    "from joblib import dump\n",
    "from sklearn import svm\n",
    "import scipy.stats as stats\n",
    "##from tensorboard_logger import configure, log_value\n",
    "\n",
    "tf.disable_v2_behavior()\n",
    "tf.compat.v1.disable_eager_execution()"
   ]
  },
  {
   "cell_type": "markdown",
   "id": "0bfe85fe-c297-4500-bd0c-c6c9be95e2da",
   "metadata": {},
   "source": [
    "## Parte 1: Entrenamiento, selección y validación"
   ]
  },
  {
   "cell_type": "markdown",
   "id": "f1032006-f637-4003-b9af-84f8aa057991",
   "metadata": {},
   "source": [
    "### Análisis exploratorio de los datos"
   ]
  },
  {
   "cell_type": "code",
   "execution_count": 146,
   "id": "0db28f6f-cc86-48f3-a717-f34939e2dcda",
   "metadata": {},
   "outputs": [],
   "source": [
    "# Carga de datos\n",
    "sv_titanic = pd.read_csv(\"data/data_titanic_proyecto.csv\")"
   ]
  },
  {
   "cell_type": "code",
   "execution_count": 147,
   "id": "d84434e7-ff3f-4fba-8f6e-e81732ed304b",
   "metadata": {},
   "outputs": [
    {
     "name": "stdout",
     "output_type": "stream",
     "text": [
      "<class 'pandas.core.frame.DataFrame'>\n",
      "RangeIndex: 891 entries, 0 to 890\n",
      "Data columns (total 12 columns):\n",
      " #   Column              Non-Null Count  Dtype  \n",
      "---  ------              --------------  -----  \n",
      " 0   PassengerId         891 non-null    int64  \n",
      " 1   Name                891 non-null    object \n",
      " 2   Age                 714 non-null    float64\n",
      " 3   SibSp               891 non-null    int64  \n",
      " 4   Parch               891 non-null    int64  \n",
      " 5   Ticket              891 non-null    object \n",
      " 6   Fare                891 non-null    float64\n",
      " 7   Cabin               204 non-null    object \n",
      " 8   Embarked            889 non-null    object \n",
      " 9   passenger_class     891 non-null    object \n",
      " 10  passenger_sex       891 non-null    object \n",
      " 11  passenger_survived  891 non-null    object \n",
      "dtypes: float64(2), int64(3), object(7)\n",
      "memory usage: 83.7+ KB\n"
     ]
    }
   ],
   "source": [
    "# Información general de los datos\n",
    "sv_titanic.info()"
   ]
  },
  {
   "cell_type": "markdown",
   "id": "40b13d0d-6102-486f-9ee5-212f4c0f2af7",
   "metadata": {},
   "source": [
    "> Se puede observar que el total de registros de sobrevivientes del titanic son 891, distribuidos en 12 columnas. Algunas columnas presenta datos *nulos* así como distintos tipos de datos."
   ]
  },
  {
   "cell_type": "code",
   "execution_count": 148,
   "id": "cf381c1c-6b70-46f6-b39f-40439f3be56a",
   "metadata": {},
   "outputs": [
    {
     "data": {
      "text/html": [
       "<div>\n",
       "<style scoped>\n",
       "    .dataframe tbody tr th:only-of-type {\n",
       "        vertical-align: middle;\n",
       "    }\n",
       "\n",
       "    .dataframe tbody tr th {\n",
       "        vertical-align: top;\n",
       "    }\n",
       "\n",
       "    .dataframe thead th {\n",
       "        text-align: right;\n",
       "    }\n",
       "</style>\n",
       "<table border=\"1\" class=\"dataframe\">\n",
       "  <thead>\n",
       "    <tr style=\"text-align: right;\">\n",
       "      <th></th>\n",
       "      <th>PassengerId</th>\n",
       "      <th>Age</th>\n",
       "      <th>SibSp</th>\n",
       "      <th>Parch</th>\n",
       "      <th>Fare</th>\n",
       "    </tr>\n",
       "  </thead>\n",
       "  <tbody>\n",
       "    <tr>\n",
       "      <th>count</th>\n",
       "      <td>891.000000</td>\n",
       "      <td>714.000000</td>\n",
       "      <td>891.000000</td>\n",
       "      <td>891.000000</td>\n",
       "      <td>891.000000</td>\n",
       "    </tr>\n",
       "    <tr>\n",
       "      <th>mean</th>\n",
       "      <td>446.000000</td>\n",
       "      <td>29.699118</td>\n",
       "      <td>0.523008</td>\n",
       "      <td>0.381594</td>\n",
       "      <td>32.204208</td>\n",
       "    </tr>\n",
       "    <tr>\n",
       "      <th>std</th>\n",
       "      <td>257.353842</td>\n",
       "      <td>14.526497</td>\n",
       "      <td>1.102743</td>\n",
       "      <td>0.806057</td>\n",
       "      <td>49.693429</td>\n",
       "    </tr>\n",
       "    <tr>\n",
       "      <th>min</th>\n",
       "      <td>1.000000</td>\n",
       "      <td>0.420000</td>\n",
       "      <td>0.000000</td>\n",
       "      <td>0.000000</td>\n",
       "      <td>0.000000</td>\n",
       "    </tr>\n",
       "    <tr>\n",
       "      <th>25%</th>\n",
       "      <td>223.500000</td>\n",
       "      <td>20.125000</td>\n",
       "      <td>0.000000</td>\n",
       "      <td>0.000000</td>\n",
       "      <td>7.910400</td>\n",
       "    </tr>\n",
       "    <tr>\n",
       "      <th>50%</th>\n",
       "      <td>446.000000</td>\n",
       "      <td>28.000000</td>\n",
       "      <td>0.000000</td>\n",
       "      <td>0.000000</td>\n",
       "      <td>14.454200</td>\n",
       "    </tr>\n",
       "    <tr>\n",
       "      <th>75%</th>\n",
       "      <td>668.500000</td>\n",
       "      <td>38.000000</td>\n",
       "      <td>1.000000</td>\n",
       "      <td>0.000000</td>\n",
       "      <td>31.000000</td>\n",
       "    </tr>\n",
       "    <tr>\n",
       "      <th>max</th>\n",
       "      <td>891.000000</td>\n",
       "      <td>80.000000</td>\n",
       "      <td>8.000000</td>\n",
       "      <td>6.000000</td>\n",
       "      <td>512.329200</td>\n",
       "    </tr>\n",
       "  </tbody>\n",
       "</table>\n",
       "</div>"
      ],
      "text/plain": [
       "       PassengerId         Age       SibSp       Parch        Fare\n",
       "count   891.000000  714.000000  891.000000  891.000000  891.000000\n",
       "mean    446.000000   29.699118    0.523008    0.381594   32.204208\n",
       "std     257.353842   14.526497    1.102743    0.806057   49.693429\n",
       "min       1.000000    0.420000    0.000000    0.000000    0.000000\n",
       "25%     223.500000   20.125000    0.000000    0.000000    7.910400\n",
       "50%     446.000000   28.000000    0.000000    0.000000   14.454200\n",
       "75%     668.500000   38.000000    1.000000    0.000000   31.000000\n",
       "max     891.000000   80.000000    8.000000    6.000000  512.329200"
      ]
     },
     "execution_count": 148,
     "metadata": {},
     "output_type": "execute_result"
    }
   ],
   "source": [
    "# Resumen de los datos numéricos\n",
    "sv_titanic.describe()"
   ]
  },
  {
   "cell_type": "markdown",
   "id": "875a3cde-4630-4054-9b9a-152136afc5e9",
   "metadata": {},
   "source": [
    "> Se observar la distribución de las variables numéricas y esto indica que las escalas numéricas son distintas y que existe mucha diferencia entre las distribuciones de estas."
   ]
  },
  {
   "cell_type": "code",
   "execution_count": 149,
   "id": "30a3be15-3435-4bd0-ae7c-3a8dd413c2ff",
   "metadata": {},
   "outputs": [
    {
     "data": {
      "text/html": [
       "<div>\n",
       "<style scoped>\n",
       "    .dataframe tbody tr th:only-of-type {\n",
       "        vertical-align: middle;\n",
       "    }\n",
       "\n",
       "    .dataframe tbody tr th {\n",
       "        vertical-align: top;\n",
       "    }\n",
       "\n",
       "    .dataframe thead th {\n",
       "        text-align: right;\n",
       "    }\n",
       "</style>\n",
       "<table border=\"1\" class=\"dataframe\">\n",
       "  <thead>\n",
       "    <tr style=\"text-align: right;\">\n",
       "      <th></th>\n",
       "      <th>PassengerId</th>\n",
       "      <th>Name</th>\n",
       "      <th>Age</th>\n",
       "      <th>SibSp</th>\n",
       "      <th>Parch</th>\n",
       "      <th>Ticket</th>\n",
       "      <th>Fare</th>\n",
       "      <th>Cabin</th>\n",
       "      <th>Embarked</th>\n",
       "      <th>passenger_class</th>\n",
       "      <th>passenger_sex</th>\n",
       "      <th>passenger_survived</th>\n",
       "    </tr>\n",
       "  </thead>\n",
       "  <tbody>\n",
       "    <tr>\n",
       "      <th>0</th>\n",
       "      <td>1</td>\n",
       "      <td>Braund, Mr. Owen Harris</td>\n",
       "      <td>22.0</td>\n",
       "      <td>1</td>\n",
       "      <td>0</td>\n",
       "      <td>A/5 21171</td>\n",
       "      <td>7.2500</td>\n",
       "      <td>NaN</td>\n",
       "      <td>S</td>\n",
       "      <td>Lower</td>\n",
       "      <td>M</td>\n",
       "      <td>N</td>\n",
       "    </tr>\n",
       "    <tr>\n",
       "      <th>1</th>\n",
       "      <td>2</td>\n",
       "      <td>Cumings, Mrs. John Bradley (Florence Briggs Th...</td>\n",
       "      <td>38.0</td>\n",
       "      <td>1</td>\n",
       "      <td>0</td>\n",
       "      <td>PC 17599</td>\n",
       "      <td>71.2833</td>\n",
       "      <td>C85</td>\n",
       "      <td>C</td>\n",
       "      <td>Upper</td>\n",
       "      <td>F</td>\n",
       "      <td>Y</td>\n",
       "    </tr>\n",
       "    <tr>\n",
       "      <th>2</th>\n",
       "      <td>3</td>\n",
       "      <td>Heikkinen, Miss. Laina</td>\n",
       "      <td>26.0</td>\n",
       "      <td>0</td>\n",
       "      <td>0</td>\n",
       "      <td>STON/O2. 3101282</td>\n",
       "      <td>7.9250</td>\n",
       "      <td>NaN</td>\n",
       "      <td>S</td>\n",
       "      <td>Lower</td>\n",
       "      <td>F</td>\n",
       "      <td>Y</td>\n",
       "    </tr>\n",
       "    <tr>\n",
       "      <th>3</th>\n",
       "      <td>4</td>\n",
       "      <td>Futrelle, Mrs. Jacques Heath (Lily May Peel)</td>\n",
       "      <td>35.0</td>\n",
       "      <td>1</td>\n",
       "      <td>0</td>\n",
       "      <td>113803</td>\n",
       "      <td>53.1000</td>\n",
       "      <td>C123</td>\n",
       "      <td>S</td>\n",
       "      <td>Upper</td>\n",
       "      <td>F</td>\n",
       "      <td>Y</td>\n",
       "    </tr>\n",
       "    <tr>\n",
       "      <th>4</th>\n",
       "      <td>5</td>\n",
       "      <td>Allen, Mr. William Henry</td>\n",
       "      <td>35.0</td>\n",
       "      <td>0</td>\n",
       "      <td>0</td>\n",
       "      <td>373450</td>\n",
       "      <td>8.0500</td>\n",
       "      <td>NaN</td>\n",
       "      <td>S</td>\n",
       "      <td>Lower</td>\n",
       "      <td>M</td>\n",
       "      <td>N</td>\n",
       "    </tr>\n",
       "  </tbody>\n",
       "</table>\n",
       "</div>"
      ],
      "text/plain": [
       "   PassengerId                                               Name   Age  \\\n",
       "0            1                            Braund, Mr. Owen Harris  22.0   \n",
       "1            2  Cumings, Mrs. John Bradley (Florence Briggs Th...  38.0   \n",
       "2            3                             Heikkinen, Miss. Laina  26.0   \n",
       "3            4       Futrelle, Mrs. Jacques Heath (Lily May Peel)  35.0   \n",
       "4            5                           Allen, Mr. William Henry  35.0   \n",
       "\n",
       "   SibSp  Parch            Ticket     Fare Cabin Embarked passenger_class  \\\n",
       "0      1      0         A/5 21171   7.2500   NaN        S           Lower   \n",
       "1      1      0          PC 17599  71.2833   C85        C           Upper   \n",
       "2      0      0  STON/O2. 3101282   7.9250   NaN        S           Lower   \n",
       "3      1      0            113803  53.1000  C123        S           Upper   \n",
       "4      0      0            373450   8.0500   NaN        S           Lower   \n",
       "\n",
       "  passenger_sex passenger_survived  \n",
       "0             M                  N  \n",
       "1             F                  Y  \n",
       "2             F                  Y  \n",
       "3             F                  Y  \n",
       "4             M                  N  "
      ]
     },
     "execution_count": 149,
     "metadata": {},
     "output_type": "execute_result"
    }
   ],
   "source": [
    "# Vista general de los datos\n",
    "sv_titanic.head()"
   ]
  },
  {
   "cell_type": "markdown",
   "id": "9f820b87-7502-4151-a66d-70067949a8de",
   "metadata": {},
   "source": [
    "> Se puede observar que algunas columnas no son necesarias para realizar el análisis, por lo cual estas se eliminan del conjunto de datos. Las columnas a eliminar son: PassengerId, Name, Ticket, Cabin."
   ]
  },
  {
   "cell_type": "code",
   "execution_count": 150,
   "id": "5727303b-e975-4f70-b42a-81bf2d25b147",
   "metadata": {},
   "outputs": [
    {
     "name": "stdout",
     "output_type": "stream",
     "text": [
      "% de Null en cada columna\n",
      " PassengerId            0.00\n",
      "Name                   0.00\n",
      "Age                   19.87\n",
      "SibSp                  0.00\n",
      "Parch                  0.00\n",
      "Ticket                 0.00\n",
      "Fare                   0.00\n",
      "Cabin                 77.10\n",
      "Embarked               0.22\n",
      "passenger_class        0.00\n",
      "passenger_sex          0.00\n",
      "passenger_survived     0.00\n",
      "dtype: float64\n"
     ]
    }
   ],
   "source": [
    "# Verificamos los nulos de cada columna\n",
    "print(\"% de Null en cada columna\\n\", round(sv_titanic.isnull().sum() / len(sv_titanic.index) * 100, 2))"
   ]
  },
  {
   "cell_type": "markdown",
   "id": "9e198f74-826c-452a-8aac-c89e1815cc65",
   "metadata": {},
   "source": [
    "> La columna **Age** (edad) es la que presenta Null con aproximadamente 20% del conjunto de datos, por lo cual es necesario realizar featuring a esta columna.\n",
    "\n",
    "### Feature Engineering\n",
    "\n",
    "Se aplica la técnica de imputación \"median\" a las edades que tenga un valor Null."
   ]
  },
  {
   "cell_type": "code",
   "execution_count": 151,
   "id": "f4fb9d4b-a4d5-45a4-a75d-69ae6272b10e",
   "metadata": {},
   "outputs": [],
   "source": [
    "medianaAge = sv_titanic['Age'].median()\n",
    "sv_titanic['Age'] = sv_titanic['Age'].fillna(medianaAge)"
   ]
  },
  {
   "cell_type": "markdown",
   "id": "9839d11f-3e58-4732-b8bc-1fd749742fcd",
   "metadata": {},
   "source": [
    "Se reemplazan los valores tipo cadena por valores numéricos de la siguiente forma:\n",
    "1. passenger_sex: F = 0 y M = 1\n",
    "2. passenger_survived: N = 0 y Y = 1"
   ]
  },
  {
   "cell_type": "code",
   "execution_count": 152,
   "id": "0ba5df62-b52e-4a0f-bcb0-2a8a99ca6e85",
   "metadata": {},
   "outputs": [],
   "source": [
    "sv_titanic['passenger_sex'] = sv_titanic['passenger_sex'].replace('F', 0)\n",
    "sv_titanic['passenger_sex'] = sv_titanic['passenger_sex'].replace('M', 1)\n",
    "sv_titanic['passenger_survived'] = sv_titanic['passenger_survived'].replace('N', 0)\n",
    "sv_titanic['passenger_survived'] = sv_titanic['passenger_survived'].replace('Y', 1)"
   ]
  },
  {
   "cell_type": "markdown",
   "id": "55e97a9a-f6b5-468c-b26d-c2bc04112310",
   "metadata": {},
   "source": [
    "Aplicando One Hot Encode a la variable passenger_class y Embarked"
   ]
  },
  {
   "cell_type": "code",
   "execution_count": 153,
   "id": "99c53074-d16f-4d9b-b7ee-2bf91d58a5ef",
   "metadata": {},
   "outputs": [],
   "source": [
    "def getClasses(columnName):\n",
    "    # Obteniendo clases\n",
    "    onehotClass = np.array(sv_titanic[columnName]).reshape(-1,1)\n",
    "    # Codificando las clases\n",
    "    clases = OneHotEncoder(categories='auto')\n",
    "    clases.fit(onehotClass)\n",
    "    onehotClass = clases.transform(onehotClass).toarray()\n",
    "    return onehotClass"
   ]
  },
  {
   "cell_type": "markdown",
   "id": "241d67aa-df96-4fb9-a43c-701c3dfd9fd5",
   "metadata": {},
   "source": [
    "**passenger_class**"
   ]
  },
  {
   "cell_type": "code",
   "execution_count": 154,
   "id": "f58760a9-d930-4547-9a1c-16d6d755abe4",
   "metadata": {},
   "outputs": [],
   "source": [
    "onehotClass = getClasses(\"passenger_class\")\n",
    "# Agregando los valores codificado al set de datos\n",
    "sv_titanic['LClass'], sv_titanic['MClass'], sv_titanic['UClass'] = [onehotClass.T[0], onehotClass.T[1], onehotClass.T[2]]"
   ]
  },
  {
   "cell_type": "markdown",
   "id": "9aa0918b-f0af-4777-99d1-f1b79d50d33d",
   "metadata": {},
   "source": [
    "**Embarked**"
   ]
  },
  {
   "cell_type": "code",
   "execution_count": 155,
   "id": "5a7a3280-8dfd-49f7-8784-1861a23464c4",
   "metadata": {},
   "outputs": [],
   "source": [
    "onehotClass = getClasses(\"Embarked\")\n",
    "# Agregando los valores codificado al set de datos\n",
    "sv_titanic['EmbarkedC'], sv_titanic['EmbarkedQ'], sv_titanic['EmbarkedS'] = [onehotClass.T[0], onehotClass.T[1], onehotClass.T[2]]"
   ]
  },
  {
   "cell_type": "markdown",
   "id": "266049cd-131b-4eef-ada8-a3304f4f1b39",
   "metadata": {},
   "source": [
    "#### Visualización de variables"
   ]
  },
  {
   "cell_type": "code",
   "execution_count": 156,
   "id": "ff2ff204-cf7b-4b37-9a55-c521ca261da0",
   "metadata": {},
   "outputs": [
    {
     "data": {
      "image/png": "[encoded data removed]",
      "text/plain": [
       "<Figure size 360x360 with 1 Axes>"
      ]
     },
     "metadata": {},
     "output_type": "display_data"
    }
   ],
   "source": [
    "# Variable Age\n",
    "sns.set_theme(style = \"whitegrid\")\n",
    "sns.catplot(x=\"Age\", kind=\"violin\", data=sv_titanic)\n",
    "plt.show()"
   ]
  },
  {
   "cell_type": "markdown",
   "id": "ab9b8c73-6d52-4809-a514-fa72c94b30b3",
   "metadata": {},
   "source": [
    "> La persona con menor edad tenía 0.42 años (5 meses aproximadamente) y con mayor edad 80 años, así mismo la mayor de cantidad de persona abordo del titanic tenían 30 años."
   ]
  },
  {
   "cell_type": "code",
   "execution_count": 157,
   "id": "7e68032c-6ec3-41a4-9c41-e2f1afa94785",
   "metadata": {},
   "outputs": [
    {
     "data": {
      "image/png": "[encoded data removed]",
      "text/plain": [
       "<Figure size 360x360 with 1 Axes>"
      ]
     },
     "metadata": {},
     "output_type": "display_data"
    }
   ],
   "source": [
    "#Variable SibSp\n",
    "sns.catplot(x=\"SibSp\", kind=\"violin\", data=sv_titanic)\n",
    "plt.show()"
   ]
  },
  {
   "cell_type": "markdown",
   "id": "d3153819-7db0-40a1-9ae4-44e2f0091264",
   "metadata": {},
   "source": [
    "> Los pasajeros en su mayoría no viajaban acompañados o con sus parientes. La persona con más parientes en el Titanic iba acompañada por 8 personas."
   ]
  },
  {
   "cell_type": "code",
   "execution_count": 158,
   "id": "773eeb36-45ce-47f2-980d-caefb8b3f3ec",
   "metadata": {},
   "outputs": [
    {
     "data": {
      "image/png": "[encoded data removed]",
      "text/plain": [
       "<Figure size 360x360 with 1 Axes>"
      ]
     },
     "metadata": {},
     "output_type": "display_data"
    }
   ],
   "source": [
    "# Variable Parch\n",
    "sns.catplot(x=\"Parch\", kind=\"violin\", data=sv_titanic)\n",
    "plt.show()"
   ]
  },
  {
   "cell_type": "markdown",
   "id": "02152e8d-c85f-4276-8629-1828bef58fe1",
   "metadata": {},
   "source": [
    "> Los pasajeros en su mayoría no viajaban acompañados de sus hijos o padres. La persona con más hijos o padres en el Titanic iba acompañada por 6 personas."
   ]
  },
  {
   "cell_type": "code",
   "execution_count": 159,
   "id": "2bb2f0b7-a6ab-4dac-882d-c49e49723b07",
   "metadata": {},
   "outputs": [
    {
     "data": {
      "image/png": "[encoded data removed]",
      "text/plain": [
       "<Figure size 360x360 with 1 Axes>"
      ]
     },
     "metadata": {},
     "output_type": "display_data"
    }
   ],
   "source": [
    "# Variable Fare\n",
    "sns.catplot(x=\"Fare\", kind=\"violin\", data=sv_titanic)\n",
    "plt.show()"
   ]
  },
  {
   "cell_type": "markdown",
   "id": "be9f9ff4-c784-4377-a323-165a43fc2b5d",
   "metadata": {},
   "source": [
    "> Se puede observar que la mayoría 75% aproximadamente pagó 31 como tarifa del boleto. Así mismo algunos no pagaron tarifa y otros pagarón una tarifa demasiado grande."
   ]
  },
  {
   "cell_type": "code",
   "execution_count": 160,
   "id": "43c1f833-e316-44d4-9cf5-040575c1f2c6",
   "metadata": {},
   "outputs": [
    {
     "data": {
      "image/png": "[encoded data removed]",
      "text/plain": [
       "<Figure size 432x288 with 1 Axes>"
      ]
     },
     "metadata": {},
     "output_type": "display_data"
    }
   ],
   "source": [
    "# Cantidad de pasajeron por clase categorizados por sexo\n",
    "sns.countplot(x = 'passenger_class', hue = 'passenger_sex', data = sv_titanic, palette = 'Blues')\n",
    "plt.show()"
   ]
  },
  {
   "cell_type": "markdown",
   "id": "c2cd2086-58eb-469b-b7b4-1c9f68b0f72a",
   "metadata": {},
   "source": [
    "> La cantidad de Hombres es mayor respecto a mujeres indpendientemente la clase."
   ]
  },
  {
   "cell_type": "code",
   "execution_count": 161,
   "id": "dff23872-be6a-4502-a103-af84986f205a",
   "metadata": {},
   "outputs": [
    {
     "data": {
      "image/png": "[encoded data removed]",
      "text/plain": [
       "<Figure size 432x288 with 1 Axes>"
      ]
     },
     "metadata": {},
     "output_type": "display_data"
    }
   ],
   "source": [
    "# Pasajeron sobrevivientes categorizados por sexo\n",
    "sns.countplot(x = 'passenger_survived', hue = 'passenger_sex', data = sv_titanic, palette = 'Blues')\n",
    "plt.show()"
   ]
  },
  {
   "cell_type": "markdown",
   "id": "90b16241-4c6d-4b3f-92cc-5b76ef6695f4",
   "metadata": {},
   "source": [
    "> Claramente se observa que la cantidad de personas que sobrevivieron fueron mujeres, mientras que la mayor cantidad de persona que no sobrevivieron fueron hombre.\n",
    "\n",
    "Así mismo los valores de las variables numéricas están en distintas escalas numéricas, por ello se procede a normalizar algunas variables."
   ]
  },
  {
   "cell_type": "code",
   "execution_count": 162,
   "id": "b127d3bd-d44d-4d53-a970-78df63c25968",
   "metadata": {},
   "outputs": [],
   "source": [
    "# Normalización de variables\n",
    "sv_titanic[['Age', 'SibSp', 'Parch', 'Fare']] = normalize(sv_titanic[['Age', 'SibSp', 'Parch', 'Fare']])"
   ]
  },
  {
   "cell_type": "code",
   "execution_count": 163,
   "id": "eb92f3c7-0cbf-459e-910f-945dcea3f08e",
   "metadata": {},
   "outputs": [
    {
     "data": {
      "text/html": [
       "<div>\n",
       "<style scoped>\n",
       "    .dataframe tbody tr th:only-of-type {\n",
       "        vertical-align: middle;\n",
       "    }\n",
       "\n",
       "    .dataframe tbody tr th {\n",
       "        vertical-align: top;\n",
       "    }\n",
       "\n",
       "    .dataframe thead th {\n",
       "        text-align: right;\n",
       "    }\n",
       "</style>\n",
       "<table border=\"1\" class=\"dataframe\">\n",
       "  <thead>\n",
       "    <tr style=\"text-align: right;\">\n",
       "      <th></th>\n",
       "      <th>Age</th>\n",
       "      <th>SibSp</th>\n",
       "      <th>Parch</th>\n",
       "      <th>Fare</th>\n",
       "      <th>passenger_sex</th>\n",
       "      <th>passenger_survived</th>\n",
       "      <th>LClass</th>\n",
       "      <th>MClass</th>\n",
       "      <th>UClass</th>\n",
       "      <th>EmbarkedC</th>\n",
       "      <th>EmbarkedQ</th>\n",
       "      <th>EmbarkedS</th>\n",
       "    </tr>\n",
       "  </thead>\n",
       "  <tbody>\n",
       "    <tr>\n",
       "      <th>0</th>\n",
       "      <td>0.948873</td>\n",
       "      <td>0.043131</td>\n",
       "      <td>0.000000</td>\n",
       "      <td>0.312697</td>\n",
       "      <td>1</td>\n",
       "      <td>0</td>\n",
       "      <td>1.0</td>\n",
       "      <td>0.0</td>\n",
       "      <td>0.0</td>\n",
       "      <td>0.0</td>\n",
       "      <td>0.0</td>\n",
       "      <td>1.0</td>\n",
       "    </tr>\n",
       "    <tr>\n",
       "      <th>1</th>\n",
       "      <td>0.470381</td>\n",
       "      <td>0.012378</td>\n",
       "      <td>0.000000</td>\n",
       "      <td>0.882377</td>\n",
       "      <td>0</td>\n",
       "      <td>1</td>\n",
       "      <td>0.0</td>\n",
       "      <td>0.0</td>\n",
       "      <td>1.0</td>\n",
       "      <td>1.0</td>\n",
       "      <td>0.0</td>\n",
       "      <td>0.0</td>\n",
       "    </tr>\n",
       "    <tr>\n",
       "      <th>2</th>\n",
       "      <td>0.956551</td>\n",
       "      <td>0.000000</td>\n",
       "      <td>0.000000</td>\n",
       "      <td>0.291564</td>\n",
       "      <td>0</td>\n",
       "      <td>1</td>\n",
       "      <td>1.0</td>\n",
       "      <td>0.0</td>\n",
       "      <td>0.0</td>\n",
       "      <td>0.0</td>\n",
       "      <td>0.0</td>\n",
       "      <td>1.0</td>\n",
       "    </tr>\n",
       "    <tr>\n",
       "      <th>3</th>\n",
       "      <td>0.550270</td>\n",
       "      <td>0.015722</td>\n",
       "      <td>0.000000</td>\n",
       "      <td>0.834839</td>\n",
       "      <td>0</td>\n",
       "      <td>1</td>\n",
       "      <td>0.0</td>\n",
       "      <td>0.0</td>\n",
       "      <td>1.0</td>\n",
       "      <td>0.0</td>\n",
       "      <td>0.0</td>\n",
       "      <td>1.0</td>\n",
       "    </tr>\n",
       "    <tr>\n",
       "      <th>4</th>\n",
       "      <td>0.974555</td>\n",
       "      <td>0.000000</td>\n",
       "      <td>0.000000</td>\n",
       "      <td>0.224148</td>\n",
       "      <td>1</td>\n",
       "      <td>0</td>\n",
       "      <td>1.0</td>\n",
       "      <td>0.0</td>\n",
       "      <td>0.0</td>\n",
       "      <td>0.0</td>\n",
       "      <td>0.0</td>\n",
       "      <td>1.0</td>\n",
       "    </tr>\n",
       "    <tr>\n",
       "      <th>...</th>\n",
       "      <td>...</td>\n",
       "      <td>...</td>\n",
       "      <td>...</td>\n",
       "      <td>...</td>\n",
       "      <td>...</td>\n",
       "      <td>...</td>\n",
       "      <td>...</td>\n",
       "      <td>...</td>\n",
       "      <td>...</td>\n",
       "      <td>...</td>\n",
       "      <td>...</td>\n",
       "      <td>...</td>\n",
       "    </tr>\n",
       "    <tr>\n",
       "      <th>886</th>\n",
       "      <td>0.901002</td>\n",
       "      <td>0.000000</td>\n",
       "      <td>0.000000</td>\n",
       "      <td>0.433816</td>\n",
       "      <td>1</td>\n",
       "      <td>0</td>\n",
       "      <td>0.0</td>\n",
       "      <td>1.0</td>\n",
       "      <td>0.0</td>\n",
       "      <td>0.0</td>\n",
       "      <td>0.0</td>\n",
       "      <td>1.0</td>\n",
       "    </tr>\n",
       "    <tr>\n",
       "      <th>887</th>\n",
       "      <td>0.535052</td>\n",
       "      <td>0.000000</td>\n",
       "      <td>0.000000</td>\n",
       "      <td>0.844819</td>\n",
       "      <td>0</td>\n",
       "      <td>1</td>\n",
       "      <td>0.0</td>\n",
       "      <td>0.0</td>\n",
       "      <td>1.0</td>\n",
       "      <td>0.0</td>\n",
       "      <td>0.0</td>\n",
       "      <td>1.0</td>\n",
       "    </tr>\n",
       "    <tr>\n",
       "      <th>888</th>\n",
       "      <td>0.765215</td>\n",
       "      <td>0.027329</td>\n",
       "      <td>0.054658</td>\n",
       "      <td>0.640868</td>\n",
       "      <td>0</td>\n",
       "      <td>0</td>\n",
       "      <td>1.0</td>\n",
       "      <td>0.0</td>\n",
       "      <td>0.0</td>\n",
       "      <td>0.0</td>\n",
       "      <td>0.0</td>\n",
       "      <td>1.0</td>\n",
       "    </tr>\n",
       "    <tr>\n",
       "      <th>889</th>\n",
       "      <td>0.654931</td>\n",
       "      <td>0.000000</td>\n",
       "      <td>0.000000</td>\n",
       "      <td>0.755689</td>\n",
       "      <td>1</td>\n",
       "      <td>1</td>\n",
       "      <td>0.0</td>\n",
       "      <td>0.0</td>\n",
       "      <td>1.0</td>\n",
       "      <td>1.0</td>\n",
       "      <td>0.0</td>\n",
       "      <td>0.0</td>\n",
       "    </tr>\n",
       "    <tr>\n",
       "      <th>890</th>\n",
       "      <td>0.971903</td>\n",
       "      <td>0.000000</td>\n",
       "      <td>0.000000</td>\n",
       "      <td>0.235383</td>\n",
       "      <td>1</td>\n",
       "      <td>0</td>\n",
       "      <td>1.0</td>\n",
       "      <td>0.0</td>\n",
       "      <td>0.0</td>\n",
       "      <td>0.0</td>\n",
       "      <td>1.0</td>\n",
       "      <td>0.0</td>\n",
       "    </tr>\n",
       "  </tbody>\n",
       "</table>\n",
       "<p>891 rows × 12 columns</p>\n",
       "</div>"
      ],
      "text/plain": [
       "          Age     SibSp     Parch      Fare  passenger_sex  \\\n",
       "0    0.948873  0.043131  0.000000  0.312697              1   \n",
       "1    0.470381  0.012378  0.000000  0.882377              0   \n",
       "2    0.956551  0.000000  0.000000  0.291564              0   \n",
       "3    0.550270  0.015722  0.000000  0.834839              0   \n",
       "4    0.974555  0.000000  0.000000  0.224148              1   \n",
       "..        ...       ...       ...       ...            ...   \n",
       "886  0.901002  0.000000  0.000000  0.433816              1   \n",
       "887  0.535052  0.000000  0.000000  0.844819              0   \n",
       "888  0.765215  0.027329  0.054658  0.640868              0   \n",
       "889  0.654931  0.000000  0.000000  0.755689              1   \n",
       "890  0.971903  0.000000  0.000000  0.235383              1   \n",
       "\n",
       "     passenger_survived  LClass  MClass  UClass  EmbarkedC  EmbarkedQ  \\\n",
       "0                     0     1.0     0.0     0.0        0.0        0.0   \n",
       "1                     1     0.0     0.0     1.0        1.0        0.0   \n",
       "2                     1     1.0     0.0     0.0        0.0        0.0   \n",
       "3                     1     0.0     0.0     1.0        0.0        0.0   \n",
       "4                     0     1.0     0.0     0.0        0.0        0.0   \n",
       "..                  ...     ...     ...     ...        ...        ...   \n",
       "886                   0     0.0     1.0     0.0        0.0        0.0   \n",
       "887                   1     0.0     0.0     1.0        0.0        0.0   \n",
       "888                   0     1.0     0.0     0.0        0.0        0.0   \n",
       "889                   1     0.0     0.0     1.0        1.0        0.0   \n",
       "890                   0     1.0     0.0     0.0        0.0        1.0   \n",
       "\n",
       "     EmbarkedS  \n",
       "0          1.0  \n",
       "1          0.0  \n",
       "2          1.0  \n",
       "3          1.0  \n",
       "4          1.0  \n",
       "..         ...  \n",
       "886        1.0  \n",
       "887        1.0  \n",
       "888        1.0  \n",
       "889        0.0  \n",
       "890        0.0  \n",
       "\n",
       "[891 rows x 12 columns]"
      ]
     },
     "execution_count": 163,
     "metadata": {},
     "output_type": "execute_result"
    }
   ],
   "source": [
    "# Eliminando columnas que no se usarán para el análisis\n",
    "sv_titanic = sv_titanic.drop(['PassengerId', 'Name', 'Ticket', 'Cabin', 'Embarked', 'passenger_class'], axis = 1)\n",
    "sv_titanic"
   ]
  },
  {
   "cell_type": "markdown",
   "id": "97d9b915-b9b2-4bd9-b89c-27886d8b7325",
   "metadata": {},
   "source": [
    "### Split de datos"
   ]
  },
  {
   "cell_type": "code",
   "execution_count": 164,
   "id": "2d9fe71a-978c-4a3b-8137-5e55677fe061",
   "metadata": {},
   "outputs": [],
   "source": [
    "# Definiendo variables independientes y la dependiente\n",
    "y = sv_titanic['passenger_survived']\n",
    "x = sv_titanic.drop(columns=['passenger_survived'])"
   ]
  },
  {
   "cell_type": "code",
   "execution_count": 577,
   "id": "d681d503-9ed7-4299-bb83-0e2ff064a278",
   "metadata": {},
   "outputs": [],
   "source": [
    "# Train y Test\n",
    "xTrain, xTest, yTrain, yTest = train_test_split(x, y, test_size=0.20, random_state=1987)"
   ]
  },
  {
   "cell_type": "code",
   "execution_count": 578,
   "id": "5142e6bb-2002-4691-aee6-8ba7757e4b64",
   "metadata": {},
   "outputs": [],
   "source": [
    "# Validation\n",
    "xTrain, xVal, yTrain, yVal = train_test_split(xTrain, yTrain, test_size=0.20, random_state=1987)"
   ]
  },
  {
   "cell_type": "code",
   "execution_count": 579,
   "id": "3e493085-c3a5-46ef-99ad-f57e1ab34a75",
   "metadata": {},
   "outputs": [
    {
     "name": "stdout",
     "output_type": "stream",
     "text": [
      "% Train = 63.86\n",
      "% Validation = 16.05\n",
      "% Test = 20.09\n"
     ]
    }
   ],
   "source": [
    "print('% Train =', round((len(xTrain.index) / len(y.index)) * 100, 2 ))\n",
    "print('% Validation =', round((len(xVal.index) / len(y.index)) * 100, 2 ))\n",
    "print('% Test =', round((len(xTest.index) / len(y.index)) * 100, 2 ))"
   ]
  },
  {
   "cell_type": "markdown",
   "id": "3b0d891a-4f86-46c0-94e8-2e85514c5f3e",
   "metadata": {},
   "source": [
    "### Construcción de modelos de entrenamiento\n",
    "\n",
    "#### Árbol de decisión\n",
    "\n",
    "Para el árbol de decisión se tomó como parámetro de configuración **max_depth**"
   ]
  },
  {
   "cell_type": "code",
   "execution_count": 278,
   "id": "ab0dcf10-288d-4d88-99bc-530c0405a7b7",
   "metadata": {},
   "outputs": [],
   "source": [
    "# Modelo de entrenamiento\n",
    "\n",
    "def train_modelDecisionTreeClassifier(xTrain, yTrain, xVal, yVal, max_depth = None):\n",
    "    # Calculando modelo\n",
    "    model = DecisionTreeClassifier(max_depth = max_depth)\n",
    "    model.fit(xTrain, yTrain)\n",
    "    # Calculando accuracy en el Train\n",
    "    trainAccuracy = model.score(xTrain, yTrain)\n",
    "    # Calculando accuracy en la Validation\n",
    "    valAccuracy = model.score(xVal, yVal)\n",
    "       \n",
    "    return model, trainAccuracy,valAccuracy"
   ]
  },
  {
   "cell_type": "markdown",
   "id": "df91e0ac-a72d-49bc-b2d8-97c10b3797f3",
   "metadata": {},
   "source": [
    "##### Experimento 1"
   ]
  },
  {
   "cell_type": "code",
   "execution_count": 580,
   "id": "c043bf19-5743-4964-ae10-bea87b3c2730",
   "metadata": {},
   "outputs": [
    {
     "name": "stdout",
     "output_type": "stream",
     "text": [
      "---------- max_depth=None----------\n",
      "Train Accuracy =  0.98\n",
      "Validation Accuracy =  0.71\n",
      "-------------------------------------\n"
     ]
    }
   ],
   "source": [
    "model, trainAccuracy,valAccuracy = train_modelDecisionTreeClassifier(xTrain, yTrain, xVal, yVal)\n",
    "\n",
    "print('---------- max_depth=None----------')\n",
    "print('Train Accuracy = ', round(trainAccuracy, 2))\n",
    "print('Validation Accuracy = ', round(valAccuracy, 2))\n",
    "print('-------------------------------------')"
   ]
  },
  {
   "cell_type": "markdown",
   "id": "12daf0de-664a-4f92-8b98-7597a44cf0d0",
   "metadata": {},
   "source": [
    "##### Experimento 2 - 9"
   ]
  },
  {
   "cell_type": "code",
   "execution_count": 581,
   "id": "2272d8cd-b64a-4f56-9407-5133d84735b1",
   "metadata": {},
   "outputs": [
    {
     "name": "stdout",
     "output_type": "stream",
     "text": [
      "---------- max_depth = 1 ----------\n",
      "Train Accuracy =  0.77\n",
      "Validation Accuracy =  0.77\n",
      "-------------------------------------\n",
      "---------- max_depth = 2 ----------\n",
      "Train Accuracy =  0.78\n",
      "Validation Accuracy =  0.78\n",
      "-------------------------------------\n",
      "---------- max_depth = 3 ----------\n",
      "Train Accuracy =  0.81\n",
      "Validation Accuracy =  0.83\n",
      "-------------------------------------\n",
      "---------- max_depth = 4 ----------\n",
      "Train Accuracy =  0.82\n",
      "Validation Accuracy =  0.78\n",
      "-------------------------------------\n",
      "---------- max_depth = 5 ----------\n",
      "Train Accuracy =  0.85\n",
      "Validation Accuracy =  0.79\n",
      "-------------------------------------\n",
      "---------- max_depth = 6 ----------\n",
      "Train Accuracy =  0.86\n",
      "Validation Accuracy =  0.78\n",
      "-------------------------------------\n",
      "---------- max_depth = 7 ----------\n",
      "Train Accuracy =  0.88\n",
      "Validation Accuracy =  0.77\n",
      "-------------------------------------\n",
      "---------- max_depth = 8 ----------\n",
      "Train Accuracy =  0.91\n",
      "Validation Accuracy =  0.72\n",
      "-------------------------------------\n",
      "---------- max_depth = 9 ----------\n",
      "Train Accuracy =  0.92\n",
      "Validation Accuracy =  0.71\n",
      "-------------------------------------\n",
      "---------- max_depth = 10 ----------\n",
      "Train Accuracy =  0.93\n",
      "Validation Accuracy =  0.72\n",
      "-------------------------------------\n"
     ]
    }
   ],
   "source": [
    "for i in range (1,11):\n",
    "    model, trainAccuracy,valAccuracy = train_modelDecisionTreeClassifier(xTrain, yTrain, xVal, yVal, max_depth=i)\n",
    "    print('---------- max_depth =',i ,'----------')\n",
    "    print('Train Accuracy = ', round(trainAccuracy, 2))\n",
    "    print('Validation Accuracy = ', round(valAccuracy, 2))   \n",
    "    print('-------------------------------------')"
   ]
  },
  {
   "cell_type": "markdown",
   "id": "408988b9-69c1-4852-851e-e8c9b5759fed",
   "metadata": {},
   "source": [
    "> El mejor modelo es el del parámetro max_depth = 3"
   ]
  },
  {
   "cell_type": "code",
   "execution_count": 582,
   "id": "35d44ec2-559a-4732-8438-a23d9f4df7b8",
   "metadata": {},
   "outputs": [],
   "source": [
    "# Seleccionando el mejor modelDecisionTreeClassifier\n",
    "bestModelDecisionTreeClassifier, trainAccuracyTree,valAccuracyTree = train_modelDecisionTreeClassifier(xTrain,\n",
    "                                                                                                       yTrain,\n",
    "                                                                                                       xVal,\n",
    "                                                                                                       yVal,\n",
    "                                                                                                       max_depth=3)"
   ]
  },
  {
   "cell_type": "code",
   "execution_count": 583,
   "id": "9536b5c9-5bd7-4193-8fd5-e904d066e3ef",
   "metadata": {},
   "outputs": [
    {
     "data": {
      "text/plain": [
       "['models/modelDecisionTreeClassifier(max_depth=3).joblib']"
      ]
     },
     "execution_count": 583,
     "metadata": {},
     "output_type": "execute_result"
    }
   ],
   "source": [
    "# Almacenando el modelo\n",
    "dump(bestModelDecisionTreeClassifier, \"models/modelDecisionTreeClassifier(max_depth=3).joblib\")"
   ]
  },
  {
   "cell_type": "markdown",
   "id": "20d1dfd0-6108-4af6-b24e-43687a6a0130",
   "metadata": {},
   "source": [
    "#### SVM\n",
    "\n",
    "Para el SVM se tomará como parámetros de configuración **C y Kernel**def train_SVMClassifier(C = 1.0, kernel = 'rbf'):"
   ]
  },
  {
   "cell_type": "code",
   "execution_count": 306,
   "id": "8f262623-af40-4df5-855c-62e0aa3b67b5",
   "metadata": {},
   "outputs": [],
   "source": [
    "def train_modelSVM(xTrain, yTrain, xVal, yVal, C = 1.0, kernel = 'rbf'):\n",
    "    # Calculando modelo\n",
    "    model = svm.SVC(C = C, kernel = kernel)\n",
    "    model.fit(xTrain, yTrain)\n",
    "    # Calculando accuracy en el Train\n",
    "    trainAccuracy = model.score(xTrain, yTrain)\n",
    "    # Calculando accuracy en la Validation\n",
    "    valAccuracy = model.score(xVal, yVal)\n",
    "       \n",
    "    return model, trainAccuracy,valAccuracy"
   ]
  },
  {
   "cell_type": "markdown",
   "id": "493721fc-e58c-4b3b-b866-ce2a365ae011",
   "metadata": {},
   "source": [
    "##### Experimento 1"
   ]
  },
  {
   "cell_type": "code",
   "execution_count": 584,
   "id": "4aba5473-2b1b-4b23-a5bf-eadbfe4db4ab",
   "metadata": {},
   "outputs": [
    {
     "name": "stdout",
     "output_type": "stream",
     "text": [
      "---------- C= 1 kernel=rbf----------\n",
      "Train Accuracy =  0.8\n",
      "Validation Accuracy =  0.83\n",
      "-------------------------------------\n",
      "---------- C= 2 kernel=rbf----------\n",
      "Train Accuracy =  0.8\n",
      "Validation Accuracy =  0.83\n",
      "-------------------------------------\n",
      "---------- C= 3 kernel=rbf----------\n",
      "Train Accuracy =  0.81\n",
      "Validation Accuracy =  0.81\n",
      "-------------------------------------\n",
      "---------- C= 4 kernel=rbf----------\n",
      "Train Accuracy =  0.81\n",
      "Validation Accuracy =  0.82\n",
      "-------------------------------------\n"
     ]
    }
   ],
   "source": [
    "for i in range(1,5):\n",
    "    model, trainAccuracy,valAccuracy = train_modelSVM(xTrain, yTrain, xVal, yVal, C= i)\n",
    "    print('---------- C=',i,'kernel=rbf----------')\n",
    "    print('Train Accuracy = ', round(trainAccuracy, 2))\n",
    "    print('Validation Accuracy = ', round(valAccuracy, 2))\n",
    "    print('-------------------------------------')"
   ]
  },
  {
   "cell_type": "markdown",
   "id": "854f9f0e-fa0a-44d1-a682-4973fe825cdc",
   "metadata": {},
   "source": [
    "##### Experimento 2"
   ]
  },
  {
   "cell_type": "code",
   "execution_count": 585,
   "id": "d7812af8-83ac-4178-befc-4b6ab1389a0b",
   "metadata": {},
   "outputs": [
    {
     "name": "stdout",
     "output_type": "stream",
     "text": [
      "---------- C= 1 kernel=linear----------\n",
      "Train Accuracy =  0.77\n",
      "Validation Accuracy =  0.77\n",
      "-------------------------------------\n",
      "---------- C= 2 kernel=linear----------\n",
      "Train Accuracy =  0.77\n",
      "Validation Accuracy =  0.77\n",
      "-------------------------------------\n",
      "---------- C= 3 kernel=linear----------\n",
      "Train Accuracy =  0.77\n",
      "Validation Accuracy =  0.77\n",
      "-------------------------------------\n",
      "---------- C= 4 kernel=linear----------\n",
      "Train Accuracy =  0.77\n",
      "Validation Accuracy =  0.77\n",
      "-------------------------------------\n"
     ]
    }
   ],
   "source": [
    "for i in range(1,5):\n",
    "    model, trainAccuracy,valAccuracy = train_modelSVM(xTrain, yTrain, xVal, yVal, C= i, kernel = 'linear')\n",
    "    print('---------- C=',i,'kernel=linear----------')\n",
    "    print('Train Accuracy = ', round(trainAccuracy, 2))\n",
    "    print('Validation Accuracy = ', round(valAccuracy, 2))\n",
    "    print('-------------------------------------')"
   ]
  },
  {
   "cell_type": "code",
   "execution_count": 586,
   "id": "71dc335b-e99d-4bec-9caf-8415b611476f",
   "metadata": {},
   "outputs": [
    {
     "name": "stdout",
     "output_type": "stream",
     "text": [
      "---------- C= 1 kernel=poly----------\n",
      "Train Accuracy =  0.81\n",
      "Validation Accuracy =  0.81\n",
      "-------------------------------------\n",
      "---------- C= 2 kernel=poly----------\n",
      "Train Accuracy =  0.81\n",
      "Validation Accuracy =  0.8\n",
      "-------------------------------------\n",
      "---------- C= 3 kernel=poly----------\n",
      "Train Accuracy =  0.81\n",
      "Validation Accuracy =  0.82\n",
      "-------------------------------------\n",
      "---------- C= 4 kernel=poly----------\n",
      "Train Accuracy =  0.81\n",
      "Validation Accuracy =  0.82\n",
      "-------------------------------------\n"
     ]
    }
   ],
   "source": [
    "for i in range(1,5):\n",
    "    model, trainAccuracy,valAccuracy = train_modelSVM(xTrain, yTrain, xVal, yVal, C= i, kernel = 'poly')\n",
    "    print('---------- C=',i,'kernel=poly----------')\n",
    "    print('Train Accuracy = ', round(trainAccuracy, 2))\n",
    "    print('Validation Accuracy = ', round(valAccuracy, 2))\n",
    "    print('-------------------------------------')"
   ]
  },
  {
   "cell_type": "code",
   "execution_count": 587,
   "id": "787d3046-6250-4136-bf9e-9879dc2e8c39",
   "metadata": {},
   "outputs": [
    {
     "name": "stdout",
     "output_type": "stream",
     "text": [
      "---------- C= 1 kernel=sigmoid----------\n",
      "Train Accuracy =  0.68\n",
      "Validation Accuracy =  0.74\n",
      "-------------------------------------\n",
      "---------- C= 2 kernel=sigmoid----------\n",
      "Train Accuracy =  0.67\n",
      "Validation Accuracy =  0.74\n",
      "-------------------------------------\n",
      "---------- C= 3 kernel=sigmoid----------\n",
      "Train Accuracy =  0.6\n",
      "Validation Accuracy =  0.71\n",
      "-------------------------------------\n",
      "---------- C= 4 kernel=sigmoid----------\n",
      "Train Accuracy =  0.67\n",
      "Validation Accuracy =  0.73\n",
      "-------------------------------------\n"
     ]
    }
   ],
   "source": [
    "for i in range(1,5):\n",
    "    model, trainAccuracy,valAccuracy = train_modelSVM(xTrain, yTrain, xVal, yVal, C= i, kernel = 'sigmoid')\n",
    "    print('---------- C=',i,'kernel=sigmoid----------')\n",
    "    print('Train Accuracy = ', round(trainAccuracy, 2))\n",
    "    print('Validation Accuracy = ', round(valAccuracy, 2))\n",
    "    print('-------------------------------------')"
   ]
  },
  {
   "cell_type": "markdown",
   "id": "a7c76f2c-91c8-432c-b74d-4c2a24763017",
   "metadata": {},
   "source": [
    "> El mejor modelo es el del parámetro C=2 y kernel=rbf"
   ]
  },
  {
   "cell_type": "code",
   "execution_count": 588,
   "id": "8a6c2cec-a933-4733-afd9-fc7014e83b43",
   "metadata": {},
   "outputs": [],
   "source": [
    "# Seleccionando el mejor modelDecisionTreeClassifier\n",
    "bestModelSVM, trainAccuracySVM,valAccuracySVM = train_modelSVM(xTrain,\n",
    "                                                               yTrain,\n",
    "                                                               xVal,\n",
    "                                                               yVal,\n",
    "                                                               C=2,\n",
    "                                                               kernel='rbf')"
   ]
  },
  {
   "cell_type": "code",
   "execution_count": 589,
   "id": "2a30de52-c0f8-4ab8-954b-8f15f9a280cd",
   "metadata": {},
   "outputs": [
    {
     "data": {
      "text/plain": [
       "['models/modelSVM(C=2,kernel=rbf).joblib']"
      ]
     },
     "execution_count": 589,
     "metadata": {},
     "output_type": "execute_result"
    }
   ],
   "source": [
    "# Almacenando el modelo\n",
    "dump(bestModelSVM, \"models/modelSVM(C=2,kernel=rbf).joblib\")"
   ]
  },
  {
   "cell_type": "markdown",
   "id": "1ae6901c-cc4b-4e9b-86f8-a5b338891707",
   "metadata": {},
   "source": [
    "#### Naive Bayes\n",
    "\n",
    "Para este algoritmo se implementan todos los pasos, según el siguiente código"
   ]
  },
  {
   "cell_type": "code",
   "execution_count": 460,
   "id": "e91143f3-faf3-4577-ae19-3fd2d3b6d05e",
   "metadata": {},
   "outputs": [],
   "source": [
    "def train_NaiveBayes(xTrain):\n",
    "    \n",
    "    # Separamos la columnas en las que el resultado es 0 y 1 (no sobrevivió o sobrevivió)\n",
    "    xTrain0 = xTrain[yTrain == 0]\n",
    "    xTrain1 = xTrain[yTrain == 1]\n",
    "    \n",
    "    # Se calcula la mean y std para todas las columnas y se ordenan de la forma\n",
    "    # [[mean1, std1],\n",
    "    #  [mean2, std2],\n",
    "    #  [mean3, std3],\n",
    "    #  [mean4 std4]]\n",
    "\n",
    "    # Estas medidas nos serviran para normalizar cada columna y calcular su valor correspondiente\n",
    "\n",
    "    xTrainMean0 = np.mean(xTrain0)\n",
    "    xTrainStd0 = np.std(xTrain0)\n",
    "    xTrainMedidas0 = np.stack((xTrainMean0, xTrainStd0), axis=0)\n",
    "    xTrainMedidas0 = xTrainMedidas0.T\n",
    "\n",
    "\n",
    "    xTrainMean1 = np.mean(xTrain1)\n",
    "    xTrainStd1 = np.std(xTrain1)\n",
    "    xTrainMedidas1 = np.stack((xTrainMean1, xTrainStd1), axis=0)\n",
    "    xTrainMedidas1 = xTrainMedidas1.T\n",
    "\n",
    "    # ------Training---------#\n",
    "    # Cálculo de los valores correspondientes (normalización)\n",
    "    temp0 = []\n",
    "    temp1 = []\n",
    "\n",
    "    for i in range(0, xTrainMedidas0.shape[0]):\n",
    "        # Se calculan las probabilidades con base a las medidas mean y std para cada columna tanto para valores 0 y 1\n",
    "        valor0 = stats.norm(xTrainMedidas0[i][0], xTrainMedidas0[i][1]).cdf(xTrain.iloc[:, [i]])\n",
    "        valor1 = stats.norm (xTrainMedidas1[i][0], xTrainMedidas0[i][1]).cdf(xTrain.iloc[:, [i]])\n",
    "        temp0.append(valor0)\n",
    "        temp1.append(valor1)\n",
    "    \n",
    "    xTrainVal0 = np.array(temp0).T.squeeze()\n",
    "    xTrainVal1 = np.array(temp1).T.squeeze()\n",
    "    \n",
    "    # Cálculo de la probabilidad para los sobrevivientes y no sobrevivientes\n",
    "    Probabilidad0 = 1-np.mean(yTrain) #No sobrevivientes\n",
    "    Probabilidad1 = np.mean(yTrain) #Sobrevivientes\n",
    "    \n",
    "    # Agregando las probabilidades como columna extra\n",
    "    x0 = np.concatenate((xTrainVal0, np.full_like(xTrainVal0[:,0],Probabilidad0).reshape(-1,1)), axis = 1)\n",
    "    x1 = np.concatenate((xTrainVal1, np.full_like(xTrainVal1[:,0],Probabilidad1).reshape(-1,1)), axis = 1)\n",
    "    \n",
    "    # Calculando valores para y\n",
    "    y0 = np.prod(x0,axis=1).reshape(-1,1)\n",
    "    y1 = np.prod(x1,axis=1).reshape(-1,1)\n",
    "    \n",
    "    # Unificando valores\n",
    "    y01 = np.concatenate((y0,y1), axis=1)\n",
    "    \n",
    "    # Calculando predicciones\n",
    "    predicciones = np.argmax(y01, axis = 1)\n",
    "    \n",
    "    # Calculando Accuracy\n",
    "    trainAccuracy = np.mean(predictions == yTrain)\n",
    "    \n",
    "    # ------Validation---------#\n",
    "    # Cálculo de los valores correspondientes (normalización)\n",
    "    temp0Val = []\n",
    "    temp1Val = []\n",
    "\n",
    "    for i in range(0, xTrainMedidas0.shape[0]):\n",
    "        # Se calculan las probabilidades con base a las medidas mean y std para cada columna tanto para valores 0 y 1\n",
    "        valor0Val = stats.norm(xTrainMedidas0[i][0], xTrainMedidas0[i][1]).cdf(xVal.iloc[:, [i]])\n",
    "        valor1Val = stats.norm (xTrainMedidas1[i][0], xTrainMedidas0[i][1]).cdf(xVal.iloc[:, [i]])\n",
    "        temp0Val.append(valor0Val)\n",
    "        temp1Val.append(valor1Val)\n",
    "    \n",
    "    xValVal0 = np.array(temp0Val).T.squeeze()\n",
    "    xValVal1 = np.array(temp1Val).T.squeeze()\n",
    "    \n",
    "    # Agregando las probabilidades como columna extra\n",
    "    x0Val = np.concatenate((xValVal0, np.full_like(xValVal0[:,0],Probabilidad0).reshape(-1,1)), axis = 1)\n",
    "    x1Val = np.concatenate((xValVal1, np.full_like(xValVal1[:,0],Probabilidad1).reshape(-1,1)), axis = 1)\n",
    "    \n",
    "    # Calculando valores para y\n",
    "    y0Val = np.prod(x0Val,axis=1).reshape(-1,1)\n",
    "    y1Val = np.prod(x1Val,axis=1).reshape(-1,1)\n",
    "    \n",
    "    # Unificando valores\n",
    "    y01Val = np.concatenate((y0Val,y1Val), axis=1)\n",
    "    \n",
    "    # Calculando predicciones\n",
    "    prediccionesVal = np.argmax(y01Val, axis = 1)\n",
    "    \n",
    "    # Calculando Accuracy\n",
    "    valAccuracy = np.mean(prediccionesVal == yVal)\n",
    "    \n",
    "    model = {\"nb0\": xTrainMedidas0, \"nb1\":xTrainMedidas1}\n",
    "    \n",
    "    return model, trainAccuracy, valAccuracy"
   ]
  },
  {
   "cell_type": "markdown",
   "id": "1f5e6667-dccb-4b41-838f-f903a0790b4e",
   "metadata": {},
   "source": [
    "##### Experimento 1"
   ]
  },
  {
   "cell_type": "code",
   "execution_count": 590,
   "id": "53ba7b38-67b9-499b-9a0e-ec3527be5f78",
   "metadata": {},
   "outputs": [
    {
     "name": "stdout",
     "output_type": "stream",
     "text": [
      "---------- Todas las columnas----------\n",
      "Train Accuracy =  0.49\n",
      "Validation Accuracy =  0.75\n",
      "---------------------------------------\n"
     ]
    }
   ],
   "source": [
    "model,trainAccuracy,valAccuracy = train_NaiveBayes(xTrain)\n",
    "print('---------- Todas las columnas----------')\n",
    "print('Train Accuracy = ', round(trainAccuracy, 2))\n",
    "print('Validation Accuracy = ', round(valAccuracy, 2))\n",
    "print('---------------------------------------')"
   ]
  },
  {
   "cell_type": "code",
   "execution_count": 591,
   "id": "fd1fa107-0aa4-4377-b26c-facae8678d62",
   "metadata": {},
   "outputs": [
    {
     "name": "stdout",
     "output_type": "stream",
     "text": [
      "------ Sin Age -------\n",
      "Train Accuracy =  0.49\n",
      "Validation Accuracy =  0.57\n",
      "---------------------------------\n",
      "------ Sin SibSp -------\n",
      "Train Accuracy =  0.49\n",
      "Validation Accuracy =  0.68\n",
      "---------------------------------\n",
      "------ Sin Parch -------\n",
      "Train Accuracy =  0.49\n",
      "Validation Accuracy =  0.71\n",
      "---------------------------------\n",
      "------ Sin Fare -------\n",
      "Train Accuracy =  0.49\n",
      "Validation Accuracy =  0.43\n",
      "---------------------------------\n",
      "------ Sin passenger_sex -------\n",
      "Train Accuracy =  0.49\n",
      "Validation Accuracy =  0.71\n",
      "---------------------------------\n",
      "------ Sin LClass -------\n",
      "Train Accuracy =  0.49\n",
      "Validation Accuracy =  0.73\n",
      "---------------------------------\n",
      "------ Sin MClass -------\n",
      "Train Accuracy =  0.49\n",
      "Validation Accuracy =  0.72\n",
      "---------------------------------\n",
      "------ Sin UClass -------\n",
      "Train Accuracy =  0.49\n",
      "Validation Accuracy =  0.71\n",
      "---------------------------------\n",
      "------ Sin EmbarkedC -------\n",
      "Train Accuracy =  0.49\n",
      "Validation Accuracy =  0.73\n",
      "---------------------------------\n",
      "------ Sin EmbarkedQ -------\n",
      "Train Accuracy =  0.49\n",
      "Validation Accuracy =  0.71\n",
      "---------------------------------\n",
      "------ Sin EmbarkedS -------\n",
      "Train Accuracy =  0.49\n",
      "Validation Accuracy =  0.76\n",
      "---------------------------------\n"
     ]
    }
   ],
   "source": [
    "for col in xTrain.columns:\n",
    "    model,trainAccuracy,valAccuracy = train_NaiveBayes(xTrain.drop(columns = col))\n",
    "    print('------ Sin',col,'-------')\n",
    "    print('Train Accuracy = ', round(trainAccuracy, 2))\n",
    "    print('Validation Accuracy = ', round(valAccuracy, 2))\n",
    "    print('---------------------------------')"
   ]
  },
  {
   "cell_type": "markdown",
   "id": "5461a19c-5a0a-458e-9685-9a4d30fc4ade",
   "metadata": {},
   "source": [
    "> El mejor modelo es en el que excluye la variable **EmbarkedS**"
   ]
  },
  {
   "cell_type": "code",
   "execution_count": 592,
   "id": "a2b28f9e-6c8f-465d-a62d-092313ac7045",
   "metadata": {},
   "outputs": [],
   "source": [
    "# Seleccionando el mejor modelDecisionTreeClassifier\n",
    "bestModelNaiveBayes, trainAccuracyNaiveBayes,valAccuracyNaiveBayes = train_NaiveBayes(xTrain.drop(columns =['EmbarkedS']))"
   ]
  },
  {
   "cell_type": "code",
   "execution_count": 593,
   "id": "b206a16e-822a-4bcc-978c-0cd2e96cc1b7",
   "metadata": {},
   "outputs": [
    {
     "data": {
      "text/plain": [
       "['models/modelNaiveBayes(sinVariable=EmbarkedS).joblib']"
      ]
     },
     "execution_count": 593,
     "metadata": {},
     "output_type": "execute_result"
    }
   ],
   "source": [
    "# Almacenando el modelo\n",
    "dump(bestModelNaiveBayes, \"models/modelNaiveBayes(sinVariable=EmbarkedS).joblib\")"
   ]
  },
  {
   "cell_type": "markdown",
   "id": "3b753a87-7b4f-4dff-8c40-4aafb7f7c874",
   "metadata": {},
   "source": [
    "#### Regresión Logística\n",
    "\n",
    "Para este algoritmo se usó como base el algorito del laboratorio anterior."
   ]
  },
  {
   "cell_type": "code",
   "execution_count": 471,
   "id": "5662921f-f06a-4ff5-8411-487d0a5f5621",
   "metadata": {},
   "outputs": [],
   "source": [
    "# Convirtiendo arreglos en formato de tensorflow\n",
    "yTrainTF = np.array(yTrain).reshape(-1,1)\n",
    "yValTF = np.array(yVal).reshape(-1,1)\n",
    "\n",
    "xTrainTF = np.insert(np.array(xTrain),0, np.ones(len(xTrain)), axis = 1)\n",
    "xValTF = np.insert(np.array(xVal),0, np.ones(len(xVal)), axis = 1)"
   ]
  },
  {
   "cell_type": "code",
   "execution_count": 498,
   "id": "d4ac4a19-9fe0-41ce-b80a-24b8ee076434",
   "metadata": {},
   "outputs": [],
   "source": [
    "# MRL = modelo de regresión logística\n",
    "class MRL:\n",
    "    # Constructor de clase para la inicialización de los parámetros\n",
    "    def __init__(self, x, parameters, regularizacion):\n",
    "        self.parametros = tf.get_variable(\"parametros\", dtype = tf.float32,\n",
    "                                          shape = [1, x.shape[1]],\n",
    "                                          initializer = tf.zeros_initializer())\n",
    "        self.parameters = tf.constant(parameters, dtype = tf.float32)\n",
    "        self.regularizacion = regularizacion\n",
    "                                            \n",
    "    # Cálculo de predicciones\n",
    "    def getPrediction(self, x):\n",
    "        sigmoid = tf.nn.sigmoid(self.logits(x))\n",
    "        return tf.round(sigmoid)\n",
    "    \n",
    "    # Cálculo de accuracy\n",
    "    def getAccuracy(self, predictions, labels):\n",
    "        a = tf.equal(predictions, labels)\n",
    "        a = tf.cast(a, tf.int32)\n",
    "        a = tf.divide(tf.reduce_sum(a), tf.shape(labels)[0])\n",
    "        return a\n",
    "    \n",
    "    # Cálculo de logits\n",
    "    def logits(self, x):\n",
    "        return tf.matmul(x, tf.transpose(self.parametros))\n",
    "    \n",
    "    # Cálculo función de costo\n",
    "    def loss(self, x, y):\n",
    "        cross_entropy = tf.reduce_mean(tf.nn.sigmoid_cross_entropy_with_logits(labels = y, logits = self.logits(x)))\n",
    "        if self.regularizacion == 'lasso':\n",
    "            error = tf.add(cross_entropy,tf.multiply(self.parameters, tf.reduce_sum(tf.abs(self.parametros))))\n",
    "        if self.regularizacion == 'ridge':\n",
    "            error = tf.add(cross_entropy, tf.multiply(self.parameters, tf.sqrt(tf.reduce_sum(tf.square(self.parametros)))))\n",
    "        return error\n",
    "    \n",
    "    # Cálculo de parámetro por medio de gradient descent\n",
    "    def gradient_descent(self, xtrain, ytrain, xtest, ytest, lr):\n",
    "        \n",
    "        # Para Error\n",
    "        with tf.name_scope(\"error\"):\n",
    "            train_error = self.loss(xtrain, ytrain)\n",
    "            train_error_summary = tf.summary.scalar(\"TrainError\", train_error)\n",
    "            test_error = self.loss(xtest, ytest)\n",
    "            test_error_summary = tf.summary.scalar(\"ValError\", test_error)\n",
    "            \n",
    "        # Para Accuracy\n",
    "        with tf.name_scope(\"accuracy\"):\n",
    "            train_accuracy = self.getAccuracy(self.getPrediction(xtrain), ytrain)\n",
    "            train_accuracy_summary = tf.summary.scalar(\"TrainAccuracy\", train_accuracy)\n",
    "            test_accuracy = self.getAccuracy(self.getPrediction(xtest), ytest)\n",
    "            test_accuracy_summary = tf.summary.scalar(\"ValtAccuracy\", test_accuracy)\n",
    "        \n",
    "        # Cálculo de nuevos parámetros con Gradient Descent\n",
    "        gradiente = tf.gradients(train_error, [self.parametros])\n",
    "        new_parametros = tf.assign(self.parametros, self.parametros - lr * gradiente[0])\n",
    "        return new_parametros, train_error, test_error, train_accuracy, test_accuracy, train_error_summary, test_error_summary, train_accuracy_summary, test_accuracy_summary"
   ]
  },
  {
   "cell_type": "code",
   "execution_count": 502,
   "id": "0a020744-e836-4389-901e-3f914b01a5b1",
   "metadata": {},
   "outputs": [],
   "source": [
    "# Función de entrenamiento\n",
    "\n",
    "def train_LogisticRegression(lr, epochs, printl, xtrain, xtest, labels_train, labels_test, batchSize, parameters, regularizacion):\n",
    "    \n",
    "    # Directorio para resguardo de los logs de cada experimento\n",
    "    directory = './experimentos/LogRegression'+ datetime.datetime.now().strftime(\"%Y%m%d-%H%M%S\") +\"_lr=\"+str(lr)+ \"_epochs=\"+str(epochs) + \"_batchSize=\" \\\n",
    "    + str(batchSize) + '_parameters=' + str(parameters) + \"_regularizacion=\" + regularizacion\n",
    "\n",
    "    # Definición del grafo\n",
    "    graph = tf.Graph()\n",
    "    with graph.as_default():\n",
    "        \n",
    "         # Creación de los tensores input\n",
    "        with tf.name_scope(\"train_tensors\"):\n",
    "            tensor_x_train = tf.placeholder(tf.float32, [None,xtrain.shape[1]], \"tensor_x_train\")\n",
    "            tensor_labels_train = tf.placeholder(tf.float32, [None,labels_train.shape[1]], \"tensor_labels_train\")\n",
    "        with tf.name_scope(\"test_tensors\"):\n",
    "            tensor_x_test = tf.placeholder(tf.float32, [xtest.shape[0], xtest.shape[1]], \"tensor_x_test\")\n",
    "            tensor_labels_test = tf.placeholder(tf.float32, [labels_test.shape[0], labels_test.shape[1]], \"tensor_labels_test\")\n",
    "        \n",
    "        # Creación del nodo para el cálculo de los nuevos parámetros según Regresion Logística\n",
    "        mrl = MRL(xtrain, parameters, regularizacion)\n",
    "        nuevos_parametros = mrl.gradient_descent(tensor_x_train, tensor_labels_train, tensor_x_test, tensor_labels_test, lr)\n",
    "    \n",
    "   \n",
    "       # Escribiendo para tensorboard\n",
    "        tboardW = tf.summary.FileWriter(directory, graph)\n",
    "        \n",
    "        # Configuración para batch\n",
    "        batch_size = 32\n",
    "        total_steps = int((labels_train.shape[0] / batch_size) * epochs)  \n",
    "        \n",
    "        # Ejecución del grafo\n",
    "        with tf.train.MonitoredSession() as session:\n",
    "            \n",
    "            \n",
    "            for i in range(total_steps + 1):\n",
    "                \n",
    "                # Calculando las cantidades para Mini batch\n",
    "                offset = (i * batch_size) % (labels_train.shape[0] - batch_size)\n",
    "                # Seleccionando los datos del bach actual\n",
    "                batch_data = xtrain[offset:(offset + batch_size),]\n",
    "                # Selecccionando las labels del bach actual\n",
    "                batch_labels = labels_train[offset:(offset + batch_size),]\n",
    "                \n",
    "                # Paso de valores a los tensores input\n",
    "                feed_dict = {tensor_x_train:batch_data, tensor_labels_train:batch_labels,tensor_x_test:xtest, tensor_labels_test:labels_test}\n",
    "                \n",
    "                \n",
    "                # Entrenamiento del modelo para cálculo de los nuevos parámetros\n",
    "                entrenamiento = session.run(nuevos_parametros, feed_dict = feed_dict)\n",
    "                \n",
    "                # Imprimiendo los epoch según el printl\n",
    "                if i % printl == 0:\n",
    "                    parametros = session.run(mrl.parametros, feed_dict = feed_dict)\n",
    "                    \n",
    "                    # Escribiendo para tensorboard\n",
    "                    tboardW.add_summary(entrenamiento[5], i)\n",
    "                    tboardW.add_summary(entrenamiento[6], i)\n",
    "                    tboardW.add_summary(entrenamiento[7], i)\n",
    "                    tboardW.add_summary(entrenamiento[8], i)\n",
    "                    \n",
    "                    print(\"Mini-batch:\", i, \"Epoch:\", int(i//(labels_train.shape[0] / batch_size)+1))\n",
    "                    print(\"train error:\", entrenamiento[1], \"train accuracy:\", entrenamiento[3])\n",
    "                    print(\"validation error:\", entrenamiento[2], \"validation accuracy:\", entrenamiento[4])\n",
    "                    print(\"-------------------------------------------------------------------------\")\n",
    "            \n",
    "            return parametros\n",
    "\n",
    "            tboardW.close()"
   ]
  },
  {
   "cell_type": "code",
   "execution_count": 594,
   "id": "a464e849-31ed-4fe6-aa6b-416a4b39f2a6",
   "metadata": {},
   "outputs": [
    {
     "name": "stdout",
     "output_type": "stream",
     "text": [
      "INFO:tensorflow:Graph was finalized.\n",
      "INFO:tensorflow:Running local_init_op.\n",
      "INFO:tensorflow:Done running local_init_op.\n",
      "Mini-batch: 0 Epoch: 1\n",
      "train error: 0.6931472 train accuracy: 0.6875\n",
      "validation error: 0.69314736 validation accuracy: 0.6083916083916084\n",
      "-------------------------------------------------------------------------\n",
      "Mini-batch: 1000 Epoch: 57\n",
      "train error: 0.43521526 train accuracy: 0.84375\n",
      "validation error: 0.5256762 validation accuracy: 0.7552447552447552\n",
      "-------------------------------------------------------------------------\n",
      "Mini-batch: 2000 Epoch: 113\n",
      "train error: 0.46838954 train accuracy: 0.78125\n",
      "validation error: 0.48815668 validation accuracy: 0.8111888111888111\n",
      "-------------------------------------------------------------------------\n",
      "Mini-batch: 3000 Epoch: 169\n",
      "train error: 0.518932 train accuracy: 0.6875\n",
      "validation error: 0.47175983 validation accuracy: 0.8251748251748252\n",
      "-------------------------------------------------------------------------\n",
      "Mini-batch: 4000 Epoch: 225\n",
      "train error: 0.5212742 train accuracy: 0.8125\n",
      "validation error: 0.46357924 validation accuracy: 0.8181818181818182\n",
      "-------------------------------------------------------------------------\n",
      "Mini-batch: 5000 Epoch: 282\n",
      "train error: 0.5193739 train accuracy: 0.6875\n",
      "validation error: 0.4591621 validation accuracy: 0.8111888111888111\n",
      "-------------------------------------------------------------------------\n",
      "Mini-batch: 6000 Epoch: 338\n",
      "train error: 0.33303744 train accuracy: 0.90625\n",
      "validation error: 0.45680755 validation accuracy: 0.8111888111888111\n",
      "-------------------------------------------------------------------------\n",
      "Mini-batch: 7000 Epoch: 394\n",
      "train error: 0.5009188 train accuracy: 0.71875\n",
      "validation error: 0.45542705 validation accuracy: 0.8111888111888111\n",
      "-------------------------------------------------------------------------\n",
      "Mini-batch: 8000 Epoch: 450\n",
      "train error: 0.3444719 train accuracy: 0.90625\n",
      "validation error: 0.45470476 validation accuracy: 0.8111888111888111\n",
      "-------------------------------------------------------------------------\n",
      "Mini-batch: 9000 Epoch: 507\n",
      "train error: 0.7181627 train accuracy: 0.6875\n",
      "validation error: 0.45434353 validation accuracy: 0.8111888111888111\n",
      "-------------------------------------------------------------------------\n",
      "Mini-batch: 10000 Epoch: 563\n",
      "train error: 0.47088277 train accuracy: 0.75\n",
      "validation error: 0.4541364 validation accuracy: 0.8111888111888111\n",
      "-------------------------------------------------------------------------\n",
      "Mini-batch: 11000 Epoch: 619\n",
      "train error: 0.36363423 train accuracy: 0.84375\n",
      "validation error: 0.45409137 validation accuracy: 0.8111888111888111\n",
      "-------------------------------------------------------------------------\n",
      "Mini-batch: 12000 Epoch: 675\n",
      "train error: 0.44295344 train accuracy: 0.75\n",
      "validation error: 0.45404553 validation accuracy: 0.8111888111888111\n",
      "-------------------------------------------------------------------------\n",
      "Mini-batch: 13000 Epoch: 732\n",
      "train error: 0.54152656 train accuracy: 0.6875\n",
      "validation error: 0.4541289 validation accuracy: 0.8111888111888111\n",
      "-------------------------------------------------------------------------\n",
      "Mini-batch: 14000 Epoch: 788\n",
      "train error: 0.47073016 train accuracy: 0.8125\n",
      "validation error: 0.45418912 validation accuracy: 0.8111888111888111\n",
      "-------------------------------------------------------------------------\n",
      "Mini-batch: 15000 Epoch: 844\n",
      "train error: 0.4464021 train accuracy: 0.8125\n",
      "validation error: 0.4542191 validation accuracy: 0.8111888111888111\n",
      "-------------------------------------------------------------------------\n",
      "Mini-batch: 16000 Epoch: 900\n",
      "train error: 0.4190583 train accuracy: 0.75\n",
      "validation error: 0.45431134 validation accuracy: 0.8111888111888111\n",
      "-------------------------------------------------------------------------\n",
      "Mini-batch: 17000 Epoch: 957\n",
      "train error: 0.40958583 train accuracy: 0.84375\n",
      "validation error: 0.45432398 validation accuracy: 0.8111888111888111\n",
      "-------------------------------------------------------------------------\n"
     ]
    }
   ],
   "source": [
    "betsModelLogisticRegression = train_LogisticRegression(0.01, 1000, 1000, xTrainTF, xValTF, yTrainTF, yValTF, 32, 0, 'lasso')"
   ]
  },
  {
   "cell_type": "code",
   "execution_count": 595,
   "id": "3c25ab6b-4324-4f21-8b19-ebe45072727d",
   "metadata": {},
   "outputs": [
    {
     "name": "stdout",
     "output_type": "stream",
     "text": [
      "INFO:tensorflow:Graph was finalized.\n",
      "INFO:tensorflow:Running local_init_op.\n",
      "INFO:tensorflow:Done running local_init_op.\n",
      "Mini-batch: 0 Epoch: 1\n",
      "train error: 0.6931472 train accuracy: 0.6875\n",
      "validation error: 0.69300807 validation accuracy: 0.6083916083916084\n",
      "-------------------------------------------------------------------------\n",
      "Mini-batch: 1000 Epoch: 57\n",
      "train error: 0.60936606 train accuracy: 0.625\n",
      "validation error: 0.63209736 validation accuracy: 0.6083916083916084\n",
      "-------------------------------------------------------------------------\n",
      "Mini-batch: 2000 Epoch: 113\n",
      "train error: 0.6095631 train accuracy: 0.59375\n",
      "validation error: 0.6073953 validation accuracy: 0.6503496503496503\n",
      "-------------------------------------------------------------------------\n",
      "Mini-batch: 3000 Epoch: 169\n",
      "train error: 0.5961442 train accuracy: 0.65625\n",
      "validation error: 0.5909916 validation accuracy: 0.6643356643356644\n",
      "-------------------------------------------------------------------------\n",
      "Mini-batch: 4000 Epoch: 225\n",
      "train error: 0.5940492 train accuracy: 0.71875\n",
      "validation error: 0.5776055 validation accuracy: 0.6923076923076923\n",
      "-------------------------------------------------------------------------\n",
      "Mini-batch: 5000 Epoch: 282\n",
      "train error: 0.6045487 train accuracy: 0.6875\n",
      "validation error: 0.5660203 validation accuracy: 0.7202797202797203\n",
      "-------------------------------------------------------------------------\n",
      "Mini-batch: 6000 Epoch: 338\n",
      "train error: 0.48093092 train accuracy: 0.78125\n",
      "validation error: 0.5558817 validation accuracy: 0.7342657342657343\n",
      "-------------------------------------------------------------------------\n",
      "Mini-batch: 7000 Epoch: 394\n",
      "train error: 0.55459183 train accuracy: 0.75\n",
      "validation error: 0.54695636 validation accuracy: 0.7342657342657343\n",
      "-------------------------------------------------------------------------\n",
      "Mini-batch: 8000 Epoch: 450\n",
      "train error: 0.4602725 train accuracy: 0.84375\n",
      "validation error: 0.5390344 validation accuracy: 0.7552447552447552\n",
      "-------------------------------------------------------------------------\n",
      "Mini-batch: 9000 Epoch: 507\n",
      "train error: 0.6527096 train accuracy: 0.71875\n",
      "validation error: 0.5320217 validation accuracy: 0.7622377622377622\n",
      "-------------------------------------------------------------------------\n",
      "Mini-batch: 10000 Epoch: 563\n",
      "train error: 0.51579857 train accuracy: 0.8125\n",
      "validation error: 0.5257566 validation accuracy: 0.7552447552447552\n",
      "-------------------------------------------------------------------------\n",
      "Mini-batch: 11000 Epoch: 619\n",
      "train error: 0.504477 train accuracy: 0.78125\n",
      "validation error: 0.5201503 validation accuracy: 0.7552447552447552\n",
      "-------------------------------------------------------------------------\n",
      "Mini-batch: 12000 Epoch: 675\n",
      "train error: 0.49042818 train accuracy: 0.75\n",
      "validation error: 0.515094 validation accuracy: 0.7692307692307693\n",
      "-------------------------------------------------------------------------\n",
      "Mini-batch: 13000 Epoch: 732\n",
      "train error: 0.5671968 train accuracy: 0.78125\n",
      "validation error: 0.51053405 validation accuracy: 0.7762237762237763\n",
      "-------------------------------------------------------------------------\n",
      "Mini-batch: 14000 Epoch: 788\n",
      "train error: 0.54661316 train accuracy: 0.71875\n",
      "validation error: 0.5064118 validation accuracy: 0.7902097902097902\n",
      "-------------------------------------------------------------------------\n",
      "Mini-batch: 15000 Epoch: 844\n",
      "train error: 0.4697134 train accuracy: 0.84375\n",
      "validation error: 0.5026515 validation accuracy: 0.8181818181818182\n",
      "-------------------------------------------------------------------------\n",
      "Mini-batch: 16000 Epoch: 900\n",
      "train error: 0.50303084 train accuracy: 0.6875\n",
      "validation error: 0.4992376 validation accuracy: 0.8111888111888111\n",
      "-------------------------------------------------------------------------\n",
      "Mini-batch: 17000 Epoch: 957\n",
      "train error: 0.46128166 train accuracy: 0.84375\n",
      "validation error: 0.49609667 validation accuracy: 0.8111888111888111\n",
      "-------------------------------------------------------------------------\n"
     ]
    },
    {
     "data": {
      "text/plain": [
       "array([[ 0.2004291 , -0.27342233, -0.00550873,  0.01630372,  0.52206725,\n",
       "        -1.1426723 , -0.49160647,  0.1739543 ,  0.518079  ,  0.23531818,\n",
       "         0.10406782, -0.16343708]], dtype=float32)"
      ]
     },
     "execution_count": 595,
     "metadata": {},
     "output_type": "execute_result"
    }
   ],
   "source": [
    "train_LogisticRegression(0.001, 1000, 1000, xTrainTF, xValTF, yTrainTF, yValTF, 32, 0, 'lasso')"
   ]
  },
  {
   "cell_type": "code",
   "execution_count": 596,
   "id": "3b5117bb-34a6-45bf-8b68-6911abb2234d",
   "metadata": {},
   "outputs": [
    {
     "name": "stdout",
     "output_type": "stream",
     "text": [
      "INFO:tensorflow:Graph was finalized.\n",
      "INFO:tensorflow:Running local_init_op.\n",
      "INFO:tensorflow:Done running local_init_op.\n",
      "Mini-batch: 0 Epoch: 1\n",
      "train error: 0.6931472 train accuracy: 0.6875\n",
      "validation error: 0.69314736 validation accuracy: 0.6083916083916084\n",
      "-------------------------------------------------------------------------\n",
      "Mini-batch: 1000 Epoch: 57\n",
      "train error: 0.6949232 train accuracy: 0.78125\n",
      "validation error: 0.6950164 validation accuracy: 0.6643356643356644\n",
      "-------------------------------------------------------------------------\n",
      "Mini-batch: 2000 Epoch: 113\n",
      "train error: 0.6946024 train accuracy: 0.5625\n",
      "validation error: 0.6945581 validation accuracy: 0.6363636363636364\n",
      "-------------------------------------------------------------------------\n",
      "Mini-batch: 3000 Epoch: 169\n",
      "train error: 0.6948852 train accuracy: 0.625\n",
      "validation error: 0.69488597 validation accuracy: 0.6083916083916084\n",
      "-------------------------------------------------------------------------\n",
      "Mini-batch: 4000 Epoch: 225\n",
      "train error: 0.6943215 train accuracy: 0.40625\n",
      "validation error: 0.6943371 validation accuracy: 0.3916083916083916\n",
      "-------------------------------------------------------------------------\n",
      "Mini-batch: 5000 Epoch: 282\n",
      "train error: 0.6949428 train accuracy: 0.59375\n",
      "validation error: 0.6949067 validation accuracy: 0.6573426573426573\n",
      "-------------------------------------------------------------------------\n",
      "Mini-batch: 6000 Epoch: 338\n",
      "train error: 0.69467664 train accuracy: 0.5625\n",
      "validation error: 0.69465715 validation accuracy: 0.6643356643356644\n",
      "-------------------------------------------------------------------------\n",
      "Mini-batch: 7000 Epoch: 394\n",
      "train error: 0.6947032 train accuracy: 0.625\n",
      "validation error: 0.6947301 validation accuracy: 0.6083916083916084\n",
      "-------------------------------------------------------------------------\n",
      "Mini-batch: 8000 Epoch: 450\n",
      "train error: 0.6942503 train accuracy: 0.5\n",
      "validation error: 0.69423753 validation accuracy: 0.6433566433566433\n",
      "-------------------------------------------------------------------------\n",
      "Mini-batch: 9000 Epoch: 507\n",
      "train error: 0.6944275 train accuracy: 0.53125\n",
      "validation error: 0.6943497 validation accuracy: 0.6713286713286714\n",
      "-------------------------------------------------------------------------\n",
      "Mini-batch: 10000 Epoch: 563\n",
      "train error: 0.69419116 train accuracy: 0.625\n",
      "validation error: 0.6942286 validation accuracy: 0.6083916083916084\n",
      "-------------------------------------------------------------------------\n",
      "Mini-batch: 11000 Epoch: 619\n",
      "train error: 0.69458675 train accuracy: 0.53125\n",
      "validation error: 0.69453454 validation accuracy: 0.6573426573426573\n",
      "-------------------------------------------------------------------------\n",
      "Mini-batch: 12000 Epoch: 675\n",
      "train error: 0.6949608 train accuracy: 0.75\n",
      "validation error: 0.69496644 validation accuracy: 0.6853146853146853\n",
      "-------------------------------------------------------------------------\n",
      "Mini-batch: 13000 Epoch: 732\n",
      "train error: 0.694551 train accuracy: 0.65625\n",
      "validation error: 0.6945974 validation accuracy: 0.6083916083916084\n",
      "-------------------------------------------------------------------------\n",
      "Mini-batch: 14000 Epoch: 788\n",
      "train error: 0.6945216 train accuracy: 0.4375\n",
      "validation error: 0.69449484 validation accuracy: 0.5594405594405595\n",
      "-------------------------------------------------------------------------\n",
      "Mini-batch: 15000 Epoch: 844\n",
      "train error: 0.6944295 train accuracy: 0.3125\n",
      "validation error: 0.6944284 validation accuracy: 0.34965034965034963\n",
      "-------------------------------------------------------------------------\n",
      "Mini-batch: 16000 Epoch: 900\n",
      "train error: 0.6939724 train accuracy: 0.625\n",
      "validation error: 0.69393307 validation accuracy: 0.6853146853146853\n",
      "-------------------------------------------------------------------------\n",
      "Mini-batch: 17000 Epoch: 957\n",
      "train error: 0.6945018 train accuracy: 0.6875\n",
      "validation error: 0.6945794 validation accuracy: 0.6083916083916084\n",
      "-------------------------------------------------------------------------\n"
     ]
    },
    {
     "data": {
      "text/plain": [
       "array([[-5.4884871e-04, -6.3140481e-04,  3.7296815e-04,  3.1046383e-04,\n",
       "         1.2226039e-04, -3.7485274e-04, -7.0441863e-05,  6.8528694e-05,\n",
       "         4.5305651e-04,  3.4951401e-04,  9.2974253e-05, -1.4900160e-04]],\n",
       "      dtype=float32)"
      ]
     },
     "execution_count": 596,
     "metadata": {},
     "output_type": "execute_result"
    }
   ],
   "source": [
    "train_LogisticRegression(0.001, 1000, 1000, xTrainTF, xValTF, yTrainTF, yValTF, 32, 0.5, 'lasso')"
   ]
  },
  {
   "cell_type": "code",
   "execution_count": 597,
   "id": "7c5cb07e-87e5-484a-9bd9-d3b8bf15c654",
   "metadata": {},
   "outputs": [
    {
     "name": "stdout",
     "output_type": "stream",
     "text": [
      "INFO:tensorflow:Graph was finalized.\n",
      "INFO:tensorflow:Running local_init_op.\n",
      "INFO:tensorflow:Done running local_init_op.\n",
      "Mini-batch: 0 Epoch: 1\n",
      "train error: 0.6931472 train accuracy: 0.6875\n",
      "validation error: 0.69314736 validation accuracy: 0.6083916083916084\n",
      "-------------------------------------------------------------------------\n",
      "Mini-batch: 1000 Epoch: 57\n",
      "train error: 0.43521526 train accuracy: 0.84375\n",
      "validation error: 0.5256762 validation accuracy: 0.7552447552447552\n",
      "-------------------------------------------------------------------------\n",
      "Mini-batch: 2000 Epoch: 113\n",
      "train error: 0.46838954 train accuracy: 0.78125\n",
      "validation error: 0.48815668 validation accuracy: 0.8111888111888111\n",
      "-------------------------------------------------------------------------\n",
      "Mini-batch: 3000 Epoch: 169\n",
      "train error: 0.518932 train accuracy: 0.6875\n",
      "validation error: 0.47175983 validation accuracy: 0.8251748251748252\n",
      "-------------------------------------------------------------------------\n",
      "Mini-batch: 4000 Epoch: 225\n",
      "train error: 0.5212742 train accuracy: 0.8125\n",
      "validation error: 0.46357924 validation accuracy: 0.8181818181818182\n",
      "-------------------------------------------------------------------------\n",
      "Mini-batch: 5000 Epoch: 282\n",
      "train error: 0.5193739 train accuracy: 0.6875\n",
      "validation error: 0.4591621 validation accuracy: 0.8111888111888111\n",
      "-------------------------------------------------------------------------\n",
      "Mini-batch: 6000 Epoch: 338\n",
      "train error: 0.33303744 train accuracy: 0.90625\n",
      "validation error: 0.45680755 validation accuracy: 0.8111888111888111\n",
      "-------------------------------------------------------------------------\n",
      "Mini-batch: 7000 Epoch: 394\n",
      "train error: 0.5009188 train accuracy: 0.71875\n",
      "validation error: 0.45542705 validation accuracy: 0.8111888111888111\n",
      "-------------------------------------------------------------------------\n",
      "Mini-batch: 8000 Epoch: 450\n",
      "train error: 0.3444719 train accuracy: 0.90625\n",
      "validation error: 0.45470476 validation accuracy: 0.8111888111888111\n",
      "-------------------------------------------------------------------------\n",
      "Mini-batch: 9000 Epoch: 507\n",
      "train error: 0.7181627 train accuracy: 0.6875\n",
      "validation error: 0.45434353 validation accuracy: 0.8111888111888111\n",
      "-------------------------------------------------------------------------\n",
      "Mini-batch: 10000 Epoch: 563\n",
      "train error: 0.47088277 train accuracy: 0.75\n",
      "validation error: 0.4541364 validation accuracy: 0.8111888111888111\n",
      "-------------------------------------------------------------------------\n",
      "Mini-batch: 11000 Epoch: 619\n",
      "train error: 0.36363423 train accuracy: 0.84375\n",
      "validation error: 0.45409137 validation accuracy: 0.8111888111888111\n",
      "-------------------------------------------------------------------------\n",
      "Mini-batch: 12000 Epoch: 675\n",
      "train error: 0.44295344 train accuracy: 0.75\n",
      "validation error: 0.45404553 validation accuracy: 0.8111888111888111\n",
      "-------------------------------------------------------------------------\n",
      "Mini-batch: 13000 Epoch: 732\n",
      "train error: 0.54152656 train accuracy: 0.6875\n",
      "validation error: 0.4541289 validation accuracy: 0.8111888111888111\n",
      "-------------------------------------------------------------------------\n",
      "Mini-batch: 14000 Epoch: 788\n",
      "train error: 0.47073016 train accuracy: 0.8125\n",
      "validation error: 0.45418912 validation accuracy: 0.8111888111888111\n",
      "-------------------------------------------------------------------------\n",
      "Mini-batch: 15000 Epoch: 844\n",
      "train error: 0.4464021 train accuracy: 0.8125\n",
      "validation error: 0.4542191 validation accuracy: 0.8111888111888111\n",
      "-------------------------------------------------------------------------\n",
      "Mini-batch: 16000 Epoch: 900\n",
      "train error: 0.4190583 train accuracy: 0.75\n",
      "validation error: 0.45431134 validation accuracy: 0.8111888111888111\n",
      "-------------------------------------------------------------------------\n",
      "Mini-batch: 17000 Epoch: 957\n",
      "train error: 0.40958583 train accuracy: 0.84375\n",
      "validation error: 0.45432398 validation accuracy: 0.8111888111888111\n",
      "-------------------------------------------------------------------------\n"
     ]
    },
    {
     "data": {
      "text/plain": [
       "array([[ 0.7230262 , -0.37038848, -0.13487333,  0.0395243 ,  1.0047867 ,\n",
       "        -2.3445406 , -0.6301869 ,  0.52104026,  0.8321745 ,  0.39206332,\n",
       "         0.5162146 , -0.28169376]], dtype=float32)"
      ]
     },
     "execution_count": 597,
     "metadata": {},
     "output_type": "execute_result"
    }
   ],
   "source": [
    "train_LogisticRegression(0.01, 1000, 1000, xTrainTF, xValTF, yTrainTF, yValTF, 32, 0, 'ridge')"
   ]
  },
  {
   "cell_type": "code",
   "execution_count": 598,
   "id": "b4de9ca4-2b1e-4776-b7d1-ead23082d238",
   "metadata": {},
   "outputs": [
    {
     "name": "stdout",
     "output_type": "stream",
     "text": [
      "INFO:tensorflow:Graph was finalized.\n",
      "INFO:tensorflow:Running local_init_op.\n",
      "INFO:tensorflow:Done running local_init_op.\n",
      "Mini-batch: 0 Epoch: 1\n",
      "train error: 0.6931472 train accuracy: 0.6875\n",
      "validation error: 0.69314736 validation accuracy: 0.6083916083916084\n",
      "-------------------------------------------------------------------------\n",
      "Mini-batch: 1000 Epoch: 57\n",
      "train error: 0.60936606 train accuracy: 0.625\n",
      "validation error: 0.63209736 validation accuracy: 0.6083916083916084\n",
      "-------------------------------------------------------------------------\n",
      "Mini-batch: 2000 Epoch: 113\n",
      "train error: 0.6095631 train accuracy: 0.59375\n",
      "validation error: 0.6073953 validation accuracy: 0.6503496503496503\n",
      "-------------------------------------------------------------------------\n",
      "Mini-batch: 3000 Epoch: 169\n",
      "train error: 0.5961442 train accuracy: 0.65625\n",
      "validation error: 0.5909916 validation accuracy: 0.6643356643356644\n",
      "-------------------------------------------------------------------------\n",
      "Mini-batch: 4000 Epoch: 225\n",
      "train error: 0.5940492 train accuracy: 0.71875\n",
      "validation error: 0.5776055 validation accuracy: 0.6923076923076923\n",
      "-------------------------------------------------------------------------\n",
      "Mini-batch: 5000 Epoch: 282\n",
      "train error: 0.6045487 train accuracy: 0.6875\n",
      "validation error: 0.5660203 validation accuracy: 0.7202797202797203\n",
      "-------------------------------------------------------------------------\n",
      "Mini-batch: 6000 Epoch: 338\n",
      "train error: 0.48093092 train accuracy: 0.78125\n",
      "validation error: 0.5558817 validation accuracy: 0.7342657342657343\n",
      "-------------------------------------------------------------------------\n",
      "Mini-batch: 7000 Epoch: 394\n",
      "train error: 0.55459183 train accuracy: 0.75\n",
      "validation error: 0.54695636 validation accuracy: 0.7342657342657343\n",
      "-------------------------------------------------------------------------\n",
      "Mini-batch: 8000 Epoch: 450\n",
      "train error: 0.4602725 train accuracy: 0.84375\n",
      "validation error: 0.5390344 validation accuracy: 0.7552447552447552\n",
      "-------------------------------------------------------------------------\n",
      "Mini-batch: 9000 Epoch: 507\n",
      "train error: 0.6527096 train accuracy: 0.71875\n",
      "validation error: 0.5320217 validation accuracy: 0.7622377622377622\n",
      "-------------------------------------------------------------------------\n",
      "Mini-batch: 10000 Epoch: 563\n",
      "train error: 0.51579857 train accuracy: 0.8125\n",
      "validation error: 0.5257566 validation accuracy: 0.7552447552447552\n",
      "-------------------------------------------------------------------------\n",
      "Mini-batch: 11000 Epoch: 619\n",
      "train error: 0.504477 train accuracy: 0.78125\n",
      "validation error: 0.5201503 validation accuracy: 0.7552447552447552\n",
      "-------------------------------------------------------------------------\n",
      "Mini-batch: 12000 Epoch: 675\n",
      "train error: 0.49042818 train accuracy: 0.75\n",
      "validation error: 0.515094 validation accuracy: 0.7692307692307693\n",
      "-------------------------------------------------------------------------\n",
      "Mini-batch: 13000 Epoch: 732\n",
      "train error: 0.5671968 train accuracy: 0.78125\n",
      "validation error: 0.51053405 validation accuracy: 0.7762237762237763\n",
      "-------------------------------------------------------------------------\n",
      "Mini-batch: 14000 Epoch: 788\n",
      "train error: 0.54661316 train accuracy: 0.71875\n",
      "validation error: 0.5064118 validation accuracy: 0.7902097902097902\n",
      "-------------------------------------------------------------------------\n",
      "Mini-batch: 15000 Epoch: 844\n",
      "train error: 0.4697134 train accuracy: 0.84375\n",
      "validation error: 0.5026515 validation accuracy: 0.8181818181818182\n",
      "-------------------------------------------------------------------------\n",
      "Mini-batch: 16000 Epoch: 900\n",
      "train error: 0.50303084 train accuracy: 0.6875\n",
      "validation error: 0.4992376 validation accuracy: 0.8111888111888111\n",
      "-------------------------------------------------------------------------\n",
      "Mini-batch: 17000 Epoch: 957\n",
      "train error: 0.46128166 train accuracy: 0.84375\n",
      "validation error: 0.49609667 validation accuracy: 0.8111888111888111\n",
      "-------------------------------------------------------------------------\n"
     ]
    },
    {
     "data": {
      "text/plain": [
       "array([[ 0.2004291 , -0.27342233, -0.00550873,  0.01630372,  0.52206725,\n",
       "        -1.1426723 , -0.49160647,  0.1739543 ,  0.518079  ,  0.23531818,\n",
       "         0.10406782, -0.16343708]], dtype=float32)"
      ]
     },
     "execution_count": 598,
     "metadata": {},
     "output_type": "execute_result"
    }
   ],
   "source": [
    "train_LogisticRegression(0.001, 1000, 1000, xTrainTF, xValTF, yTrainTF, yValTF, 32, 0, 'ridge')"
   ]
  },
  {
   "cell_type": "code",
   "execution_count": 599,
   "id": "d2940c88-3734-4245-a010-4fa184716a10",
   "metadata": {},
   "outputs": [
    {
     "name": "stdout",
     "output_type": "stream",
     "text": [
      "INFO:tensorflow:Graph was finalized.\n",
      "INFO:tensorflow:Running local_init_op.\n",
      "INFO:tensorflow:Done running local_init_op.\n",
      "Mini-batch: 0 Epoch: 1\n",
      "train error: 0.6931472 train accuracy: 0.6875\n",
      "validation error: 0.69314736 validation accuracy: 0.6083916083916084\n",
      "-------------------------------------------------------------------------\n",
      "Mini-batch: 1000 Epoch: 57\n",
      "train error: nan train accuracy: 0.0\n",
      "validation error: nan validation accuracy: 0.0\n",
      "-------------------------------------------------------------------------\n",
      "Mini-batch: 2000 Epoch: 113\n",
      "train error: nan train accuracy: 0.0\n",
      "validation error: nan validation accuracy: 0.0\n",
      "-------------------------------------------------------------------------\n",
      "Mini-batch: 3000 Epoch: 169\n",
      "train error: nan train accuracy: 0.0\n",
      "validation error: nan validation accuracy: 0.0\n",
      "-------------------------------------------------------------------------\n",
      "Mini-batch: 4000 Epoch: 225\n",
      "train error: nan train accuracy: 0.0\n",
      "validation error: nan validation accuracy: 0.0\n",
      "-------------------------------------------------------------------------\n",
      "Mini-batch: 5000 Epoch: 282\n",
      "train error: nan train accuracy: 0.0\n",
      "validation error: nan validation accuracy: 0.0\n",
      "-------------------------------------------------------------------------\n",
      "Mini-batch: 6000 Epoch: 338\n",
      "train error: nan train accuracy: 0.0\n",
      "validation error: nan validation accuracy: 0.0\n",
      "-------------------------------------------------------------------------\n",
      "Mini-batch: 7000 Epoch: 394\n",
      "train error: nan train accuracy: 0.0\n",
      "validation error: nan validation accuracy: 0.0\n",
      "-------------------------------------------------------------------------\n",
      "Mini-batch: 8000 Epoch: 450\n",
      "train error: nan train accuracy: 0.0\n",
      "validation error: nan validation accuracy: 0.0\n",
      "-------------------------------------------------------------------------\n",
      "Mini-batch: 9000 Epoch: 507\n",
      "train error: nan train accuracy: 0.0\n",
      "validation error: nan validation accuracy: 0.0\n",
      "-------------------------------------------------------------------------\n",
      "Mini-batch: 10000 Epoch: 563\n",
      "train error: nan train accuracy: 0.0\n",
      "validation error: nan validation accuracy: 0.0\n",
      "-------------------------------------------------------------------------\n",
      "Mini-batch: 11000 Epoch: 619\n",
      "train error: nan train accuracy: 0.0\n",
      "validation error: nan validation accuracy: 0.0\n",
      "-------------------------------------------------------------------------\n",
      "Mini-batch: 12000 Epoch: 675\n",
      "train error: nan train accuracy: 0.0\n",
      "validation error: nan validation accuracy: 0.0\n",
      "-------------------------------------------------------------------------\n",
      "Mini-batch: 13000 Epoch: 732\n",
      "train error: nan train accuracy: 0.0\n",
      "validation error: nan validation accuracy: 0.0\n",
      "-------------------------------------------------------------------------\n",
      "Mini-batch: 14000 Epoch: 788\n",
      "train error: nan train accuracy: 0.0\n",
      "validation error: nan validation accuracy: 0.0\n",
      "-------------------------------------------------------------------------\n",
      "Mini-batch: 15000 Epoch: 844\n",
      "train error: nan train accuracy: 0.0\n",
      "validation error: nan validation accuracy: 0.0\n",
      "-------------------------------------------------------------------------\n",
      "Mini-batch: 16000 Epoch: 900\n",
      "train error: nan train accuracy: 0.0\n",
      "validation error: nan validation accuracy: 0.0\n",
      "-------------------------------------------------------------------------\n",
      "Mini-batch: 17000 Epoch: 957\n",
      "train error: nan train accuracy: 0.0\n",
      "validation error: nan validation accuracy: 0.0\n",
      "-------------------------------------------------------------------------\n"
     ]
    },
    {
     "data": {
      "text/plain": [
       "array([[nan, nan, nan, nan, nan, nan, nan, nan, nan, nan, nan, nan]],\n",
       "      dtype=float32)"
      ]
     },
     "execution_count": 599,
     "metadata": {},
     "output_type": "execute_result"
    }
   ],
   "source": [
    "train_LogisticRegression(0.001, 1000, 1000, xTrainTF, xValTF, yTrainTF, yValTF, 32, 0.5, 'ridge')"
   ]
  },
  {
   "cell_type": "markdown",
   "id": "deb5dc56-4be3-47bd-9686-d63e3097fc6e",
   "metadata": {},
   "source": [
    "> Mejor modelo de regresión logística con lr=0.01,regularization=lasso,epochs=1000,bachSize=32"
   ]
  },
  {
   "cell_type": "code",
   "execution_count": 600,
   "id": "6011273e-c6a8-4826-8692-94bd3f7a2056",
   "metadata": {},
   "outputs": [
    {
     "data": {
      "text/plain": [
       "['models/modelNaiveBayes(lr=0.01,regularization=lasso,epochs=1000,bachSize=32).joblib']"
      ]
     },
     "execution_count": 600,
     "metadata": {},
     "output_type": "execute_result"
    }
   ],
   "source": [
    "# Almacenando el modelo\n",
    "dump(betsModelLogisticRegression, \"models/modelNaiveBayes(lr=0.01,regularization=lasso,epochs=1000,bachSize=32).joblib\")"
   ]
  },
  {
   "cell_type": "code",
   "execution_count": 512,
   "id": "ce28cba0-478a-4ef4-8261-ae6d32722022",
   "metadata": {},
   "outputs": [
    {
     "name": "stdout",
     "output_type": "stream",
     "text": [
      "The tensorboard extension is already loaded. To reload it, use:\n",
      "  %reload_ext tensorboard\n"
     ]
    }
   ],
   "source": [
    "%load_ext tensorboard"
   ]
  },
  {
   "cell_type": "markdown",
   "id": "76cf1b79-4d39-44b4-a23b-d586f07e1271",
   "metadata": {},
   "source": [
    "### Predicciones y test con modelos de entrenamiento"
   ]
  },
  {
   "cell_type": "code",
   "execution_count": 527,
   "id": "78db987d-e894-4ab7-bad0-a3f73f050ddb",
   "metadata": {},
   "outputs": [],
   "source": [
    "# Funciones para predicciones generadas de manera manual\n",
    "\n",
    "def predictNB(Medidas0, Medidas1):\n",
    "    temp0 = []\n",
    "    temp1 = []\n",
    "\n",
    "    for i in range(0, Medidas0.shape[0]):\n",
    "\n",
    "        predictions0 = stats.norm(Medidas0[i][0], Medidas0[i][1]).cdf(xTest.iloc[:, [i]])\n",
    "        predictions1 = stats.norm(Medidas1[i][0], Medidas1[i][1]).cdf(xTest.iloc[:, [i]])\n",
    "        temp0.append(predictions0)\n",
    "        temp1.append(predictions1)\n",
    "    \n",
    "    x0probabilities = np.array(temp0).T.squeeze()\n",
    "    x1probabilities = np.array(temp1).T.squeeze()\n",
    "    \n",
    "    x0 = np.concatenate((x0probabilities, np.full_like(x0probabilities[:,0],Probabilidad0).reshape(-1,1)), axis = 1)\n",
    "    x1 = np.concatenate((x1probabilities, np.full_like(x1probabilities[:,0],Probabilidad1).reshape(-1,1)), axis = 1)\n",
    "    \n",
    "    y0 = np.prod(x0, axis = 1).reshape(-1,1)\n",
    "    y1 = np.prod(x1, axis = 1).reshape(-1,1)\n",
    "    \n",
    "    y01 = np.concatenate((y0, y1), axis = 1)\n",
    "    \n",
    "    predictions = np.argmax(y01, axis = 1)\n",
    "    \n",
    "    accuracy = np.mean(predictions == yTest)\n",
    "    \n",
    "    return predictions, accuracy\n",
    "\n",
    "def predicMRL(xTest, parametros):\n",
    "    tf.reset_default_graph()\n",
    "    \n",
    "    tensor_w = tf.placeholder(tf.float32, shape = [None, None], name = \"tensor_w\")\n",
    "    tensor_x = tf.placeholder(tf.float32, shape = [None, None], name = \"tensor_x\")\n",
    "    \n",
    "    logits = tf.matmul(tensor_x, tf.transpose(tensor_w))\n",
    "    sigmoid = tf.nn.sigmoid(logits)\n",
    "    prediction = tf.round(sigmoid)\n",
    "    \n",
    "    with tf.train.MonitoredSession() as session:\n",
    "        feed_dictionary = {tensor_x: xTest, tensor_w:parametros}\n",
    "        predictions = session.run(prediction, feed_dict= feed_dictionary)\n",
    "        return predictions.T"
   ]
  },
  {
   "cell_type": "markdown",
   "id": "7aa4e7ed-6794-4136-87ed-ffb3be542a7c",
   "metadata": {},
   "source": [
    "##### Predicciones"
   ]
  },
  {
   "cell_type": "code",
   "execution_count": 601,
   "id": "b88c3177-9d86-4244-b6a4-a7ab6320896a",
   "metadata": {},
   "outputs": [
    {
     "name": "stdout",
     "output_type": "stream",
     "text": [
      "INFO:tensorflow:Graph was finalized.\n",
      "INFO:tensorflow:Running local_init_op.\n",
      "INFO:tensorflow:Done running local_init_op.\n"
     ]
    }
   ],
   "source": [
    "pTree = bestModelDecisionTreeClassifier.predict(xTest)\n",
    "pSVM = bestModelSVM.predict(xTest)\n",
    "pNB,a = predictNB(bestModelNaiveBayes['nb0'],bestModelNaiveBayes['nb1'])\n",
    "\n",
    "xTestTF = np.insert(np.array(xTest),0, np.ones(len(xTest)), axis = 1)\n",
    "pMRL = predicMRL(xTestTF, betsModelLogisticRegression).squeeze()"
   ]
  },
  {
   "cell_type": "markdown",
   "id": "eef1df2e-36f7-4677-86c9-126ae2fc2293",
   "metadata": {},
   "source": [
    "##### Predicciones Totales"
   ]
  },
  {
   "cell_type": "code",
   "execution_count": 602,
   "id": "b2b418a5-ed18-433a-aa56-fd09b7588d0b",
   "metadata": {},
   "outputs": [],
   "source": [
    "predicciones = np.stack((pTree, pSVM, pNB, pMRL)).T"
   ]
  },
  {
   "cell_type": "code",
   "execution_count": 603,
   "id": "ba3ac893-9d05-48f0-b7f8-2b1839595a5e",
   "metadata": {},
   "outputs": [],
   "source": [
    "# Calculando la Moda de los valores de las predicciones\n",
    "prediccionFinal = stats.mode(predicciones.T)[0].squeeze()"
   ]
  },
  {
   "cell_type": "code",
   "execution_count": 604,
   "id": "283552a1-38ad-464b-804f-6fd8b6ba3d1a",
   "metadata": {},
   "outputs": [
    {
     "data": {
      "text/plain": [
       "array([0., 0., 0., 0., 0., 0., 0., 0., 0., 0., 0., 0., 0., 0., 0., 0., 0.,\n",
       "       0., 0., 0., 0., 0., 0., 1., 0., 1., 0., 0., 0., 0., 0., 0., 0., 0.,\n",
       "       0., 0., 1., 0., 0., 0., 1., 0., 0., 0., 0., 0., 0., 0., 0., 1., 1.,\n",
       "       0., 1., 0., 0., 0., 1., 0., 0., 0., 0., 0., 0., 0., 1., 1., 0., 1.,\n",
       "       0., 0., 0., 1., 0., 0., 0., 0., 0., 0., 1., 0., 0., 0., 1., 0., 1.,\n",
       "       1., 0., 0., 0., 1., 0., 0., 1., 0., 1., 0., 0., 0., 1., 0., 1., 0.,\n",
       "       0., 0., 0., 0., 0., 1., 0., 0., 0., 0., 1., 1., 0., 0., 0., 1., 1.,\n",
       "       0., 0., 0., 1., 1., 0., 0., 0., 0., 0., 0., 0., 0., 0., 0., 0., 1.,\n",
       "       0., 0., 0., 0., 0., 0., 1., 0., 0., 0., 1., 1., 0., 0., 1., 0., 0.,\n",
       "       1., 0., 0., 1., 0., 1., 0., 0., 0., 0., 0., 0., 0., 1., 0., 0., 0.,\n",
       "       1., 0., 0., 0., 0., 0., 0., 1., 1.])"
      ]
     },
     "execution_count": 604,
     "metadata": {},
     "output_type": "execute_result"
    }
   ],
   "source": [
    "prediccionFinal"
   ]
  },
  {
   "cell_type": "code",
   "execution_count": 605,
   "id": "50ca3cec-61d1-4fe0-ac98-fe0c1a2f4307",
   "metadata": {},
   "outputs": [
    {
     "name": "stderr",
     "output_type": "stream",
     "text": [
      "<ipython-input-605-8bda7038c025>:2: SettingWithCopyWarning: \n",
      "A value is trying to be set on a copy of a slice from a DataFrame.\n",
      "Try using .loc[row_indexer,col_indexer] = value instead\n",
      "\n",
      "See the caveats in the documentation: https://pandas.pydata.org/pandas-docs/stable/user_guide/indexing.html#returning-a-view-versus-a-copy\n",
      "  xTest['passenger_survived'] = yTest\n",
      "<ipython-input-605-8bda7038c025>:3: SettingWithCopyWarning: \n",
      "A value is trying to be set on a copy of a slice from a DataFrame.\n",
      "Try using .loc[row_indexer,col_indexer] = value instead\n",
      "\n",
      "See the caveats in the documentation: https://pandas.pydata.org/pandas-docs/stable/user_guide/indexing.html#returning-a-view-versus-a-copy\n",
      "  xTest['survivedP'] = prediccionFinal\n"
     ]
    },
    {
     "data": {
      "text/html": [
       "<div>\n",
       "<style scoped>\n",
       "    .dataframe tbody tr th:only-of-type {\n",
       "        vertical-align: middle;\n",
       "    }\n",
       "\n",
       "    .dataframe tbody tr th {\n",
       "        vertical-align: top;\n",
       "    }\n",
       "\n",
       "    .dataframe thead th {\n",
       "        text-align: right;\n",
       "    }\n",
       "</style>\n",
       "<table border=\"1\" class=\"dataframe\">\n",
       "  <thead>\n",
       "    <tr style=\"text-align: right;\">\n",
       "      <th></th>\n",
       "      <th>Age</th>\n",
       "      <th>SibSp</th>\n",
       "      <th>Parch</th>\n",
       "      <th>Fare</th>\n",
       "      <th>passenger_sex</th>\n",
       "      <th>LClass</th>\n",
       "      <th>MClass</th>\n",
       "      <th>UClass</th>\n",
       "      <th>EmbarkedC</th>\n",
       "      <th>EmbarkedQ</th>\n",
       "      <th>EmbarkedS</th>\n",
       "      <th>passenger_survived</th>\n",
       "      <th>survivedP</th>\n",
       "    </tr>\n",
       "  </thead>\n",
       "  <tbody>\n",
       "    <tr>\n",
       "      <th>461</th>\n",
       "      <td>0.973097</td>\n",
       "      <td>0.0</td>\n",
       "      <td>0.000000</td>\n",
       "      <td>0.230395</td>\n",
       "      <td>1</td>\n",
       "      <td>1.0</td>\n",
       "      <td>0.0</td>\n",
       "      <td>0.0</td>\n",
       "      <td>0.0</td>\n",
       "      <td>0.0</td>\n",
       "      <td>1.0</td>\n",
       "      <td>0</td>\n",
       "      <td>0.0</td>\n",
       "    </tr>\n",
       "    <tr>\n",
       "      <th>624</th>\n",
       "      <td>0.793606</td>\n",
       "      <td>0.0</td>\n",
       "      <td>0.000000</td>\n",
       "      <td>0.608432</td>\n",
       "      <td>1</td>\n",
       "      <td>1.0</td>\n",
       "      <td>0.0</td>\n",
       "      <td>0.0</td>\n",
       "      <td>0.0</td>\n",
       "      <td>0.0</td>\n",
       "      <td>1.0</td>\n",
       "      <td>0</td>\n",
       "      <td>0.0</td>\n",
       "    </tr>\n",
       "    <tr>\n",
       "      <th>731</th>\n",
       "      <td>0.505263</td>\n",
       "      <td>0.0</td>\n",
       "      <td>0.000000</td>\n",
       "      <td>0.862966</td>\n",
       "      <td>1</td>\n",
       "      <td>1.0</td>\n",
       "      <td>0.0</td>\n",
       "      <td>0.0</td>\n",
       "      <td>1.0</td>\n",
       "      <td>0.0</td>\n",
       "      <td>0.0</td>\n",
       "      <td>0</td>\n",
       "      <td>0.0</td>\n",
       "    </tr>\n",
       "    <tr>\n",
       "      <th>281</th>\n",
       "      <td>0.962837</td>\n",
       "      <td>0.0</td>\n",
       "      <td>0.000000</td>\n",
       "      <td>0.270083</td>\n",
       "      <td>1</td>\n",
       "      <td>1.0</td>\n",
       "      <td>0.0</td>\n",
       "      <td>0.0</td>\n",
       "      <td>0.0</td>\n",
       "      <td>0.0</td>\n",
       "      <td>1.0</td>\n",
       "      <td>0</td>\n",
       "      <td>0.0</td>\n",
       "    </tr>\n",
       "    <tr>\n",
       "      <th>659</th>\n",
       "      <td>0.455702</td>\n",
       "      <td>0.0</td>\n",
       "      <td>0.015714</td>\n",
       "      <td>0.889994</td>\n",
       "      <td>1</td>\n",
       "      <td>0.0</td>\n",
       "      <td>0.0</td>\n",
       "      <td>1.0</td>\n",
       "      <td>1.0</td>\n",
       "      <td>0.0</td>\n",
       "      <td>0.0</td>\n",
       "      <td>0</td>\n",
       "      <td>0.0</td>\n",
       "    </tr>\n",
       "    <tr>\n",
       "      <th>...</th>\n",
       "      <td>...</td>\n",
       "      <td>...</td>\n",
       "      <td>...</td>\n",
       "      <td>...</td>\n",
       "      <td>...</td>\n",
       "      <td>...</td>\n",
       "      <td>...</td>\n",
       "      <td>...</td>\n",
       "      <td>...</td>\n",
       "      <td>...</td>\n",
       "      <td>...</td>\n",
       "      <td>...</td>\n",
       "      <td>...</td>\n",
       "    </tr>\n",
       "    <tr>\n",
       "      <th>784</th>\n",
       "      <td>0.962463</td>\n",
       "      <td>0.0</td>\n",
       "      <td>0.000000</td>\n",
       "      <td>0.271414</td>\n",
       "      <td>1</td>\n",
       "      <td>1.0</td>\n",
       "      <td>0.0</td>\n",
       "      <td>0.0</td>\n",
       "      <td>0.0</td>\n",
       "      <td>0.0</td>\n",
       "      <td>1.0</td>\n",
       "      <td>0</td>\n",
       "      <td>0.0</td>\n",
       "    </tr>\n",
       "    <tr>\n",
       "      <th>422</th>\n",
       "      <td>0.965051</td>\n",
       "      <td>0.0</td>\n",
       "      <td>0.000000</td>\n",
       "      <td>0.262061</td>\n",
       "      <td>1</td>\n",
       "      <td>1.0</td>\n",
       "      <td>0.0</td>\n",
       "      <td>0.0</td>\n",
       "      <td>0.0</td>\n",
       "      <td>0.0</td>\n",
       "      <td>1.0</td>\n",
       "      <td>0</td>\n",
       "      <td>0.0</td>\n",
       "    </tr>\n",
       "    <tr>\n",
       "      <th>527</th>\n",
       "      <td>0.125257</td>\n",
       "      <td>0.0</td>\n",
       "      <td>0.000000</td>\n",
       "      <td>0.992124</td>\n",
       "      <td>1</td>\n",
       "      <td>0.0</td>\n",
       "      <td>0.0</td>\n",
       "      <td>1.0</td>\n",
       "      <td>0.0</td>\n",
       "      <td>0.0</td>\n",
       "      <td>1.0</td>\n",
       "      <td>0</td>\n",
       "      <td>0.0</td>\n",
       "    </tr>\n",
       "    <tr>\n",
       "      <th>325</th>\n",
       "      <td>0.256539</td>\n",
       "      <td>0.0</td>\n",
       "      <td>0.000000</td>\n",
       "      <td>0.966534</td>\n",
       "      <td>0</td>\n",
       "      <td>0.0</td>\n",
       "      <td>0.0</td>\n",
       "      <td>1.0</td>\n",
       "      <td>1.0</td>\n",
       "      <td>0.0</td>\n",
       "      <td>0.0</td>\n",
       "      <td>1</td>\n",
       "      <td>1.0</td>\n",
       "    </tr>\n",
       "    <tr>\n",
       "      <th>651</th>\n",
       "      <td>0.615947</td>\n",
       "      <td>0.0</td>\n",
       "      <td>0.034219</td>\n",
       "      <td>0.787044</td>\n",
       "      <td>0</td>\n",
       "      <td>0.0</td>\n",
       "      <td>1.0</td>\n",
       "      <td>0.0</td>\n",
       "      <td>0.0</td>\n",
       "      <td>0.0</td>\n",
       "      <td>1.0</td>\n",
       "      <td>1</td>\n",
       "      <td>1.0</td>\n",
       "    </tr>\n",
       "  </tbody>\n",
       "</table>\n",
       "<p>179 rows × 13 columns</p>\n",
       "</div>"
      ],
      "text/plain": [
       "          Age  SibSp     Parch      Fare  passenger_sex  LClass  MClass  \\\n",
       "461  0.973097    0.0  0.000000  0.230395              1     1.0     0.0   \n",
       "624  0.793606    0.0  0.000000  0.608432              1     1.0     0.0   \n",
       "731  0.505263    0.0  0.000000  0.862966              1     1.0     0.0   \n",
       "281  0.962837    0.0  0.000000  0.270083              1     1.0     0.0   \n",
       "659  0.455702    0.0  0.015714  0.889994              1     0.0     0.0   \n",
       "..        ...    ...       ...       ...            ...     ...     ...   \n",
       "784  0.962463    0.0  0.000000  0.271414              1     1.0     0.0   \n",
       "422  0.965051    0.0  0.000000  0.262061              1     1.0     0.0   \n",
       "527  0.125257    0.0  0.000000  0.992124              1     0.0     0.0   \n",
       "325  0.256539    0.0  0.000000  0.966534              0     0.0     0.0   \n",
       "651  0.615947    0.0  0.034219  0.787044              0     0.0     1.0   \n",
       "\n",
       "     UClass  EmbarkedC  EmbarkedQ  EmbarkedS  passenger_survived  survivedP  \n",
       "461     0.0        0.0        0.0        1.0                   0        0.0  \n",
       "624     0.0        0.0        0.0        1.0                   0        0.0  \n",
       "731     0.0        1.0        0.0        0.0                   0        0.0  \n",
       "281     0.0        0.0        0.0        1.0                   0        0.0  \n",
       "659     1.0        1.0        0.0        0.0                   0        0.0  \n",
       "..      ...        ...        ...        ...                 ...        ...  \n",
       "784     0.0        0.0        0.0        1.0                   0        0.0  \n",
       "422     0.0        0.0        0.0        1.0                   0        0.0  \n",
       "527     1.0        0.0        0.0        1.0                   0        0.0  \n",
       "325     1.0        1.0        0.0        0.0                   1        1.0  \n",
       "651     0.0        0.0        0.0        1.0                   1        1.0  \n",
       "\n",
       "[179 rows x 13 columns]"
      ]
     },
     "execution_count": 605,
     "metadata": {},
     "output_type": "execute_result"
    }
   ],
   "source": [
    "#Confomando el dataset final\n",
    "xTest['passenger_survived'] = yTest\n",
    "xTest['survivedP'] = prediccionFinal\n",
    "xTest"
   ]
  },
  {
   "cell_type": "markdown",
   "id": "53108549-5005-4fe6-ab3b-2dd539329342",
   "metadata": {},
   "source": [
    "#### Métricas"
   ]
  },
  {
   "cell_type": "code",
   "execution_count": 606,
   "id": "42098b9f-caac-475f-92e8-d4ba2cf55b91",
   "metadata": {},
   "outputs": [
    {
     "data": {
      "text/plain": [
       "0.8324022346368715"
      ]
     },
     "execution_count": 606,
     "metadata": {},
     "output_type": "execute_result"
    }
   ],
   "source": [
    "# Realizando comprobación entre las coincidencias de las predicciones y los valores de test\n",
    "np.mean(prediccionFinal == yTest)"
   ]
  },
  {
   "cell_type": "code",
   "execution_count": 607,
   "id": "f4628759-ecc0-4c0d-a4f6-78dfc9d3643f",
   "metadata": {},
   "outputs": [
    {
     "data": {
      "text/html": [
       "<div>\n",
       "<style scoped>\n",
       "    .dataframe tbody tr th:only-of-type {\n",
       "        vertical-align: middle;\n",
       "    }\n",
       "\n",
       "    .dataframe tbody tr th {\n",
       "        vertical-align: top;\n",
       "    }\n",
       "\n",
       "    .dataframe thead th {\n",
       "        text-align: right;\n",
       "    }\n",
       "</style>\n",
       "<table border=\"1\" class=\"dataframe\">\n",
       "  <thead>\n",
       "    <tr style=\"text-align: right;\">\n",
       "      <th></th>\n",
       "      <th>metrica</th>\n",
       "      <th>valores</th>\n",
       "    </tr>\n",
       "  </thead>\n",
       "  <tbody>\n",
       "    <tr>\n",
       "      <th>0</th>\n",
       "      <td>accuracy</td>\n",
       "      <td>0.832402</td>\n",
       "    </tr>\n",
       "    <tr>\n",
       "      <th>1</th>\n",
       "      <td>precision</td>\n",
       "      <td>0.583333</td>\n",
       "    </tr>\n",
       "    <tr>\n",
       "      <th>2</th>\n",
       "      <td>recall</td>\n",
       "      <td>0.875000</td>\n",
       "    </tr>\n",
       "    <tr>\n",
       "      <th>3</th>\n",
       "      <td>f1score</td>\n",
       "      <td>0.700000</td>\n",
       "    </tr>\n",
       "    <tr>\n",
       "      <th>4</th>\n",
       "      <td>error</td>\n",
       "      <td>0.212291</td>\n",
       "    </tr>\n",
       "  </tbody>\n",
       "</table>\n",
       "</div>"
      ],
      "text/plain": [
       "     metrica   valores\n",
       "0   accuracy  0.832402\n",
       "1  precision  0.583333\n",
       "2     recall  0.875000\n",
       "3    f1score  0.700000\n",
       "4      error  0.212291"
      ]
     },
     "execution_count": 607,
     "metadata": {},
     "output_type": "execute_result"
    }
   ],
   "source": [
    "# Métricas\n",
    "data = {'metrica':['accuracy','precision','recall','f1score','error'],\n",
    "       'valores':[metrics.accuracy_score(prediccionFinal, yTest), metrics.precision_score(prediccionFinal, yTest),\n",
    "                 metrics.recall_score(prediccionFinal, yTest),metrics.f1_score(prediccionFinal, yTest),1 - accuracy]}\n",
    "metricas = pd.DataFrame(data)\n",
    "metricas"
   ]
  },
  {
   "cell_type": "markdown",
   "id": "5040474f-6ea5-4dc9-989b-3801d9272aeb",
   "metadata": {},
   "source": [
    "## Conclusiones\n",
    "\n",
    "1. Al verificar la métrica de exactitud (accuracy) del ensamble es aproximandamente 0.78. Si observamos las métricas de exactitud de los modelos correspondientes la mayoría tuvo un nivel de exactitud arriba del 80%, excepto el algoritmo de Naive Bayes que obtuvi 78%, lo cual pudo haber impactado al momento de realizar el ensamble correspondiente.\n",
    "\n",
    "2. El modelo podría mejorar si se aplican métodos como Kfolds o validación cruzada, para utilizar de forma exhausitiva los conjuntos de datos y tener un mejor porcentaje de exactitud.\n",
    "\n",
    "3. Con un 78% de exactitud de modelo final pordría indicar que es un alto porcentaje de confiabilidad.\n",
    "\n",
    "## Recomendaciones\n",
    "\n",
    "1. Para verificar si el método de Naive Bayes impacta en el ensamble valdría la pena quitarlo y volver a calcular el ensamble para que posiblemente mejore el modelo final.\n",
    "\n",
    "2. Aplicando más ingeniería de características se podrían mejorar los resultados, por ejemplo en lugar de imputar con la mediana los valores faltantes de las edades, se podría hacer una regresión lineal para calcular estos.\n",
    "\n",
    "3. Aplicar otros valores a los parámetros de los métodos calculados podría dar mejores resultados.\n",
    "\n",
    "* * *\n",
    "\n",
    "## KFolds\n",
    "\n",
    "¿cómo hacer un división adecuada de los datos para mi análisis?\n",
    "\n",
    "Validación cruzada con KFolds es un mecanismo que nos permite dividir el dataset en varios fragmentos y entrenar en diversos conjuntos de test.\n",
    "\n",
    "K-Folds por su traducción al español podríamos interpretarla como K-Dobleces. Esto es porque hacemos k particiones de la base de tamaño N antes de dividirla en p particiones de entrenamiento y prueba.\n",
    "\n",
    "<img src=\"https://miro.medium.com/max/184/1*bWYPC1tZaTCBWuj9G5hw1w.png\"/>\n",
    "\n",
    "La validación cruzada K-fold mejora el modelo mediante la validación de los datos. El método de validación cruzada K-fold divide el conjunto de datos en subconjuntos como número K. Por lo tanto, repite el método de validación cruzada k veces.\n",
    "\n",
    "### Funcionamiento de KFolds\n",
    "\n",
    "dividimos el conjunto de datos en k pliegues, k-1 para entrenar el modelo y el restante para evaluarlo. Seguimos repitiendo esta operación k veces.\n",
    "\n",
    "<img src=\"https://miro.medium.com/max/724/1*7REeTIvnNA8p0gfgLBzi-A.png\" />\n",
    "\n",
    "### ¿Cómo se pudo haber aplicado al proyecto?\n",
    "\n",
    "La primera vez que ejecuté todo el ensamble de modelos obtuve un modelo final del 78% de accurracy, lo cual no se ajustaba a los parámetros de evaluación del proyecto y me tocó (como dice el proyecto) volver a los experimentos.\n",
    "\n",
    "Antes de hacer cambioas en la variables o modificaciones en los algoritmos, pensé ¿qué sucede si vuelvo a recalcular los datos de train, validation y test? La segunda vez que lo ejecuté obtuve un 80% de exactitud, la tercera 79% y la última que lo ejecuté 83%.\n",
    "\n",
    "Al analizar la situación me dí cuenta que con los mismos algoritmos y operaciones en los datos obtenía Accuracy distinto, lo que provocaba esto eran los conjuntos de datos y esa aleatoriedad que me brinda la función de split, porque cada vez que se hace split tenemos solo ciertas porciones de la data.\n",
    "\n",
    "Aplicar Cross Validation K-folds permitiría usar todos los datos y tener un mejor rendimiento sin depender de fragmentos o porciones del conjunto de datos."
   ]
  }
 ],
 "metadata": {
  "kernelspec": {
   "display_name": "Python 3",
   "language": "python",
   "name": "python3"
  },
  "language_info": {
   "codemirror_mode": {
    "name": "ipython",
    "version": 3
   },
   "file_extension": ".py",
   "mimetype": "text/x-python",
   "name": "python",
   "nbconvert_exporter": "python",
   "pygments_lexer": "ipython3",
   "version": "3.9.5"
  }
 },
 "nbformat": 4,
 "nbformat_minor": 5
}
