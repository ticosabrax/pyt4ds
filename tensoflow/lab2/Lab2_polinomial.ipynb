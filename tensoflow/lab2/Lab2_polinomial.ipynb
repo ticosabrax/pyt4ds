{
 "cells": [
  {
   "cell_type": "markdown",
   "id": "3b48b263-710d-4da2-bc25-4b6ffc37c4b9",
   "metadata": {},
   "source": [
    "# Edgar Sabán - 19012631\n",
    "\n",
    "# Lab 2\n",
    "\n",
    "### Parte 1 - Modelo exponencial de covid-19 usando feature-eng\n",
    "\n",
    "Usando el ejemplo de covid-19 en el notebook de feature-eng (https://colab.research.google.com/drive/1sJV2HG7tQgCGKES3-dIclzHQJ9qAWB3b?usp=sharing) crear un modelo de covid-19 para Guatemala.\n",
    "\n",
    "* Convertir la fecha a un entero \"número de día\", por ejemplo si se usan datos desde el 22 de abril, este es el día 0, el 23 es el día 1.\n",
    "* Aplicar regresión lineal sobre la variable \"Confirmed\" transformada.\n",
    "* Una vez entrenado el modelo usarlo para aproximar la cantidad de casos confirmados para el 30 de mayo. Se debe reportar la cantidad de casos, no la cantidad transformada obtenida."
   ]
  },
  {
   "cell_type": "code",
   "execution_count": 1,
   "id": "98344c80-8c79-41c6-93a7-8faed7971fca",
   "metadata": {},
   "outputs": [
    {
     "name": "stdout",
     "output_type": "stream",
     "text": [
      "WARNING:tensorflow:From /home/ds/anaconda3/envs/tensorflow/lib/python3.9/site-packages/tensorflow/python/compat/v2_compat.py:96: disable_resource_variables (from tensorflow.python.ops.variable_scope) is deprecated and will be removed in a future version.\n",
      "Instructions for updating:\n",
      "non-resource variables are not supported in the long term\n"
     ]
    }
   ],
   "source": [
    "# Importando librerías\n",
    "\n",
    "import numpy as np\n",
    "import pandas as pd\n",
    "import tensorflow.compat.v1 as tf\n",
    "import matplotlib.pyplot as plt\n",
    "import datetime\n",
    "import seaborn as sns\n",
    "\n",
    "%reload_ext tensorboard\n",
    "\n",
    "tf.disable_v2_behavior()\n",
    "tf.compat.v1.disable_eager_execution()"
   ]
  },
  {
   "cell_type": "markdown",
   "id": "adeb3ad0-2ec5-49e6-9031-5271b0ad4711",
   "metadata": {},
   "source": [
    "## Preparación y exploración de los datos"
   ]
  },
  {
   "cell_type": "code",
   "execution_count": 2,
   "id": "ee08a19b-0ef9-49b7-be35-faf6ec7adb6a",
   "metadata": {},
   "outputs": [
    {
     "data": {
      "text/html": [
       "<div>\n",
       "<style scoped>\n",
       "    .dataframe tbody tr th:only-of-type {\n",
       "        vertical-align: middle;\n",
       "    }\n",
       "\n",
       "    .dataframe tbody tr th {\n",
       "        vertical-align: top;\n",
       "    }\n",
       "\n",
       "    .dataframe thead th {\n",
       "        text-align: right;\n",
       "    }\n",
       "</style>\n",
       "<table border=\"1\" class=\"dataframe\">\n",
       "  <thead>\n",
       "    <tr style=\"text-align: right;\">\n",
       "      <th></th>\n",
       "      <th>Province/State</th>\n",
       "      <th>Country/Region</th>\n",
       "      <th>Lat</th>\n",
       "      <th>Long</th>\n",
       "      <th>1/22/20</th>\n",
       "      <th>1/23/20</th>\n",
       "      <th>1/24/20</th>\n",
       "      <th>1/25/20</th>\n",
       "      <th>1/26/20</th>\n",
       "      <th>1/27/20</th>\n",
       "      <th>...</th>\n",
       "      <th>6/15/21</th>\n",
       "      <th>6/16/21</th>\n",
       "      <th>6/17/21</th>\n",
       "      <th>6/18/21</th>\n",
       "      <th>6/19/21</th>\n",
       "      <th>6/20/21</th>\n",
       "      <th>6/21/21</th>\n",
       "      <th>6/22/21</th>\n",
       "      <th>6/23/21</th>\n",
       "      <th>6/24/21</th>\n",
       "    </tr>\n",
       "  </thead>\n",
       "  <tbody>\n",
       "    <tr>\n",
       "      <th>0</th>\n",
       "      <td>NaN</td>\n",
       "      <td>Afghanistan</td>\n",
       "      <td>33.939110</td>\n",
       "      <td>67.709953</td>\n",
       "      <td>0</td>\n",
       "      <td>0</td>\n",
       "      <td>0</td>\n",
       "      <td>0</td>\n",
       "      <td>0</td>\n",
       "      <td>0</td>\n",
       "      <td>...</td>\n",
       "      <td>93272</td>\n",
       "      <td>93288</td>\n",
       "      <td>96531</td>\n",
       "      <td>98734</td>\n",
       "      <td>98734</td>\n",
       "      <td>98734</td>\n",
       "      <td>103902</td>\n",
       "      <td>105749</td>\n",
       "      <td>107957</td>\n",
       "      <td>109532</td>\n",
       "    </tr>\n",
       "    <tr>\n",
       "      <th>1</th>\n",
       "      <td>NaN</td>\n",
       "      <td>Albania</td>\n",
       "      <td>41.153300</td>\n",
       "      <td>20.168300</td>\n",
       "      <td>0</td>\n",
       "      <td>0</td>\n",
       "      <td>0</td>\n",
       "      <td>0</td>\n",
       "      <td>0</td>\n",
       "      <td>0</td>\n",
       "      <td>...</td>\n",
       "      <td>132469</td>\n",
       "      <td>132476</td>\n",
       "      <td>132481</td>\n",
       "      <td>132484</td>\n",
       "      <td>132488</td>\n",
       "      <td>132490</td>\n",
       "      <td>132490</td>\n",
       "      <td>132496</td>\n",
       "      <td>132497</td>\n",
       "      <td>132499</td>\n",
       "    </tr>\n",
       "    <tr>\n",
       "      <th>2</th>\n",
       "      <td>NaN</td>\n",
       "      <td>Algeria</td>\n",
       "      <td>28.033900</td>\n",
       "      <td>1.659600</td>\n",
       "      <td>0</td>\n",
       "      <td>0</td>\n",
       "      <td>0</td>\n",
       "      <td>0</td>\n",
       "      <td>0</td>\n",
       "      <td>0</td>\n",
       "      <td>...</td>\n",
       "      <td>134115</td>\n",
       "      <td>134458</td>\n",
       "      <td>134840</td>\n",
       "      <td>135219</td>\n",
       "      <td>135586</td>\n",
       "      <td>135821</td>\n",
       "      <td>136294</td>\n",
       "      <td>136679</td>\n",
       "      <td>137049</td>\n",
       "      <td>137403</td>\n",
       "    </tr>\n",
       "    <tr>\n",
       "      <th>3</th>\n",
       "      <td>NaN</td>\n",
       "      <td>Andorra</td>\n",
       "      <td>42.506300</td>\n",
       "      <td>1.521800</td>\n",
       "      <td>0</td>\n",
       "      <td>0</td>\n",
       "      <td>0</td>\n",
       "      <td>0</td>\n",
       "      <td>0</td>\n",
       "      <td>0</td>\n",
       "      <td>...</td>\n",
       "      <td>13828</td>\n",
       "      <td>13836</td>\n",
       "      <td>13839</td>\n",
       "      <td>13842</td>\n",
       "      <td>13842</td>\n",
       "      <td>13842</td>\n",
       "      <td>13864</td>\n",
       "      <td>13864</td>\n",
       "      <td>13873</td>\n",
       "      <td>13877</td>\n",
       "    </tr>\n",
       "    <tr>\n",
       "      <th>4</th>\n",
       "      <td>NaN</td>\n",
       "      <td>Angola</td>\n",
       "      <td>-11.202700</td>\n",
       "      <td>17.873900</td>\n",
       "      <td>0</td>\n",
       "      <td>0</td>\n",
       "      <td>0</td>\n",
       "      <td>0</td>\n",
       "      <td>0</td>\n",
       "      <td>0</td>\n",
       "      <td>...</td>\n",
       "      <td>36921</td>\n",
       "      <td>37094</td>\n",
       "      <td>37289</td>\n",
       "      <td>37467</td>\n",
       "      <td>37604</td>\n",
       "      <td>37678</td>\n",
       "      <td>37748</td>\n",
       "      <td>37874</td>\n",
       "      <td>38002</td>\n",
       "      <td>38091</td>\n",
       "    </tr>\n",
       "    <tr>\n",
       "      <th>...</th>\n",
       "      <td>...</td>\n",
       "      <td>...</td>\n",
       "      <td>...</td>\n",
       "      <td>...</td>\n",
       "      <td>...</td>\n",
       "      <td>...</td>\n",
       "      <td>...</td>\n",
       "      <td>...</td>\n",
       "      <td>...</td>\n",
       "      <td>...</td>\n",
       "      <td>...</td>\n",
       "      <td>...</td>\n",
       "      <td>...</td>\n",
       "      <td>...</td>\n",
       "      <td>...</td>\n",
       "      <td>...</td>\n",
       "      <td>...</td>\n",
       "      <td>...</td>\n",
       "      <td>...</td>\n",
       "      <td>...</td>\n",
       "      <td>...</td>\n",
       "    </tr>\n",
       "    <tr>\n",
       "      <th>274</th>\n",
       "      <td>NaN</td>\n",
       "      <td>Vietnam</td>\n",
       "      <td>14.058324</td>\n",
       "      <td>108.277199</td>\n",
       "      <td>0</td>\n",
       "      <td>2</td>\n",
       "      <td>2</td>\n",
       "      <td>2</td>\n",
       "      <td>2</td>\n",
       "      <td>2</td>\n",
       "      <td>...</td>\n",
       "      <td>11304</td>\n",
       "      <td>11794</td>\n",
       "      <td>12150</td>\n",
       "      <td>12508</td>\n",
       "      <td>12978</td>\n",
       "      <td>13258</td>\n",
       "      <td>13530</td>\n",
       "      <td>13782</td>\n",
       "      <td>13989</td>\n",
       "      <td>14323</td>\n",
       "    </tr>\n",
       "    <tr>\n",
       "      <th>275</th>\n",
       "      <td>NaN</td>\n",
       "      <td>West Bank and Gaza</td>\n",
       "      <td>31.952200</td>\n",
       "      <td>35.233200</td>\n",
       "      <td>0</td>\n",
       "      <td>0</td>\n",
       "      <td>0</td>\n",
       "      <td>0</td>\n",
       "      <td>0</td>\n",
       "      <td>0</td>\n",
       "      <td>...</td>\n",
       "      <td>311948</td>\n",
       "      <td>312164</td>\n",
       "      <td>312334</td>\n",
       "      <td>312499</td>\n",
       "      <td>312605</td>\n",
       "      <td>312673</td>\n",
       "      <td>312811</td>\n",
       "      <td>313015</td>\n",
       "      <td>313015</td>\n",
       "      <td>313015</td>\n",
       "    </tr>\n",
       "    <tr>\n",
       "      <th>276</th>\n",
       "      <td>NaN</td>\n",
       "      <td>Yemen</td>\n",
       "      <td>15.552727</td>\n",
       "      <td>48.516388</td>\n",
       "      <td>0</td>\n",
       "      <td>0</td>\n",
       "      <td>0</td>\n",
       "      <td>0</td>\n",
       "      <td>0</td>\n",
       "      <td>0</td>\n",
       "      <td>...</td>\n",
       "      <td>6864</td>\n",
       "      <td>6867</td>\n",
       "      <td>6869</td>\n",
       "      <td>6875</td>\n",
       "      <td>6877</td>\n",
       "      <td>6885</td>\n",
       "      <td>6889</td>\n",
       "      <td>6892</td>\n",
       "      <td>6898</td>\n",
       "      <td>6905</td>\n",
       "    </tr>\n",
       "    <tr>\n",
       "      <th>277</th>\n",
       "      <td>NaN</td>\n",
       "      <td>Zambia</td>\n",
       "      <td>-13.133897</td>\n",
       "      <td>27.849332</td>\n",
       "      <td>0</td>\n",
       "      <td>0</td>\n",
       "      <td>0</td>\n",
       "      <td>0</td>\n",
       "      <td>0</td>\n",
       "      <td>0</td>\n",
       "      <td>...</td>\n",
       "      <td>115824</td>\n",
       "      <td>118850</td>\n",
       "      <td>122244</td>\n",
       "      <td>125157</td>\n",
       "      <td>126973</td>\n",
       "      <td>129033</td>\n",
       "      <td>130631</td>\n",
       "      <td>133659</td>\n",
       "      <td>137026</td>\n",
       "      <td>140620</td>\n",
       "    </tr>\n",
       "    <tr>\n",
       "      <th>278</th>\n",
       "      <td>NaN</td>\n",
       "      <td>Zimbabwe</td>\n",
       "      <td>-19.015438</td>\n",
       "      <td>29.154857</td>\n",
       "      <td>0</td>\n",
       "      <td>0</td>\n",
       "      <td>0</td>\n",
       "      <td>0</td>\n",
       "      <td>0</td>\n",
       "      <td>0</td>\n",
       "      <td>...</td>\n",
       "      <td>40318</td>\n",
       "      <td>40556</td>\n",
       "      <td>40927</td>\n",
       "      <td>41335</td>\n",
       "      <td>41628</td>\n",
       "      <td>41779</td>\n",
       "      <td>42195</td>\n",
       "      <td>42714</td>\n",
       "      <td>43480</td>\n",
       "      <td>44306</td>\n",
       "    </tr>\n",
       "  </tbody>\n",
       "</table>\n",
       "<p>279 rows × 524 columns</p>\n",
       "</div>"
      ],
      "text/plain": [
       "    Province/State      Country/Region        Lat        Long  1/22/20  \\\n",
       "0              NaN         Afghanistan  33.939110   67.709953        0   \n",
       "1              NaN             Albania  41.153300   20.168300        0   \n",
       "2              NaN             Algeria  28.033900    1.659600        0   \n",
       "3              NaN             Andorra  42.506300    1.521800        0   \n",
       "4              NaN              Angola -11.202700   17.873900        0   \n",
       "..             ...                 ...        ...         ...      ...   \n",
       "274            NaN             Vietnam  14.058324  108.277199        0   \n",
       "275            NaN  West Bank and Gaza  31.952200   35.233200        0   \n",
       "276            NaN               Yemen  15.552727   48.516388        0   \n",
       "277            NaN              Zambia -13.133897   27.849332        0   \n",
       "278            NaN            Zimbabwe -19.015438   29.154857        0   \n",
       "\n",
       "     1/23/20  1/24/20  1/25/20  1/26/20  1/27/20  ...  6/15/21  6/16/21  \\\n",
       "0          0        0        0        0        0  ...    93272    93288   \n",
       "1          0        0        0        0        0  ...   132469   132476   \n",
       "2          0        0        0        0        0  ...   134115   134458   \n",
       "3          0        0        0        0        0  ...    13828    13836   \n",
       "4          0        0        0        0        0  ...    36921    37094   \n",
       "..       ...      ...      ...      ...      ...  ...      ...      ...   \n",
       "274        2        2        2        2        2  ...    11304    11794   \n",
       "275        0        0        0        0        0  ...   311948   312164   \n",
       "276        0        0        0        0        0  ...     6864     6867   \n",
       "277        0        0        0        0        0  ...   115824   118850   \n",
       "278        0        0        0        0        0  ...    40318    40556   \n",
       "\n",
       "     6/17/21  6/18/21  6/19/21  6/20/21  6/21/21  6/22/21  6/23/21  6/24/21  \n",
       "0      96531    98734    98734    98734   103902   105749   107957   109532  \n",
       "1     132481   132484   132488   132490   132490   132496   132497   132499  \n",
       "2     134840   135219   135586   135821   136294   136679   137049   137403  \n",
       "3      13839    13842    13842    13842    13864    13864    13873    13877  \n",
       "4      37289    37467    37604    37678    37748    37874    38002    38091  \n",
       "..       ...      ...      ...      ...      ...      ...      ...      ...  \n",
       "274    12150    12508    12978    13258    13530    13782    13989    14323  \n",
       "275   312334   312499   312605   312673   312811   313015   313015   313015  \n",
       "276     6869     6875     6877     6885     6889     6892     6898     6905  \n",
       "277   122244   125157   126973   129033   130631   133659   137026   140620  \n",
       "278    40927    41335    41628    41779    42195    42714    43480    44306  \n",
       "\n",
       "[279 rows x 524 columns]"
      ]
     },
     "execution_count": 2,
     "metadata": {},
     "output_type": "execute_result"
    }
   ],
   "source": [
    "# Obtención de datos\n",
    "dtCovid = pd.read_csv(\"https://raw.githubusercontent.com/CSSEGISandData/COVID-19/master/csse_covid_19_data/csse_covid_19_time_series/time_series_covid19_confirmed_global.csv\")\n",
    "dtCovid"
   ]
  },
  {
   "cell_type": "markdown",
   "id": "97c3105d-378b-40c4-bb2e-ad86e7524935",
   "metadata": {},
   "source": [
    "Se puede observar que las fechas están como columnas y están incluidas las del año 2020 hasta la fecha (2021). Para este análisis se tomarán los datos del año 2021 hasta el mes de abril."
   ]
  },
  {
   "cell_type": "code",
   "execution_count": 3,
   "id": "41ddd061-8f35-4636-9145-3f1bb7d5794a",
   "metadata": {},
   "outputs": [
    {
     "data": {
      "text/html": [
       "<div>\n",
       "<style scoped>\n",
       "    .dataframe tbody tr th:only-of-type {\n",
       "        vertical-align: middle;\n",
       "    }\n",
       "\n",
       "    .dataframe tbody tr th {\n",
       "        vertical-align: top;\n",
       "    }\n",
       "\n",
       "    .dataframe thead th {\n",
       "        text-align: right;\n",
       "    }\n",
       "</style>\n",
       "<table border=\"1\" class=\"dataframe\">\n",
       "  <thead>\n",
       "    <tr style=\"text-align: right;\">\n",
       "      <th></th>\n",
       "      <th>Country/Region</th>\n",
       "      <th>Province/State</th>\n",
       "      <th>fecha</th>\n",
       "      <th>confirmados</th>\n",
       "    </tr>\n",
       "  </thead>\n",
       "  <tbody>\n",
       "    <tr>\n",
       "      <th>138</th>\n",
       "      <td>Guatemala</td>\n",
       "      <td>NaN</td>\n",
       "      <td>1/22/20</td>\n",
       "      <td>0</td>\n",
       "    </tr>\n",
       "    <tr>\n",
       "      <th>417</th>\n",
       "      <td>Guatemala</td>\n",
       "      <td>NaN</td>\n",
       "      <td>1/23/20</td>\n",
       "      <td>0</td>\n",
       "    </tr>\n",
       "    <tr>\n",
       "      <th>696</th>\n",
       "      <td>Guatemala</td>\n",
       "      <td>NaN</td>\n",
       "      <td>1/24/20</td>\n",
       "      <td>0</td>\n",
       "    </tr>\n",
       "    <tr>\n",
       "      <th>975</th>\n",
       "      <td>Guatemala</td>\n",
       "      <td>NaN</td>\n",
       "      <td>1/25/20</td>\n",
       "      <td>0</td>\n",
       "    </tr>\n",
       "    <tr>\n",
       "      <th>1254</th>\n",
       "      <td>Guatemala</td>\n",
       "      <td>NaN</td>\n",
       "      <td>1/26/20</td>\n",
       "      <td>0</td>\n",
       "    </tr>\n",
       "  </tbody>\n",
       "</table>\n",
       "</div>"
      ],
      "text/plain": [
       "     Country/Region Province/State    fecha  confirmados\n",
       "138       Guatemala            NaN  1/22/20            0\n",
       "417       Guatemala            NaN  1/23/20            0\n",
       "696       Guatemala            NaN  1/24/20            0\n",
       "975       Guatemala            NaN  1/25/20            0\n",
       "1254      Guatemala            NaN  1/26/20            0"
      ]
     },
     "execution_count": 3,
     "metadata": {},
     "output_type": "execute_result"
    }
   ],
   "source": [
    "# Transformación de los datos\n",
    "dtCovidGT = dtCovid.drop(['Lat','Long'], axis = 1)\n",
    "dtCovidGT = dtCovidGT.melt(id_vars=['Country/Region','Province/State'])\n",
    "dtCovidGT = dtCovidGT[dtCovidGT['Country/Region'] == 'Guatemala']\n",
    "dtCovidGT.rename(columns = {'variable':'fecha', 'value':'confirmados'}, inplace = True)\n",
    "dtCovidGT.head()"
   ]
  },
  {
   "cell_type": "code",
   "execution_count": 4,
   "id": "d4895a91-e955-4406-b017-7d7e1e4987ec",
   "metadata": {},
   "outputs": [
    {
     "data": {
      "text/html": [
       "<div>\n",
       "<style scoped>\n",
       "    .dataframe tbody tr th:only-of-type {\n",
       "        vertical-align: middle;\n",
       "    }\n",
       "\n",
       "    .dataframe tbody tr th {\n",
       "        vertical-align: top;\n",
       "    }\n",
       "\n",
       "    .dataframe thead th {\n",
       "        text-align: right;\n",
       "    }\n",
       "</style>\n",
       "<table border=\"1\" class=\"dataframe\">\n",
       "  <thead>\n",
       "    <tr style=\"text-align: right;\">\n",
       "      <th></th>\n",
       "      <th>Country/Region</th>\n",
       "      <th>Province/State</th>\n",
       "      <th>fecha</th>\n",
       "      <th>confirmados</th>\n",
       "    </tr>\n",
       "  </thead>\n",
       "  <tbody>\n",
       "    <tr>\n",
       "      <th>138</th>\n",
       "      <td>Guatemala</td>\n",
       "      <td>NaN</td>\n",
       "      <td>2020-01-22</td>\n",
       "      <td>0</td>\n",
       "    </tr>\n",
       "    <tr>\n",
       "      <th>417</th>\n",
       "      <td>Guatemala</td>\n",
       "      <td>NaN</td>\n",
       "      <td>2020-01-23</td>\n",
       "      <td>0</td>\n",
       "    </tr>\n",
       "    <tr>\n",
       "      <th>696</th>\n",
       "      <td>Guatemala</td>\n",
       "      <td>NaN</td>\n",
       "      <td>2020-01-24</td>\n",
       "      <td>0</td>\n",
       "    </tr>\n",
       "    <tr>\n",
       "      <th>975</th>\n",
       "      <td>Guatemala</td>\n",
       "      <td>NaN</td>\n",
       "      <td>2020-01-25</td>\n",
       "      <td>0</td>\n",
       "    </tr>\n",
       "    <tr>\n",
       "      <th>1254</th>\n",
       "      <td>Guatemala</td>\n",
       "      <td>NaN</td>\n",
       "      <td>2020-01-26</td>\n",
       "      <td>0</td>\n",
       "    </tr>\n",
       "  </tbody>\n",
       "</table>\n",
       "</div>"
      ],
      "text/plain": [
       "     Country/Region Province/State      fecha  confirmados\n",
       "138       Guatemala            NaN 2020-01-22            0\n",
       "417       Guatemala            NaN 2020-01-23            0\n",
       "696       Guatemala            NaN 2020-01-24            0\n",
       "975       Guatemala            NaN 2020-01-25            0\n",
       "1254      Guatemala            NaN 2020-01-26            0"
      ]
     },
     "execution_count": 4,
     "metadata": {},
     "output_type": "execute_result"
    }
   ],
   "source": [
    "# Conviertiendo fecha a tipo de dato date\n",
    "dtCovidGT['fecha'] = pd.to_datetime(dtCovidGT['fecha'],infer_datetime_format = True)\n",
    "dtCovidGT.head()"
   ]
  },
  {
   "cell_type": "code",
   "execution_count": 5,
   "id": "d643e1fe-d152-4b93-bbbe-56c70c8aa0e2",
   "metadata": {},
   "outputs": [
    {
     "data": {
      "text/html": [
       "<div>\n",
       "<style scoped>\n",
       "    .dataframe tbody tr th:only-of-type {\n",
       "        vertical-align: middle;\n",
       "    }\n",
       "\n",
       "    .dataframe tbody tr th {\n",
       "        vertical-align: top;\n",
       "    }\n",
       "\n",
       "    .dataframe thead th {\n",
       "        text-align: right;\n",
       "    }\n",
       "</style>\n",
       "<table border=\"1\" class=\"dataframe\">\n",
       "  <thead>\n",
       "    <tr style=\"text-align: right;\">\n",
       "      <th></th>\n",
       "      <th>Country/Region</th>\n",
       "      <th>Province/State</th>\n",
       "      <th>fecha</th>\n",
       "      <th>confirmados</th>\n",
       "    </tr>\n",
       "  </thead>\n",
       "  <tbody>\n",
       "    <tr>\n",
       "      <th>14646</th>\n",
       "      <td>Guatemala</td>\n",
       "      <td>NaN</td>\n",
       "      <td>2020-03-14</td>\n",
       "      <td>1</td>\n",
       "    </tr>\n",
       "    <tr>\n",
       "      <th>14925</th>\n",
       "      <td>Guatemala</td>\n",
       "      <td>NaN</td>\n",
       "      <td>2020-03-15</td>\n",
       "      <td>1</td>\n",
       "    </tr>\n",
       "    <tr>\n",
       "      <th>15204</th>\n",
       "      <td>Guatemala</td>\n",
       "      <td>NaN</td>\n",
       "      <td>2020-03-16</td>\n",
       "      <td>2</td>\n",
       "    </tr>\n",
       "    <tr>\n",
       "      <th>15483</th>\n",
       "      <td>Guatemala</td>\n",
       "      <td>NaN</td>\n",
       "      <td>2020-03-17</td>\n",
       "      <td>6</td>\n",
       "    </tr>\n",
       "    <tr>\n",
       "      <th>15762</th>\n",
       "      <td>Guatemala</td>\n",
       "      <td>NaN</td>\n",
       "      <td>2020-03-18</td>\n",
       "      <td>6</td>\n",
       "    </tr>\n",
       "  </tbody>\n",
       "</table>\n",
       "</div>"
      ],
      "text/plain": [
       "      Country/Region Province/State      fecha  confirmados\n",
       "14646      Guatemala            NaN 2020-03-14            1\n",
       "14925      Guatemala            NaN 2020-03-15            1\n",
       "15204      Guatemala            NaN 2020-03-16            2\n",
       "15483      Guatemala            NaN 2020-03-17            6\n",
       "15762      Guatemala            NaN 2020-03-18            6"
      ]
     },
     "execution_count": 5,
     "metadata": {},
     "output_type": "execute_result"
    }
   ],
   "source": [
    "# Seleccionando fechas entre enero y diciembre y casos confirmados\n",
    "dtCovidGT = dtCovidGT[(dtCovidGT['fecha'] > '2020-01-31') &\n",
    "                      (dtCovidGT['fecha'] <= '2020-12-31') &\n",
    "                      (dtCovidGT['confirmados'] > 0)]\n",
    "dtCovidGT.head()"
   ]
  },
  {
   "cell_type": "code",
   "execution_count": 7,
   "id": "a2e13f94-7724-4633-8c81-3ea66873d8cb",
   "metadata": {},
   "outputs": [
    {
     "data": {
      "text/html": [
       "<div>\n",
       "<style scoped>\n",
       "    .dataframe tbody tr th:only-of-type {\n",
       "        vertical-align: middle;\n",
       "    }\n",
       "\n",
       "    .dataframe tbody tr th {\n",
       "        vertical-align: top;\n",
       "    }\n",
       "\n",
       "    .dataframe thead th {\n",
       "        text-align: right;\n",
       "    }\n",
       "</style>\n",
       "<table border=\"1\" class=\"dataframe\">\n",
       "  <thead>\n",
       "    <tr style=\"text-align: right;\">\n",
       "      <th></th>\n",
       "      <th>Country/Region</th>\n",
       "      <th>Province/State</th>\n",
       "      <th>fecha</th>\n",
       "      <th>confirmados</th>\n",
       "      <th>no_dia</th>\n",
       "    </tr>\n",
       "  </thead>\n",
       "  <tbody>\n",
       "    <tr>\n",
       "      <th>14646</th>\n",
       "      <td>Guatemala</td>\n",
       "      <td>NaN</td>\n",
       "      <td>2020-03-14</td>\n",
       "      <td>1</td>\n",
       "      <td>0</td>\n",
       "    </tr>\n",
       "    <tr>\n",
       "      <th>14925</th>\n",
       "      <td>Guatemala</td>\n",
       "      <td>NaN</td>\n",
       "      <td>2020-03-15</td>\n",
       "      <td>1</td>\n",
       "      <td>1</td>\n",
       "    </tr>\n",
       "    <tr>\n",
       "      <th>15204</th>\n",
       "      <td>Guatemala</td>\n",
       "      <td>NaN</td>\n",
       "      <td>2020-03-16</td>\n",
       "      <td>2</td>\n",
       "      <td>2</td>\n",
       "    </tr>\n",
       "    <tr>\n",
       "      <th>15483</th>\n",
       "      <td>Guatemala</td>\n",
       "      <td>NaN</td>\n",
       "      <td>2020-03-17</td>\n",
       "      <td>6</td>\n",
       "      <td>3</td>\n",
       "    </tr>\n",
       "    <tr>\n",
       "      <th>15762</th>\n",
       "      <td>Guatemala</td>\n",
       "      <td>NaN</td>\n",
       "      <td>2020-03-18</td>\n",
       "      <td>6</td>\n",
       "      <td>4</td>\n",
       "    </tr>\n",
       "  </tbody>\n",
       "</table>\n",
       "</div>"
      ],
      "text/plain": [
       "      Country/Region Province/State      fecha  confirmados  no_dia\n",
       "14646      Guatemala            NaN 2020-03-14            1       0\n",
       "14925      Guatemala            NaN 2020-03-15            1       1\n",
       "15204      Guatemala            NaN 2020-03-16            2       2\n",
       "15483      Guatemala            NaN 2020-03-17            6       3\n",
       "15762      Guatemala            NaN 2020-03-18            6       4"
      ]
     },
     "execution_count": 7,
     "metadata": {},
     "output_type": "execute_result"
    }
   ],
   "source": [
    "# Conversión de fechas a números\n",
    "dtCovidGT['no_dia'] = np.linspace(start = 0,\n",
    "                                 stop = len(dtCovidGT['fecha']),\n",
    "                                 num = len(dtCovidGT['fecha']),\n",
    "                                 dtype = int)\n",
    "dtCovidGT.head()"
   ]
  },
  {
   "cell_type": "code",
   "execution_count": 8,
   "id": "5fee18eb-20a8-40df-81f8-413c2640face",
   "metadata": {},
   "outputs": [
    {
     "data": {
      "image/png": "[encoded data removed]",
      "text/plain": [
       "<Figure size 432x288 with 1 Axes>"
      ]
     },
     "metadata": {
      "needs_background": "light"
     },
     "output_type": "display_data"
    }
   ],
   "source": [
    "# Se grafican los resultados para ver la tendencia de confirmados\n",
    "dtCovidGT.plot.scatter(x = 'no_dia', y = 'confirmados')\n",
    "plt.title('Casos confirmados año 2021 GT')\n",
    "plt.show()"
   ]
  },
  {
   "cell_type": "markdown",
   "id": "9cef1a36-e338-472c-92d9-380fb5975bb1",
   "metadata": {},
   "source": [
    "Para la creación de un modelo exponencial es necesario cambiar la escala de los valores de confirmados y convertirlos a logaritmo"
   ]
  },
  {
   "cell_type": "code",
   "execution_count": 9,
   "id": "4f6c7971-99b5-46d2-bdf4-596a36b1721b",
   "metadata": {},
   "outputs": [
    {
     "data": {
      "image/png": "[encoded data removed]",
      "text/plain": [
       "<Figure size 432x288 with 1 Axes>"
      ]
     },
     "metadata": {
      "needs_background": "light"
     },
     "output_type": "display_data"
    }
   ],
   "source": [
    "dtCovidGT[\"ln(confirmados)\"] = np.log(dtCovidGT['confirmados'])\n",
    "dtCovidGT.plot.scatter(x = 'no_dia', y = 'ln(confirmados)')\n",
    "plt.title('Casos confirmados año 2021 GT (exponencial)')\n",
    "plt.xlabel('Día')\n",
    "plt.show()"
   ]
  },
  {
   "cell_type": "markdown",
   "id": "33907228-271a-44e6-a3fa-18454c579265",
   "metadata": {},
   "source": [
    "**Nota**: Anteriormente se indicó que para el análisis se tomarían los datos del año 2021, sin embargo al explorarlo se pudo observar que durante el año 2021 los número de confirmados con Covid seguían una tendencia constante, por lo cual no generaba mayor impacto realizar predicciones sobre ello, por lo cual se tomaron los datos del año 2020, y la tendencia es creciente por lo cual se puede realizar un modelo exponencial sobre estos datos."
   ]
  },
  {
   "cell_type": "markdown",
   "id": "32d05aa1-0e01-45ff-ab80-db7243ca0d91",
   "metadata": {},
   "source": [
    "## Modelo de regresión lineal\n",
    "\n",
    "A continuación se implementa un modelo de regresión lineal basado en gradient descent con tensorflow. Este código fue obtenido del laboratorio 1."
   ]
  },
  {
   "cell_type": "code",
   "execution_count": 10,
   "id": "198298ac-cdd1-4140-a2e3-acd1f6111817",
   "metadata": {},
   "outputs": [],
   "source": [
    "# MRL = modelo de regresión lineal\n",
    "class MRL:\n",
    "    \n",
    "    # Constructor de clase para la inicialización de los parámetros\n",
    "    def __init__ (self):\n",
    "        self.parametros = tf.get_variable(\"parametros\", dtype = tf.float32, shape = [1,2], initializer = tf.zeros_initializer())\n",
    "    \n",
    "    # Cálculo de MSE\n",
    "    def MSE(self, x, y):\n",
    "        error = 1/2 * tf.reduce_mean(tf.math.square(y - tf.matmul(self.parametros,x)))\n",
    "        return error\n",
    "\n",
    "    # Cálculo de  gradient descent\n",
    "    def gradient_descent(self, x, y, lr):\n",
    "        mse = self.MSE(x,y)\n",
    "        error_summary = tf.summary.scalar(\"mse_summary\", mse)\n",
    "        gradiente = tf.gradients(mse, [self.parametros])\n",
    "        new_w = tf.assign(self.parametros, self.parametros -lr * gradiente[0])\n",
    "        return new_w, mse, error_summary"
   ]
  },
  {
   "cell_type": "code",
   "execution_count": 11,
   "id": "b4327059-3bf2-45ae-9d16-77dc71a39982",
   "metadata": {},
   "outputs": [],
   "source": [
    "def training_model(x, y, lr, epochs, printl):\n",
    "\n",
    "    # String para experimento\n",
    "    string = './logs/'+ datetime.datetime.now().strftime(\"%Y%m%d-%H%M%S\") +\"_epochs=\"+str(epochs)+\"_lr=\"+str(lr)\n",
    "\n",
    "    # Definición del grafo\n",
    "    graph = tf.Graph()\n",
    "    with graph.as_default():\n",
    "        \n",
    "        # Creación de los tensores input\n",
    "        tx = tf.placeholder(tf.float32, [2,None], \"tx\")\n",
    "        ty = tf.placeholder(tf.float32, [None], \"ty\")\n",
    "        \n",
    "        # Creación del nodo para el cálculo de los nuevos parámetros según gradient_descent\n",
    "        mrl = MRL()\n",
    "        nuevos_parametros = mrl.gradient_descent(tx, ty, lr)\n",
    "        \n",
    "        # Writer para utilizacion de tensorboard\n",
    "        writer = tf.summary.FileWriter(string, graph)\n",
    "        \n",
    "        # Ejecución del grafo\n",
    "        with tf.train.MonitoredSession() as session:\n",
    "            # Paso de valores a los tensores input\n",
    "            tensor_dict = {tx:x, ty:y}\n",
    "            \n",
    "            # Ejecución de epochs + 1 veces del algoritmo\n",
    "            for i in range(epochs + 1):\n",
    "                # Entrenamiento del modelo para cálculo de los nuevos parámetros\n",
    "                entrenamiento = session.run(nuevos_parametros, feed_dict = tensor_dict)\n",
    "                # Imprimiendo los epoch según el printl\n",
    "                if i % printl == 0:\n",
    "                    parametros = session.run(mrl.parametros, feed_dict = tensor_dict)\n",
    "                    # Agregar datos a writer para poder visualizarlos en tensorboard\n",
    "                    writer.add_summary(entrenamiento[2], i)\n",
    "                    print(\"Epoch: \", i, \"Parámetros: \", parametros, \"mse: \", entrenamiento[1])\n",
    "                    \n",
    "            writer.close()\n",
    "    return entrenamiento"
   ]
  },
  {
   "cell_type": "markdown",
   "id": "06fa18fa-42c3-4b8c-887b-ae8029903729",
   "metadata": {},
   "source": [
    "### Experimentos"
   ]
  },
  {
   "cell_type": "code",
   "execution_count": 12,
   "id": "496cfdcd-3f78-4745-b419-6c1522e5c32f",
   "metadata": {},
   "outputs": [],
   "source": [
    "# Preparando los datos para entrenamiento\n",
    "\n",
    "# Preparando X y Y para entrenar modelo\n",
    "x = dtCovidGT['no_dia']\n",
    "# Se agrega un 1 a X para que pueda realizarse los cálculos del gradiente descent\n",
    "x = np.array([x, np.ones_like(x)], dtype = \"float64\")\n",
    "y = dtCovidGT['ln(confirmados)']"
   ]
  },
  {
   "cell_type": "code",
   "execution_count": 13,
   "id": "e46d8380-957e-48e5-bf11-1a60af1442da",
   "metadata": {},
   "outputs": [
    {
     "name": "stdout",
     "output_type": "stream",
     "text": [
      "INFO:tensorflow:Graph was finalized.\n",
      "INFO:tensorflow:Running local_init_op.\n",
      "INFO:tensorflow:Done running local_init_op.\n",
      "Epoch:  0 Parámetros:  [[15.944154    0.09505627]] mse:  49.03856\n",
      "Epoch:  100 Parámetros:  [[nan nan]] mse:  nan\n",
      "Epoch:  200 Parámetros:  [[nan nan]] mse:  nan\n",
      "Epoch:  300 Parámetros:  [[nan nan]] mse:  nan\n",
      "Epoch:  400 Parámetros:  [[nan nan]] mse:  nan\n",
      "Epoch:  500 Parámetros:  [[nan nan]] mse:  nan\n",
      "Epoch:  600 Parámetros:  [[nan nan]] mse:  nan\n",
      "Epoch:  700 Parámetros:  [[nan nan]] mse:  nan\n",
      "Epoch:  800 Parámetros:  [[nan nan]] mse:  nan\n",
      "Epoch:  900 Parámetros:  [[nan nan]] mse:  nan\n",
      "Epoch:  1000 Parámetros:  [[nan nan]] mse:  nan\n"
     ]
    },
    {
     "data": {
      "text/plain": [
       "(array([[nan, nan]], dtype=float32),\n",
       " nan,\n",
       " b'\\n\\x12\\n\\x0bmse_summary\\x15\\x00\\x00\\xc0\\x7f')"
      ]
     },
     "execution_count": 13,
     "metadata": {},
     "output_type": "execute_result"
    }
   ],
   "source": [
    "# Experimento 1\n",
    "training_model(x, y, 0.01, 1000, 100)"
   ]
  },
  {
   "cell_type": "code",
   "execution_count": 14,
   "id": "c931e763-2471-442a-bf06-12d9de048fd4",
   "metadata": {},
   "outputs": [
    {
     "name": "stdout",
     "output_type": "stream",
     "text": [
      "INFO:tensorflow:Graph was finalized.\n",
      "INFO:tensorflow:Running local_init_op.\n",
      "INFO:tensorflow:Done running local_init_op.\n",
      "Epoch:  0 Parámetros:  [[15.944154    0.09505627]] mse:  49.03856\n",
      "Epoch:  10 Parámetros:  [[5.3714143e+25 2.7544673e+23]] mse:  inf\n",
      "Epoch:  20 Parámetros:  [[nan nan]] mse:  nan\n",
      "Epoch:  30 Parámetros:  [[nan nan]] mse:  nan\n",
      "Epoch:  40 Parámetros:  [[nan nan]] mse:  nan\n",
      "Epoch:  50 Parámetros:  [[nan nan]] mse:  nan\n",
      "Epoch:  60 Parámetros:  [[nan nan]] mse:  nan\n",
      "Epoch:  70 Parámetros:  [[nan nan]] mse:  nan\n",
      "Epoch:  80 Parámetros:  [[nan nan]] mse:  nan\n",
      "Epoch:  90 Parámetros:  [[nan nan]] mse:  nan\n",
      "Epoch:  100 Parámetros:  [[nan nan]] mse:  nan\n"
     ]
    },
    {
     "data": {
      "text/plain": [
       "(array([[nan, nan]], dtype=float32),\n",
       " nan,\n",
       " b'\\n\\x12\\n\\x0bmse_summary\\x15\\x00\\x00\\xc0\\x7f')"
      ]
     },
     "execution_count": 14,
     "metadata": {},
     "output_type": "execute_result"
    }
   ],
   "source": [
    "# Experimento 2\n",
    "training_model(x, y, 0.01, 100, 10)"
   ]
  },
  {
   "cell_type": "code",
   "execution_count": 15,
   "id": "f053bc19-52f5-413b-98b7-b52b075bf201",
   "metadata": {},
   "outputs": [
    {
     "name": "stdout",
     "output_type": "stream",
     "text": [
      "INFO:tensorflow:Graph was finalized.\n",
      "INFO:tensorflow:Running local_init_op.\n",
      "INFO:tensorflow:Done running local_init_op.\n",
      "Epoch:  0 Parámetros:  [[1.5944154  0.00950563]] mse:  49.03856\n",
      "Epoch:  10 Parámetros:  [[3.7678758e+14 1.9321709e+12]] mse:  2.6779345e+30\n",
      "Epoch:  20 Parámetros:  [[9.2282059e+28 4.7322333e+26]] mse:  inf\n",
      "Epoch:  30 Parámetros:  [[nan nan]] mse:  nan\n",
      "Epoch:  40 Parámetros:  [[nan nan]] mse:  nan\n",
      "Epoch:  50 Parámetros:  [[nan nan]] mse:  nan\n",
      "Epoch:  60 Parámetros:  [[nan nan]] mse:  nan\n",
      "Epoch:  70 Parámetros:  [[nan nan]] mse:  nan\n",
      "Epoch:  80 Parámetros:  [[nan nan]] mse:  nan\n",
      "Epoch:  90 Parámetros:  [[nan nan]] mse:  nan\n",
      "Epoch:  100 Parámetros:  [[nan nan]] mse:  nan\n"
     ]
    },
    {
     "data": {
      "text/plain": [
       "(array([[nan, nan]], dtype=float32),\n",
       " nan,\n",
       " b'\\n\\x12\\n\\x0bmse_summary\\x15\\x00\\x00\\xc0\\x7f')"
      ]
     },
     "execution_count": 15,
     "metadata": {},
     "output_type": "execute_result"
    }
   ],
   "source": [
    "# Experimento 3\n",
    "training_model(x, y, 0.001, 100, 10)"
   ]
  },
  {
   "cell_type": "code",
   "execution_count": 16,
   "id": "0453edb1-b6ee-4c42-b107-bb073cd4897a",
   "metadata": {},
   "outputs": [
    {
     "name": "stdout",
     "output_type": "stream",
     "text": [
      "INFO:tensorflow:Graph was finalized.\n",
      "INFO:tensorflow:Running local_init_op.\n",
      "INFO:tensorflow:Done running local_init_op.\n",
      "Epoch:  0 Parámetros:  [[0.15944153 0.00095056]] mse:  49.03856\n",
      "Epoch:  10 Parámetros:  [[47.921143    0.24720235]] mse:  9558442.0\n",
      "Epoch:  20 Parámetros:  [[22147.992     113.57795]] mse:  2046513000000.0\n",
      "Epoch:  30 Parámetros:  [[10248186.      52552.81]] mse:  4.381693e+17\n",
      "Epoch:  40 Parámetros:  [[4.7419976e+09 2.4317020e+07]] mse:  9.3814655e+22\n",
      "Epoch:  50 Parámetros:  [[2.1941963e+12 1.1251864e+10]] mse:  2.0086246e+28\n",
      "Epoch:  60 Parámetros:  [[1.0152885e+15 5.2064095e+12]] mse:  4.3005786e+33\n",
      "Epoch:  70 Parámetros:  [[4.6978978e+17 2.4090874e+15]] mse:  inf\n",
      "Epoch:  80 Parámetros:  [[2.1737894e+20 1.1147216e+18]] mse:  inf\n",
      "Epoch:  90 Parámetros:  [[1.0058459e+23 5.1579906e+20]] mse:  inf\n",
      "Epoch:  100 Parámetros:  [[4.6542048e+25 2.3866808e+23]] mse:  inf\n"
     ]
    },
    {
     "data": {
      "text/plain": [
       "(array([[4.6542048e+25, 2.3866808e+23]], dtype=float32),\n",
       " inf,\n",
       " b'\\n\\x12\\n\\x0bmse_summary\\x15\\x00\\x00\\x80\\x7f')"
      ]
     },
     "execution_count": 16,
     "metadata": {},
     "output_type": "execute_result"
    }
   ],
   "source": [
    "# Experimento 4\n",
    "training_model(x, y, 0.0001, 100, 10)"
   ]
  },
  {
   "cell_type": "code",
   "execution_count": 17,
   "id": "a988cc23-53b7-49a0-8981-8c534e3e85e2",
   "metadata": {},
   "outputs": [
    {
     "name": "stdout",
     "output_type": "stream",
     "text": [
      "INFO:tensorflow:Graph was finalized.\n",
      "INFO:tensorflow:Running local_init_op.\n",
      "INFO:tensorflow:Done running local_init_op.\n",
      "Epoch:  0 Parámetros:  [[0.11160908 0.00066539]] mse:  49.03856\n",
      "Epoch:  50000 Parámetros:  [[0.04012712 3.0952625 ]] mse:  1.4840051\n",
      "Epoch:  100000 Parámetros:  [[0.03354121 4.3795657 ]] mse:  0.9827127\n",
      "Epoch:  150000 Parámetros:  [[0.03080897 4.9123707 ]] mse:  0.8964009\n",
      "Epoch:  200000 Parámetros:  [[0.02967541 5.1334243 ]] mse:  0.8815309\n",
      "Epoch:  250000 Parámetros:  [[0.02920406 5.22534   ]] mse:  0.8789623\n",
      "Epoch:  300000 Parámetros:  [[0.02901871 5.261483  ]] mse:  0.878534\n",
      "Epoch:  350000 Parámetros:  [[0.02893851 5.2771063 ]] mse:  0.87845033\n",
      "Epoch:  400000 Parámetros:  [[0.02893851 5.2771063 ]] mse:  0.87845033\n"
     ]
    }
   ],
   "source": [
    "# Experimento 5\n",
    "parametros = training_model(x, y, 0.00007, 400000, 50000)"
   ]
  },
  {
   "cell_type": "markdown",
   "id": "18c7b60c-8e9b-46aa-9685-3d3ff52fe09c",
   "metadata": {},
   "source": [
    "Con base a los experimentos realizados se selecciona el modelo definido por el lr = 0.00007 y epochs = 400000. Los parámetros son:"
   ]
  },
  {
   "cell_type": "code",
   "execution_count": 18,
   "id": "6b4adab9-6f47-4f6e-8fdd-03c50b77d9ab",
   "metadata": {},
   "outputs": [
    {
     "name": "stdout",
     "output_type": "stream",
     "text": [
      "w =  0.028938508\n",
      "b =  5.2771063\n",
      "h(x) =  0.028938508 x + 5.2771063\n"
     ]
    }
   ],
   "source": [
    "# Modelo\n",
    "print('w = ',parametros[0][0][0])\n",
    "print('b = ',parametros[0][0][1])\n",
    "print('h(x) = ',parametros[0][0][0],'x +',parametros[0][0][1])"
   ]
  },
  {
   "cell_type": "code",
   "execution_count": 19,
   "id": "309c4b93-19ca-49f0-a772-c69b8272ffbd",
   "metadata": {},
   "outputs": [],
   "source": [
    "# Calculando predicciones\n",
    "predicciones = parametros[0][0][0] * dtCovidGT['no_dia'] + parametros[0][0][1]"
   ]
  },
  {
   "cell_type": "code",
   "execution_count": 20,
   "id": "a65906e5-1b3f-4a7d-88be-58e3fecf8f1f",
   "metadata": {},
   "outputs": [
    {
     "data": {
      "image/png": "[encoded data removed]",
      "text/plain": [
       "<Figure size 432x288 with 1 Axes>"
      ]
     },
     "metadata": {
      "needs_background": "light"
     },
     "output_type": "display_data"
    }
   ],
   "source": [
    "# Visualizando el conjunto original vs las predicciones (exponencial)\n",
    "dtCovidGT.plot.scatter(x = 'no_dia', y = 'ln(confirmados)')\n",
    "plt.scatter(x = dtCovidGT['no_dia'], y = predicciones, color = 'red', alpha = 0.1)\n",
    "plt.title('Casos confirmados año 2021 GT (exponencial)')\n",
    "plt.xlabel('Día')\n",
    "plt.show()"
   ]
  },
  {
   "cell_type": "code",
   "execution_count": 21,
   "id": "34c0f4c3-10ce-4f44-9093-97574cac2411",
   "metadata": {},
   "outputs": [
    {
     "data": {
      "image/png": "[encoded data removed]",
      "text/plain": [
       "<Figure size 432x288 with 1 Axes>"
      ]
     },
     "metadata": {
      "needs_background": "light"
     },
     "output_type": "display_data"
    }
   ],
   "source": [
    "# Visualizando el conjunto original vs las predicciones (sin exponencial)\n",
    "dtCovidGT.plot.scatter(x = 'no_dia', y = 'confirmados')\n",
    "plt.scatter(x = dtCovidGT['no_dia'], y = np.exp(predicciones), color = 'red', alpha = 0.1)\n",
    "plt.title('Casos confirmados año 2021 GT')\n",
    "plt.xlabel('Día')\n",
    "plt.show()"
   ]
  },
  {
   "cell_type": "markdown",
   "id": "f948847b-ed5f-4ac4-aeb4-1250a6f1321f",
   "metadata": {},
   "source": [
    "**Nota:** para la predicción del día 31 de mayo de 2021, se establece que el número de día a partir del día **0** es el **443**"
   ]
  },
  {
   "cell_type": "code",
   "execution_count": 22,
   "id": "12d2ccfa-1b56-4eaf-9d40-fcd8b88623f9",
   "metadata": {},
   "outputs": [
    {
     "data": {
      "text/plain": [
       "7.143838274539002e+190"
      ]
     },
     "execution_count": 22,
     "metadata": {},
     "output_type": "execute_result"
    }
   ],
   "source": [
    "# Calculando predicciones para 31 de mayo\n",
    "rango = np.linspace(0,443, 443)\n",
    "predicciones_may = parametros[0][0][0] * np.exp(rango) + parametros[0][0][1]\n",
    "\n",
    "predicciones_may[-1]"
   ]
  },
  {
   "cell_type": "markdown",
   "id": "270f6645-b541-42a7-a8a4-236802d25f68",
   "metadata": {},
   "source": [
    "### Conclusiones\n",
    "\n",
    "1. Con base a los datos seleccionados del año 2020, se nota claramente una tendencia no lineal, por lo cual predecir datos a través del establecimiento de un modelo de regresión lineal no es la mejora solución.\n",
    "\n",
    "2. El mejor modelo dimensional es el **h(x) =  0.028938508 x + 5.2771063** con lr =0.00007 y epoch = 4000,000\n",
    "\n",
    "3. Al verificar la curva de predicciones vs los datos originales se puede constatar que las predicciones siguen otra tendencia muy distinta a los datos originales, por lo cual no es el mejor modelo para predecir la cantidad de persona confirmadas de covid en Guatemala.\n",
    "\n",
    "4. Se puede observar que los datos confirmados entre el 2020 y 2021 siguen tendencias distintas, por lo cual predecir datos del años 2021 con datos del año 2020 no es la mejor opción.\n",
    "\n",
    "5. Según el modelo la predicción de infectados para el 31 de mayo de 2021 es 7.143838274539002e+190. (un número que sobre pasa la cantidad de población de Guatemala)"
   ]
  },
  {
   "cell_type": "markdown",
   "id": "8b8eff30-694b-4113-8322-7aba8c726a25",
   "metadata": {},
   "source": [
    "# Parte 2 - Modelo polinomial de calidad de vinos\n",
    "\n",
    "Es permitido utilizar [sklearn.preprocessing.polynomialfeatures](https://scikit-learn.org/stable/modules/generated/sklearn.preprocessing.PolynomialFeatures.html)\n",
    "\n",
    "\n",
    "### Instrucciones\n",
    "\n",
    "1. Seleccionar y transformar(generando las combinaciones polinomiales para un polinomio de grado dos o tres a elección) las features que considere que son las mejores para predecir la calidad del vino, utilizar como minimo 2 features. Para seleccionar las features, hacer un analisis exploratorio por ejemplo(pero no limitado a ):  graficando y viendo la forma en que se comportan los datos.\n",
    "\n",
    " Por ejemplo, se tienen las features \"a\" y \"b\" y seleccionamos polinomio de grado 2, hacemos feature engineering para obtener :\n",
    " \n",
    " $[a,b,a^{2},b^{2},ab]$\n",
    " \n",
    " No olvidar el \"bias\" (parámetro multiplicado por 1) ,con lo cual el dataset puede quedar con las columnas:\n",
    " \n",
    " $[1,a,b,a^{2},b^{2},ab]$\n",
    " \n",
    "2. Una vez transformada la data aplicar regresion lineal con las features polinomiales usando Tensorflow.\n",
    "\n",
    "Requisitos adicionales:\n",
    "* Se debe agregar al notebook un screenshot del grafo de tensorboard, simplificando(usando  names , y name_scope como visto en clase).\n",
    "\n",
    "* Se debe generar un directorio de logs de tensorboard para cada corrida/experimento , con cada directorio identificando facilmente la configuración del experimento como visto en clase, por ejemplo para un experimento con learning rate = 0.1 , y polinomio grado 2  crear un directorio: lr=0.1_polinomio_grado=2. (Agregar al notebook un screenshot de estas gráficas)\n",
    "\n",
    "* Concluir en markdown cual es el mejor modelo para este caso basado en la comparativa entre curvas de costo/error en tensorboard.\n",
    "\n",
    "\n",
    "### Red Wine Quality Data\n",
    "\n",
    "Se aplicará regresión para crear un modelo de la calidad de vino en función de características del mismo, siendo 1 el peor vino y 10 el mejor.\n",
    "\n",
    "Variables de entrada:\n",
    "\n",
    "1. fixed acidity \n",
    "2. volatile acidity \n",
    "3. citric acid \n",
    "4. residual sugar \n",
    "5. chlorides \n",
    "6. free sulfur dioxide \n",
    "7. total sulfur dioxide \n",
    "8. density \n",
    "9. pH \n",
    "10. sulphates \n",
    "11. alcohol \n",
    "\n",
    "Variable a predecir: \n",
    "\n",
    "12. quality (puntuacion  entre 0 y 10) \n"
   ]
  },
  {
   "cell_type": "code",
   "execution_count": 23,
   "id": "ac08e5cb-5c76-4086-beab-ea81c74d8d5c",
   "metadata": {},
   "outputs": [
    {
     "data": {
      "text/html": [
       "<div>\n",
       "<style scoped>\n",
       "    .dataframe tbody tr th:only-of-type {\n",
       "        vertical-align: middle;\n",
       "    }\n",
       "\n",
       "    .dataframe tbody tr th {\n",
       "        vertical-align: top;\n",
       "    }\n",
       "\n",
       "    .dataframe thead th {\n",
       "        text-align: right;\n",
       "    }\n",
       "</style>\n",
       "<table border=\"1\" class=\"dataframe\">\n",
       "  <thead>\n",
       "    <tr style=\"text-align: right;\">\n",
       "      <th></th>\n",
       "      <th>fixed acidity</th>\n",
       "      <th>volatile acidity</th>\n",
       "      <th>citric acid</th>\n",
       "      <th>residual sugar</th>\n",
       "      <th>chlorides</th>\n",
       "      <th>free sulfur dioxide</th>\n",
       "      <th>total sulfur dioxide</th>\n",
       "      <th>density</th>\n",
       "      <th>pH</th>\n",
       "      <th>sulphates</th>\n",
       "      <th>alcohol</th>\n",
       "      <th>quality</th>\n",
       "    </tr>\n",
       "  </thead>\n",
       "  <tbody>\n",
       "    <tr>\n",
       "      <th>0</th>\n",
       "      <td>7.4</td>\n",
       "      <td>0.70</td>\n",
       "      <td>0.00</td>\n",
       "      <td>1.9</td>\n",
       "      <td>0.076</td>\n",
       "      <td>11.0</td>\n",
       "      <td>34.0</td>\n",
       "      <td>0.9978</td>\n",
       "      <td>3.51</td>\n",
       "      <td>0.56</td>\n",
       "      <td>9.4</td>\n",
       "      <td>5</td>\n",
       "    </tr>\n",
       "    <tr>\n",
       "      <th>1</th>\n",
       "      <td>7.8</td>\n",
       "      <td>0.88</td>\n",
       "      <td>0.00</td>\n",
       "      <td>2.6</td>\n",
       "      <td>0.098</td>\n",
       "      <td>25.0</td>\n",
       "      <td>67.0</td>\n",
       "      <td>0.9968</td>\n",
       "      <td>3.20</td>\n",
       "      <td>0.68</td>\n",
       "      <td>9.8</td>\n",
       "      <td>5</td>\n",
       "    </tr>\n",
       "    <tr>\n",
       "      <th>2</th>\n",
       "      <td>7.8</td>\n",
       "      <td>0.76</td>\n",
       "      <td>0.04</td>\n",
       "      <td>2.3</td>\n",
       "      <td>0.092</td>\n",
       "      <td>15.0</td>\n",
       "      <td>54.0</td>\n",
       "      <td>0.9970</td>\n",
       "      <td>3.26</td>\n",
       "      <td>0.65</td>\n",
       "      <td>9.8</td>\n",
       "      <td>5</td>\n",
       "    </tr>\n",
       "    <tr>\n",
       "      <th>3</th>\n",
       "      <td>11.2</td>\n",
       "      <td>0.28</td>\n",
       "      <td>0.56</td>\n",
       "      <td>1.9</td>\n",
       "      <td>0.075</td>\n",
       "      <td>17.0</td>\n",
       "      <td>60.0</td>\n",
       "      <td>0.9980</td>\n",
       "      <td>3.16</td>\n",
       "      <td>0.58</td>\n",
       "      <td>9.8</td>\n",
       "      <td>6</td>\n",
       "    </tr>\n",
       "    <tr>\n",
       "      <th>4</th>\n",
       "      <td>7.4</td>\n",
       "      <td>0.70</td>\n",
       "      <td>0.00</td>\n",
       "      <td>1.9</td>\n",
       "      <td>0.076</td>\n",
       "      <td>11.0</td>\n",
       "      <td>34.0</td>\n",
       "      <td>0.9978</td>\n",
       "      <td>3.51</td>\n",
       "      <td>0.56</td>\n",
       "      <td>9.4</td>\n",
       "      <td>5</td>\n",
       "    </tr>\n",
       "  </tbody>\n",
       "</table>\n",
       "</div>"
      ],
      "text/plain": [
       "   fixed acidity  volatile acidity  citric acid  residual sugar  chlorides  \\\n",
       "0            7.4              0.70         0.00             1.9      0.076   \n",
       "1            7.8              0.88         0.00             2.6      0.098   \n",
       "2            7.8              0.76         0.04             2.3      0.092   \n",
       "3           11.2              0.28         0.56             1.9      0.075   \n",
       "4            7.4              0.70         0.00             1.9      0.076   \n",
       "\n",
       "   free sulfur dioxide  total sulfur dioxide  density    pH  sulphates  \\\n",
       "0                 11.0                  34.0   0.9978  3.51       0.56   \n",
       "1                 25.0                  67.0   0.9968  3.20       0.68   \n",
       "2                 15.0                  54.0   0.9970  3.26       0.65   \n",
       "3                 17.0                  60.0   0.9980  3.16       0.58   \n",
       "4                 11.0                  34.0   0.9978  3.51       0.56   \n",
       "\n",
       "   alcohol  quality  \n",
       "0      9.4        5  \n",
       "1      9.8        5  \n",
       "2      9.8        5  \n",
       "3      9.8        6  \n",
       "4      9.4        5  "
      ]
     },
     "execution_count": 23,
     "metadata": {},
     "output_type": "execute_result"
    }
   ],
   "source": [
    "data = pd.read_csv('data/winequality-red.csv')\n",
    "data.head()"
   ]
  },
  {
   "cell_type": "markdown",
   "id": "b4245f56-d901-4856-88e9-20f25f813c2b",
   "metadata": {},
   "source": [
    "## Análisis exploratorio de los datos"
   ]
  },
  {
   "cell_type": "code",
   "execution_count": 24,
   "id": "94b3f955-664c-40ea-ba49-122bcb0b0836",
   "metadata": {},
   "outputs": [
    {
     "data": {
      "text/html": [
       "<div>\n",
       "<style scoped>\n",
       "    .dataframe tbody tr th:only-of-type {\n",
       "        vertical-align: middle;\n",
       "    }\n",
       "\n",
       "    .dataframe tbody tr th {\n",
       "        vertical-align: top;\n",
       "    }\n",
       "\n",
       "    .dataframe thead th {\n",
       "        text-align: right;\n",
       "    }\n",
       "</style>\n",
       "<table border=\"1\" class=\"dataframe\">\n",
       "  <thead>\n",
       "    <tr style=\"text-align: right;\">\n",
       "      <th></th>\n",
       "      <th>fixed acidity</th>\n",
       "      <th>volatile acidity</th>\n",
       "      <th>citric acid</th>\n",
       "      <th>residual sugar</th>\n",
       "      <th>chlorides</th>\n",
       "      <th>free sulfur dioxide</th>\n",
       "      <th>total sulfur dioxide</th>\n",
       "      <th>density</th>\n",
       "      <th>pH</th>\n",
       "      <th>sulphates</th>\n",
       "      <th>alcohol</th>\n",
       "      <th>quality</th>\n",
       "    </tr>\n",
       "  </thead>\n",
       "  <tbody>\n",
       "    <tr>\n",
       "      <th>count</th>\n",
       "      <td>1599.000000</td>\n",
       "      <td>1599.000000</td>\n",
       "      <td>1599.000000</td>\n",
       "      <td>1599.000000</td>\n",
       "      <td>1599.000000</td>\n",
       "      <td>1599.000000</td>\n",
       "      <td>1599.000000</td>\n",
       "      <td>1599.000000</td>\n",
       "      <td>1599.000000</td>\n",
       "      <td>1599.000000</td>\n",
       "      <td>1599.000000</td>\n",
       "      <td>1599.000000</td>\n",
       "    </tr>\n",
       "    <tr>\n",
       "      <th>mean</th>\n",
       "      <td>8.319637</td>\n",
       "      <td>0.527821</td>\n",
       "      <td>0.270976</td>\n",
       "      <td>2.538806</td>\n",
       "      <td>0.087467</td>\n",
       "      <td>15.874922</td>\n",
       "      <td>46.467792</td>\n",
       "      <td>0.996747</td>\n",
       "      <td>3.311113</td>\n",
       "      <td>0.658149</td>\n",
       "      <td>10.422983</td>\n",
       "      <td>5.636023</td>\n",
       "    </tr>\n",
       "    <tr>\n",
       "      <th>std</th>\n",
       "      <td>1.741096</td>\n",
       "      <td>0.179060</td>\n",
       "      <td>0.194801</td>\n",
       "      <td>1.409928</td>\n",
       "      <td>0.047065</td>\n",
       "      <td>10.460157</td>\n",
       "      <td>32.895324</td>\n",
       "      <td>0.001887</td>\n",
       "      <td>0.154386</td>\n",
       "      <td>0.169507</td>\n",
       "      <td>1.065668</td>\n",
       "      <td>0.807569</td>\n",
       "    </tr>\n",
       "    <tr>\n",
       "      <th>min</th>\n",
       "      <td>4.600000</td>\n",
       "      <td>0.120000</td>\n",
       "      <td>0.000000</td>\n",
       "      <td>0.900000</td>\n",
       "      <td>0.012000</td>\n",
       "      <td>1.000000</td>\n",
       "      <td>6.000000</td>\n",
       "      <td>0.990070</td>\n",
       "      <td>2.740000</td>\n",
       "      <td>0.330000</td>\n",
       "      <td>8.400000</td>\n",
       "      <td>3.000000</td>\n",
       "    </tr>\n",
       "    <tr>\n",
       "      <th>25%</th>\n",
       "      <td>7.100000</td>\n",
       "      <td>0.390000</td>\n",
       "      <td>0.090000</td>\n",
       "      <td>1.900000</td>\n",
       "      <td>0.070000</td>\n",
       "      <td>7.000000</td>\n",
       "      <td>22.000000</td>\n",
       "      <td>0.995600</td>\n",
       "      <td>3.210000</td>\n",
       "      <td>0.550000</td>\n",
       "      <td>9.500000</td>\n",
       "      <td>5.000000</td>\n",
       "    </tr>\n",
       "    <tr>\n",
       "      <th>50%</th>\n",
       "      <td>7.900000</td>\n",
       "      <td>0.520000</td>\n",
       "      <td>0.260000</td>\n",
       "      <td>2.200000</td>\n",
       "      <td>0.079000</td>\n",
       "      <td>14.000000</td>\n",
       "      <td>38.000000</td>\n",
       "      <td>0.996750</td>\n",
       "      <td>3.310000</td>\n",
       "      <td>0.620000</td>\n",
       "      <td>10.200000</td>\n",
       "      <td>6.000000</td>\n",
       "    </tr>\n",
       "    <tr>\n",
       "      <th>75%</th>\n",
       "      <td>9.200000</td>\n",
       "      <td>0.640000</td>\n",
       "      <td>0.420000</td>\n",
       "      <td>2.600000</td>\n",
       "      <td>0.090000</td>\n",
       "      <td>21.000000</td>\n",
       "      <td>62.000000</td>\n",
       "      <td>0.997835</td>\n",
       "      <td>3.400000</td>\n",
       "      <td>0.730000</td>\n",
       "      <td>11.100000</td>\n",
       "      <td>6.000000</td>\n",
       "    </tr>\n",
       "    <tr>\n",
       "      <th>max</th>\n",
       "      <td>15.900000</td>\n",
       "      <td>1.580000</td>\n",
       "      <td>1.000000</td>\n",
       "      <td>15.500000</td>\n",
       "      <td>0.611000</td>\n",
       "      <td>72.000000</td>\n",
       "      <td>289.000000</td>\n",
       "      <td>1.003690</td>\n",
       "      <td>4.010000</td>\n",
       "      <td>2.000000</td>\n",
       "      <td>14.900000</td>\n",
       "      <td>8.000000</td>\n",
       "    </tr>\n",
       "  </tbody>\n",
       "</table>\n",
       "</div>"
      ],
      "text/plain": [
       "       fixed acidity  volatile acidity  citric acid  residual sugar  \\\n",
       "count    1599.000000       1599.000000  1599.000000     1599.000000   \n",
       "mean        8.319637          0.527821     0.270976        2.538806   \n",
       "std         1.741096          0.179060     0.194801        1.409928   \n",
       "min         4.600000          0.120000     0.000000        0.900000   \n",
       "25%         7.100000          0.390000     0.090000        1.900000   \n",
       "50%         7.900000          0.520000     0.260000        2.200000   \n",
       "75%         9.200000          0.640000     0.420000        2.600000   \n",
       "max        15.900000          1.580000     1.000000       15.500000   \n",
       "\n",
       "         chlorides  free sulfur dioxide  total sulfur dioxide      density  \\\n",
       "count  1599.000000          1599.000000           1599.000000  1599.000000   \n",
       "mean      0.087467            15.874922             46.467792     0.996747   \n",
       "std       0.047065            10.460157             32.895324     0.001887   \n",
       "min       0.012000             1.000000              6.000000     0.990070   \n",
       "25%       0.070000             7.000000             22.000000     0.995600   \n",
       "50%       0.079000            14.000000             38.000000     0.996750   \n",
       "75%       0.090000            21.000000             62.000000     0.997835   \n",
       "max       0.611000            72.000000            289.000000     1.003690   \n",
       "\n",
       "                pH    sulphates      alcohol      quality  \n",
       "count  1599.000000  1599.000000  1599.000000  1599.000000  \n",
       "mean      3.311113     0.658149    10.422983     5.636023  \n",
       "std       0.154386     0.169507     1.065668     0.807569  \n",
       "min       2.740000     0.330000     8.400000     3.000000  \n",
       "25%       3.210000     0.550000     9.500000     5.000000  \n",
       "50%       3.310000     0.620000    10.200000     6.000000  \n",
       "75%       3.400000     0.730000    11.100000     6.000000  \n",
       "max       4.010000     2.000000    14.900000     8.000000  "
      ]
     },
     "execution_count": 24,
     "metadata": {},
     "output_type": "execute_result"
    }
   ],
   "source": [
    "data.describe()"
   ]
  },
  {
   "cell_type": "markdown",
   "id": "63fbf39b-3d9e-44cf-8821-d780c72a97c1",
   "metadata": {},
   "source": [
    "#### Gráficas de distribución de las variables"
   ]
  },
  {
   "cell_type": "code",
   "execution_count": 25,
   "id": "12c82620-a807-4782-b8cd-2072153ecb3d",
   "metadata": {},
   "outputs": [
    {
     "name": "stderr",
     "output_type": "stream",
     "text": [
      "/home/ds/anaconda3/envs/tensorflow/lib/python3.9/site-packages/seaborn/distributions.py:2551: FutureWarning: `distplot` is a deprecated function and will be removed in a future version. Please adapt your code to use either `displot` (a figure-level function with similar flexibility) or `histplot` (an axes-level function for histograms).\n",
      "  warnings.warn(msg, FutureWarning)\n"
     ]
    },
    {
     "data": {
      "image/png": "[encoded data removed]",
      "text/plain": [
       "<Figure size 432x288 with 1 Axes>"
      ]
     },
     "metadata": {
      "needs_background": "light"
     },
     "output_type": "display_data"
    },
    {
     "name": "stderr",
     "output_type": "stream",
     "text": [
      "/home/ds/anaconda3/envs/tensorflow/lib/python3.9/site-packages/seaborn/distributions.py:2551: FutureWarning: `distplot` is a deprecated function and will be removed in a future version. Please adapt your code to use either `displot` (a figure-level function with similar flexibility) or `histplot` (an axes-level function for histograms).\n",
      "  warnings.warn(msg, FutureWarning)\n"
     ]
    },
    {
     "data": {
      "image/png": "[encoded data removed]",
      "text/plain": [
       "<Figure size 432x288 with 1 Axes>"
      ]
     },
     "metadata": {
      "needs_background": "light"
     },
     "output_type": "display_data"
    },
    {
     "name": "stderr",
     "output_type": "stream",
     "text": [
      "/home/ds/anaconda3/envs/tensorflow/lib/python3.9/site-packages/seaborn/distributions.py:2551: FutureWarning: `distplot` is a deprecated function and will be removed in a future version. Please adapt your code to use either `displot` (a figure-level function with similar flexibility) or `histplot` (an axes-level function for histograms).\n",
      "  warnings.warn(msg, FutureWarning)\n"
     ]
    },
    {
     "data": {
      "image/png": "[encoded data removed]",
      "text/plain": [
       "<Figure size 432x288 with 1 Axes>"
      ]
     },
     "metadata": {
      "needs_background": "light"
     },
     "output_type": "display_data"
    },
    {
     "name": "stderr",
     "output_type": "stream",
     "text": [
      "/home/ds/anaconda3/envs/tensorflow/lib/python3.9/site-packages/seaborn/distributions.py:2551: FutureWarning: `distplot` is a deprecated function and will be removed in a future version. Please adapt your code to use either `displot` (a figure-level function with similar flexibility) or `histplot` (an axes-level function for histograms).\n",
      "  warnings.warn(msg, FutureWarning)\n"
     ]
    },
    {
     "data": {
      "image/png": "[encoded data removed]",
      "text/plain": [
       "<Figure size 432x288 with 1 Axes>"
      ]
     },
     "metadata": {
      "needs_background": "light"
     },
     "output_type": "display_data"
    },
    {
     "name": "stderr",
     "output_type": "stream",
     "text": [
      "/home/ds/anaconda3/envs/tensorflow/lib/python3.9/site-packages/seaborn/distributions.py:2551: FutureWarning: `distplot` is a deprecated function and will be removed in a future version. Please adapt your code to use either `displot` (a figure-level function with similar flexibility) or `histplot` (an axes-level function for histograms).\n",
      "  warnings.warn(msg, FutureWarning)\n"
     ]
    },
    {
     "data": {
      "image/png": "[encoded data removed]",
      "text/plain": [
       "<Figure size 432x288 with 1 Axes>"
      ]
     },
     "metadata": {
      "needs_background": "light"
     },
     "output_type": "display_data"
    },
    {
     "name": "stderr",
     "output_type": "stream",
     "text": [
      "/home/ds/anaconda3/envs/tensorflow/lib/python3.9/site-packages/seaborn/distributions.py:2551: FutureWarning: `distplot` is a deprecated function and will be removed in a future version. Please adapt your code to use either `displot` (a figure-level function with similar flexibility) or `histplot` (an axes-level function for histograms).\n",
      "  warnings.warn(msg, FutureWarning)\n"
     ]
    },
    {
     "data": {
      "image/png": "[encoded data removed]",
      "text/plain": [
       "<Figure size 432x288 with 1 Axes>"
      ]
     },
     "metadata": {
      "needs_background": "light"
     },
     "output_type": "display_data"
    },
    {
     "name": "stderr",
     "output_type": "stream",
     "text": [
      "/home/ds/anaconda3/envs/tensorflow/lib/python3.9/site-packages/seaborn/distributions.py:2551: FutureWarning: `distplot` is a deprecated function and will be removed in a future version. Please adapt your code to use either `displot` (a figure-level function with similar flexibility) or `histplot` (an axes-level function for histograms).\n",
      "  warnings.warn(msg, FutureWarning)\n"
     ]
    },
    {
     "data": {
      "image/png": "[encoded data removed]",
      "text/plain": [
       "<Figure size 432x288 with 1 Axes>"
      ]
     },
     "metadata": {
      "needs_background": "light"
     },
     "output_type": "display_data"
    },
    {
     "name": "stderr",
     "output_type": "stream",
     "text": [
      "/home/ds/anaconda3/envs/tensorflow/lib/python3.9/site-packages/seaborn/distributions.py:2551: FutureWarning: `distplot` is a deprecated function and will be removed in a future version. Please adapt your code to use either `displot` (a figure-level function with similar flexibility) or `histplot` (an axes-level function for histograms).\n",
      "  warnings.warn(msg, FutureWarning)\n"
     ]
    },
    {
     "data": {
      "image/png": "[encoded data removed]",
      "text/plain": [
       "<Figure size 432x288 with 1 Axes>"
      ]
     },
     "metadata": {
      "needs_background": "light"
     },
     "output_type": "display_data"
    },
    {
     "name": "stderr",
     "output_type": "stream",
     "text": [
      "/home/ds/anaconda3/envs/tensorflow/lib/python3.9/site-packages/seaborn/distributions.py:2551: FutureWarning: `distplot` is a deprecated function and will be removed in a future version. Please adapt your code to use either `displot` (a figure-level function with similar flexibility) or `histplot` (an axes-level function for histograms).\n",
      "  warnings.warn(msg, FutureWarning)\n"
     ]
    },
    {
     "data": {
      "image/png": "[encoded data removed]",
      "text/plain": [
       "<Figure size 432x288 with 1 Axes>"
      ]
     },
     "metadata": {
      "needs_background": "light"
     },
     "output_type": "display_data"
    },
    {
     "name": "stderr",
     "output_type": "stream",
     "text": [
      "/home/ds/anaconda3/envs/tensorflow/lib/python3.9/site-packages/seaborn/distributions.py:2551: FutureWarning: `distplot` is a deprecated function and will be removed in a future version. Please adapt your code to use either `displot` (a figure-level function with similar flexibility) or `histplot` (an axes-level function for histograms).\n",
      "  warnings.warn(msg, FutureWarning)\n"
     ]
    },
    {
     "data": {
      "image/png": "[encoded data removed]",
      "text/plain": [
       "<Figure size 432x288 with 1 Axes>"
      ]
     },
     "metadata": {
      "needs_background": "light"
     },
     "output_type": "display_data"
    },
    {
     "name": "stderr",
     "output_type": "stream",
     "text": [
      "/home/ds/anaconda3/envs/tensorflow/lib/python3.9/site-packages/seaborn/distributions.py:2551: FutureWarning: `distplot` is a deprecated function and will be removed in a future version. Please adapt your code to use either `displot` (a figure-level function with similar flexibility) or `histplot` (an axes-level function for histograms).\n",
      "  warnings.warn(msg, FutureWarning)\n"
     ]
    },
    {
     "data": {
      "image/png": "[encoded data removed]",
      "text/plain": [
       "<Figure size 432x288 with 1 Axes>"
      ]
     },
     "metadata": {
      "needs_background": "light"
     },
     "output_type": "display_data"
    },
    {
     "name": "stderr",
     "output_type": "stream",
     "text": [
      "/home/ds/anaconda3/envs/tensorflow/lib/python3.9/site-packages/seaborn/distributions.py:2551: FutureWarning: `distplot` is a deprecated function and will be removed in a future version. Please adapt your code to use either `displot` (a figure-level function with similar flexibility) or `histplot` (an axes-level function for histograms).\n",
      "  warnings.warn(msg, FutureWarning)\n"
     ]
    },
    {
     "data": {
      "image/png": "[encoded data removed]",
      "text/plain": [
       "<Figure size 432x288 with 1 Axes>"
      ]
     },
     "metadata": {
      "needs_background": "light"
     },
     "output_type": "display_data"
    }
   ],
   "source": [
    "for i in range(0,len(data.columns)):\n",
    "    nombreVar = str(data.columns[i])\n",
    "    plotNombre = \"Gráfica de distribución: \" + nombreVar\n",
    "    sns.distplot(data[data.columns[i]]).set_title(plotNombre)\n",
    "    plt.show()"
   ]
  },
  {
   "cell_type": "markdown",
   "id": "5d7b4473-1ea6-4f85-b5c9-46a85efcd7ad",
   "metadata": {},
   "source": [
    "- Con base a las gráficas de distribución se puede indicar que la mayoría de variables independientes se distribuyen o se asemejan a una distribución normal, algunas con sesgo hacia la derecha.\n",
    "\n",
    "- La variable dependiente **quality** tiene su propia distribución dato que es discreta categórica."
   ]
  },
  {
   "cell_type": "code",
   "execution_count": 26,
   "id": "ec82e6cb-6129-42a3-9132-585c4b8937b2",
   "metadata": {},
   "outputs": [
    {
     "data": {
      "image/png": "[encoded data removed]",
      "text/plain": [
       "<Figure size 432x288 with 2 Axes>"
      ]
     },
     "metadata": {
      "needs_background": "light"
     },
     "output_type": "display_data"
    }
   ],
   "source": [
    "# Encontrando coeficientes de correlación entre la variables y graficándolo\n",
    "\n",
    "MatrixCorrelacion = data.corr()\n",
    "sns.heatmap(MatrixCorrelacion, annot=True)\n",
    "plt.show()"
   ]
  },
  {
   "cell_type": "markdown",
   "id": "483f1e69-a8fb-4400-87ee-e2e56d551584",
   "metadata": {},
   "source": [
    "**Al observar las correlaciones se descartarán las variables con correlaciones cercanas a 0**"
   ]
  },
  {
   "cell_type": "code",
   "execution_count": 27,
   "id": "780133fc-483a-4c03-8a11-4314e999b9b1",
   "metadata": {},
   "outputs": [
    {
     "data": {
      "image/png": "[encoded data removed]",
      "text/plain": [
       "<Figure size 432x288 with 2 Axes>"
      ]
     },
     "metadata": {
      "needs_background": "light"
     },
     "output_type": "display_data"
    }
   ],
   "source": [
    "data = data.drop(columns = ['residual sugar', 'free sulfur dioxide', 'pH'])\n",
    "MatrixCorrelacion = data.corr()\n",
    "sns.heatmap(MatrixCorrelacion, annot=True)\n",
    "plt.show()"
   ]
  },
  {
   "cell_type": "markdown",
   "id": "46f9b15c-53d4-48cb-aa37-1f974b71fdb6",
   "metadata": {},
   "source": [
    "**Nota:** Con base a la gráfica de correlación se tomarán las variables con correlación mayor (valor absoluto) siendo estas: **alcohol, sulphates y volatile acidity**.\n",
    "\n",
    "## Modelo de regresión polinomial con Tensor Flow\n",
    "\n",
    "Para el modelo de regresión polinomial se usará Gradient Descent"
   ]
  },
  {
   "cell_type": "code",
   "execution_count": 28,
   "id": "2fed6908-8b13-4e06-971c-62071ce6aa84",
   "metadata": {},
   "outputs": [],
   "source": [
    "# Dividiendo datos para entrenamiento y test\n",
    "data = data.sample(frac = 1)\n",
    "index = int(0.8 * len(data))\n",
    "df_train = data[:index]\n",
    "df_test = data[:-index]"
   ]
  },
  {
   "cell_type": "code",
   "execution_count": 29,
   "id": "5fbfe17f-3263-441e-8312-76caf93f25d5",
   "metadata": {},
   "outputs": [],
   "source": [
    "# MRP = modelo de regresión polinomial\n",
    "class MRP:\n",
    "    \n",
    "    # Constructor de clase para la inicialización de los parámetros\n",
    "    def __init__ (self, Nvariables):\n",
    "        self.parametros = tf.get_variable(\"parametros\", dtype = tf.float32, shape = [1,Nvariables], initializer = tf.zeros_initializer())\n",
    "    \n",
    "    # Cálculo de MSE\n",
    "    def MSE(self, x, y):\n",
    "        error = 1/2 * tf.reduce_mean(tf.math.square(y - tf.matmul(self.parametros,x)))\n",
    "        return error\n",
    "\n",
    "    # Cálculo de  gradient descent\n",
    "    def gradient_descent(self, xt, yt, xtst, ytst, lr):\n",
    "        mse_train = self.MSE(xt,yt)\n",
    "        error_summary_train = tf.summary.scalar(\"mse_summary_train\", mse_train)\n",
    "\n",
    "        mse_test = self.MSE(xtst,ytst)\n",
    "        error_summary_test = tf.summary.scalar(\"mse_summary_test\", mse_test)\n",
    "\n",
    "        \n",
    "        gradiente = tf.gradients(mse_train, [self.parametros])\n",
    "        new_w = tf.assign(self.parametros, self.parametros -lr * gradiente[0])\n",
    "        return new_w, mse_train, mse_test, error_summary_train, error_summary_test"
   ]
  },
  {
   "cell_type": "code",
   "execution_count": 30,
   "id": "2713fe2b-7e53-422c-bcd1-03337d207ac2",
   "metadata": {},
   "outputs": [],
   "source": [
    "# Función de entrenamiento\n",
    "def training_modelPoly(var_train, y_train, var_test, y_test, grado, lr, epochs, printl):\n",
    "    \n",
    "    # String para experimento\n",
    "    directory = './gWine/'+ datetime.datetime.now().strftime(\"%Y%m%d-%H%M%S\") +\"_lr=\"+str(lr)+ \"_epochs=\"+str(epochs) + \"_polydegree=\" + str(grado)\n",
    "    \n",
    "    # Usando sklearn para definir el modelo polinomial\n",
    "    from sklearn.preprocessing import PolynomialFeatures\n",
    "    xtrain = PolynomialFeatures(grado).fit_transform(var_train)\n",
    "    xtest = PolynomialFeatures(grado).fit_transform(var_test)\n",
    "\n",
    "    n_variables = xtrain.shape[1]\n",
    "    n_rows = xtrain.shape[0]\n",
    "    n_rowstest = xtest.shape[0]\n",
    "   \n",
    "    # Definición del grafo\n",
    "    graph = tf.Graph()  \n",
    "    with graph.as_default():\n",
    "        \n",
    "        # Creación de los tensores input\n",
    "        t_xtrain = tf.placeholder(tf.float32, [n_variables, n_rows], \"tr_xtrain\")\n",
    "        t_ytrain = tf.placeholder(tf.float32, [n_rows], \"tr_ytrain\")\n",
    "        t_xtest = tf.placeholder(tf.float32, [n_variables, n_rowstest], \"t_xtest\")\n",
    "        t_ytest = tf.placeholder(tf.float32, [n_rowstest], \"t_ytest\")\n",
    "        \n",
    "        \n",
    "        # Creación del nodo para el cálculo de los nuevos parámetros según gradient_descent\n",
    "        mrp = MRP(n_variables)\n",
    "        nuevos_parametros = mrp.gradient_descent(t_xtrain, t_ytrain, t_xtest, t_ytest, lr)\n",
    "        \n",
    "                \n",
    "        # Escribiendo para tensorboard\n",
    "        writer = tf.summary.FileWriter(directory, graph)\n",
    "        \n",
    "        # Ejecución del grafo\n",
    "        with tf.train.MonitoredSession() as session:\n",
    "            # Paso de valores a los tensores input\n",
    "            feed_dict = {t_xtrain:xtrain.T, t_ytrain:ytrain, t_xtest:xtest.T, t_ytest:ytest}\n",
    "            \n",
    "            # Ejecución de epochs + 1 veces del algoritmo\n",
    "            for i in range(epochs + 1):\n",
    "                \n",
    "                # Entrenamiento del modelo para cálculo de los nuevos parámetros\n",
    "                entrenamiento = session.run(nuevos_parametros, feed_dict = feed_dict)\n",
    "                # Imprimiendo los epoch según el printl\n",
    "                if i % printl == 0:\n",
    "                    parametros = session.run(mrp.parametros, feed_dict = feed_dict)\n",
    "                    # Escribiendo para tensorboard\n",
    "                    writer.add_summary(entrenamiento[3], i)\n",
    "                    writer.add_summary(entrenamiento[4], i)\n",
    "                    \n",
    "                    print(\"Epoch: \", i, \"mse_train: \", entrenamiento[1], \"mse_test: \", entrenamiento[2])\n",
    "                                       \n",
    "            return parametros, entrenamiento[1], entrenamiento[2]\n",
    "        \n",
    "        writer.close()"
   ]
  },
  {
   "cell_type": "markdown",
   "id": "20132f8c-c9c8-4e64-adc9-08e42038621d",
   "metadata": {},
   "source": [
    "## Cálculo de experimentos"
   ]
  },
  {
   "cell_type": "code",
   "execution_count": 31,
   "id": "26554c77-b5fc-4e97-941c-262c7fde04f0",
   "metadata": {},
   "outputs": [],
   "source": [
    "# Preparando X y Y para entrenar modelo\n",
    "var_train = df_train[['sulphates','volatile acidity', 'alcohol']]\n",
    "var_test= df_test[['sulphates','volatile acidity', 'alcohol']]\n",
    "ytrain = df_train['quality']\n",
    "ytest = df_test['quality']"
   ]
  },
  {
   "cell_type": "markdown",
   "id": "f944e165-73dc-45b6-894a-7e42ba590d49",
   "metadata": {},
   "source": [
    "#### Grado 2"
   ]
  },
  {
   "cell_type": "code",
   "execution_count": 32,
   "id": "c4ea8bcc-83ea-43d6-82e0-d16809c1a89a",
   "metadata": {},
   "outputs": [
    {
     "name": "stdout",
     "output_type": "stream",
     "text": [
      "INFO:tensorflow:Graph was finalized.\n",
      "INFO:tensorflow:Running local_init_op.\n",
      "INFO:tensorflow:Done running local_init_op.\n",
      "Epoch:  0 mse_train:  16.27287 mse_test:  26103778.0\n",
      "Epoch:  1 mse_train:  25542534.0 mse_test:  42423934000000.0\n",
      "Epoch:  2 mse_train:  41511845000000.0 mse_test:  6.894759e+19\n",
      "Epoch:  3 mse_train:  6.7465255e+19 mse_test:  1.12053935e+26\n",
      "Epoch:  4 mse_train:  1.0964485e+26 mse_test:  1.8211063e+32\n",
      "Epoch:  5 mse_train:  1.7819536e+32 mse_test:  inf\n",
      "Epoch:  6 mse_train:  inf mse_test:  inf\n",
      "Epoch:  7 mse_train:  inf mse_test:  inf\n",
      "Epoch:  8 mse_train:  inf mse_test:  inf\n",
      "Epoch:  9 mse_train:  inf mse_test:  inf\n",
      "Epoch:  10 mse_train:  inf mse_test:  inf\n"
     ]
    },
    {
     "data": {
      "text/plain": [
       "(array([[6.2149625e+30, 4.1231110e+30, 3.2310069e+30, 6.6144437e+31,\n",
       "         2.9058877e+30, 2.0966825e+30, 4.3999440e+31, 1.8754943e+30,\n",
       "         3.4108752e+31, 7.1216176e+32]], dtype=float32),\n",
       " inf,\n",
       " inf)"
      ]
     },
     "execution_count": 32,
     "metadata": {},
     "output_type": "execute_result"
    }
   ],
   "source": [
    "# Experimento 1 (grado 2)\n",
    "training_modelPoly(var_train, ytrain, var_test, ytest, 2, 0.1, 10, 1)"
   ]
  },
  {
   "cell_type": "code",
   "execution_count": 33,
   "id": "eb57baf2-c95f-45a8-b1b7-92268eb3b858",
   "metadata": {},
   "outputs": [
    {
     "name": "stdout",
     "output_type": "stream",
     "text": [
      "INFO:tensorflow:Graph was finalized.\n",
      "INFO:tensorflow:Running local_init_op.\n",
      "INFO:tensorflow:Done running local_init_op.\n",
      "Epoch:  0 mse_train:  16.27287 mse_test:  2222.6606\n",
      "Epoch:  10 mse_train:  4.0113103e+22 mse_test:  5.6678486e+24\n",
      "Epoch:  20 mse_train:  inf mse_test:  inf\n",
      "Epoch:  30 mse_train:  inf mse_test:  inf\n",
      "Epoch:  40 mse_train:  nan mse_test:  nan\n",
      "Epoch:  50 mse_train:  nan mse_test:  nan\n",
      "Epoch:  60 mse_train:  nan mse_test:  nan\n",
      "Epoch:  70 mse_train:  nan mse_test:  nan\n",
      "Epoch:  80 mse_train:  nan mse_test:  nan\n",
      "Epoch:  90 mse_train:  nan mse_test:  nan\n",
      "Epoch:  100 mse_train:  nan mse_test:  nan\n"
     ]
    },
    {
     "data": {
      "text/plain": [
       "(array([[nan, nan, nan, nan, nan, nan, nan, nan, nan, nan]], dtype=float32),\n",
       " nan,\n",
       " nan)"
      ]
     },
     "execution_count": 33,
     "metadata": {},
     "output_type": "execute_result"
    }
   ],
   "source": [
    "# Experimento 2 (grado 2)\n",
    "training_modelPoly(var_train, ytrain, var_test, ytest, 2, 0.001, 100, 10)"
   ]
  },
  {
   "cell_type": "code",
   "execution_count": 34,
   "id": "e42505f7-0bbc-4089-b766-2fc1eb88f820",
   "metadata": {},
   "outputs": [
    {
     "name": "stdout",
     "output_type": "stream",
     "text": [
      "INFO:tensorflow:Graph was finalized.\n",
      "INFO:tensorflow:Running local_init_op.\n",
      "INFO:tensorflow:Done running local_init_op.\n",
      "Epoch:  0 mse_train:  16.27287 mse_test:  1.8821726\n",
      "Epoch:  10000 mse_train:  0.2567463 mse_test:  0.27174094\n",
      "Epoch:  20000 mse_train:  0.2231629 mse_test:  0.23467925\n",
      "Epoch:  30000 mse_train:  0.21552931 mse_test:  0.22581129\n",
      "Epoch:  40000 mse_train:  0.21371451 mse_test:  0.2234092\n",
      "Epoch:  50000 mse_train:  0.21321021 mse_test:  0.22264531\n",
      "Epoch:  60000 mse_train:  0.21300231 mse_test:  0.22234038\n",
      "Epoch:  70000 mse_train:  0.21286254 mse_test:  0.22218227\n",
      "Epoch:  80000 mse_train:  0.21273968 mse_test:  0.22207852\n",
      "Epoch:  90000 mse_train:  0.21262212 mse_test:  0.22199643\n",
      "Epoch:  100000 mse_train:  0.21250716 mse_test:  0.22193031\n"
     ]
    },
    {
     "data": {
      "text/plain": [
       "(array([[ 0.13635159,  0.03802449,  0.02227181,  0.74186146, -0.11285335,\n",
       "         -0.01598317,  0.08668149, -0.02185888, -0.11765468, -0.01956503]],\n",
       "       dtype=float32),\n",
       " 0.21250716,\n",
       " 0.22193031)"
      ]
     },
     "execution_count": 34,
     "metadata": {},
     "output_type": "execute_result"
    }
   ],
   "source": [
    "# Experimento 3 (grado 2)\n",
    "training_modelPoly(var_train, ytrain, var_test, ytest, 2, 0.0001, 100000, 10000)"
   ]
  },
  {
   "cell_type": "markdown",
   "id": "b59138a6-9284-4d4c-a201-04ff9b2a4f39",
   "metadata": {},
   "source": [
    "#### Grado 3"
   ]
  },
  {
   "cell_type": "code",
   "execution_count": 35,
   "id": "1d579e61-3e6f-4a3a-8038-525fac6c94d7",
   "metadata": {},
   "outputs": [
    {
     "name": "stdout",
     "output_type": "stream",
     "text": [
      "INFO:tensorflow:Graph was finalized.\n",
      "INFO:tensorflow:Running local_init_op.\n",
      "INFO:tensorflow:Done running local_init_op.\n",
      "Epoch:  0 mse_train:  16.27287 mse_test:  366291160000.0\n",
      "Epoch:  1 mse_train:  353684850000.0 mse_test:  8.609422e+21\n",
      "Epoch:  2 mse_train:  8.313035e+21 mse_test:  2.023564e+32\n",
      "Epoch:  3 mse_train:  1.9539005e+32 mse_test:  inf\n",
      "Epoch:  4 mse_train:  inf mse_test:  inf\n",
      "Epoch:  5 mse_train:  inf mse_test:  inf\n",
      "Epoch:  6 mse_train:  inf mse_test:  inf\n",
      "Epoch:  7 mse_train:  inf mse_test:  inf\n",
      "Epoch:  8 mse_train:  inf mse_test:  nan\n",
      "Epoch:  9 mse_train:  nan mse_test:  nan\n",
      "Epoch:  10 mse_train:  nan mse_test:  nan\n"
     ]
    },
    {
     "data": {
      "text/plain": [
       "(array([[nan, nan, nan, nan, nan, nan, nan, nan, nan, nan, nan, nan, nan,\n",
       "         nan, nan, nan, nan, nan, nan, nan]], dtype=float32),\n",
       " nan,\n",
       " nan)"
      ]
     },
     "execution_count": 35,
     "metadata": {},
     "output_type": "execute_result"
    }
   ],
   "source": [
    "# Experimento 4 (grado 3)\n",
    "training_modelPoly(var_train, ytrain, var_test, ytest, 3, 0.1, 10, 1)"
   ]
  },
  {
   "cell_type": "code",
   "execution_count": 36,
   "id": "afc23210-653f-466c-95d1-644bdfb8c446",
   "metadata": {},
   "outputs": [
    {
     "name": "stdout",
     "output_type": "stream",
     "text": [
      "INFO:tensorflow:Graph was finalized.\n",
      "INFO:tensorflow:Running local_init_op.\n",
      "INFO:tensorflow:Done running local_init_op.\n",
      "Epoch:  0 mse_train:  16.27287 mse_test:  16.575\n",
      "Epoch:  10 mse_train:  inf mse_test:  inf\n",
      "Epoch:  20 mse_train:  nan mse_test:  nan\n",
      "Epoch:  30 mse_train:  nan mse_test:  nan\n",
      "Epoch:  40 mse_train:  nan mse_test:  nan\n",
      "Epoch:  50 mse_train:  nan mse_test:  nan\n",
      "Epoch:  60 mse_train:  nan mse_test:  nan\n",
      "Epoch:  70 mse_train:  nan mse_test:  nan\n",
      "Epoch:  80 mse_train:  nan mse_test:  nan\n",
      "Epoch:  90 mse_train:  nan mse_test:  nan\n",
      "Epoch:  100 mse_train:  nan mse_test:  nan\n"
     ]
    },
    {
     "data": {
      "text/plain": [
       "(array([[nan, nan, nan, nan, nan, nan, nan, nan, nan, nan, nan, nan, nan,\n",
       "         nan, nan, nan, nan, nan, nan, nan]], dtype=float32),\n",
       " nan,\n",
       " nan)"
      ]
     },
     "execution_count": 36,
     "metadata": {},
     "output_type": "execute_result"
    }
   ],
   "source": [
    "# Experimento 5 (grado 3)\n",
    "training_modelPoly(var_train, ytrain, var_test, ytest, 3, 0.001, 100, 10)"
   ]
  },
  {
   "cell_type": "code",
   "execution_count": 37,
   "id": "8cc5a530-70b7-4348-9dd9-de652c3026fd",
   "metadata": {},
   "outputs": [
    {
     "name": "stdout",
     "output_type": "stream",
     "text": [
      "INFO:tensorflow:Graph was finalized.\n",
      "INFO:tensorflow:Running local_init_op.\n",
      "INFO:tensorflow:Done running local_init_op.\n",
      "Epoch:  0 mse_train:  16.27287 mse_test:  16.575\n",
      "Epoch:  2000 mse_train:  nan mse_test:  nan\n",
      "Epoch:  4000 mse_train:  nan mse_test:  nan\n",
      "Epoch:  6000 mse_train:  nan mse_test:  nan\n",
      "Epoch:  8000 mse_train:  nan mse_test:  nan\n",
      "Epoch:  10000 mse_train:  nan mse_test:  nan\n",
      "Epoch:  12000 mse_train:  nan mse_test:  nan\n",
      "Epoch:  14000 mse_train:  nan mse_test:  nan\n",
      "Epoch:  16000 mse_train:  nan mse_test:  nan\n",
      "Epoch:  18000 mse_train:  nan mse_test:  nan\n",
      "Epoch:  20000 mse_train:  nan mse_test:  nan\n"
     ]
    },
    {
     "data": {
      "text/plain": [
       "(array([[nan, nan, nan, nan, nan, nan, nan, nan, nan, nan, nan, nan, nan,\n",
       "         nan, nan, nan, nan, nan, nan, nan]], dtype=float32),\n",
       " nan,\n",
       " nan)"
      ]
     },
     "execution_count": 37,
     "metadata": {},
     "output_type": "execute_result"
    }
   ],
   "source": [
    "# Experimento 6 (grado 3)\n",
    "training_modelPoly(var_train, ytrain, var_test, ytest, 3, 0.0001, 20000, 2000)"
   ]
  },
  {
   "cell_type": "code",
   "execution_count": 38,
   "id": "c6a889b5-b249-4051-8c1b-52200314dbf6",
   "metadata": {},
   "outputs": [
    {
     "name": "stdout",
     "output_type": "stream",
     "text": [
      "INFO:tensorflow:Graph was finalized.\n",
      "INFO:tensorflow:Running local_init_op.\n",
      "INFO:tensorflow:Done running local_init_op.\n",
      "Epoch:  0 mse_train:  16.27287 mse_test:  16.575\n",
      "Epoch:  2000 mse_train:  nan mse_test:  nan\n",
      "Epoch:  4000 mse_train:  nan mse_test:  nan\n",
      "Epoch:  6000 mse_train:  nan mse_test:  nan\n",
      "Epoch:  8000 mse_train:  nan mse_test:  nan\n",
      "Epoch:  10000 mse_train:  nan mse_test:  nan\n",
      "Epoch:  12000 mse_train:  nan mse_test:  nan\n",
      "Epoch:  14000 mse_train:  nan mse_test:  nan\n",
      "Epoch:  16000 mse_train:  nan mse_test:  nan\n",
      "Epoch:  18000 mse_train:  nan mse_test:  nan\n",
      "Epoch:  20000 mse_train:  nan mse_test:  nan\n"
     ]
    },
    {
     "data": {
      "text/plain": [
       "(array([[nan, nan, nan, nan, nan, nan, nan, nan, nan, nan, nan, nan, nan,\n",
       "         nan, nan, nan, nan, nan, nan, nan]], dtype=float32),\n",
       " nan,\n",
       " nan)"
      ]
     },
     "execution_count": 38,
     "metadata": {},
     "output_type": "execute_result"
    }
   ],
   "source": [
    "# Experimento 6 (grado 3)\n",
    "training_modelPoly(var_train, ytrain, var_test, ytest, 3, 0.00001, 20000, 2000)"
   ]
  },
  {
   "cell_type": "markdown",
   "id": "568c4f53-e230-4829-9c32-dc10b6c04b60",
   "metadata": {},
   "source": [
    "#### Grado 1"
   ]
  },
  {
   "cell_type": "code",
   "execution_count": 39,
   "id": "32641f20-d575-4728-a7e4-6bfbde9331f3",
   "metadata": {},
   "outputs": [
    {
     "name": "stdout",
     "output_type": "stream",
     "text": [
      "INFO:tensorflow:Graph was finalized.\n",
      "INFO:tensorflow:Running local_init_op.\n",
      "INFO:tensorflow:Done running local_init_op.\n",
      "Epoch:  0 mse_train:  16.27287 mse_test:  16.575\n",
      "Epoch:  1 mse_train:  1644.7822 mse_test:  1660.2415\n",
      "Epoch:  2 mse_train:  168962.16 mse_test:  170680.2\n",
      "Epoch:  3 mse_train:  17359582.0 mse_test:  17534756.0\n",
      "Epoch:  4 mse_train:  1783569500.0 mse_test:  1801580900.0\n",
      "Epoch:  5 mse_train:  183248570000.0 mse_test:  185098960000.0\n",
      "Epoch:  6 mse_train:  18827434000000.0 mse_test:  19017551000000.0\n",
      "Epoch:  7 mse_train:  1934380800000000.0 mse_test:  1953913500000000.0\n",
      "Epoch:  8 mse_train:  1.9874346e+17 mse_test:  2.0075034e+17\n",
      "Epoch:  9 mse_train:  2.0419442e+19 mse_test:  2.0625635e+19\n",
      "Epoch:  10 mse_train:  2.0979471e+21 mse_test:  2.119132e+21\n"
     ]
    },
    {
     "data": {
      "text/plain": [
       "(array([[5.8660137e+09, 3.8814336e+09, 3.0732680e+09, 6.1743129e+10]],\n",
       "       dtype=float32),\n",
       " 2.0979471e+21,\n",
       " 2.119132e+21)"
      ]
     },
     "execution_count": 39,
     "metadata": {},
     "output_type": "execute_result"
    }
   ],
   "source": [
    "# Experimento 7 (grado 1)\n",
    "training_modelPoly(var_train, ytrain, var_test, ytest, 1, 0.1, 10, 1)"
   ]
  },
  {
   "cell_type": "code",
   "execution_count": 40,
   "id": "d4abb741-0694-4cce-bbc8-31b97238563b",
   "metadata": {},
   "outputs": [
    {
     "name": "stdout",
     "output_type": "stream",
     "text": [
      "INFO:tensorflow:Graph was finalized.\n",
      "INFO:tensorflow:Running local_init_op.\n",
      "INFO:tensorflow:Done running local_init_op.\n",
      "Epoch:  0 mse_train:  16.27287 mse_test:  13.1616535\n",
      "Epoch:  1000 mse_train:  0.26441935 mse_test:  0.2889914\n",
      "Epoch:  2000 mse_train:  0.26227507 mse_test:  0.28666502\n",
      "Epoch:  3000 mse_train:  0.26026118 mse_test:  0.28446263\n",
      "Epoch:  4000 mse_train:  0.25836903 mse_test:  0.2823766\n",
      "Epoch:  5000 mse_train:  0.25659043 mse_test:  0.28039938\n",
      "Epoch:  6000 mse_train:  0.2549178 mse_test:  0.2785246\n",
      "Epoch:  7000 mse_train:  0.25334412 mse_test:  0.2767459\n",
      "Epoch:  8000 mse_train:  0.2518629 mse_test:  0.27505726\n",
      "Epoch:  9000 mse_train:  0.25046793 mse_test:  0.27345338\n",
      "Epoch:  10000 mse_train:  0.24915361 mse_test:  0.2719291\n"
     ]
    },
    {
     "data": {
      "text/plain": [
       "(array([[ 0.21833043,  0.33556366, -0.20595217,  0.5086957 ]],\n",
       "       dtype=float32),\n",
       " 0.24915361,\n",
       " 0.2719291)"
      ]
     },
     "execution_count": 40,
     "metadata": {},
     "output_type": "execute_result"
    }
   ],
   "source": [
    "# Experimento 8 (grado 1)\n",
    "training_modelPoly(var_train, ytrain, var_test, ytest, 1, 0.001, 10000, 1000)"
   ]
  },
  {
   "cell_type": "code",
   "execution_count": 41,
   "id": "ab9df5a2-84ff-416b-81d6-ef7340f31583",
   "metadata": {},
   "outputs": [
    {
     "name": "stdout",
     "output_type": "stream",
     "text": [
      "INFO:tensorflow:Graph was finalized.\n",
      "INFO:tensorflow:Running local_init_op.\n",
      "INFO:tensorflow:Done running local_init_op.\n",
      "Epoch:  0 mse_train:  16.27287 mse_test:  16.21562\n",
      "Epoch:  1000 mse_train:  0.26646844 mse_test:  0.2911995\n",
      "Epoch:  2000 mse_train:  0.26623493 mse_test:  0.29094693\n",
      "Epoch:  3000 mse_train:  0.266003 mse_test:  0.29069775\n",
      "Epoch:  4000 mse_train:  0.2657725 mse_test:  0.29044992\n",
      "Epoch:  5000 mse_train:  0.26554343 mse_test:  0.29020348\n",
      "Epoch:  6000 mse_train:  0.26531583 mse_test:  0.28995842\n",
      "Epoch:  7000 mse_train:  0.2650897 mse_test:  0.2897147\n",
      "Epoch:  8000 mse_train:  0.26486504 mse_test:  0.2894724\n",
      "Epoch:  9000 mse_train:  0.26464176 mse_test:  0.28923142\n",
      "Epoch:  10000 mse_train:  0.26441985 mse_test:  0.2889917\n"
     ]
    },
    {
     "data": {
      "text/plain": [
       "(array([[ 0.06781575,  0.0687725 , -0.00055391,  0.52954507]],\n",
       "       dtype=float32),\n",
       " 0.26441985,\n",
       " 0.2889917)"
      ]
     },
     "execution_count": 41,
     "metadata": {},
     "output_type": "execute_result"
    }
   ],
   "source": [
    "# Experimento 9 (grado 1)\n",
    "training_modelPoly(var_train, ytrain, var_test, ytest, 1, 0.0001, 10000, 1000)"
   ]
  },
  {
   "cell_type": "code",
   "execution_count": null,
   "id": "eecc7494-d0f9-4069-83a1-06a36b2047f8",
   "metadata": {},
   "outputs": [],
   "source": [
    "%tensorboard --logdir ./gWine"
   ]
  },
  {
   "cell_type": "markdown",
   "id": "216eb47e-4dc0-4ca9-bd80-26c887d761ad",
   "metadata": {},
   "source": [
    "### Conclusiones\n",
    "\n",
    "1. Las variables más significativa que pueden explicar la calidad del vino son **'sulphates','volatile acidity', 'alcohol'**\n",
    "\n",
    "2. Se realizaron 9 experimentos con modelo de 3 variables y grado 1, 2 y 3 respectivamente. Se obtuvieron los siguientes resultados.\n",
    "\n",
    "- Grado 1 error = 0.2719291 lr = 0.001 epochs = 10000\n",
    "- Grado 2 error = 0.22193031 lr = 0.00001 epochs = 100000\n",
    "- Grado 3 no convergió\n",
    "\n",
    "3. El modelo sugerido con base al error en test es el de Grado 2 con 3 variables, un lr = 0.00001 y epochs = 100000.\n",
    "\n",
    "4. Podría existir otro modelo que mejore el error en predicción pero por temas de experimentos se llegó hasta grado 3."
   ]
  }
 ],
 "metadata": {
  "kernelspec": {
   "display_name": "Python 3",
   "language": "python",
   "name": "python3"
  },
  "language_info": {
   "codemirror_mode": {
    "name": "ipython",
    "version": 3
   },
   "file_extension": ".py",
   "mimetype": "text/x-python",
   "name": "python",
   "nbconvert_exporter": "python",
   "pygments_lexer": "ipython3",
   "version": "3.9.5"
  }
 },
 "nbformat": 4,
 "nbformat_minor": 5
}
