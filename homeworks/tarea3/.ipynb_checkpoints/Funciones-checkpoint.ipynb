{
 "cells": [
  {
   "cell_type": "markdown",
   "id": "integrated-contribution",
   "metadata": {},
   "source": [
    "# Funciones definidas por el usuario en Python\n",
    "\n",
    "## Función\n",
    "\n",
    "Una función es un mecanismo para agrupar un conjunto de sentencias reutilizables que realizan una tarea específica, por ejemplo la función **sumar(a, b)**, realiza la tarea específica de sumar **a** y **b**.\n",
    "\n",
    "> En Python se utiliza la palabra reservadad **def** para indicar la definición de una función.\n",
    "\n",
    "### Sintaxis de una función\n",
    "\n",
    "<code>\n",
    "    <b>def</b> nombreFunción (<b>[</b>parámetros<b>]</b>):\n",
    "        sentencias\n",
    "        <b>[return</b> expresión<b>]</b>\n",
    "</code></br>\n",
    "\n",
    "en **[ ]** aparecen las partes opcionales.\n",
    "\n",
    "### Partes de una función\n",
    "\n",
    "1. Nombre de la función: como identificador.\n",
    "2. Parámetros: que son enviados a las sentencias.\n",
    "3. Sentencias: el código que realiza la tarea.\n",
    "4. Expresión: la variable o valor a retornar.\n",
    "\n",
    "<img src=\"images/PythonFunction.png\" alt=\"Función Python\" width=\"70%\"/>\n",
    "\n",
    "***Fuente: Elaboración propia.***\n",
    "\n",
    "\n",
    "---\n",
    "\n",
    "## Parámetros\n",
    "\n",
    "Es el mecanismo de comunicación desde el ámbito exterior de la función hacia lo interno. Regularmente los parámetros son variables que son enviadas a las sentencias de la función.\n",
    "\n",
    "### Parámetros por posición\n",
    "\n",
    "Python define una posición predefinida para los parámetros, siendo la posición inicial cero (0) para el primer parámetro, la siguiente uno (1) para el segundo parámetro y así sucesivamente. Esto implica que cuando se envían parámetros la función los recibe y los mapea según la posición en que están siendo enviados.\n"
   ]
  },
  {
   "cell_type": "code",
   "execution_count": null,
   "id": "arranged-bicycle",
   "metadata": {},
   "outputs": [],
   "source": [
    "# Definición de función potencia\n",
    "\n",
    "def potencia(base, exponente):\n",
    "    return base ** exponente\n",
    "\n",
    "# Variables\n",
    "x = 2\n",
    "y = 3\n",
    "\n",
    "# Llamada a función\n",
    "potencia(x, y)"
   ]
  },
  {
   "cell_type": "markdown",
   "id": "based-asbestos",
   "metadata": {},
   "source": [
    "En el ejemplo los parámetros **base** y **exponente** tiene posiciones **0** y **1** respectivamente. Cuando la función es llamada y las variables **x** y **y** son enviadas como parámetros, automáticamente estas son mapeadas como **base = x** y **exponente=y** por la de **x** y **y** en la función.\n",
    "\n",
    "---\n",
    "\n",
    "### Parámetros por nombre\n",
    "\n",
    "Además de las posiciones de los parámetros, estos también tienen nombres y son utilizados para enviar valores a estos por medio de su nombre sin importar su posición."
   ]
  },
  {
   "cell_type": "code",
   "execution_count": null,
   "id": "decent-writing",
   "metadata": {},
   "outputs": [],
   "source": [
    "# Definición de función potencia\n",
    "\n",
    "def potencia(base, exponente):\n",
    "    return base ** exponente\n",
    "\n",
    "# Variables\n",
    "x = 2\n",
    "y = 3\n",
    "\n",
    "# Llamada a función\n",
    "potencia(exponente = y, base = x)"
   ]
  },
  {
   "cell_type": "markdown",
   "id": "engaging-museum",
   "metadata": {},
   "source": [
    "---\n",
    "\n",
    "## Retorno\n",
    "\n",
    "La forma de cómo una función se comunica con el exterior es por medio de la sentencia **return**, que como su nombre lo indica devuel el valor de la variable o expresión correspondiente.\n",
    "\n",
    "Como se pudo observar en los ejemplos anteriores las funciones **potencia** por medio de la sentencia **return** devuelve el resultado (un solo valor) de operar **base ** exponente**.\n",
    "\n",
    "> Por defecto las funciones retornan el valor **None**.\n",
    "\n",
    "### Retorno múltiple\n",
    "\n",
    "Python permite devolver más de un valor en el **return**."
   ]
  },
  {
   "cell_type": "code",
   "execution_count": null,
   "id": "curious-lancaster",
   "metadata": {},
   "outputs": [],
   "source": [
    "# Definición de función\n",
    "def retornoMultiple():\n",
    "    return \"Edgar Sabán\", 19012631, [91, 94, 98]\n",
    "\n",
    "# Llamada a función\n",
    "retornoMultiple()"
   ]
  },
  {
   "cell_type": "markdown",
   "id": "european-ribbon",
   "metadata": {},
   "source": [
    "Como se puede observar la función **retornoMultiple()** retorna 3 valores: una cadena, un número y una lista de número, pero los devuelve dentro de unos paréntesis **( )** y esto significa que los devuelve en forma de **tupla**.\n",
    "\n",
    "Una **tupla** es una lista inmutable, lo que significa que una vez creada no se puede modificar su contenido."
   ]
  },
  {
   "cell_type": "code",
   "execution_count": null,
   "id": "adjusted-locator",
   "metadata": {},
   "outputs": [],
   "source": [
    "# Verificando el tipo de dato devuelto por retornoMultiple()\n",
    "type(retornoMultiple())"
   ]
  },
  {
   "cell_type": "markdown",
   "id": "small-excuse",
   "metadata": {},
   "source": [
    "También existe la posibilidad de recuperar los valores múltiples devueltos por una función en variables individuales."
   ]
  },
  {
   "cell_type": "code",
   "execution_count": 5,
   "id": "weighted-cancer",
   "metadata": {},
   "outputs": [
    {
     "name": "stdout",
     "output_type": "stream",
     "text": [
      "nombre =  Edgar Sabán\n",
      "carne =  19012631\n",
      "notas =  [91, 94, 98]\n"
     ]
    }
   ],
   "source": [
    "# obteniendo los valores múltiples en variables individuales\n",
    "nombre, carne, notas = retornoMultiple()\n",
    "\n",
    "# Imprimiento variables individuales\n",
    "print(\"nombre = \", nombre)\n",
    "print(\"carne = \", carne)\n",
    "print(\"notas = \", notas)"
   ]
  },
  {
   "cell_type": "markdown",
   "id": "ahead-sapphire",
   "metadata": {},
   "source": [
    "> Python de forma automática mapea los valores de la tupla a las variables correspondientes.\n",
    "\n",
    "## Funciones como objetos\n",
    "\n",
    "Las funciones están al mismo nivel que otros objetos de Python como enteros, cadenas, variables entre otros, por lo cual se pueden crear, interactuar con ellas, pasar a otras funciones, asignarlas a otra variable, almacenarlas en un contenedor (lista, diccionario...), pasarlas como argumento, como cualquier otro objeto."
   ]
  },
  {
   "cell_type": "code",
   "execution_count": 6,
   "id": "european-savings",
   "metadata": {},
   "outputs": [
    {
     "name": "stdout",
     "output_type": "stream",
     "text": [
      "Número de identificación de resta:  140450956316240\n",
      "Número de identificación de operacionResta:  140450956316240\n"
     ]
    },
    {
     "data": {
      "text/plain": [
       "8"
      ]
     },
     "execution_count": 6,
     "metadata": {},
     "output_type": "execute_result"
    }
   ],
   "source": [
    "# Función resta que devuelve la resta de sus parámetros\n",
    "def resta(x, y):\n",
    "    return x - y\n",
    "\n",
    "# A la variable operacionResta se le asigna una función \"ojo\", se le asigna la función No el valor que regresa la función.\n",
    "# Lo cual implica que la función resta como la variables operacionResta apunta a la misma dirección de memoria\n",
    "# Por ello la viable operacionResta pueda ser utilizada como si fuera la función resta\n",
    "\n",
    "operacionResta = resta\n",
    "\n",
    "print(\"Número de identificación de resta: \",id(resta))\n",
    "print(\"Número de identificación de operacionResta: \",id(operacionResta))\n",
    "\n",
    "# Comprobamos la función \"operacionResta\"\n",
    "operacionResta(10, 2)\n"
   ]
  },
  {
   "cell_type": "code",
   "execution_count": 7,
   "id": "grateful-franklin",
   "metadata": {},
   "outputs": [
    {
     "data": {
      "text/plain": [
       "50"
      ]
     },
     "execution_count": 7,
     "metadata": {},
     "output_type": "execute_result"
    }
   ],
   "source": [
    "# Definición de una función outer que devuleve una función llamada inner (la cual fue definida de forma anidada)\n",
    "def outer(x):\n",
    "    def inner(y):\n",
    "        return x * y\n",
    "    return inner\n",
    "\n",
    "# La variable x tiene el valor que la función outer está retornando \"una función llamada inner\"\n",
    "# x apunta a la mismo objeto inner, por lo cual x puede ser utilizado como la función que fue devuelta\n",
    "x = outer(10)\n",
    "x(5)"
   ]
  },
  {
   "cell_type": "markdown",
   "id": "beautiful-fireplace",
   "metadata": {},
   "source": [
    "## Funciones como parámetros\n",
    "\n",
    "Como vimos en la secciones anteriores una función es un objeto, y por ello se puede pasar como parámetro."
   ]
  },
  {
   "cell_type": "code",
   "execution_count": 8,
   "id": "civic-steel",
   "metadata": {},
   "outputs": [
    {
     "data": {
      "text/plain": [
       "10"
      ]
     },
     "execution_count": 8,
     "metadata": {},
     "output_type": "execute_result"
    }
   ],
   "source": [
    "# Función de recibe una lista y devuelve el valor máximo\n",
    "def fMax(lista):\n",
    "    return max(lista)\n",
    "\n",
    "# Función de recibe una lista y devuelve el valor mínimo\n",
    "def fMin(lista):\n",
    "    return min(lista)\n",
    "\n",
    "# Función que devuel rango de una lista y dos funciones auxiliares\n",
    "# enviadas en los parámetros\n",
    "def rango(funcionMax, funcionMin, lista):\n",
    "    max = funcionMax(lista)\n",
    "    min = funcionMin(lista)\n",
    "    return max - min\n",
    "\n",
    "valores = [2, 6, 11 , 8, 12]\n",
    "\n",
    "rango(fMax, fMin, valores)\n"
   ]
  },
  {
   "cell_type": "markdown",
   "id": "assumed-uncertainty",
   "metadata": {},
   "source": [
    "## Funciones anónimas o lambda\n",
    "\n",
    "Como hemos visto, las funciones siempre están identificadas por un nombre, sin embargo Python permite la definicón de funciones que no estén identificada por un nombre \"que sean anónimas\" y para ello se usa la palabra reservada **lambda** que permite indicar una función anónima.\n",
    "\n",
    "La sintaxis de una función lambda es\n",
    "\n",
    "> lambda pa1, pa2, ..... : expresión\n",
    "\n",
    "Donde:\n",
    "* pa1 : parámetro 1\n",
    "* pa2 : parámetro 2\n",
    "* ... más parámetros\n",
    "* expresión : a ser una acción"
   ]
  },
  {
   "cell_type": "code",
   "execution_count": 9,
   "id": "tutorial-surge",
   "metadata": {},
   "outputs": [
    {
     "data": {
      "text/plain": [
       "<function __main__.<lambda>(a, b)>"
      ]
     },
     "execution_count": 9,
     "metadata": {},
     "output_type": "execute_result"
    }
   ],
   "source": [
    "lambda a, b: a + b"
   ]
  },
  {
   "cell_type": "markdown",
   "id": "antique-minimum",
   "metadata": {},
   "source": [
    "> Las funciones lambda en la parte de la expresión, únicamente soporta una sentencia (expresión).\n",
    "\n",
    "Pero como es de esperar para poder usar la función anónima (en algunos casos) debemos asignarla a otro objeto y hacer uso de ella."
   ]
  },
  {
   "cell_type": "code",
   "execution_count": 10,
   "id": "tired-edward",
   "metadata": {},
   "outputs": [
    {
     "data": {
      "text/plain": [
       "16"
      ]
     },
     "execution_count": 10,
     "metadata": {},
     "output_type": "execute_result"
    }
   ],
   "source": [
    "# Función anónima asignada a la variable suma\n",
    "multiplicacion = lambda a, b: a * b\n",
    "\n",
    "# La variable multiplicacion representa una función y puede ser utilizada\n",
    "multiplicacion(8, 2)"
   ]
  },
  {
   "cell_type": "markdown",
   "id": "actual-programming",
   "metadata": {},
   "source": [
    "El código anterior es equivalente a:"
   ]
  },
  {
   "cell_type": "code",
   "execution_count": 11,
   "id": "elegant-niger",
   "metadata": {},
   "outputs": [
    {
     "data": {
      "text/plain": [
       "16"
      ]
     },
     "execution_count": 11,
     "metadata": {},
     "output_type": "execute_result"
    }
   ],
   "source": [
    "def multiplicacion(a, b):\n",
    "    return a * b\n",
    "\n",
    "multiplicacion(8, 2)"
   ]
  },
  {
   "cell_type": "markdown",
   "id": "subtle-ceremony",
   "metadata": {},
   "source": [
    "Como se observan las funciones anónimas como las nombradas son equivalentes en su resultado, sin embargo a nivel interno para Python son cosas distintas:"
   ]
  },
  {
   "cell_type": "code",
   "execution_count": 12,
   "id": "sound-championship",
   "metadata": {},
   "outputs": [
    {
     "name": "stdout",
     "output_type": "stream",
     "text": [
      "<function fNombrada at 0x7fbd495c09d0>\n",
      "<function <lambda> at 0x7fbd495c0940>\n"
     ]
    }
   ],
   "source": [
    "# Función nombrada\n",
    "def fNombrada(a):\n",
    "    return a + 1\n",
    "\n",
    "fLambda = lambda a: a + 1\n",
    "\n",
    "print(fNombrada)\n",
    "print(fLambda)"
   ]
  },
  {
   "cell_type": "markdown",
   "id": "light-mountain",
   "metadata": {},
   "source": [
    "### Usos comúnes de funciones lambda\n",
    "\n",
    "Estas funciones se utilizan en ciertos casos para claridad del código y rapidez de su escritura (pero no en su ejecución). Un caso común es que este tipo de funciones se usen como complemento de otras."
   ]
  },
  {
   "cell_type": "code",
   "execution_count": 13,
   "id": "modular-douglas",
   "metadata": {},
   "outputs": [
    {
     "name": "stdout",
     "output_type": "stream",
     "text": [
      "20\n",
      "4\n",
      "8\n",
      "10\n"
     ]
    }
   ],
   "source": [
    "# Definición de lista\n",
    "numeros = [1, 20 , 3, 4, 8, 55, 7, 10 , 21]\n",
    "\n",
    "# Función filter que recibe 2 parámetros, una función y un objeyo iterable\n",
    "# a cada miembro del objeto iterable se le aplica la función definida\n",
    "\n",
    "multiplosDeDos = filter(lambda x: x % 2 == 0, numeros)\n",
    "\n",
    "for numero in multiplosDeDos:\n",
    "    print(numero)"
   ]
  },
  {
   "cell_type": "markdown",
   "id": "registered-water",
   "metadata": {},
   "source": [
    "---\n",
    "\n",
    "## Conclusiones\n",
    "\n",
    "1. Las funciones son bloques de código reutilizable que hacen una tarea específica.\n",
    "2. Son un buen mecanismos para encapsular funcionalidad.\n",
    "3. Python ofrece varias formas de manejar parámetros y más avanzados, por ejemplo [\\*args y \\*\\*kwargs](https://j2logo.com/args-y-kwargs-en-python).\n",
    "4. Conocer las propiedades y aplicaciones de funciones en Python permitirar extender nuestras capacidades para dar soluciones a las situaciones de forma óptima.\n",
    "\n",
    "---\n",
    "\n",
    "## Autor\n",
    "\n",
    "**Edgar Sabán** - *19012631* - [Github](https://github.com/ticosabrax/)\n",
    "\n",
    "---\n",
    "\n",
    "## Referencias\n",
    "\n",
    "Para la redacción de este notebook se consultó:\n",
    "* [Funciones anidadas de Python](https://pharos.sh/funciones-anidadas-de-python/)\n",
    "* [Funciones lambda](https://docs.hektorprofe.net/python/funcionalidades-avanzadas/funciones-lambda/)"
   ]
  }
 ],
 "metadata": {
  "kernelspec": {
   "display_name": "Python 3",
   "language": "python",
   "name": "python3"
  },
  "language_info": {
   "codemirror_mode": {
    "name": "ipython",
    "version": 3
   },
   "file_extension": ".py",
   "mimetype": "text/x-python",
   "name": "python",
   "nbconvert_exporter": "python",
   "pygments_lexer": "ipython3",
   "version": "3.9.1"
  }
 },
 "nbformat": 4,
 "nbformat_minor": 5
}
