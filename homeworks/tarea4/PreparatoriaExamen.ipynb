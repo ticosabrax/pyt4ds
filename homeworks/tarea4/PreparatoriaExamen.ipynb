{
 "cells": [
  {
   "cell_type": "markdown",
   "id": "determined-saudi",
   "metadata": {},
   "source": [
    "# Tarea 4\n",
    "## Edgar Sabán 19012631\n",
    "\n",
    "### Perfil\n",
    "\n",
    "<img src=\"images/profile.png\" width=\"50%\">\n",
    "\n",
    "### Python If-Else\n",
    "\n",
    "<img src=\"images/img1.png\" width=\"50%\">\n",
    "\n",
    "**Código**"
   ]
  },
  {
   "cell_type": "code",
   "execution_count": null,
   "id": "supported-entry",
   "metadata": {},
   "outputs": [],
   "source": [
    "n = int(input().strip())\n",
    "\n",
    "if n % 2 != 0:\n",
    "    print('Weird')\n",
    "elif n >= 2 and n <= 5:\n",
    "    print('Not Weird')\n",
    "elif n >= 6 and n <= 20:\n",
    "    print('Weird')\n",
    "elif n > 20:\n",
    "    print ('Not Weird')\n"
   ]
  },
  {
   "cell_type": "markdown",
   "id": "compliant-stylus",
   "metadata": {},
   "source": [
    "### Arithmetic Operators\n",
    "\n",
    "<img src=\"images/img2.png\" width=\"50%\">\n",
    "\n",
    "**Código**"
   ]
  },
  {
   "cell_type": "code",
   "execution_count": null,
   "id": "exotic-guess",
   "metadata": {},
   "outputs": [],
   "source": [
    "if __name__ == '__main__':\n",
    "    a = int(input())\n",
    "    b = int(input())\n",
    "    print(a + b)\n",
    "    print(a - b)\n",
    "    print(a * b)"
   ]
  },
  {
   "cell_type": "markdown",
   "id": "unnecessary-grenada",
   "metadata": {},
   "source": [
    "### Division\n",
    "\n",
    "<img src=\"images/img3.png\" width=\"50%\">\n",
    "\n",
    "**Código**"
   ]
  },
  {
   "cell_type": "code",
   "execution_count": null,
   "id": "israeli-timer",
   "metadata": {},
   "outputs": [],
   "source": [
    "if __name__ == '__main__':\n",
    "    a = int(input())\n",
    "    b = int(input())\n",
    "    print(a // b)\n",
    "    print(a / b)"
   ]
  },
  {
   "cell_type": "markdown",
   "id": "understanding-summary",
   "metadata": {},
   "source": [
    "### Loops\n",
    "\n",
    "<img src=\"images/img4.png\" width=\"50%\">\n",
    "\n",
    "**Código**"
   ]
  },
  {
   "cell_type": "code",
   "execution_count": null,
   "id": "amazing-promotion",
   "metadata": {},
   "outputs": [],
   "source": [
    "if __name__ == '__main__':\n",
    "    n = int(input())\n",
    "    for x in range(n):\n",
    "        print(x**2)"
   ]
  },
  {
   "cell_type": "markdown",
   "id": "russian-creator",
   "metadata": {},
   "source": [
    "### Write a function\n",
    "\n",
    "<img src=\"images/img5.png\" width=\"50%\">\n",
    "\n",
    "**Código**"
   ]
  },
  {
   "cell_type": "code",
   "execution_count": null,
   "id": "arctic-german",
   "metadata": {},
   "outputs": [],
   "source": [
    "def is_leap(year):\n",
    "    leap = False\n",
    "    \n",
    "    if year % 400 == 0:\n",
    "        leap = True\n",
    "    elif year % 100 == 0:\n",
    "        leap = False\n",
    "    elif year % 4 == 0:\n",
    "        leap = True\n",
    "    return leap"
   ]
  },
  {
   "cell_type": "markdown",
   "id": "genuine-collect",
   "metadata": {},
   "source": [
    "### Find the Runner-Up Score!\n",
    "\n",
    "<img src=\"images/img6.png\" width=\"50%\">\n",
    "\n",
    "**Código**"
   ]
  },
  {
   "cell_type": "code",
   "execution_count": null,
   "id": "european-franchise",
   "metadata": {},
   "outputs": [],
   "source": [
    "if __name__ == '__main__':\n",
    "    n = int(input())\n",
    "    arr = map(int, input().split())\n",
    "    print(sorted(set(arr))[-2])"
   ]
  },
  {
   "cell_type": "markdown",
   "id": "necessary-scotland",
   "metadata": {},
   "source": [
    "### Finding the percentage\n",
    "\n",
    "<img src=\"images/img7.png\" width=\"50%\">\n",
    "\n",
    "**Código**"
   ]
  },
  {
   "cell_type": "code",
   "execution_count": null,
   "id": "posted-concord",
   "metadata": {},
   "outputs": [],
   "source": [
    "if __name__ == '__main__':\n",
    "    n = int(input())\n",
    "    student_marks = {}\n",
    "    for _ in range(n):\n",
    "        name, *line = input().split()\n",
    "        scores = list(map(float, line))\n",
    "        student_marks[name] = scores\n",
    "    query_name = input()\n",
    "    \n",
    "    scores = student_marks[query_name]\n",
    "    avg = 0\n",
    "    for x in scores:\n",
    "        avg += x\n",
    "   \n",
    "    print(\"{:.2f}\".format(avg/3))"
   ]
  },
  {
   "cell_type": "markdown",
   "id": "adjustable-accommodation",
   "metadata": {},
   "source": [
    "### Lists\n",
    "\n",
    "<img src=\"images/img8.png\" width=\"50%\">\n",
    "\n",
    "**Código**"
   ]
  },
  {
   "cell_type": "code",
   "execution_count": null,
   "id": "political-punishment",
   "metadata": {},
   "outputs": [],
   "source": [
    "def exec(l, s):\n",
    "    if s[0] == 'insert':\n",
    "        l.insert(int(s[1]), int(s[2]))\n",
    "    elif s[0] == 'print':\n",
    "        print(l)\n",
    "    elif s[0] == 'append':\n",
    "        l.append(int(s[1]))\n",
    "    elif s[0] == 'remove':\n",
    "        l.remove(int(s[1]))\n",
    "    elif s[0] == 'sort':\n",
    "        l.sort()\n",
    "    elif s[0] == 'reverse':\n",
    "        l.reverse()\n",
    "    elif s[0] == 'pop':\n",
    "        l.pop()\n",
    "\n",
    "list = []\n",
    "N = int(input())\n",
    "while N > 0:\n",
    "    sentencia = str(input())\n",
    "    sentencia = sentencia.split(' ')\n",
    "    exec(list, sentencia)\n",
    "    N=N-1"
   ]
  },
  {
   "cell_type": "markdown",
   "id": "champion-harassment",
   "metadata": {},
   "source": [
    "### Tuples\n",
    "\n",
    "<img src=\"images/img9.png\" width=\"50%\">\n",
    "\n",
    "**Código**"
   ]
  },
  {
   "cell_type": "code",
   "execution_count": null,
   "id": "impressive-louisiana",
   "metadata": {},
   "outputs": [],
   "source": [
    "if __name__ == '__main__':\n",
    "    n = int(input())\n",
    "    integer_list = map(int, input().split())\n",
    "    integer_list = tuple(integer_list)\n",
    "    print(hash(integer_list))"
   ]
  },
  {
   "cell_type": "markdown",
   "id": "deluxe-prescription",
   "metadata": {},
   "source": [
    "### DefaultDict Tutorial\n",
    "\n",
    "<img src=\"images/img10.png\" width=\"50%\">\n",
    "\n",
    "**Código**"
   ]
  },
  {
   "cell_type": "code",
   "execution_count": null,
   "id": "confidential-eligibility",
   "metadata": {},
   "outputs": [],
   "source": [
    "from collections import defaultdict \n",
    "\n",
    "n, m = map(int,input().split())\n",
    "\n",
    "dict = defaultdict(list)\n",
    "\n",
    "for i in range(1, n + 1):\n",
    "  key = input()\n",
    "  dict[key].append(i)\n",
    "\n",
    "for j in range(0, m):\n",
    "  key = input()\n",
    "  if len(dict[key]) > 0:\n",
    "    out = \"\"\n",
    "    for i in dict[key]:\n",
    "      out+=str(i) + \" \"\n",
    "    print(out)\n",
    "  else:\n",
    "    print(\"-1\")"
   ]
  },
  {
   "cell_type": "markdown",
   "id": "varied-communist",
   "metadata": {},
   "source": [
    "### collections.Counter()\n",
    "\n",
    "<img src=\"images/img11.png\" width=\"50%\">\n",
    "\n",
    "**Código**"
   ]
  },
  {
   "cell_type": "code",
   "execution_count": null,
   "id": "killing-wagon",
   "metadata": {},
   "outputs": [],
   "source": [
    "from collections import Counter\n",
    "\n",
    "num_shoes = int(input())\n",
    "shoe_sizes = Counter(map(int, input().split()))\n",
    "num_customers = int(input())\n",
    "\n",
    "cost = 0\n",
    "for _ in range(num_customers):\n",
    "    size, price = map(int, input().split())\n",
    "    if shoe_sizes[size]:\n",
    "        cost += price\n",
    "        shoe_sizes[size] -= 1\n",
    "\n",
    "print(cost)"
   ]
  },
  {
   "cell_type": "markdown",
   "id": "covered-engineering",
   "metadata": {},
   "source": [
    "### Minimum Swaps 2\n",
    "\n",
    "<img src=\"images/img12.png\" width=\"50%\">\n",
    "\n",
    "**Código**"
   ]
  },
  {
   "cell_type": "code",
   "execution_count": null,
   "id": "invisible-local",
   "metadata": {},
   "outputs": [],
   "source": [
    "#!/bin/python3\n",
    "\n",
    "import math\n",
    "import os\n",
    "import random\n",
    "import re\n",
    "import sys\n",
    "\n",
    "# Complete the minimumSwaps function below.\n",
    "def minimumSwaps(arr):\n",
    "    swap = 0\n",
    "    i=1\n",
    "    while i <= len(arr):\n",
    "        if arr[i-1] != i:\n",
    "            swap+=1\n",
    "            tmp = arr[i-1]\n",
    "            arr[i-1] = arr[tmp-1]\n",
    "            arr[tmp-1] = tmp\n",
    "        else:\n",
    "            i+=1\n",
    "    return swap\n",
    "\n",
    "if __name__ == '__main__':\n",
    "    fptr = open(os.environ['OUTPUT_PATH'], 'w')\n",
    "\n",
    "    n = int(input())\n",
    "\n",
    "    arr = list(map(int, input().rstrip().split()))\n",
    "\n",
    "    res = minimumSwaps(arr)\n",
    "\n",
    "    fptr.write(str(res) + '\\n')\n",
    "\n",
    "    fptr.close()"
   ]
  },
  {
   "cell_type": "markdown",
   "id": "metallic-malpractice",
   "metadata": {},
   "source": [
    "### Floor, Ceil and Rint\n",
    "\n",
    "<img src=\"images/img13.png\" width=\"50%\">\n",
    "\n",
    "**Código**"
   ]
  },
  {
   "cell_type": "code",
   "execution_count": null,
   "id": "collective-location",
   "metadata": {},
   "outputs": [],
   "source": [
    "import numpy\n",
    "numpy.set_printoptions(legacy='1.13')\n",
    "\n",
    "a = list(map(float,input().split()))\n",
    "print(numpy.floor(a))\n",
    "print(numpy.ceil(a))\n",
    "print(numpy.rint(a))"
   ]
  },
  {
   "cell_type": "markdown",
   "id": "smoking-solomon",
   "metadata": {},
   "source": [
    "### Sorting: Bubble Sort\n",
    "\n",
    "<img src=\"images/img14.png\" width=\"50%\">\n",
    "\n",
    "**Código**"
   ]
  },
  {
   "cell_type": "code",
   "execution_count": null,
   "id": "ancient-williams",
   "metadata": {},
   "outputs": [],
   "source": [
    "#!/bin/python3\n",
    "\n",
    "import math\n",
    "import os\n",
    "import random\n",
    "import re\n",
    "import sys\n",
    "\n",
    "# Complete the countSwaps function below.\n",
    "def countSwaps(a):\n",
    "    swap=0\n",
    "    for i in range(len(a)):\n",
    "        for j in range(len(a)-1):\n",
    "            if (a[j] > a[j + 1]):\n",
    "                tmp = a[j]\n",
    "                a[j] = a[j+1]\n",
    "                a[j+1] = tmp\n",
    "                swap+=1\n",
    "    \n",
    "    print('Array is sorted in', swap, 'swaps.')\n",
    "    print('First Element:',a[0])\n",
    "    print('Last Element:',a[-1])\n",
    "           \n",
    "    \n",
    "if __name__ == '__main__':\n",
    "    n = int(input())\n",
    "\n",
    "    a = list(map(int, input().rstrip().split()))\n",
    "\n",
    "    countSwaps(a)"
   ]
  },
  {
   "cell_type": "markdown",
   "id": "desperate-flooring",
   "metadata": {},
   "source": [
    "### Arrays\n",
    "\n",
    "<img src=\"images/img15.png\" width=\"50%\">\n",
    "\n",
    "**Código**"
   ]
  },
  {
   "cell_type": "code",
   "execution_count": null,
   "id": "arbitrary-montana",
   "metadata": {},
   "outputs": [],
   "source": [
    "import numpy\n",
    "\n",
    "def arrays(arr):\n",
    "    arr=numpy.array(arr, float)\n",
    "    return numpy.flipud(arr)\n",
    "\n",
    "arr = raw_input().strip().split(' ')"
   ]
  },
  {
   "cell_type": "markdown",
   "id": "residential-award",
   "metadata": {},
   "source": [
    "### Zeros and Ones\n",
    "\n",
    "<img src=\"images/img16.png\" width=\"50%\">\n",
    "\n",
    "**Código**"
   ]
  },
  {
   "cell_type": "code",
   "execution_count": null,
   "id": "atmospheric-associate",
   "metadata": {},
   "outputs": [],
   "source": [
    "import numpy\n",
    "\n",
    "n = input().strip().split(' ')\n",
    "n = numpy.array(n, int)\n",
    "print(numpy.zeros(n,dtype = int))\n",
    "print(numpy.ones(n,dtype = int))"
   ]
  }
 ],
 "metadata": {
  "kernelspec": {
   "display_name": "Python 3",
   "language": "python",
   "name": "python3"
  },
  "language_info": {
   "codemirror_mode": {
    "name": "ipython",
    "version": 3
   },
   "file_extension": ".py",
   "mimetype": "text/x-python",
   "name": "python",
   "nbconvert_exporter": "python",
   "pygments_lexer": "ipython3",
   "version": "3.9.1"
  }
 },
 "nbformat": 4,
 "nbformat_minor": 5
}
