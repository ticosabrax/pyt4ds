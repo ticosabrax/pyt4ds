{
 "cells": [
  {
   "cell_type": "markdown",
   "id": "biblical-statement",
   "metadata": {},
   "source": [
    "# Mis apuntes sobre Git\n",
    "\n",
    "## Introducción\n",
    "\n",
    "Este documento tiene como objetivo conocer qué es Git, cómo trabaja, un ejemplo de su aplicación y algunos comandos básicos que debes tener presentes.\n",
    "\n",
    "---\n",
    "\n",
    "## Prerequisitos\n",
    "\n",
    "Para poder replicar los ejemplo que se brinda en este documento es indispensable tener Git instalado, a continuación una guía fácil para instalarlo según tu sistema operativo. [Guía de instalación](https://git-scm.com/book/en/v2/Getting-Started-Installing-Git).\n",
    "\n",
    "1. Verificando Git\n",
    "\n",
    "Para poder verificar si Git se encuentra instalado, se deber ir a la consola o terminal del sistema operativo y ejecutar el siguiente comando."
   ]
  },
  {
   "cell_type": "code",
   "execution_count": 1,
   "id": "alien-lexington",
   "metadata": {},
   "outputs": [
    {
     "data": {
      "text/plain": [
       "['git version 2.25.1']"
      ]
     },
     "execution_count": 1,
     "metadata": {},
     "output_type": "execute_result"
    }
   ],
   "source": [
    "%sx git --version"
   ]
  },
  {
   "cell_type": "markdown",
   "id": "designed-hometown",
   "metadata": {},
   "source": [
    "**_Nota_**: todos los comandos estarán precedidos por **%sx**, la cual es un _\"magic command\"_, y nos servirá para ejecutar comandos en el sistema operativo desde este Jupyter Notebook, pero si los comandos los ejecutamos directamente desde la terminal del sistema operativo no es necesario **%sx**. Para más información de [_\"magic command\"_](https://jakevdp.github.io/PythonDataScienceHandbook/01.03-magic-commands.html).\n",
    "\n",
    "2. Inicializando git en nuestro proyecto"
   ]
  },
  {
   "cell_type": "code",
   "execution_count": 2,
   "id": "sporting-access",
   "metadata": {},
   "outputs": [
    {
     "data": {
      "text/plain": [
       "['Initialized empty Git repository in /home/ds/Documents/tarea2/.git/']"
      ]
     },
     "execution_count": 2,
     "metadata": {},
     "output_type": "execute_result"
    }
   ],
   "source": [
    "%sx git init"
   ]
  },
  {
   "cell_type": "markdown",
   "id": "egyptian-window",
   "metadata": {},
   "source": [
    "3. Realizar el primer **commit**"
   ]
  },
  {
   "cell_type": "code",
   "execution_count": 5,
   "id": "daily-mauritius",
   "metadata": {},
   "outputs": [
    {
     "data": {
      "text/plain": [
       "[]"
      ]
     },
     "execution_count": 5,
     "metadata": {},
     "output_type": "execute_result"
    }
   ],
   "source": [
    "%sx git add ."
   ]
  },
  {
   "cell_type": "code",
   "execution_count": 6,
   "id": "instructional-surprise",
   "metadata": {},
   "outputs": [
    {
     "data": {
      "text/plain": [
       "['[master (root-commit) b271404] Commit inicial',\n",
       " ' 3 files changed, 146 insertions(+)',\n",
       " ' create mode 100644 .gitignore',\n",
       " ' create mode 100644 images/sinGit.png',\n",
       " ' create mode 100644 tarea2.ipynb']"
      ]
     },
     "execution_count": 6,
     "metadata": {},
     "output_type": "execute_result"
    }
   ],
   "source": [
    "%sx git commit -a -m \"Commit inicial\""
   ]
  },
  {
   "cell_type": "markdown",
   "id": "religious-massage",
   "metadata": {},
   "source": [
    "---\n",
    "\n",
    "## Git\n",
    "\n",
    "Es un software de código abierto para el control de versiones con enfoque en el desarrollo de software y trabajo en equipo (sistema de control de versiones). El control de versiones es la gestión de los cambios que se van haciendo a lo largo del tiempo de un producto (para este caso software) por un equipo de trabajo o de forma individual.\n",
    "\n",
    "Git a diferencia de otros sistemas de control de versiones destaca por su arquitectura distribuida, en la que cada usuario tiene una copia completa del proyecto incluyendo todo su historial, cada copia tiene el mismo nivel y no existe repositorio central.\n",
    "\n",
    "La siguiente imagen representa el escenario típico que cualquier persona usa comúnmente para ir versionando sus documentos o proyectos, ahora imaginemos versionar de esa manera un proyecto de desarrollo de software con un equipo de trabajo de 2, 3 o más personas. Es en ese punto que Git ayuda al control de versiones y trabajo colaborativo.\n",
    "\n",
    "![Versionamiento](images/sinGit.png \"Versionamiento clásico\")\n",
    "\n",
    "---\n",
    "\n",
    "### Modelo de trabajo\n",
    "\n",
    "Es importante conocer cómo Git realiza todas las operaciones en \"background\", para poder hacer uso adecuado y sacar ventaja de este, de lo contrario estaríamos obligados a ejecutar comandos solo por ejecutar, teniendo un conocimiento superficial de su funcionamiento.\n",
    "\n",
    "Algunos de los componentes principales del modelo de trabajo de Git que puedo mencionar son:\n",
    "\n",
    "#### Snapshots (Commits) y su flujo de control\n",
    "\n",
    "Un snapshot es como una fotografía que tomamos en un momento determinado, con el objetivo de capturar el estado de una situación, para este caso el estado de nuestro proyecto con todo lo que integra (archivos, directorios, entre otros). Estos snapshots son los **\"Commits\"**.\n",
    "\n",
    "Con Git podemos tomar muchos snapshots de forma cronológica, lo cual nos permite modelar la historia de la evolución de nuestro proyecto y lo mejor que podemos viajar en el tiempo hacia cualquier snapshot.\n",
    "\n",
    "Git organiza todos los snapshots usando como base un _Grafo Acíclico Dirigido (GDA)_. Veamos cómo luce un GDA:\n",
    "\n",
    "![GDA](images/gda.png \"GDA\")\n",
    "\n",
    "Cada nodo representa un snapshot (Commit) del proyecto, y se puede observar que todos los snapshots están relacionados entre sí (tiene un antecesor y un predecesor, excepto el primero y último respectivamente).\n",
    "\n",
    "También vemos que en algunos casos a partir de un snapshot (C2) se derivan dos o más caminos, a estos caminos se les denomina ramas \"branches\", las cuales representan líneas o versiones independientes de desarrollo.\n",
    "\n",
    "Estas ramas pueden evolucionar de forma independiente y en cierto momento unirser nuevamente a la rama principal, la rama **\"Master\"**.\n",
    "\n",
    "#### Master y HEAD\n",
    "Es común encontrar estos términos en Git, como vimos en la sección anterior **Master** hacer referencia a la rama principal de desarrollo, de la cual pueden derivar otras ramas que más adelante pueden o no integrarse a la rama principal.\n",
    "\n",
    "Ahora imaginemos el siguiente escenario:\n",
    "\n",
    "![GDA](images/gdabranches.png \"GDA con Branchescommit\")\n",
    "\n",
    "Vemos que a partir de snapshot C2, se derivan 3 ramas (branches), ¿en dónde estamos ahora en la historia de nuestro proyecto? para esto sirve la referencia especial denominada **\"HEAD\"**, la cual apunta al lugar exacto (branch y commit) en donde me encuentro actualmente.\n",
    "\n",
    "¿En dónde está nuestro proyecto de ejemplo?"
   ]
  },
  {
   "cell_type": "code",
   "execution_count": 11,
   "id": "bridal-genesis",
   "metadata": {},
   "outputs": [
    {
     "data": {
      "text/plain": [
       "['b271404 (HEAD -> master) Commit inicial']"
      ]
     },
     "execution_count": 11,
     "metadata": {},
     "output_type": "execute_result"
    }
   ],
   "source": [
    "%sx git log --oneline --decorate"
   ]
  },
  {
   "cell_type": "markdown",
   "id": "blond-luxury",
   "metadata": {},
   "source": [
    "Según el **HEAD** estamos en el snapshot identificado con el Hash **b271404** en la rama **master**\n",
    "\n",
    "#### Área de preparación (staging)\n",
    "Esta área es importante y es previa a tomar un snapshot (commit). Su función es preparar y separar los archivos o directorios que van a ser incluidos en el próximo snapshot.\n",
    "\n",
    "La secuencia para tomar un snapshot es:\n",
    "\n",
    "1. Preparar los archivos y directorios\n",
    "```\n",
    "git add <files>\n",
    "```\n",
    "2. Realizar el commit\n",
    "```\n",
    "git commit <options>\n",
    "```\n",
    "\n",
    "---\n",
    "\n",
    "## Escenario ejemplo\n",
    "\n",
    "Es momento de poner en práctica la teoría y para esto ya tenemos que tener los prerequisitos realizados. Veamos cómo está nuestro directorio."
   ]
  },
  {
   "cell_type": "code",
   "execution_count": 12,
   "id": "utility-james",
   "metadata": {},
   "outputs": [
    {
     "data": {
      "text/plain": [
       "['total 28',\n",
       " 'drwxrwxr-x 5 ds ds 4096 feb  6 14:24 .',\n",
       " 'drwxr-xr-x 6 ds ds 4096 feb  6 13:11 ..',\n",
       " 'drwxrwxr-x 8 ds ds 4096 feb  6 15:25 .git',\n",
       " '-rw-rw-r-- 1 ds ds   20 feb  6 14:19 .gitignore',\n",
       " 'drwxrwxr-x 2 ds ds 4096 feb  6 15:20 images',\n",
       " 'drwxrwxr-x 2 ds ds 4096 feb  6 13:49 .ipynb_checkpoints',\n",
       " '-rw-rw-r-- 1 ds ds 3906 feb  6 14:23 tarea2.ipynb']"
      ]
     },
     "execution_count": 12,
     "metadata": {},
     "output_type": "execute_result"
    }
   ],
   "source": [
    "%sx ls -al"
   ]
  },
  {
   "cell_type": "code",
   "execution_count": 14,
   "id": "limiting-familiar",
   "metadata": {},
   "outputs": [
    {
     "data": {
      "text/plain": [
       "['On branch master', 'nothing to commit, working tree clean']"
      ]
     },
     "execution_count": 14,
     "metadata": {},
     "output_type": "execute_result"
    }
   ],
   "source": [
    "%sx git status"
   ]
  },
  {
   "cell_type": "markdown",
   "id": "received-following",
   "metadata": {},
   "source": [
    "Se puede observar el estado del proyecto:\n",
    "* El proyecto compuesto por un archivo .ipynb y un directorio images\n",
    "* El estatus del versionamiento según git es que no existe ningún cambio pendiente\n",
    "\n",
    "Con la información anterior puedo indicar que el proyecto actualmente está en un snapshot \"commit\", listo para hacer operaciones sobre este. Ahora supungamos que nos solicitan realizar cambios sobre nuestro archivo **.ipynb**, pero es necesario darle seguimiento.\n",
    "\n",
    "Un posible forma de resolverlo podría ser:\n",
    "1. Crear una rama a partir del snapshot actual que se llame **\"cambios\"**, la cual nos permitirá tener una línea de desarrollo independiente de la rama **master**\n",
    "2. Hacemos los cambios en el archivo **.ipynb**, los pasamos al staging area y hacemos commit\n",
    "3. Fusionar (merge) la rama **cambios** a la **master**\n",
    "4. Revisamos el estado de nuestro proyecto."
   ]
  },
  {
   "cell_type": "code",
   "execution_count": 15,
   "id": "latest-sheep",
   "metadata": {},
   "outputs": [
    {
     "data": {
      "text/plain": [
       "[\"Switched to a new branch 'cambios'\"]"
      ]
     },
     "execution_count": 15,
     "metadata": {},
     "output_type": "execute_result"
    }
   ],
   "source": [
    "%sx git checkout -b \"cambios\""
   ]
  },
  {
   "cell_type": "markdown",
   "id": "latter-ceiling",
   "metadata": {},
   "source": [
    "Se creó la rama y automáticamente git la coloca como rama en la cual se estará trabajando. A manera de observar la ramas que existen en nuestro proyectos ejecutamos el siguiente comando:"
   ]
  },
  {
   "cell_type": "code",
   "execution_count": 16,
   "id": "hungry-joining",
   "metadata": {},
   "outputs": [
    {
     "data": {
      "text/plain": [
       "['* cambios', '  master']"
      ]
     },
     "execution_count": 16,
     "metadata": {},
     "output_type": "execute_result"
    }
   ],
   "source": [
    "%sx git branch"
   ]
  },
  {
   "cell_type": "markdown",
   "id": "ideal-portfolio",
   "metadata": {},
   "source": [
    "Existen dos ramas **cambios** y **master**, y vemos que la rama cambios tiene un \\* lo que significa que nos encontramos en esta rama."
   ]
  },
  {
   "cell_type": "markdown",
   "id": "wooden-philosophy",
   "metadata": {},
   "source": [
    "A continuación se realizan un conjunto de cambios sobre el archivo **.ipynb** y se observan con el siguiente comando:"
   ]
  },
  {
   "cell_type": "code",
   "execution_count": 17,
   "id": "continuous-violation",
   "metadata": {},
   "outputs": [
    {
     "data": {
      "text/plain": [
       "['On branch cambios',\n",
       " 'Changes not staged for commit:',\n",
       " '  (use \"git add <file>...\" to update what will be committed)',\n",
       " '  (use \"git restore <file>...\" to discard changes in working directory)',\n",
       " '\\tmodified:   tarea2.ipynb',\n",
       " '',\n",
       " 'no changes added to commit (use \"git add\" and/or \"git commit -a\")']"
      ]
     },
     "execution_count": 17,
     "metadata": {},
     "output_type": "execute_result"
    }
   ],
   "source": [
    "%sx git status"
   ]
  },
  {
   "cell_type": "markdown",
   "id": "individual-satellite",
   "metadata": {},
   "source": [
    "Se procede a preparar el archivo al staging area"
   ]
  },
  {
   "cell_type": "code",
   "execution_count": 18,
   "id": "million-bristol",
   "metadata": {},
   "outputs": [
    {
     "data": {
      "text/plain": [
       "[]"
      ]
     },
     "execution_count": 18,
     "metadata": {},
     "output_type": "execute_result"
    }
   ],
   "source": [
    "%sx git add ."
   ]
  },
  {
   "cell_type": "markdown",
   "id": "verbal-warner",
   "metadata": {},
   "source": [
    "Se toma el snapshot (Commit)"
   ]
  },
  {
   "cell_type": "code",
   "execution_count": 19,
   "id": "distinct-vacuum",
   "metadata": {},
   "outputs": [
    {
     "data": {
      "text/plain": [
       "['[cambios 4e5ff1e] Modificación del archivo .ipynb',\n",
       " ' 1 file changed, 277 insertions(+), 11 deletions(-)']"
      ]
     },
     "execution_count": 19,
     "metadata": {},
     "output_type": "execute_result"
    }
   ],
   "source": [
    "%sx git commit -m \"Modificación del archivo .ipynb\""
   ]
  },
  {
   "cell_type": "markdown",
   "id": "overhead-brisbane",
   "metadata": {},
   "source": [
    "Verificamos que el commit se haya realizado"
   ]
  },
  {
   "cell_type": "code",
   "execution_count": 20,
   "id": "furnished-republican",
   "metadata": {},
   "outputs": [
    {
     "data": {
      "text/plain": [
       "['4e5ff1e (HEAD -> cambios) Modificación del archivo .ipynb',\n",
       " 'f856b90 (master) Redacción de contenido de notebook',\n",
       " 'b271404 Commit inicial']"
      ]
     },
     "execution_count": 20,
     "metadata": {},
     "output_type": "execute_result"
    }
   ],
   "source": [
    "%sx git log --oneline --decorate"
   ]
  },
  {
   "cell_type": "markdown",
   "id": "soviet-reading",
   "metadata": {},
   "source": [
    "En efecto se realizó el **commit** en la rama **cambios** que es a donde apunta el **HEAD**.\n",
    "\n",
    "Por último regresamos a la rama master:"
   ]
  },
  {
   "cell_type": "code",
   "execution_count": 21,
   "id": "cellular-wrapping",
   "metadata": {},
   "outputs": [
    {
     "data": {
      "text/plain": [
       "[\"Switched to branch 'master'\"]"
      ]
     },
     "execution_count": 21,
     "metadata": {},
     "output_type": "execute_result"
    }
   ],
   "source": [
    "%sx git checkout master"
   ]
  },
  {
   "cell_type": "markdown",
   "id": "breeding-edward",
   "metadata": {},
   "source": [
    "Fusionar (merge) a la rama **master** los cambios de la rama **cambios**:"
   ]
  },
  {
   "cell_type": "code",
   "execution_count": 22,
   "id": "bright-draft",
   "metadata": {},
   "outputs": [
    {
     "data": {
      "text/plain": [
       "['Updating f856b90..4e5ff1e',\n",
       " 'Fast-forward',\n",
       " ' tarea2.ipynb | 288 ++++++++++++++++++++++++++++++++++++++++++++++++++++++++---',\n",
       " ' 1 file changed, 277 insertions(+), 11 deletions(-)']"
      ]
     },
     "execution_count": 22,
     "metadata": {},
     "output_type": "execute_result"
    }
   ],
   "source": [
    "%sx git merge cambios"
   ]
  },
  {
   "cell_type": "markdown",
   "id": "yellow-township",
   "metadata": {},
   "source": [
    "Este mensaje de salida que nos da Git significa que se ha realizado un merge Fast-forward. Para más información sobre los tipos de merge visitar [Fusionar ramas](https://git-scm.com/book/es/v2/Ramificaciones-en-Git-Procedimientos-B%C3%A1sicos-para-Ramificar-y-Fusionar).\n",
    "\n",
    "Se revisa el estado del Proyecto:"
   ]
  },
  {
   "cell_type": "code",
   "execution_count": 23,
   "id": "juvenile-beach",
   "metadata": {},
   "outputs": [
    {
     "data": {
      "text/plain": [
       "['4e5ff1e (HEAD -> master, cambios) Modificación del archivo .ipynb',\n",
       " 'f856b90 Redacción de contenido de notebook',\n",
       " 'b271404 Commit inicial']"
      ]
     },
     "execution_count": 23,
     "metadata": {},
     "output_type": "execute_result"
    }
   ],
   "source": [
    "%sx git log --oneline --decorate"
   ]
  },
  {
   "cell_type": "markdown",
   "id": "lonely-shopping",
   "metadata": {},
   "source": [
    "El resultado indica que el **HEAD** está apuntado a dos ramas: **master** y **cambios**, lo cual significa que estas dos ramas se han fusionado. Un práctica común es eliminar la rama (en este caso cambios) que se usó para hacer los cambios, dejando siempre el master com único y el HEAD apuntado a esta."
   ]
  },
  {
   "cell_type": "code",
   "execution_count": 25,
   "id": "choice-municipality",
   "metadata": {},
   "outputs": [
    {
     "data": {
      "text/plain": [
       "['Deleted branch cambios (was 4e5ff1e).']"
      ]
     },
     "execution_count": 25,
     "metadata": {},
     "output_type": "execute_result"
    }
   ],
   "source": [
    "%sx git branch -d \"cambios\""
   ]
  },
  {
   "cell_type": "markdown",
   "id": "local-validation",
   "metadata": {},
   "source": [
    "Nuevamente se ve el estado del Proyecto"
   ]
  },
  {
   "cell_type": "code",
   "execution_count": 26,
   "id": "fitted-place",
   "metadata": {},
   "outputs": [
    {
     "data": {
      "text/plain": [
       "['4e5ff1e (HEAD -> master) Modificación del archivo .ipynb',\n",
       " 'f856b90 Redacción de contenido de notebook',\n",
       " 'b271404 Commit inicial']"
      ]
     },
     "execution_count": 26,
     "metadata": {},
     "output_type": "execute_result"
    }
   ],
   "source": [
    "%sx git log --oneline --decorate"
   ]
  },
  {
   "cell_type": "markdown",
   "id": "distinguished-abraham",
   "metadata": {},
   "source": [
    "Ahora el **HEAD** apunta a la rama **master**, la cual es la única que existe en este punto."
   ]
  },
  {
   "cell_type": "markdown",
   "id": "serious-winner",
   "metadata": {},
   "source": [
    "---\n",
    "\n",
    "## Algunos comandos básicos\n",
    "\n",
    "Git tiene un conjunto grande de comando y estos muchas opciones, por lo cual es recomendable hacer uso de la [documentación oficial](https://git-scm.com/doc), también puede ver la la ayuda de git en la línea de comandos\n",
    "\n",
    "```\n",
    "git help\n",
    "```\n",
    "o\n",
    "```\n",
    "man git\n",
    "```\n",
    "\n",
    "Dentro de los comando que considero que son básicos conocer propongo:\n",
    "* **git init**: para inicializar git en un proyecto, activar el modo control de versión.\n",
    "* **git status**: para verificar el estado del proyecto. (Este se utiliza demasiado).\n",
    "* **git add \\<files>**: para agregar los archivos o directorios al staging area.\n",
    "* **git commit**: para tomar el snapshot.\n",
    "* **git log**: para mostrar el historial en formato plano. Una sugerencia es usar este comando **git commit --all --graph --decorate** para ver el historial de una forma más amigable.\n",
    "* **git branch \\<name>**: para crear una rama.\n",
    "* **git checkout \\<nameOfBranch>**: para cambiarme de rama.\n",
    "* **git merge \\<fromBranch>**: para fusionar una rama con la rama actual.\n",
    "\n",
    "Como lo indiqué antes, hay muchos más comando y para ello consultar la documentación oficial.\n",
    "\n",
    "---\n",
    "\n",
    "## Conclusiones\n",
    "\n",
    "Git nos puede apoyar en la organización del código de software, manejar el historial de cambios y por ende su evolución, navegando entre las diferentes versiones y creando nuevos ambientes de trabajo a partir del origen por medio de ramas (branches). Así mismo con Git podemos tener un trabajo colaborativo, en donde varias personas están trabajando sobre el mismo software y todos necesitan estar sincronizados.\n",
    "\n",
    "---\n",
    "\n",
    "## Autor\n",
    "\n",
    "**Edgar Sabán** - *19012631* - [Github](https://github.com/ticosabrax/)\n",
    "\n",
    "---\n",
    "\n",
    "## Referencias\n",
    "\n",
    "Para la redacción de este notebook se consultó:\n",
    "* [The Missing Semester of Your CS Education](https://missing.csail.mit.edu/2020/version-control/)\n",
    "* [Sitio oficial de Git](https://git-scm.com/doc)"
   ]
  }
 ],
 "metadata": {
  "kernelspec": {
   "display_name": "Python 3",
   "language": "python",
   "name": "python3"
  },
  "language_info": {
   "codemirror_mode": {
    "name": "ipython",
    "version": 3
   },
   "file_extension": ".py",
   "mimetype": "text/x-python",
   "name": "python",
   "nbconvert_exporter": "python",
   "pygments_lexer": "ipython3",
   "version": "3.9.1"
  }
 },
 "nbformat": 4,
 "nbformat_minor": 5
}
